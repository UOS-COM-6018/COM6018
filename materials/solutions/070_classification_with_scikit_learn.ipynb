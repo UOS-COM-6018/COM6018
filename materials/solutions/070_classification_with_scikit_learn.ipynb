{
 "cells": [
  {
   "cell_type": "markdown",
   "metadata": {},
   "source": [
    "# 070 Classification with Scikit Learn\n",
    "\n",
    "> COM6018\n",
    "\n",
    "*Copyright &copy; 2023, 2024 Jon Barker, University of Sheffield. All rights reserved*.\n"
   ]
  },
  {
   "cell_type": "markdown",
   "metadata": {},
   "source": [
    "## Introduction\n",
    "\n",
    "In this lab class we will be using Scikit Learn to build a face classification system.\n",
    "\n",
    "We will be using another of Scikit Learn's builtin data sets, the 'Labeled faces in the Wild' face recognition dataset. This dataset is a collection of pictures of famous people gathered from the internet. It contains 13233 images of 5749 famous people. For some people there are many examples (e.g., 530 images of George W. Bush). For other people there are only a few (e.g., 2 images of Donald Rumsfeld). The faces are all labeled with the person's identity. More details can be found at http://vis-www.cs.umass.edu/lfw/.\n",
    "\n",
    "We will be using a subset of the data, namely, the people who are represented by at least 50 images in the database. This will give us a dataset of 12 people and 1560 images in total. We will then treat this as a 12 class classification problem, i.e., given one of the images, which of the 12 people is it?\n"
   ]
  },
  {
   "cell_type": "markdown",
   "metadata": {},
   "source": [
    "## Step 1 - Loading and viewing the data\n",
    "\n",
    "To load the data run the cell below which loads the data and also resizes the images to 37 pixels wide by 50 pixels high. (Note, the first time this is run it may take a few minutes to complete. You can use this time to read the rest of this notebook.)\n"
   ]
  },
  {
   "cell_type": "code",
   "execution_count": 1,
   "metadata": {},
   "outputs": [
    {
     "name": "stderr",
     "output_type": "stream",
     "text": [
      "WARNING:root:[MemorizedFunc(func=<function _fetch_lfw_people at 0x12a9afce0>, location=/Users/jon/scikit_learn_data/lfw_home/joblib)]: Exception while loading results for _fetch_lfw_people('/Users/jon/scikit_learn_data/lfw_home/lfw_funneled', resize=0.4, min_faces_per_person=50, color=False, slice_=(slice(70, 195, None), slice(78, 172, None)))\n",
      " Traceback (most recent call last):\n",
      "  File \"/opt/homebrew/anaconda3/envs/clarity_dev/lib/python3.11/site-packages/joblib/memory.py\", line 516, in _cached_call\n",
      "    out = self.store_backend.load_item(\n",
      "          ^^^^^^^^^^^^^^^^^^^^^^^^^^^^^\n",
      "  File \"/opt/homebrew/anaconda3/envs/clarity_dev/lib/python3.11/site-packages/joblib/_store_backends.py\", line 170, in load_item\n",
      "    item = numpy_pickle.load(f)\n",
      "           ^^^^^^^^^^^^^^^^^^^^\n",
      "  File \"/opt/homebrew/anaconda3/envs/clarity_dev/lib/python3.11/site-packages/joblib/numpy_pickle.py\", line 577, in load\n",
      "    obj = _unpickle(fobj)\n",
      "          ^^^^^^^^^^^^^^^\n",
      "  File \"/opt/homebrew/anaconda3/envs/clarity_dev/lib/python3.11/site-packages/joblib/numpy_pickle.py\", line 506, in _unpickle\n",
      "    obj = unpickler.load()\n",
      "          ^^^^^^^^^^^^^^^^\n",
      "  File \"/opt/homebrew/anaconda3/envs/clarity_dev/lib/python3.11/pickle.py\", line 1213, in load\n",
      "    dispatch[key[0]](self)\n",
      "    ~~~~~~~~^^^^^^^^\n",
      "KeyError: 62\n",
      "\n"
     ]
    }
   ],
   "source": [
    "from sklearn.datasets import fetch_lfw_people\n",
    "lfw_people = fetch_lfw_people(min_faces_per_person=50, resize=0.4)\n"
   ]
  },
  {
   "cell_type": "markdown",
   "metadata": {},
   "source": [
    "The returned data is stored in `lfw_people` which is a dictionary-like object with the following keys: \n",
    "- `data` - the list of feature vectors, one per image, \n",
    "- `images` - the list of 37 by 50 pixel images,\n",
    "- `target` - the list of labels for the images, i.e., the identity of the person in each image,\n",
    "- `target_names` - the set of labels, i.e., the names of the 12 people in the images,\n",
    "- `DESCR` - a string describing the dataset.\n",
    "\n",
    "Use the cell below to print the DESCR field. Read the description and make sure you understand it.\n"
   ]
  },
  {
   "cell_type": "code",
   "execution_count": 2,
   "metadata": {},
   "outputs": [
    {
     "name": "stdout",
     "output_type": "stream",
     "text": [
      ".. _labeled_faces_in_the_wild_dataset:\n",
      "\n",
      "The Labeled Faces in the Wild face recognition dataset\n",
      "------------------------------------------------------\n",
      "\n",
      "This dataset is a collection of JPEG pictures of famous people collected\n",
      "over the internet, all details are available on the official website:\n",
      "\n",
      "    http://vis-www.cs.umass.edu/lfw/\n",
      "\n",
      "Each picture is centered on a single face. The typical task is called\n",
      "Face Verification: given a pair of two pictures, a binary classifier\n",
      "must predict whether the two images are from the same person.\n",
      "\n",
      "An alternative task, Face Recognition or Face Identification is:\n",
      "given the picture of the face of an unknown person, identify the name\n",
      "of the person by referring to a gallery of previously seen pictures of\n",
      "identified persons.\n",
      "\n",
      "Both Face Verification and Face Recognition are tasks that are typically\n",
      "performed on the output of a model trained to perform Face Detection. The\n",
      "most popular model for Face Detection is called Viola-Jones and is\n",
      "implemented in the OpenCV library. The LFW faces were extracted by this\n",
      "face detector from various online websites.\n",
      "\n",
      "**Data Set Characteristics:**\n",
      "\n",
      "    =================   =======================\n",
      "    Classes                                5749\n",
      "    Samples total                         13233\n",
      "    Dimensionality                         5828\n",
      "    Features            real, between 0 and 255\n",
      "    =================   =======================\n",
      "\n",
      "|details-start|\n",
      "**Usage**\n",
      "|details-split|\n",
      "\n",
      "``scikit-learn`` provides two loaders that will automatically download,\n",
      "cache, parse the metadata files, decode the jpeg and convert the\n",
      "interesting slices into memmapped numpy arrays. This dataset size is more\n",
      "than 200 MB. The first load typically takes more than a couple of minutes\n",
      "to fully decode the relevant part of the JPEG files into numpy arrays. If\n",
      "the dataset has  been loaded once, the following times the loading times\n",
      "less than 200ms by using a memmapped version memoized on the disk in the\n",
      "``~/scikit_learn_data/lfw_home/`` folder using ``joblib``.\n",
      "\n",
      "The first loader is used for the Face Identification task: a multi-class\n",
      "classification task (hence supervised learning)::\n",
      "\n",
      "  >>> from sklearn.datasets import fetch_lfw_people\n",
      "  >>> lfw_people = fetch_lfw_people(min_faces_per_person=70, resize=0.4)\n",
      "\n",
      "  >>> for name in lfw_people.target_names:\n",
      "  ...     print(name)\n",
      "  ...\n",
      "  Ariel Sharon\n",
      "  Colin Powell\n",
      "  Donald Rumsfeld\n",
      "  George W Bush\n",
      "  Gerhard Schroeder\n",
      "  Hugo Chavez\n",
      "  Tony Blair\n",
      "\n",
      "The default slice is a rectangular shape around the face, removing\n",
      "most of the background::\n",
      "\n",
      "  >>> lfw_people.data.dtype\n",
      "  dtype('float32')\n",
      "\n",
      "  >>> lfw_people.data.shape\n",
      "  (1288, 1850)\n",
      "\n",
      "  >>> lfw_people.images.shape\n",
      "  (1288, 50, 37)\n",
      "\n",
      "Each of the ``1140`` faces is assigned to a single person id in the ``target``\n",
      "array::\n",
      "\n",
      "  >>> lfw_people.target.shape\n",
      "  (1288,)\n",
      "\n",
      "  >>> list(lfw_people.target[:10])\n",
      "  [5, 6, 3, 1, 0, 1, 3, 4, 3, 0]\n",
      "\n",
      "The second loader is typically used for the face verification task: each sample\n",
      "is a pair of two picture belonging or not to the same person::\n",
      "\n",
      "  >>> from sklearn.datasets import fetch_lfw_pairs\n",
      "  >>> lfw_pairs_train = fetch_lfw_pairs(subset='train')\n",
      "\n",
      "  >>> list(lfw_pairs_train.target_names)\n",
      "  ['Different persons', 'Same person']\n",
      "\n",
      "  >>> lfw_pairs_train.pairs.shape\n",
      "  (2200, 2, 62, 47)\n",
      "\n",
      "  >>> lfw_pairs_train.data.shape\n",
      "  (2200, 5828)\n",
      "\n",
      "  >>> lfw_pairs_train.target.shape\n",
      "  (2200,)\n",
      "\n",
      "Both for the :func:`sklearn.datasets.fetch_lfw_people` and\n",
      ":func:`sklearn.datasets.fetch_lfw_pairs` function it is\n",
      "possible to get an additional dimension with the RGB color channels by\n",
      "passing ``color=True``, in that case the shape will be\n",
      "``(2200, 2, 62, 47, 3)``.\n",
      "\n",
      "The :func:`sklearn.datasets.fetch_lfw_pairs` datasets is subdivided into\n",
      "3 subsets: the development ``train`` set, the development ``test`` set and\n",
      "an evaluation ``10_folds`` set meant to compute performance metrics using a\n",
      "10-folds cross validation scheme.\n",
      "\n",
      "|details-end|\n",
      "\n",
      ".. topic:: References:\n",
      "\n",
      " * `Labeled Faces in the Wild: A Database for Studying Face Recognition\n",
      "   in Unconstrained Environments.\n",
      "   <http://vis-www.cs.umass.edu/lfw/lfw.pdf>`_\n",
      "   Gary B. Huang, Manu Ramesh, Tamara Berg, and Erik Learned-Miller.\n",
      "   University of Massachusetts, Amherst, Technical Report 07-49, October, 2007.\n",
      "\n",
      "\n",
      ".. topic:: Examples:\n",
      "\n",
      "   * :ref:`sphx_glr_auto_examples_applications_plot_face_recognition.py`\n",
      "\n"
     ]
    }
   ],
   "source": [
    "# SOLUTION\n",
    "\n",
    "print(lfw_people.DESCR)"
   ]
  },
  {
   "cell_type": "markdown",
   "metadata": {},
   "source": [
    "The images field contains the list of images, i.e. one image per sample, with each image stored as a 2-D NumPy array. We can display these using the `imshow` method of `matplotlib.pyplot`. \n",
    "\n",
    "In the cell below, import `matplotlib.pyplot`` and use it to show the first 16 images in the dataset arranged as a 4 by 4 grid of images.\n",
    "\n",
    "Hint: You can use `plt.axis('off')` to avoid displaying the axes and tick marks."
   ]
  },
  {
   "cell_type": "code",
   "execution_count": 3,
   "metadata": {},
   "outputs": [
    {
     "data": {
      "image/png": "[encoded data removed]",
      "text/plain": [
       "<Figure size 640x480 with 16 Axes>"
      ]
     },
     "metadata": {},
     "output_type": "display_data"
    }
   ],
   "source": [
    "# SOLUTION\n",
    "\n",
    "import matplotlib.pyplot as plt\n",
    "\n",
    "for index in range(16):\n",
    "    plt.subplot(4, 4, index + 1)\n",
    "    plt.imshow(lfw_people.images[index], cmap='gray')\n",
    "    plt.axis('off')\n"
   ]
  },
  {
   "cell_type": "markdown",
   "metadata": {},
   "source": [
    "## Step 2 - Splitting the data into training and test sets\n",
    "\n",
    "Following the approaches used in the previous lab class and tutorial, split the data into training and test sets. Use 75% of the data for training and 25% for testing. Store the training data as the variable, `X_train`, and the test data as `X_test`. The training labels should be named `y_train` and the test labels, `y_test`.\n",
    "\n",
    "Use `random_state=0` to ensure that the data is split in the same way each time the code is run.\n",
    "\n",
    "Write the code in the cell below and check that the training and test sets have the correct sizes by running the test cell.\n"
   ]
  },
  {
   "cell_type": "code",
   "execution_count": 4,
   "metadata": {},
   "outputs": [],
   "source": [
    "# SOLUTION\n",
    "\n",
    "from sklearn.model_selection import train_test_split\n",
    "\n",
    "X_train, X_test, y_train, y_test = train_test_split(lfw_people.data, lfw_people.target, random_state=0)\n"
   ]
  },
  {
   "cell_type": "code",
   "execution_count": 5,
   "metadata": {},
   "outputs": [
    {
     "name": "stdout",
     "output_type": "stream",
     "text": [
      "(390, 1850)\n",
      "All tests passed!\n"
     ]
    }
   ],
   "source": [
    "# TEST\n",
    "\n",
    "print(X_test.shape)\n",
    "assert X_train.shape == (1170, 1850)\n",
    "assert X_test.shape == (390, 1850)\n",
    "assert y_train.shape == (1170,)\n",
    "assert y_test.shape == (390,)\n",
    "print(\"All tests passed!\")"
   ]
  },
  {
   "cell_type": "markdown",
   "metadata": {},
   "source": [
    "## Step 3 - Using a KNN classifier\n",
    "\n",
    "We will start by using the KNN classifier that we introduced in the previous lab class.\n",
    "\n",
    "In the cell below, import the `KNeighborsClassifier` from `sklearn.neighbors` and create a classifier that uses 1 neighbour. Train the classifier on the training data and labels. Then use the classifier to predict the labels for the test data. Call the predicted labels `y_pred`.\n",
    "\n",
    "Score the classifier by calculating the accuracy on the test data and labels. Finally print the accuracy.\n",
    "\n"
   ]
  },
  {
   "cell_type": "code",
   "execution_count": 6,
   "metadata": {},
   "outputs": [
    {
     "name": "stdout",
     "output_type": "stream",
     "text": [
      "0.5025641025641026\n"
     ]
    }
   ],
   "source": [
    "# SOLUTION\n",
    "\n",
    "from sklearn.neighbors import KNeighborsClassifier\n",
    "\n",
    "knn = KNeighborsClassifier(n_neighbors=1)\n",
    "knn.fit(X_train, y_train)\n",
    "y_pred = knn.predict(X_test)\n",
    "score = knn.score(X_test, y_test)\n",
    "print(score)"
   ]
  },
  {
   "cell_type": "markdown",
   "metadata": {},
   "source": [
    "You should get an accuracy of about 50.2%.\n",
    "\n",
    "Now, use the `GridSearchCV` class to find the best value of k for the KNN classifier. Test all odd values of k from 1 to 21. Use 5-fold cross validation."
   ]
  },
  {
   "cell_type": "code",
   "execution_count": 7,
   "metadata": {},
   "outputs": [
    {
     "name": "stdout",
     "output_type": "stream",
     "text": [
      "{'n_neighbors': 11}\n"
     ]
    },
    {
     "data": {
      "text/plain": [
       "0.517948717948718"
      ]
     },
     "execution_count": 7,
     "metadata": {},
     "output_type": "execute_result"
    }
   ],
   "source": [
    "# SOLUTION\n",
    "\n",
    "from sklearn.model_selection import GridSearchCV\n",
    "parameters = {'n_neighbors':range(1,22,2)}\n",
    "\n",
    "knn = KNeighborsClassifier()\n",
    "model = GridSearchCV(knn, parameters, cv=5)\n",
    "model.fit(X_train, y_train)\n",
    "print(model.best_params_)\n",
    "\n",
    "model = model.best_estimator_\n",
    "model.score(X_test, y_test)"
   ]
  },
  {
   "cell_type": "markdown",
   "metadata": {},
   "source": [
    "You should find that with a value of k=11 you get an accuracy of about 51.8%, i.e., a little better than when k=1.\n",
    "\n",
    "However, this is still not very good. We can do better by using a more sophisticated classifier but we may also be able to improve performance by representing the images in a different way.\n",
    "\n",
    "One of the problems here is that the feature vector has 1850 dimensions (i.e., a separate value for every pixel). This is a lot of dimensions for a KNN classifier to work with and it can result in a problem known as `overfitting`. In the next section we will reduce the number of features by using a `dimensionality reduction` technique to transform the feature vector into a lower dimensional space."
   ]
  },
  {
   "cell_type": "markdown",
   "metadata": {},
   "source": [
    "## Step 4 - Applying a dimensionality reduction technique\n",
    "\n",
    "Our samples are described by the values of 1850 pixels. Many of these pixels are irrelevant to the task, e.g., pixels in the corners of the image which capture information about the background. Also, many of the pixels are highly correlated with each other, e.g., neighbouring pixels will have similar values, meaning that there is a lot of `redundancy` in the data. It is generally easier to train a classifier if we can describe our samples using a smaller number of features, and using features that are not highly correlated with each other. \n",
    "\n",
    "Fortunately, there are very powerful and easy-to-implement approaches that can be used to learn a  `transform` that can reduce a high-dimensional feature vector into a lower-dimensional one. These are called `dimensionality reduction` techniques. They are a very important part of machine learning and we will be looking at them in more detail later in the module. For now we will just use one of these techniques, called `Principal Component Analysis` (PCA) and see how it can be applied in SciKit Learn.\n"
   ]
  },
  {
   "cell_type": "markdown",
   "metadata": {},
   "source": [
    "### Step 4.1 - Standardising the data\n",
    "\n",
    "Before using PCA we will first `standardise` the data. i.e., apply a scaling and offset to each feature so that all features have a mean of zero and a variance of one. This can be done using the `StandardScaler` class from `sklearn.preprocessing` module. See the example in the tutorial notes and write the necessary code below.  \n",
    "\n",
    "Note, you should `fit` the transform using the `X_train` data and apply the same transform to both the `X_train` and `X_test` data. Store the results as `X_train_scaled` and `X_test_scaled` respectively. You should use the `fit_transform` and `transform` methods.\n"
   ]
  },
  {
   "cell_type": "code",
   "execution_count": 8,
   "metadata": {},
   "outputs": [],
   "source": [
    "# SOLUTION \n",
    "\n",
    "from sklearn.preprocessing import StandardScaler\n",
    "std_scaler = StandardScaler()\n",
    "X_train_scaled = std_scaler.fit_transform(X_train)\n",
    "X_test_scaled = std_scaler.transform(X_test)"
   ]
  },
  {
   "cell_type": "markdown",
   "metadata": {},
   "source": [
    "### Step 4.2 - Applying PCA\n",
    "\n",
    "The PCA technique learns a specific dimensionality reducing transform from the training data features (in Scikit-Learn this stage is called 'fitting'). Once a transform has been learnt it can then be applied to the training and test data to produce the new lower-dimensioned feature vectors. \n",
    "\n",
    "We will now perform the PCA fitting and transforming steps in the cell below. This can be done using the `PCA` class that can be imported from `sklearn.decompostion`. This can be used in a very similar way to the `StandardScaler` class, i.e., using methods called `fit_transform` and `transform`. The PCA class has a parameter called `n_components` that can be used to specify the number of features that we want for the output. Set this to 200. \n",
    "\n",
    "Note, remember to use the `X_train_scaled` data to learn the PCA transform. Store the transformed data in the variable `X_test_pca` and `X_train_pca`.\n",
    "\n",
    "Write the solution below and run the test cell to check that your data looks correct."
   ]
  },
  {
   "cell_type": "code",
   "execution_count": 9,
   "metadata": {},
   "outputs": [],
   "source": [
    "# SOLUTION\n",
    "\n",
    "from sklearn.decomposition import PCA\n",
    "pca = PCA(n_components=200)\n",
    "pca.fit_transform(X_train_scaled)\n",
    "X_test_pca = pca.transform(X_test_scaled)\n",
    "X_train_pca = pca.transform(X_train_scaled)\n"
   ]
  },
  {
   "cell_type": "code",
   "execution_count": 10,
   "metadata": {},
   "outputs": [
    {
     "name": "stdout",
     "output_type": "stream",
     "text": [
      "All tests passed!\n"
     ]
    }
   ],
   "source": [
    "# TEST\n",
    "assert X_test_pca.shape == (390, 200)\n",
    "assert X_train_pca.shape == (1170, 200)\n",
    "print('All tests passed!')"
   ]
  },
  {
   "cell_type": "markdown",
   "metadata": {},
   "source": [
    "### Step 4.3 - Evaluating the reduced feature vector\n",
    "\n",
    "We will now repeat the KNN classification but this time we will use the `X_train_pca` and `X_test_pca` feature vectors instead of the original `X_train` and `X_test` feature vectors. Note, the optimal value of k may now have changed, so rerun a grid search with the `X_train_pca` and using 5-fold cross-validation as before."
   ]
  },
  {
   "cell_type": "code",
   "execution_count": 11,
   "metadata": {},
   "outputs": [
    {
     "name": "stdout",
     "output_type": "stream",
     "text": [
      "{'n_neighbors': 5}\n"
     ]
    },
    {
     "data": {
      "text/plain": [
       "0.5461538461538461"
      ]
     },
     "execution_count": 11,
     "metadata": {},
     "output_type": "execute_result"
    }
   ],
   "source": [
    "# SOLUTION\n",
    "\n",
    "from sklearn.model_selection import GridSearchCV\n",
    "parameters = {'n_neighbors':range(1,22,2)}\n",
    "\n",
    "knn = KNeighborsClassifier()\n",
    "model = GridSearchCV(knn, parameters, cv=5)\n",
    "model.fit(X_train_pca, y_train)\n",
    "print(model.best_params_)\n",
    "\n",
    "model = model.best_estimator_\n",
    "model.score(X_test_pca, y_test)"
   ]
  },
  {
   "cell_type": "markdown",
   "metadata": {},
   "source": [
    "The result should now be slightly better than before. When I ran this I got a score of 54.6% correct with the optimum value of k being 5. This is a little better than the 51.7% that we got before using the original feature vectors."
   ]
  },
  {
   "cell_type": "markdown",
   "metadata": {},
   "source": [
    "## Step 5 - Using a `pipeline`` to combine feature extraction and classification\n",
    "\n",
    "In the previous steps, we have seen how to use Scikit-Learn to standardise data, perform dimensionality reduction, tune hyperparameters and then perform classification. The data pre-processing and classification steps were performed separately. This is not ideal as it can lead to errors. For example, we end up with multiple different versions of the data, e.g. X_train, X_train_scaled, X_train_pca, and similarly for the test data, so it would be very easy to get these variables confused. In this section we are going to use a construct called a 'pipeline' to combine the feature extraction and classification steps into a single stage.\n",
    "\n",
    "Review the material in the tutorial notes to see how to use a pipeline. Then, create a pipeline that combines the StandardScaler transform, the PCA transform with the number of components set to 200 and the KNN classifier with the number of neighbours set to 5.\n",
    "\n",
    "Store the pipeline as a variable called `pipeline`. Run the `fit` method with `X_train` on the pipeline and then the `score` method with `X_test` and `y_test`. \n",
    "\n",
    "What is the accuracy? It should be the same as the accuracy that you got in the previous step. The pipeline does not change the computation, it just makes it easier to manage.\n"
   ]
  },
  {
   "cell_type": "code",
   "execution_count": 13,
   "metadata": {},
   "outputs": [
    {
     "name": "stdout",
     "output_type": "stream",
     "text": [
      "0.541025641025641\n"
     ]
    }
   ],
   "source": [
    "# SOLUTION\n",
    "\n",
    "from sklearn.pipeline import Pipeline\n",
    "from sklearn.preprocessing import StandardScaler\n",
    "from sklearn.decomposition import PCA\n",
    "\n",
    "\n",
    "pipeline = Pipeline([\n",
    "    ('scaler', StandardScaler()),\n",
    "    ('pca', PCA(n_components=200)),\n",
    "    ('knn', KNeighborsClassifier(n_neighbors=5)),    \n",
    "])\n",
    "\n",
    "pipeline.fit(X_train, y_train)\n",
    "score = pipeline.score(X_test, y_test)\n",
    "print(score)\n",
    "\n"
   ]
  },
  {
   "cell_type": "markdown",
   "metadata": {},
   "source": [
    "The pipeline can itself be used with the GridSearchCV class in order to tune its hyperparameters. Using GridSearchCV with a pipeline is just the same as using it with one of the builtin models. The only thing to note is that the parameter names have the form <step_name>__<parameter_name>. For example, if the KNeighborsClassifier step of the pipeline has been called `knn`, then to tune its `n_neighbors` parameter we would refer to the parameter as `knn__n_neighbors`.\n",
    "\n",
    "Write code to tune the pipelines `n_neighbour` parameter and then evaluate the resulting model using the `X_test` data.\n",
    "\n",
    "Note, if we search for values of k from 1 to 21 as we did before, then the GridSearch will take quite a long time to run (several minutes on my macbook pro). Just use k values of 1,3,5 and 7 in the grid search so that you don't have to wait too long.\n",
    "\n",
    "Write your solution below."
   ]
  },
  {
   "cell_type": "code",
   "execution_count": 14,
   "metadata": {},
   "outputs": [
    {
     "name": "stdout",
     "output_type": "stream",
     "text": [
      "{'knn__n_neighbors': 5}\n"
     ]
    },
    {
     "data": {
      "text/plain": [
       "0.5435897435897435"
      ]
     },
     "execution_count": 14,
     "metadata": {},
     "output_type": "execute_result"
    }
   ],
   "source": [
    "# SOLUTION \n",
    "\n",
    "parameters = {'knn__n_neighbors':range(1,8,2)}\n",
    "\n",
    "model = GridSearchCV(pipeline, parameters, cv=5)\n",
    "model.fit(X_train, y_train)\n",
    "print(model.best_params_)\n",
    "\n",
    "model = model.best_estimator_\n",
    "model.score(X_test, y_test)"
   ]
  },
  {
   "cell_type": "markdown",
   "metadata": {},
   "source": [
    "The reason that the GridSearch is slow is that it is re-running the entire pipeline for every value of k that it is testing. This means that the computationally expensive PCA fitting step is getting run many times. This is inefficient because the PCA step is part of the data pre-processing and will be the same for every value of k used by the classifier.  \n",
    "\n",
    "To avoid the recomputation, you can use sklearn's 'caching' mechanism that is part of the `Memory` module in the `joblib` package. See the tutorial notes for an example of how to do this. Implement it below and now retry the search using odd values of k from 1 to 21 again."
   ]
  },
  {
   "cell_type": "code",
   "execution_count": 15,
   "metadata": {},
   "outputs": [
    {
     "name": "stdout",
     "output_type": "stream",
     "text": [
      "{'knn__n_neighbors': 5}\n"
     ]
    },
    {
     "data": {
      "text/plain": [
       "0.5487179487179488"
      ]
     },
     "execution_count": 15,
     "metadata": {},
     "output_type": "execute_result"
    }
   ],
   "source": [
    "# SOLUTION\n",
    "\n",
    "from tempfile import mkdtemp\n",
    "from joblib import Memory\n",
    "from sklearn.pipeline import Pipeline\n",
    "from sklearn.preprocessing import StandardScaler\n",
    "from sklearn.decomposition import PCA\n",
    "\n",
    "cachedir = mkdtemp()\n",
    "memory = Memory(cachedir, verbose=0)\n",
    "\n",
    "pipeline = Pipeline([\n",
    "    ('scaler', StandardScaler()),\n",
    "    ('pca', PCA(n_components=200)),\n",
    "    ('knn', KNeighborsClassifier(n_neighbors=5)),    \n",
    "    ],memory=memory)\n",
    "\n",
    "parameters = {'knn__n_neighbors':range(1,22,2)}\n",
    "\n",
    "model = GridSearchCV(pipeline, parameters, cv=5)\n",
    "model.fit(X_train, y_train)\n",
    "print(model.best_params_)\n",
    "\n",
    "model = model.best_estimator_\n",
    "model.score(X_test, y_test)\n"
   ]
  },
  {
   "cell_type": "markdown",
   "metadata": {},
   "source": [
    "## Step 6 - Experimenting with different classifiers\n",
    "\n",
    "Now that we have a pipeline for training and evaluating classifiers, we can easily experiment with different classifiers. We will try the following classifiers:\n",
    "\n",
    "- Random Forests\n",
    "- Support Vector Machines (SVM)\n",
    "- Neural Network\n",
    "\n",
    "For each one, we will use the techniques used previously to tune hyperparameters before evaluating the classifier on the test set.\n"
   ]
  },
  {
   "cell_type": "markdown",
   "metadata": {},
   "source": [
    "### Step 6.1 - Using a Random Forest Classifier\n",
    "\n",
    "We will now replace the KNearestNeighbour classifier with a Random Forest classifier. The pipeline should again start with the StandardScalar and PCA transforms but the classifier at the end of the pipeline will be changed. The Random Forest classifier is provided by the `RandomForestClassifier` class in the `sklearn.ensemble` module.\n",
    "\n",
    "The Random Forest classifier has many hyperparameters but one of the most important is the number of trees in the forest, which is specified by the parameter `n_estimators`.\n",
    "\n",
    "For the GridSearch, search over both the number of trees and the number of PCA components. Use values of 10, 50 and 100 for the number of tree. Use values of 20, 50 and 100 for the number of PCA components. Use a cache to speed up the search. Also, when constructing the GridSearchCV object, set the `n_jobs` parameter to -1. This instructs the GridSearchCV to use all available cores to perform the search. Depending on your computer, this may provide a significant speed up (on my Macbook Pro, using all the cores makes the processing about 8 times faster)."
   ]
  },
  {
   "cell_type": "code",
   "execution_count": 16,
   "metadata": {},
   "outputs": [
    {
     "name": "stdout",
     "output_type": "stream",
     "text": [
      "{'pca__n_components': 50, 'rf__n_estimators': 100}\n"
     ]
    },
    {
     "data": {
      "text/plain": [
       "0.5666666666666667"
      ]
     },
     "execution_count": 16,
     "metadata": {},
     "output_type": "execute_result"
    }
   ],
   "source": [
    "# SOLUTION\n",
    "\n",
    "from tempfile import mkdtemp\n",
    "from joblib import Memory\n",
    "from sklearn.pipeline import Pipeline\n",
    "from sklearn.preprocessing import StandardScaler\n",
    "from sklearn.decomposition import PCA\n",
    "from sklearn.ensemble import RandomForestClassifier\n",
    "\n",
    "cachedir = mkdtemp()\n",
    "memory = Memory(cachedir, verbose=0)\n",
    "\n",
    "pipeline = Pipeline([\n",
    "    ('scaler', StandardScaler()),\n",
    "    ('pca', PCA(n_components=200)),\n",
    "    ('rf', RandomForestClassifier(n_estimators=100)),    \n",
    "    ],memory=memory)\n",
    "\n",
    "parameters = {'pca__n_components': [20, 50, 100], 'rf__n_estimators': [10, 50, 100]}\n",
    "\n",
    "model = GridSearchCV(pipeline, parameters, cv=5, n_jobs=-1)\n",
    "model.fit(X_train, y_train)\n",
    "print(model.best_params_)\n",
    "\n",
    "model = model.best_estimator_\n",
    "model.score(X_test, y_test)"
   ]
  },
  {
   "cell_type": "markdown",
   "metadata": {},
   "source": [
    "What is the final accuracy? When I ran this, I got a score of 56.7%, i.e., significantly better than the best score achieved with the KNN classifier (54.6%)."
   ]
  },
  {
   "cell_type": "markdown",
   "metadata": {},
   "source": [
    "### Step 6.2 - Using a Support Vector Machine (SVM) Classifier\n",
    "\n",
    "We will now use a Support Vector Machine (SVM) classifier. Again this should require just a minor edit to the previous code. The pipeline should again start with the StandardScalar and PCA transforms but the classifier on the end will be changed. The SVM classifier is provided by the `sklearn.svm.SVC` class. \n",
    "\n",
    "The key parameter for the SVC is the kernel, which is specified by the parameter `kernel`. The kernel is specified using a string and can be one of `linear`, `poly`, `rbf` or `sigmoid`. The SVC also has a parameter called C that controls the amount of regularisation. The default value of C is 1.0.\n",
    "\n",
    "For the GridSearch, search over the kernel type, the C parameter and the number of PCA components. Use values of `linear`, `poly`, `rbf` and `sigmoid` for the kernel and values of 0.5, 1.0 and 2.0 for C. SVM work well in high dimensional feature spaces so use values of 100, 200 and 500 for the number of PCA components. Note, we are now searching over 3 parameters with a total of 4 x 3 x 3 = 36 configurations being tested. Use a cache to speed up the search and set the n_jobs to -1 to use all the cores on your machine.\n",
    "\n",
    "(The processing takes 10 seconds on my laptop. It might take longer on yours, so be patient.)\n"
   ]
  },
  {
   "cell_type": "code",
   "execution_count": 17,
   "metadata": {},
   "outputs": [
    {
     "name": "stdout",
     "output_type": "stream",
     "text": [
      "{'pca__n_components': 500, 'svc__C': 0.5, 'svc__kernel': 'linear'}\n"
     ]
    },
    {
     "data": {
      "text/plain": [
       "0.8128205128205128"
      ]
     },
     "execution_count": 17,
     "metadata": {},
     "output_type": "execute_result"
    }
   ],
   "source": [
    "# SOLUTION\n",
    "\n",
    "from tempfile import mkdtemp\n",
    "from joblib import Memory\n",
    "from sklearn.pipeline import Pipeline\n",
    "from sklearn.preprocessing import StandardScaler\n",
    "from sklearn.svm import SVC\n",
    "\n",
    "cachedir = mkdtemp()\n",
    "memory = Memory(cachedir, verbose=0)\n",
    "\n",
    "pipeline = Pipeline([\n",
    "    ('scaler', StandardScaler()),\n",
    "    ('pca', PCA(n_components=200)),\n",
    "    ('svc', SVC()),    \n",
    "    ],memory=memory)\n",
    "\n",
    "parameters = {'pca__n_components': [20, 50, 100, 200, 500], 'svc__kernel': ['linear', 'poly', 'rbf', 'sigmoid'], 'svc__C': [0.5, 1, 2]}\n",
    "\n",
    "model = GridSearchCV(pipeline, parameters, cv=5, n_jobs=-1)\n",
    "model.fit(X_train, y_train)\n",
    "print(model.best_params_)\n",
    "\n",
    "model = model.best_estimator_\n",
    "model.score(X_test, y_test)\n"
   ]
  },
  {
   "cell_type": "markdown",
   "metadata": {},
   "source": [
    "What score do you get? When I ran this I achieved an accuracy of 81.3% which is hugely better than the previous classifiers that had scores in the 50's."
   ]
  },
  {
   "cell_type": "markdown",
   "metadata": {},
   "source": [
    "### Step 6.3 - Using a Neural Network Classifier\n",
    "\n",
    "In this final task, we will use a neural network classifier to classify the data. We will use the `MLPClassifier` from `sklearn.neural_network`.\n",
    "\n",
    "The MLPClassifier has many parameters that can be set, but the key parameters are the number of hidden layers and the number of neurons in each hidden layer. This is set using the `hidden_layer_sizes` parameter. For example, `hidden_layer_sizes=(10, 10)` will create a neural network with two hidden layers, each with 10 neurons. The default is `hidden_layer_sizes=(100,)`, which creates a neural network with one hidden layer with 100 neurons.\n",
    "\n",
    "For all other parameters we will keep the default values, except: we will set `max_iter=1000` which will allow the network to train for more iterations; `random_state=0` which will ensure that the results are reproducible;  and `early_stopping=True` which will stop the training if the validation score does not improve for 10 iterations. Set these parameters in the `MLPClassifier` constructor when defining the pipeline.\n",
    "\n",
    "For the GridSearchCV, we will search over PCA n_components values of 20, 50, 100, 200, 500, and we will try the following neural network architectures: (50,), (100,), (200,), (100, 100), (100, 100, 100) and (200, 100, 50). This will results in 5 x 6 = 30 different parameter combinations.\n",
    "\n",
    "Remember to use a cache and to set n_jobs to -1 to speed things up."
   ]
  },
  {
   "cell_type": "code",
   "execution_count": 18,
   "metadata": {},
   "outputs": [
    {
     "name": "stderr",
     "output_type": "stream",
     "text": [
      "/opt/homebrew/anaconda3/envs/clarity_dev/lib/python3.11/site-packages/sklearn/pipeline.py:377: JobLibCollisionWarning: Possible name collisions between functions '_fit_transform_one' (/opt/homebrew/anaconda3/envs/clarity_dev/lib/python3.11/site-packages/sklearn/pipeline.py:-1) and '_fit_transform_one' (/opt/homebrew/anaconda3/envs/clarity_dev/lib/python3.11/site-packages/sklearn/pipeline.py:947)\n",
      "  X, fitted_transformer = fit_transform_one_cached(\n"
     ]
    },
    {
     "name": "stdout",
     "output_type": "stream",
     "text": [
      "{'mlp__hidden_layer_sizes': (200,), 'pca__n_components': 200}\n"
     ]
    },
    {
     "data": {
      "text/plain": [
       "0.7589743589743589"
      ]
     },
     "execution_count": 18,
     "metadata": {},
     "output_type": "execute_result"
    }
   ],
   "source": [
    "# SOLUTION\n",
    "\n",
    "from tempfile import mkdtemp\n",
    "from joblib import Memory\n",
    "from sklearn.pipeline import Pipeline\n",
    "from sklearn.preprocessing import StandardScaler\n",
    "from sklearn.decomposition import PCA\n",
    "from sklearn.neural_network import MLPClassifier\n",
    "\n",
    "cachedir = mkdtemp()\n",
    "memory = Memory(cachedir, verbose=0)\n",
    "\n",
    "pipeline = Pipeline([\n",
    "    ('scaler', StandardScaler()),\n",
    "    ('pca', PCA()),\n",
    "    ('mlp', MLPClassifier(max_iter=1000, early_stopping=True, random_state=0))    \n",
    "    ],memory=memory)\n",
    "\n",
    "parameters = {'pca__n_components': [20, 50, 100, 200, 500],\n",
    "              'mlp__hidden_layer_sizes': [(50,), (100,), (200,), (100, 100), (100, 100, 100), (200, 100, 50)]}\n",
    "\n",
    "model = GridSearchCV(pipeline, parameters, cv=5, n_jobs=-1)\n",
    "model.fit(X_train, y_train)\n",
    "print(model.best_params_)\n",
    "\n",
    "model = model.best_estimator_\n",
    "model.score(X_test, y_test)"
   ]
  },
  {
   "cell_type": "markdown",
   "metadata": {},
   "source": [
    "What performance do you get with the best model? When I ran this I got a score of 75.9% using an MLP with a single hidden layer with 200 neurons."
   ]
  },
  {
   "cell_type": "markdown",
   "metadata": {},
   "source": [
    "## Step 7 - Analysing the classifier performance\n",
    "\n",
    "In this final step we will analyse the performance of the best classifier from the previous section.\n",
    "\n",
    "You probably found that the Support Vector Machine (SVM) classifier performed best with a classification accuaracy of over 80%. We will therefore use this classifier to analyse the performance.\n",
    "\n",
    "We will first look at the confusion matrix to see which classes are most often confused with each other. We will then look at the precision, recall and F1 scores for each class.\n",
    "\n",
    "### Step 7.1 - Generating a Confusion matrix\n",
    "\n",
    "\n",
    "In the cell below, perform the following steps:\n",
    "\n",
    "- Make a pipeline for the feature standardisation, PCA and SVC classifier. Set the n_components of the PCA and the kernel type and C value of the SVM classifier to the best values you found in the previous section.\n",
    "\n",
    "- Call the pipeline's `fit` function using the `X_train` and `y_train` data.\n",
    "\n",
    "- Call the `predict` function of the pipeline using the `X_test` data and store the result in a variable called `y_pred`.\n",
    "\n",
    "Then run the test cell to verify that your `y_pred` variable is a NumPy array with 390 elements.\n"
   ]
  },
  {
   "cell_type": "code",
   "execution_count": 19,
   "metadata": {},
   "outputs": [],
   "source": [
    "# SOLUTION\n",
    "\n",
    "from sklearn.pipeline import Pipeline\n",
    "from sklearn.preprocessing import StandardScaler\n",
    "from sklearn.svm import SVC\n",
    "\n",
    "pipeline = Pipeline([\n",
    "    ('scaler', StandardScaler()),\n",
    "    ('pca', PCA(n_components=500)),\n",
    "    ('svc', SVC(kernel='linear', C=0.5)),    \n",
    "    ])\n",
    "\n",
    "\n",
    "pipeline.fit(X_train, y_train)\n",
    "\n",
    "y_pred = pipeline.predict(X_test)\n"
   ]
  },
  {
   "cell_type": "code",
   "execution_count": 20,
   "metadata": {},
   "outputs": [
    {
     "name": "stdout",
     "output_type": "stream",
     "text": [
      "All tests passed!\n"
     ]
    }
   ],
   "source": [
    "# TEST\n",
    "assert y_pred.shape == (390,)\n",
    "print('All tests passed!')"
   ]
  },
  {
   "cell_type": "markdown",
   "metadata": {},
   "source": [
    "To compute and display a confusion matrix for the above result, perform the following steps in the cell below:\n",
    "\n",
    "- import `ConfusionMatrixDisplay` from `sklearn.metrics`\n",
    "- call `ConfusionMatrixDisplay.from_predictions` passing `y_test` and `y_pred` as arguments. \n",
    "\n",
    "Tips:\n",
    "\n",
    "- To make the confusion matrix easier to interpret you can set the `display_labels` argument of the `from_predictions` method to be the list of the names of the classes, i.e. the people's names. This list can be found in `lfw_people.target_names`.\n",
    "- The names on the x-axis will be printed horizontally and will overlap. You can fix this by setting the `xticks_rotation` argument to 'vertical'.\n",
    "\n"
   ]
  },
  {
   "cell_type": "code",
   "execution_count": 21,
   "metadata": {},
   "outputs": [
    {
     "data": {
      "text/plain": [
       "<sklearn.metrics._plot.confusion_matrix.ConfusionMatrixDisplay at 0x1606499d0>"
      ]
     },
     "execution_count": 21,
     "metadata": {},
     "output_type": "execute_result"
    },
    {
     "data": {
      "image/png": "[encoded data removed]",
      "text/plain": [
       "<Figure size 640x480 with 2 Axes>"
      ]
     },
     "metadata": {},
     "output_type": "display_data"
    }
   ],
   "source": [
    "# SOLUTION\n",
    "\n",
    "from sklearn.metrics import  ConfusionMatrixDisplay\n",
    "ConfusionMatrixDisplay.from_predictions(y_test, y_pred, display_labels=lfw_people.target_names, xticks_rotation='vertical')\n"
   ]
  },
  {
   "cell_type": "markdown",
   "metadata": {},
   "source": [
    "Study the confusion matrix and make sure that you understand what it means. Which people appear most often in the test data? Which people are most often misclassified? Which misclassifications are the most common? When I ran this I found some surprising results. For example, Serena Williams is twice mistaken as Ariel Sharon! This is probably not a misclassification that a human would make..."
   ]
  },
  {
   "cell_type": "markdown",
   "metadata": {},
   "source": [
    "### Step 7.2 - Per class precision and recall.\n",
    "\n",
    "We will now compute precision, recall and F1 scores for each class. If you have forgotten, then remind yourself what these score mean by looking at the notes.\n",
    "\n",
    "To compute these values use the `precision_score`, `recall_score` and `f1_score` functions from `sklearn.metrics`. Each of these function takes two arguments: the true labels and the predicted labels. By default they return a single value that is made by averaging over all the classes. To get the per class scores, set the `average` parameter to `None`.\n",
    "\n",
    "Store the results in variables called `precision`, `recall` and `f1`.\n",
    "\n",
    "Run the test cell to verify that your results have the correct format"
   ]
  },
  {
   "cell_type": "code",
   "execution_count": 22,
   "metadata": {},
   "outputs": [],
   "source": [
    "# SOLUTION \n",
    "\n",
    "from pandas import DataFrame\n",
    "from sklearn.metrics import precision_score, recall_score, f1_score\n",
    "\n",
    "precision = precision_score(y_test, y_pred, average=None)\n",
    "recall = recall_score(y_test, y_pred, average=None)\n",
    "f1 = f1_score(y_test, y_pred, average=None)\n"
   ]
  },
  {
   "cell_type": "code",
   "execution_count": 23,
   "metadata": {},
   "outputs": [
    {
     "name": "stdout",
     "output_type": "stream",
     "text": [
      "All tests passed!\n"
     ]
    }
   ],
   "source": [
    "# TEST\n",
    "assert precision.shape == (12,)\n",
    "assert recall.shape == (12,)\n",
    "assert f1.shape == (12,)\n",
    "print('All tests passed!')"
   ]
  },
  {
   "cell_type": "markdown",
   "metadata": {},
   "source": [
    "To display the results in an easy-to-read format, we can store them in a pandas DataFrame. Run the code that is written for you below.\n"
   ]
  },
  {
   "cell_type": "code",
   "execution_count": 24,
   "metadata": {},
   "outputs": [
    {
     "data": {
      "text/html": [
       "<style type=\"text/css\">\n",
       "</style>\n",
       "<table id=\"T_e8a6f\">\n",
       "  <thead>\n",
       "    <tr>\n",
       "      <th class=\"blank level0\" >&nbsp;</th>\n",
       "      <th id=\"T_e8a6f_level0_col0\" class=\"col_heading level0 col0\" >Precision</th>\n",
       "      <th id=\"T_e8a6f_level0_col1\" class=\"col_heading level0 col1\" >Recall</th>\n",
       "      <th id=\"T_e8a6f_level0_col2\" class=\"col_heading level0 col2\" >F1</th>\n",
       "    </tr>\n",
       "  </thead>\n",
       "  <tbody>\n",
       "    <tr>\n",
       "      <th id=\"T_e8a6f_level0_row0\" class=\"row_heading level0 row0\" >Ariel Sharon</th>\n",
       "      <td id=\"T_e8a6f_row0_col0\" class=\"data row0 col0\" >0.461538</td>\n",
       "      <td id=\"T_e8a6f_row0_col1\" class=\"data row0 col1\" >0.800000</td>\n",
       "      <td id=\"T_e8a6f_row0_col2\" class=\"data row0 col2\" >0.585366</td>\n",
       "    </tr>\n",
       "    <tr>\n",
       "      <th id=\"T_e8a6f_level0_row1\" class=\"row_heading level0 row1\" >Colin Powell</th>\n",
       "      <td id=\"T_e8a6f_row1_col0\" class=\"data row1 col0\" >0.838710</td>\n",
       "      <td id=\"T_e8a6f_row1_col1\" class=\"data row1 col1\" >0.800000</td>\n",
       "      <td id=\"T_e8a6f_row1_col2\" class=\"data row1 col2\" >0.818898</td>\n",
       "    </tr>\n",
       "    <tr>\n",
       "      <th id=\"T_e8a6f_level0_row2\" class=\"row_heading level0 row2\" >Donald Rumsfeld</th>\n",
       "      <td id=\"T_e8a6f_row2_col0\" class=\"data row2 col0\" >0.629630</td>\n",
       "      <td id=\"T_e8a6f_row2_col1\" class=\"data row2 col1\" >0.586207</td>\n",
       "      <td id=\"T_e8a6f_row2_col2\" class=\"data row2 col2\" >0.607143</td>\n",
       "    </tr>\n",
       "    <tr>\n",
       "      <th id=\"T_e8a6f_level0_row3\" class=\"row_heading level0 row3\" >George W Bush</th>\n",
       "      <td id=\"T_e8a6f_row3_col0\" class=\"data row3 col0\" >0.876812</td>\n",
       "      <td id=\"T_e8a6f_row3_col1\" class=\"data row3 col1\" >0.909774</td>\n",
       "      <td id=\"T_e8a6f_row3_col2\" class=\"data row3 col2\" >0.892989</td>\n",
       "    </tr>\n",
       "    <tr>\n",
       "      <th id=\"T_e8a6f_level0_row4\" class=\"row_heading level0 row4\" >Gerhard Schroeder</th>\n",
       "      <td id=\"T_e8a6f_row4_col0\" class=\"data row4 col0\" >0.866667</td>\n",
       "      <td id=\"T_e8a6f_row4_col1\" class=\"data row4 col1\" >0.787879</td>\n",
       "      <td id=\"T_e8a6f_row4_col2\" class=\"data row4 col2\" >0.825397</td>\n",
       "    </tr>\n",
       "    <tr>\n",
       "      <th id=\"T_e8a6f_level0_row5\" class=\"row_heading level0 row5\" >Hugo Chavez</th>\n",
       "      <td id=\"T_e8a6f_row5_col0\" class=\"data row5 col0\" >0.785714</td>\n",
       "      <td id=\"T_e8a6f_row5_col1\" class=\"data row5 col1\" >0.687500</td>\n",
       "      <td id=\"T_e8a6f_row5_col2\" class=\"data row5 col2\" >0.733333</td>\n",
       "    </tr>\n",
       "    <tr>\n",
       "      <th id=\"T_e8a6f_level0_row6\" class=\"row_heading level0 row6\" >Jacques Chirac</th>\n",
       "      <td id=\"T_e8a6f_row6_col0\" class=\"data row6 col0\" >0.714286</td>\n",
       "      <td id=\"T_e8a6f_row6_col1\" class=\"data row6 col1\" >0.416667</td>\n",
       "      <td id=\"T_e8a6f_row6_col2\" class=\"data row6 col2\" >0.526316</td>\n",
       "    </tr>\n",
       "    <tr>\n",
       "      <th id=\"T_e8a6f_level0_row7\" class=\"row_heading level0 row7\" >Jean Chretien</th>\n",
       "      <td id=\"T_e8a6f_row7_col0\" class=\"data row7 col0\" >0.875000</td>\n",
       "      <td id=\"T_e8a6f_row7_col1\" class=\"data row7 col1\" >0.700000</td>\n",
       "      <td id=\"T_e8a6f_row7_col2\" class=\"data row7 col2\" >0.777778</td>\n",
       "    </tr>\n",
       "    <tr>\n",
       "      <th id=\"T_e8a6f_level0_row8\" class=\"row_heading level0 row8\" >John Ashcroft</th>\n",
       "      <td id=\"T_e8a6f_row8_col0\" class=\"data row8 col0\" >0.933333</td>\n",
       "      <td id=\"T_e8a6f_row8_col1\" class=\"data row8 col1\" >0.777778</td>\n",
       "      <td id=\"T_e8a6f_row8_col2\" class=\"data row8 col2\" >0.848485</td>\n",
       "    </tr>\n",
       "    <tr>\n",
       "      <th id=\"T_e8a6f_level0_row9\" class=\"row_heading level0 row9\" >Junichiro Koizumi</th>\n",
       "      <td id=\"T_e8a6f_row9_col0\" class=\"data row9 col0\" >0.687500</td>\n",
       "      <td id=\"T_e8a6f_row9_col1\" class=\"data row9 col1\" >1.000000</td>\n",
       "      <td id=\"T_e8a6f_row9_col2\" class=\"data row9 col2\" >0.814815</td>\n",
       "    </tr>\n",
       "    <tr>\n",
       "      <th id=\"T_e8a6f_level0_row10\" class=\"row_heading level0 row10\" >Serena Williams</th>\n",
       "      <td id=\"T_e8a6f_row10_col0\" class=\"data row10 col0\" >0.941176</td>\n",
       "      <td id=\"T_e8a6f_row10_col1\" class=\"data row10 col1\" >0.842105</td>\n",
       "      <td id=\"T_e8a6f_row10_col2\" class=\"data row10 col2\" >0.888889</td>\n",
       "    </tr>\n",
       "    <tr>\n",
       "      <th id=\"T_e8a6f_level0_row11\" class=\"row_heading level0 row11\" >Tony Blair</th>\n",
       "      <td id=\"T_e8a6f_row11_col0\" class=\"data row11 col0\" >0.800000</td>\n",
       "      <td id=\"T_e8a6f_row11_col1\" class=\"data row11 col1\" >0.827586</td>\n",
       "      <td id=\"T_e8a6f_row11_col2\" class=\"data row11 col2\" >0.813559</td>\n",
       "    </tr>\n",
       "  </tbody>\n",
       "</table>\n"
      ],
      "text/plain": [
       "<pandas.io.formats.style.Styler at 0x161c0ddd0>"
      ]
     },
     "execution_count": 24,
     "metadata": {},
     "output_type": "execute_result"
    }
   ],
   "source": [
    "# Store results in a pandas DataFrame\n",
    "import pandas as pd\n",
    "import numpy as np\n",
    "data = np.array([precision, recall, f1]).T  # Store the results in the columns of a numpy array\n",
    "df2 = pd.DataFrame(data, columns=['Precision', 'Recall', 'F1'], index=lfw_people.target_names)\n",
    "df2.style  # Display the DataFrame using a nice HTML table styling"
   ]
  },
  {
   "cell_type": "markdown",
   "metadata": {},
   "source": [
    "Look the results above. Which people have the highest F1 score and which have the lowest? What do you think determines whether a person is recognised correctly or not?"
   ]
  },
  {
   "cell_type": "markdown",
   "metadata": {},
   "source": [
    "## Summary\n",
    "\n",
    "This lab class has covered a lot of ground. We have looked at the following:\n",
    "\n",
    "- How to use scikit-learn to perform classification\n",
    "- How to build perform feature normalisation and dimensionality reduction.\n",
    "- How to build a pipeline to perform feature preprocessing and classification in a single stage.\n",
    "- How to use our pipeline in a grid search to find the best hyperparameters for our model.\n",
    "- How to analyse results using a confusion matrix and metrics such as precision, recall and F1 score.\n",
    "  \n",
    "Along the way we have also covered a few important details including how to use a cache and multiple cores to speed up the grid search.\n",
    "\n",
    "With the techniques that you have covered in this lab you should now be able to apply scikit-learn to a wide range of classification problems. You are encouraged to study the solution code when it is released and to play around with the ideas and to read the documentation of the various functions that we have used. Many of the functions have advanced features that have not been covered in this lab class. As a challenge, see if you can find a classifier and hyper-parameter tuning that performs better than the 81% score that has been achieved in the solution code."
   ]
  },
  {
   "cell_type": "markdown",
   "metadata": {},
   "source": []
  }
 ],
 "metadata": {
  "kernelspec": {
   "display_name": "env",
   "language": "python",
   "name": "python3"
  },
  "language_info": {
   "codemirror_mode": {
    "name": "ipython",
    "version": 3
   },
   "file_extension": ".py",
   "mimetype": "text/x-python",
   "name": "python",
   "nbconvert_exporter": "python",
   "pygments_lexer": "ipython3",
   "version": "3.11.6"
  },
  "orig_nbformat": 4
 },
 "nbformat": 4,
 "nbformat_minor": 2
}
