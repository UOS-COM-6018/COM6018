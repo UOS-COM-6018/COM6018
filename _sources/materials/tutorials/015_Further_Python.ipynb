{
 "cells": [
  {
   "cell_type": "markdown",
   "id": "3a254a61",
   "metadata": {},
   "source": [
    "# 015 Further Python\n",
    "\n",
    "> COM6018\n",
    "\n",
    "*Copyright &copy; 2023, 2024 Jon Barker, University of Sheffield. All rights reserved*.\n",
    "\n",
    "## 1. List Comprehensions\n",
    "\n",
    "A **list comprehension** is a compact syntactical construct for performing efficient list processing.\n",
    "\n",
    "Consider the code below for making a list of the squared values of the numbers 1 to 10"
   ]
  },
  {
   "cell_type": "code",
   "execution_count": 1,
   "id": "ae61c32e",
   "metadata": {
    "execution": {
     "iopub.execute_input": "2023-05-24T16:45:29.988345Z",
     "iopub.status.busy": "2023-05-24T16:45:29.988032Z",
     "iopub.status.idle": "2023-05-24T16:45:29.999652Z",
     "shell.execute_reply": "2023-05-24T16:45:29.999177Z"
    }
   },
   "outputs": [
    {
     "name": "stdout",
     "output_type": "stream",
     "text": [
      "[1, 4, 9, 16, 25, 36, 49, 64, 81, 100]\n"
     ]
    }
   ],
   "source": [
    "squared_values = []\n",
    "for x in range(1, 11):\n",
    "    squared_values.append(x**2)\n",
    "print(squared_values)"
   ]
  },
  {
   "cell_type": "markdown",
   "id": "adf545bf",
   "metadata": {},
   "source": [
    "This can be written more compactly using a list comprehension, as follows,"
   ]
  },
  {
   "cell_type": "code",
   "execution_count": 2,
   "id": "7636061e",
   "metadata": {
    "execution": {
     "iopub.execute_input": "2023-05-24T16:45:30.002524Z",
     "iopub.status.busy": "2023-05-24T16:45:30.002325Z",
     "iopub.status.idle": "2023-05-24T16:45:30.005137Z",
     "shell.execute_reply": "2023-05-24T16:45:30.004721Z"
    }
   },
   "outputs": [
    {
     "name": "stdout",
     "output_type": "stream",
     "text": [
      "[1, 4, 9, 16, 25, 36, 49, 64, 81, 100]\n"
     ]
    }
   ],
   "source": [
    "squared_values = [x**2 for x in range(1, 11)]\n",
    "print(squared_values)"
   ]
  },
  {
   "cell_type": "markdown",
   "id": "a5bfc7bd",
   "metadata": {},
   "source": [
    "There are several advantages to using list comprehensions over the standard `for` loop approach. The list comprehension version has fewer lines and therefore there are fewer opportunities for the programmer to make an error. It is also more efficient, i.e., it will run a little faster. Finally, although it might seem a little harder to read at first, this is mostly due to unfamiliarity. With experience you will find that its compactness makes it easier to see the overall structure of the code.\n",
    "\n",
    "List comprehensions can also be used to filter the elements in a list. This is done using an `if` term. For example, if using a `for` loop, selecting and squaring values greater than 5 would be written as,"
   ]
  },
  {
   "cell_type": "code",
   "execution_count": 3,
   "id": "6bc0fd70",
   "metadata": {
    "execution": {
     "iopub.execute_input": "2023-05-24T16:45:30.007620Z",
     "iopub.status.busy": "2023-05-24T16:45:30.007441Z",
     "iopub.status.idle": "2023-05-24T16:45:30.010414Z",
     "shell.execute_reply": "2023-05-24T16:45:30.010070Z"
    }
   },
   "outputs": [
    {
     "name": "stdout",
     "output_type": "stream",
     "text": [
      "[7, 10, 12, 9]\n"
     ]
    }
   ],
   "source": [
    "my_list = [1, 7, 4, 10, 12, 3, 4, 9]\n",
    "new_list = []\n",
    "for x in my_list:\n",
    "    if x > 5:\n",
    "        new_list.append(x)\n",
    "print(new_list)"
   ]
  },
  {
   "cell_type": "markdown",
   "id": "398b753b",
   "metadata": {},
   "source": [
    "Using a list comprehension, this can be written in a single line,"
   ]
  },
  {
   "cell_type": "code",
   "execution_count": 4,
   "id": "6bc44f3e",
   "metadata": {
    "execution": {
     "iopub.execute_input": "2023-05-24T16:45:30.012703Z",
     "iopub.status.busy": "2023-05-24T16:45:30.012515Z",
     "iopub.status.idle": "2023-05-24T16:45:30.015465Z",
     "shell.execute_reply": "2023-05-24T16:45:30.014954Z"
    }
   },
   "outputs": [
    {
     "name": "stdout",
     "output_type": "stream",
     "text": [
      "[7, 10, 12, 9]\n"
     ]
    }
   ],
   "source": [
    "my_list = [1, 7, 4, 10, 12, 3, 4, 9]\n",
    "new_list = [x for x in my_list if x > 5]\n",
    "print(new_list)"
   ]
  },
  {
   "cell_type": "markdown",
   "id": "0519302d",
   "metadata": {},
   "source": [
    "Or for finding the even values in a list,"
   ]
  },
  {
   "cell_type": "code",
   "execution_count": 5,
   "id": "f61576a7",
   "metadata": {
    "execution": {
     "iopub.execute_input": "2023-05-24T16:45:30.017626Z",
     "iopub.status.busy": "2023-05-24T16:45:30.017484Z",
     "iopub.status.idle": "2023-05-24T16:45:30.019984Z",
     "shell.execute_reply": "2023-05-24T16:45:30.019676Z"
    }
   },
   "outputs": [
    {
     "name": "stdout",
     "output_type": "stream",
     "text": [
      "[4, 10, 12, 4]\n"
     ]
    }
   ],
   "source": [
    "my_list = [1, 7, 4, 10, 12, 3, 4, 9]\n",
    "even_values = [x for x in my_list if x % 2 == 0]\n",
    "print(even_values)"
   ]
  },
  {
   "cell_type": "markdown",
   "id": "25f30957",
   "metadata": {},
   "source": [
    "If we wanted to construct the square of all the numbers greater than 5 we would use,"
   ]
  },
  {
   "cell_type": "code",
   "execution_count": 6,
   "id": "6fdfd476",
   "metadata": {
    "execution": {
     "iopub.execute_input": "2023-05-24T16:45:30.021905Z",
     "iopub.status.busy": "2023-05-24T16:45:30.021745Z",
     "iopub.status.idle": "2023-05-24T16:45:30.024273Z",
     "shell.execute_reply": "2023-05-24T16:45:30.023948Z"
    }
   },
   "outputs": [
    {
     "name": "stdout",
     "output_type": "stream",
     "text": [
      "[49, 100, 144, 81]\n"
     ]
    }
   ],
   "source": [
    "my_list = [1, 7, 4, 10, 12, 3, 4, 9]\n",
    "new_list = [x**2 for x in my_list if x > 5]\n",
    "print(new_list)"
   ]
  },
  {
   "cell_type": "markdown",
   "id": "661e6f0f",
   "metadata": {},
   "source": [
    "Remember, in Python, a string is a list of characters, so strings can also be processed with list comprehensions"
   ]
  },
  {
   "cell_type": "code",
   "execution_count": 7,
   "id": "39301a2e",
   "metadata": {
    "execution": {
     "iopub.execute_input": "2023-05-24T16:45:30.026191Z",
     "iopub.status.busy": "2023-05-24T16:45:30.026066Z",
     "iopub.status.idle": "2023-05-24T16:45:30.028097Z",
     "shell.execute_reply": "2023-05-24T16:45:30.027819Z"
    }
   },
   "outputs": [
    {
     "name": "stdout",
     "output_type": "stream",
     "text": [
      "['T', 'h', 'q', 'c', 'k', 'b', 'r', 'w', 'n', 'f', 'x', 'j', 'm', 'p', 's', 'v', 'r', 't', 'h', 'l', 'z', 'y', 'd', 'g']\n"
     ]
    }
   ],
   "source": [
    "my_string = \"The quick brown fox jumps over the lazy dog\"\n",
    "consonants = [x for x in my_string if x not in \"aeiou \"]\n",
    "print(consonants)"
   ]
  },
  {
   "cell_type": "code",
   "execution_count": 8,
   "id": "85acceea",
   "metadata": {
    "execution": {
     "iopub.execute_input": "2023-05-24T16:45:30.030062Z",
     "iopub.status.busy": "2023-05-24T16:45:30.029941Z",
     "iopub.status.idle": "2023-05-24T16:45:30.032007Z",
     "shell.execute_reply": "2023-05-24T16:45:30.031710Z"
    }
   },
   "outputs": [
    {
     "name": "stdout",
     "output_type": "stream",
     "text": [
      "['T', 'H', 'E', ' ', 'Q', 'U', 'I', 'C', 'K', ' ', 'B', 'R', 'O', 'W', 'N', ' ', 'F', 'O', 'X', ' ', 'J', 'U', 'M', 'P', 'S', ' ', 'O', 'V', 'E', 'R', ' ', 'T', 'H', 'E', ' ', 'L', 'A', 'Z', 'Y', ' ', 'D', 'O', 'G']\n"
     ]
    }
   ],
   "source": [
    "my_string = \"The quick brown fox jumps over the lazy dog\"\n",
    "upper = [x.upper() for x in my_string]\n",
    "print(upper)"
   ]
  },
  {
   "cell_type": "markdown",
   "id": "9b927d03",
   "metadata": {},
   "source": [
    "List comprehensions can also be nested,"
   ]
  },
  {
   "cell_type": "code",
   "execution_count": 9,
   "id": "29e7ff90",
   "metadata": {
    "execution": {
     "iopub.execute_input": "2023-05-24T16:45:30.033678Z",
     "iopub.status.busy": "2023-05-24T16:45:30.033550Z",
     "iopub.status.idle": "2023-05-24T16:45:30.035644Z",
     "shell.execute_reply": "2023-05-24T16:45:30.035373Z"
    }
   },
   "outputs": [
    {
     "name": "stdout",
     "output_type": "stream",
     "text": [
      "[(0, 0, 0), (0, 1, 0), (0, 2, 0), (0, 3, 0), (1, 0, 0), (1, 1, 1), (1, 2, 2), (1, 3, 3), (2, 0, 0), (2, 1, 2), (2, 2, 4), (2, 3, 6), (3, 0, 0), (3, 1, 3), (3, 2, 6), (3, 3, 9)]\n"
     ]
    }
   ],
   "source": [
    "new_list = [(x, y, x * y) for x in range(4) for y in range(4)]\n",
    "print(new_list)"
   ]
  },
  {
   "cell_type": "markdown",
   "id": "b631bf91",
   "metadata": {},
   "source": [
    "List comprehensions are not only more compact, they also run a little bit faster than the standard loop based approach, compare"
   ]
  },
  {
   "cell_type": "code",
   "execution_count": 10,
   "id": "69ea1f10",
   "metadata": {
    "execution": {
     "iopub.execute_input": "2023-05-24T16:45:30.037224Z",
     "iopub.status.busy": "2023-05-24T16:45:30.037119Z",
     "iopub.status.idle": "2023-05-24T16:45:30.091459Z",
     "shell.execute_reply": "2023-05-24T16:45:30.091206Z"
    }
   },
   "outputs": [
    {
     "name": "stdout",
     "output_type": "stream",
     "text": [
      "0.05208549997769296\n"
     ]
    }
   ],
   "source": [
    "def proc1():\n",
    "    my_list = []\n",
    "    for x in range(1000000):\n",
    "        my_list.append(x * x)\n",
    "\n",
    "\n",
    "import timeit\n",
    "print(timeit.Timer(proc1).timeit(number=1))"
   ]
  },
  {
   "cell_type": "code",
   "execution_count": 11,
   "id": "ee90fc62",
   "metadata": {
    "execution": {
     "iopub.execute_input": "2023-05-24T16:45:30.093012Z",
     "iopub.status.busy": "2023-05-24T16:45:30.092925Z",
     "iopub.status.idle": "2023-05-24T16:45:30.128715Z",
     "shell.execute_reply": "2023-05-24T16:45:30.128436Z"
    }
   },
   "outputs": [
    {
     "name": "stdout",
     "output_type": "stream",
     "text": [
      "0.03354995799600147\n"
     ]
    }
   ],
   "source": [
    "def proc2():\n",
    "    my_list = [x * x for x in range(1000000)]\n",
    "\n",
    "\n",
    "import timeit\n",
    "print(timeit.Timer(proc2).timeit(number=1))"
   ]
  },
  {
   "cell_type": "markdown",
   "id": "dcb67fb1",
   "metadata": {},
   "source": [
    "On my machine the first approach has a run time of **117 ms** whereas the list comprehension takes **88 ms**, i.e., a decrease of 25%.\n",
    "\n",
    "In general, if you have a function that generates a list, or which processes a list to generate a new list, always look first to see if it can be written as a list comprehension. For loops with small bodies are often best written as list comprehensions. Sometimes a for loop with a large body can be broken down into a sequence of list comprehensions. However, some judgement is required here. Nested list comprehensions that perform complex operations can be hard to read and should be avoided.\n",
    "\n",
    "Note, list comprehensions generate lists. There is a similar syntax for generating sets and dictionaries, ie. set and dictionary comprehensions."
   ]
  },
  {
   "cell_type": "code",
   "execution_count": 12,
   "id": "0402a73e",
   "metadata": {
    "execution": {
     "iopub.execute_input": "2023-05-24T16:45:30.130281Z",
     "iopub.status.busy": "2023-05-24T16:45:30.130195Z",
     "iopub.status.idle": "2023-05-24T16:45:30.132270Z",
     "shell.execute_reply": "2023-05-24T16:45:30.132029Z"
    }
   },
   "outputs": [
    {
     "name": "stdout",
     "output_type": "stream",
     "text": [
      "[1, 2, 0, 1, 2, 0, 1, 2, 0, 1]\n",
      "{0, 1, 2}\n",
      "{1: 1, 2: 2, 3: 0, 4: 1, 5: 2, 6: 0, 7: 1, 8: 2, 9: 0, 10: 1}\n"
     ]
    }
   ],
   "source": [
    "# Modulus 3 for numbers 1 to 10\n",
    "my_list = [x % 3 for x in range(1, 11)]\n",
    "my_set = {x % 3 for x in range(1, 11)}\n",
    "my_dictionary = {x: x % 3 for x in range(1, 11)}\n",
    "print(my_list)\n",
    "print(my_set)\n",
    "print(my_dictionary)"
   ]
  },
  {
   "cell_type": "markdown",
   "id": "dbca0d7c",
   "metadata": {},
   "source": [
    "## 2. The `enumerate` function\n",
    "\n",
    "`enumerate` is a builtin generator function that turns a list into a list of tuples such that the first element of each tuple is a list index, i..e., it adds an index to elements of a list. This sounds quite obscure but it is often very useful. It allows us to rewrite some very common *for*-loop idioms in a more compact form. Examples will make this clear.\n",
    "\n",
    "For example consider the bit of code below,"
   ]
  },
  {
   "cell_type": "code",
   "execution_count": 13,
   "id": "cd2f399a",
   "metadata": {
    "execution": {
     "iopub.execute_input": "2023-05-24T16:45:30.133681Z",
     "iopub.status.busy": "2023-05-24T16:45:30.133580Z",
     "iopub.status.idle": "2023-05-24T16:45:30.135354Z",
     "shell.execute_reply": "2023-05-24T16:45:30.135127Z"
    }
   },
   "outputs": [
    {
     "name": "stdout",
     "output_type": "stream",
     "text": [
      "(0, 'A')\n",
      "(1, 'B')\n",
      "(2, 'C')\n",
      "(3, 'D')\n",
      "(4, 'E')\n",
      "(5, 'F')\n",
      "(6, 'G')\n"
     ]
    }
   ],
   "source": [
    "index = 0\n",
    "for x in \"ABCDEFG\":\n",
    "    print((index, x))\n",
    "    index += 1"
   ]
  },
  {
   "cell_type": "markdown",
   "id": "fe94622f",
   "metadata": {},
   "source": [
    "Using enumerate this can be written far more easily as,"
   ]
  },
  {
   "cell_type": "code",
   "execution_count": 14,
   "id": "1db6fbf2",
   "metadata": {
    "execution": {
     "iopub.execute_input": "2023-05-24T16:45:30.136717Z",
     "iopub.status.busy": "2023-05-24T16:45:30.136617Z",
     "iopub.status.idle": "2023-05-24T16:45:30.138367Z",
     "shell.execute_reply": "2023-05-24T16:45:30.138105Z"
    }
   },
   "outputs": [
    {
     "name": "stdout",
     "output_type": "stream",
     "text": [
      "(0, 'A')\n",
      "(1, 'B')\n",
      "(2, 'C')\n",
      "(3, 'D')\n",
      "(4, 'E')\n",
      "(5, 'F')\n",
      "(6, 'G')\n"
     ]
    }
   ],
   "source": [
    "for x in enumerate(\"ABCDEFG\"):\n",
    "    print(x)"
   ]
  },
  {
   "cell_type": "markdown",
   "id": "80355668",
   "metadata": {},
   "source": [
    "If you want the index and the list element as separate variables then that is easy too,"
   ]
  },
  {
   "cell_type": "code",
   "execution_count": 15,
   "id": "10596ec5",
   "metadata": {
    "execution": {
     "iopub.execute_input": "2023-05-24T16:45:30.139830Z",
     "iopub.status.busy": "2023-05-24T16:45:30.139734Z",
     "iopub.status.idle": "2023-05-24T16:45:30.141474Z",
     "shell.execute_reply": "2023-05-24T16:45:30.141245Z"
    }
   },
   "outputs": [
    {
     "name": "stdout",
     "output_type": "stream",
     "text": [
      "A\n",
      "BB\n",
      "CCC\n",
      "DDDD\n",
      "EEEEE\n",
      "FFFFFF\n",
      "GGGGGGG\n"
     ]
    }
   ],
   "source": [
    "# Print 1 'A' followed by 2 'B's followed by 3 'C's etc\n",
    "for index, x in enumerate(\"ABCDEFG\"):\n",
    "    print(x * (index + 1))"
   ]
  },
  {
   "cell_type": "markdown",
   "id": "7dcc95a0",
   "metadata": {},
   "source": [
    "## 3. Passing functions as parameters to other functions\n",
    "\n",
    "Python functions can be stored in variables and passed as parameters to other functions. This allows us to use some very powerful programming techniques.\n",
    "\n",
    "For example, below we have a function called `tabulate` which tabulates the values of an arbitrary function. The function to be tabulated is passed as the first parameter. We also written functions called `square`, `cube` and `times7`. We can now pass any of these functions to the `tabulate` function,"
   ]
  },
  {
   "cell_type": "code",
   "execution_count": 16,
   "id": "8ed32556",
   "metadata": {
    "execution": {
     "iopub.execute_input": "2023-05-24T16:45:30.142897Z",
     "iopub.status.busy": "2023-05-24T16:45:30.142805Z",
     "iopub.status.idle": "2023-05-24T16:45:30.145165Z",
     "shell.execute_reply": "2023-05-24T16:45:30.144919Z"
    }
   },
   "outputs": [],
   "source": [
    "def tabulate(f, a, b):\n",
    "    \"\"\"Tabulate the function f between integer values a and b\"\"\"\n",
    "    for i in range(a, b + 1):\n",
    "        fi = f(i)\n",
    "        print(\n",
    "            f\"f({i}) = {fi}\"\n",
    "        )  # An 'fstring' - a string which embeds formatted variables\n",
    "\n",
    "\n",
    "def square(x):\n",
    "    return x * x\n",
    "\n",
    "\n",
    "def cube(x):\n",
    "    return x * x * x\n",
    "\n",
    "\n",
    "def times7(x):\n",
    "    return 7 * x"
   ]
  },
  {
   "cell_type": "code",
   "execution_count": 17,
   "id": "da670007",
   "metadata": {
    "execution": {
     "iopub.execute_input": "2023-05-24T16:45:30.146580Z",
     "iopub.status.busy": "2023-05-24T16:45:30.146481Z",
     "iopub.status.idle": "2023-05-24T16:45:30.148231Z",
     "shell.execute_reply": "2023-05-24T16:45:30.147993Z"
    }
   },
   "outputs": [
    {
     "name": "stdout",
     "output_type": "stream",
     "text": [
      "cubes from 10 to 20\n",
      "f(10) = 1000\n",
      "f(11) = 1331\n",
      "f(12) = 1728\n",
      "f(13) = 2197\n",
      "f(14) = 2744\n",
      "f(15) = 3375\n",
      "f(16) = 4096\n",
      "f(17) = 4913\n",
      "f(18) = 5832\n",
      "f(19) = 6859\n",
      "f(20) = 8000\n",
      "The seven times table\n",
      "f(1) = 7\n",
      "f(2) = 14\n",
      "f(3) = 21\n",
      "f(4) = 28\n",
      "f(5) = 35\n",
      "f(6) = 42\n",
      "f(7) = 49\n",
      "f(8) = 56\n",
      "f(9) = 63\n",
      "f(10) = 70\n",
      "f(11) = 77\n",
      "f(12) = 84\n"
     ]
    }
   ],
   "source": [
    "print(\"cubes from 10 to 20\")\n",
    "tabulate(cube, 10, 20)\n",
    "print(\"The seven times table\")\n",
    "tabulate(times7, 1, 12)"
   ]
  },
  {
   "cell_type": "markdown",
   "id": "d3e9fcb4",
   "metadata": {},
   "source": [
    "Note, we could also store the function we wish to tabulate in a variable, say `f`, and then pass `f` to the `tabulate` function,"
   ]
  },
  {
   "cell_type": "code",
   "execution_count": 18,
   "id": "bcf133cc",
   "metadata": {
    "execution": {
     "iopub.execute_input": "2023-05-24T16:45:30.149611Z",
     "iopub.status.busy": "2023-05-24T16:45:30.149519Z",
     "iopub.status.idle": "2023-05-24T16:45:30.151252Z",
     "shell.execute_reply": "2023-05-24T16:45:30.151019Z"
    }
   },
   "outputs": [
    {
     "name": "stdout",
     "output_type": "stream",
     "text": [
      "f(10) = 1000\n",
      "f(11) = 1331\n",
      "f(12) = 1728\n",
      "f(13) = 2197\n",
      "f(14) = 2744\n",
      "f(15) = 3375\n",
      "f(16) = 4096\n",
      "f(17) = 4913\n",
      "f(18) = 5832\n",
      "f(19) = 6859\n",
      "f(20) = 8000\n"
     ]
    }
   ],
   "source": [
    "f = cube\n",
    "tabulate(f, 10, 20)"
   ]
  },
  {
   "cell_type": "markdown",
   "id": "b828ee10",
   "metadata": {},
   "source": [
    "Functions behave just like any other type and can therefore be stored in lists, tuples, dictionaries, etc. For example, in the the cell below, the *for*-loop is iterating over a sequence of functions stored in a tuple,"
   ]
  },
  {
   "cell_type": "code",
   "execution_count": 19,
   "id": "82740b31",
   "metadata": {
    "execution": {
     "iopub.execute_input": "2023-05-24T16:45:30.152593Z",
     "iopub.status.busy": "2023-05-24T16:45:30.152511Z",
     "iopub.status.idle": "2023-05-24T16:45:30.154202Z",
     "shell.execute_reply": "2023-05-24T16:45:30.153960Z"
    }
   },
   "outputs": [
    {
     "name": "stdout",
     "output_type": "stream",
     "text": [
      "<function square at 0x104921870>\n",
      "f(1) = 1\n",
      "f(2) = 4\n",
      "f(3) = 9\n",
      "f(4) = 16\n",
      "f(5) = 25\n",
      "<function cube at 0x104921990>\n",
      "f(1) = 1\n",
      "f(2) = 8\n",
      "f(3) = 27\n",
      "f(4) = 64\n",
      "f(5) = 125\n",
      "<function times7 at 0x104921a20>\n",
      "f(1) = 7\n",
      "f(2) = 14\n",
      "f(3) = 21\n",
      "f(4) = 28\n",
      "f(5) = 35\n"
     ]
    }
   ],
   "source": [
    "for f in square, cube, times7:\n",
    "    print(f)\n",
    "    tabulate(f, 1, 5)"
   ]
  },
  {
   "cell_type": "markdown",
   "id": "61be180f",
   "metadata": {},
   "source": [
    "## 4. Inner functions\n",
    "\n",
    "A function can be defined inside another function. These functions are called **inner functions**. An inner function will not be visible from outside the outer function in which it has been defined. This can be useful for hiding helper functions that are only used inside the outer function and which we don't want to be used more widely.\n",
    "\n",
    "For example,"
   ]
  },
  {
   "cell_type": "code",
   "execution_count": 20,
   "id": "b15b3333",
   "metadata": {
    "execution": {
     "iopub.execute_input": "2023-05-24T16:45:30.155541Z",
     "iopub.status.busy": "2023-05-24T16:45:30.155464Z",
     "iopub.status.idle": "2023-05-24T16:45:30.157498Z",
     "shell.execute_reply": "2023-05-24T16:45:30.157272Z"
    }
   },
   "outputs": [
    {
     "name": "stdout",
     "output_type": "stream",
     "text": [
      "The square of 10 is 100\n"
     ]
    }
   ],
   "source": [
    "def display_square(x):  # outer function\n",
    "    def square(x):  # inner function\n",
    "        return x * x\n",
    "\n",
    "    xx = square(x)\n",
    "    print(\"The square of\", x, \"is\", xx)\n",
    "\n",
    "\n",
    "display_square(10)"
   ]
  },
  {
   "cell_type": "markdown",
   "id": "b40ac4f1",
   "metadata": {},
   "source": [
    "Beginners often over-used inner functions when they find out about them. The uses cases for them are actually quite specialised and they have the downside of making code harder to read because of the additional nesting. They should be used sparingly.\n",
    "\n",
    "There is a  good discussion of the use cases for inner functions here <https://realpython.com/inner-functions-what-are-they-good-for/>, which includes the following example,"
   ]
  },
  {
   "cell_type": "code",
   "execution_count": 21,
   "id": "7b28b156",
   "metadata": {
    "execution": {
     "iopub.execute_input": "2023-05-24T16:45:30.158881Z",
     "iopub.status.busy": "2023-05-24T16:45:30.158805Z",
     "iopub.status.idle": "2023-05-24T16:45:30.160891Z",
     "shell.execute_reply": "2023-05-24T16:45:30.160660Z"
    }
   },
   "outputs": [],
   "source": [
    "def factorial(number):\n",
    "\n",
    "    # Error handling\n",
    "    if not isinstance(number, int):\n",
    "        raise TypeError(\"Sorry. 'number' must be an integer.\")\n",
    "    if not number >= 0:\n",
    "        raise ValueError(\"Sorry. 'number' must be zero or positive.\")\n",
    "\n",
    "    def inner_factorial(number):\n",
    "        if number <= 1:\n",
    "            return 1\n",
    "        return number * inner_factorial(number - 1)\n",
    "\n",
    "    return inner_factorial(number)"
   ]
  },
  {
   "cell_type": "markdown",
   "id": "8b69f8e9",
   "metadata": {},
   "source": [
    "Call the outer function"
   ]
  },
  {
   "cell_type": "code",
   "execution_count": 22,
   "id": "da85f23d",
   "metadata": {
    "execution": {
     "iopub.execute_input": "2023-05-24T16:45:30.162311Z",
     "iopub.status.busy": "2023-05-24T16:45:30.162228Z",
     "iopub.status.idle": "2023-05-24T16:45:30.163912Z",
     "shell.execute_reply": "2023-05-24T16:45:30.163682Z"
    }
   },
   "outputs": [
    {
     "name": "stdout",
     "output_type": "stream",
     "text": [
      "24\n"
     ]
    }
   ],
   "source": [
    "print(factorial(4))"
   ]
  },
  {
   "cell_type": "markdown",
   "id": "8d48c322",
   "metadata": {},
   "source": [
    "See how the error checking reports an error if the user tries to compute the factorial of a negative integer"
   ]
  },
  {
   "cell_type": "code",
   "execution_count": 23,
   "id": "cd17aff5",
   "metadata": {
    "execution": {
     "iopub.execute_input": "2023-05-24T16:45:30.165233Z",
     "iopub.status.busy": "2023-05-24T16:45:30.165157Z",
     "iopub.status.idle": "2023-05-24T16:45:30.304952Z",
     "shell.execute_reply": "2023-05-24T16:45:30.304688Z"
    },
    "tags": [
     "raises-exception"
    ]
   },
   "outputs": [
    {
     "ename": "ValueError",
     "evalue": "Sorry. 'number' must be zero or positive.",
     "output_type": "error",
     "traceback": [
      "\u001b[0;31m---------------------------------------------------------------------------\u001b[0m",
      "\u001b[0;31mValueError\u001b[0m                                Traceback (most recent call last)",
      "Cell \u001b[0;32mIn[23], line 1\u001b[0m\n\u001b[0;32m----> 1\u001b[0m \u001b[38;5;28mprint\u001b[39m(\u001b[43mfactorial\u001b[49m\u001b[43m(\u001b[49m\u001b[38;5;241;43m-\u001b[39;49m\u001b[38;5;241;43m4\u001b[39;49m\u001b[43m)\u001b[49m)\n",
      "Cell \u001b[0;32mIn[21], line 7\u001b[0m, in \u001b[0;36mfactorial\u001b[0;34m(number)\u001b[0m\n\u001b[1;32m      5\u001b[0m     \u001b[38;5;28;01mraise\u001b[39;00m \u001b[38;5;167;01mTypeError\u001b[39;00m(\u001b[38;5;124m\"\u001b[39m\u001b[38;5;124mSorry. \u001b[39m\u001b[38;5;124m'\u001b[39m\u001b[38;5;124mnumber\u001b[39m\u001b[38;5;124m'\u001b[39m\u001b[38;5;124m must be an integer.\u001b[39m\u001b[38;5;124m\"\u001b[39m)\n\u001b[1;32m      6\u001b[0m \u001b[38;5;28;01mif\u001b[39;00m \u001b[38;5;129;01mnot\u001b[39;00m number \u001b[38;5;241m>\u001b[39m\u001b[38;5;241m=\u001b[39m \u001b[38;5;241m0\u001b[39m:\n\u001b[0;32m----> 7\u001b[0m     \u001b[38;5;28;01mraise\u001b[39;00m \u001b[38;5;167;01mValueError\u001b[39;00m(\u001b[38;5;124m\"\u001b[39m\u001b[38;5;124mSorry. \u001b[39m\u001b[38;5;124m'\u001b[39m\u001b[38;5;124mnumber\u001b[39m\u001b[38;5;124m'\u001b[39m\u001b[38;5;124m must be zero or positive.\u001b[39m\u001b[38;5;124m\"\u001b[39m)\n\u001b[1;32m      9\u001b[0m \u001b[38;5;28;01mdef\u001b[39;00m \u001b[38;5;21minner_factorial\u001b[39m(number):\n\u001b[1;32m     10\u001b[0m     \u001b[38;5;28;01mif\u001b[39;00m number \u001b[38;5;241m<\u001b[39m\u001b[38;5;241m=\u001b[39m \u001b[38;5;241m1\u001b[39m:\n",
      "\u001b[0;31mValueError\u001b[0m: Sorry. 'number' must be zero or positive."
     ]
    }
   ],
   "source": [
    "print(factorial(-4))"
   ]
  },
  {
   "cell_type": "markdown",
   "id": "0a8a497e",
   "metadata": {},
   "source": [
    "The advantage of using an inner function here is that the argument checking is performed once in the outer function and can then be safely skipped in the inner function.\n",
    "\n",
    "Note, inner functions inherit the scope of the outer function, i.e., variables declared in the outer function will be visible to the inner function even if they are not passed as parameters."
   ]
  },
  {
   "cell_type": "code",
   "execution_count": 24,
   "id": "2b7b1b45",
   "metadata": {
    "execution": {
     "iopub.execute_input": "2023-05-24T16:45:30.306570Z",
     "iopub.status.busy": "2023-05-24T16:45:30.306464Z",
     "iopub.status.idle": "2023-05-24T16:45:30.308439Z",
     "shell.execute_reply": "2023-05-24T16:45:30.308195Z"
    }
   },
   "outputs": [
    {
     "name": "stdout",
     "output_type": "stream",
     "text": [
      "10 20 30\n"
     ]
    }
   ],
   "source": [
    "def outer(a):\n",
    "    b = 20\n",
    "\n",
    "    def inner(c):\n",
    "        # c has been passed as a parameter, a and b are seen from the outer scope\n",
    "        print(a, b, c)\n",
    "\n",
    "    inner(30)\n",
    "\n",
    "\n",
    "outer(10)"
   ]
  },
  {
   "cell_type": "markdown",
   "id": "cc650dc0",
   "metadata": {},
   "source": [
    "This is very convenient but can also be a source of bugs if you are not careful.\n",
    "\n",
    "## 5. Lambda functions\n",
    "\n",
    "A **lambda function** is a function that is defined without a name. They are also called **anonymous functions**. They are useful for writing short functions that are only used once. They are often used as parameters to other functions.\n",
    "\n",
    "For example, consider the `tabulate` function defined above. Say we wanted to tabulate the function $x^2 + 2 x + 10$. We could do this by first defining a function and then passing that function to `tabulate``, as follows"
   ]
  },
  {
   "cell_type": "code",
   "execution_count": 25,
   "id": "dba6a43b",
   "metadata": {
    "execution": {
     "iopub.execute_input": "2023-09-08T12:13:27.516815Z",
     "iopub.status.busy": "2023-09-08T12:13:27.516716Z",
     "iopub.status.idle": "2023-09-08T12:13:27.518569Z",
     "shell.execute_reply": "2023-09-08T12:13:27.518335Z"
    }
   },
   "outputs": [
    {
     "name": "stdout",
     "output_type": "stream",
     "text": [
      "f(10) = 130\n",
      "f(11) = 153\n",
      "f(12) = 178\n",
      "f(13) = 205\n",
      "f(14) = 234\n",
      "f(15) = 265\n",
      "f(16) = 298\n",
      "f(17) = 333\n",
      "f(18) = 370\n",
      "f(19) = 409\n",
      "f(20) = 450\n"
     ]
    }
   ],
   "source": [
    "def my_function(x):\n",
    "    return x * x + 2 * x + 10\n",
    "\n",
    "tabulate(my_function, 10, 20)"
   ]
  },
  {
   "cell_type": "markdown",
   "id": "08c4a023",
   "metadata": {},
   "source": [
    "This works fine but if `my_function` is only being used in this one place then it would be more convenient to define it as a lambda function.\n",
    "\n",
    "The syntax for defining a lambda function is\n",
    "\n",
    "```\n",
    "lambda <parameters>: <expression>\n",
    "```\n",
    "\n",
    "So for our example this would look like,"
   ]
  },
  {
   "cell_type": "code",
   "execution_count": 26,
   "id": "6fe492a9",
   "metadata": {
    "execution": {
     "iopub.execute_input": "2023-09-08T12:13:27.519981Z",
     "iopub.status.busy": "2023-09-08T12:13:27.519882Z",
     "iopub.status.idle": "2023-09-08T12:13:27.522969Z",
     "shell.execute_reply": "2023-09-08T12:13:27.522727Z"
    }
   },
   "outputs": [
    {
     "data": {
      "text/plain": [
       "<function __main__.<lambda>(x)>"
      ]
     },
     "execution_count": 26,
     "metadata": {},
     "output_type": "execute_result"
    }
   ],
   "source": [
    "lambda x: x * x + 2 * x + 10"
   ]
  },
  {
   "cell_type": "markdown",
   "id": "0284cb33",
   "metadata": {},
   "source": [
    "We could store this in a variable and then pass it to `tabulate`,"
   ]
  },
  {
   "cell_type": "code",
   "execution_count": 27,
   "id": "4e8aeb73",
   "metadata": {
    "execution": {
     "iopub.execute_input": "2023-09-08T12:13:27.524343Z",
     "iopub.status.busy": "2023-09-08T12:13:27.524264Z",
     "iopub.status.idle": "2023-09-08T12:13:27.525947Z",
     "shell.execute_reply": "2023-09-08T12:13:27.525702Z"
    }
   },
   "outputs": [
    {
     "name": "stdout",
     "output_type": "stream",
     "text": [
      "f(10) = 130\n",
      "f(11) = 153\n",
      "f(12) = 178\n",
      "f(13) = 205\n",
      "f(14) = 234\n",
      "f(15) = 265\n",
      "f(16) = 298\n",
      "f(17) = 333\n",
      "f(18) = 370\n",
      "f(19) = 409\n",
      "f(20) = 450\n"
     ]
    }
   ],
   "source": [
    "f = lambda x: x * x + 2 * x + 10\n",
    "tabulate(f, 10, 20)"
   ]
  },
  {
   "cell_type": "markdown",
   "id": "282af0dd",
   "metadata": {},
   "source": [
    "This is a bit like giving the lambda function a name, i.e., `f`. It is more common to just pass the lambda function directly to the function that is going to use it, as follows,"
   ]
  },
  {
   "cell_type": "code",
   "execution_count": 28,
   "id": "161e1df1",
   "metadata": {
    "execution": {
     "iopub.execute_input": "2023-09-08T12:13:27.527351Z",
     "iopub.status.busy": "2023-09-08T12:13:27.527260Z",
     "iopub.status.idle": "2023-09-08T12:13:27.529009Z",
     "shell.execute_reply": "2023-09-08T12:13:27.528771Z"
    }
   },
   "outputs": [
    {
     "name": "stdout",
     "output_type": "stream",
     "text": [
      "f(10) = 130\n",
      "f(11) = 153\n",
      "f(12) = 178\n",
      "f(13) = 205\n",
      "f(14) = 234\n",
      "f(15) = 265\n",
      "f(16) = 298\n",
      "f(17) = 333\n",
      "f(18) = 370\n",
      "f(19) = 409\n",
      "f(20) = 450\n"
     ]
    }
   ],
   "source": [
    "tabulate(lambda x: x * x + 2 * x + 10, 10, 20)"
   ]
  },
  {
   "cell_type": "markdown",
   "id": "0666eccc",
   "metadata": {},
   "source": [
    "Compare this to the original version where we used `def` to explicitly defined and name the function before passing it to tabulate. The lambda function version is more compact and arguably easier to read. It has the advantage that the function definition is right next to the function call that is using it, which makes it easier to see what is going on. Also, the function does not remain **in scope** after the call to `tabulate` has finished, i.e., we can be sure that no-one else will be trying to use it elsewhere in the code. This reduces the burden on code testing and code maintenance, and ultimately reduces the chance of bugs."
   ]
  }
 ],
 "metadata": {
  "jupytext": {
   "cell_metadata_filter": "-all"
  },
  "kernelspec": {
   "display_name": "Python 3 (ipykernel)",
   "language": "python",
   "name": "python3"
  },
  "language_info": {
   "codemirror_mode": {
    "name": "ipython",
    "version": 3
   },
   "file_extension": ".py",
   "mimetype": "text/x-python",
   "name": "python",
   "nbconvert_exporter": "python",
   "pygments_lexer": "ipython3",
   "version": "3.10.8"
  }
 },
 "nbformat": 4,
 "nbformat_minor": 5
}
