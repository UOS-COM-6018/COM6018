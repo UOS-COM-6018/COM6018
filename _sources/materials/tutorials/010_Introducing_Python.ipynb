{
 "cells": [
  {
   "cell_type": "markdown",
   "id": "62db315f",
   "metadata": {},
   "source": [
    "# 010 Getting Started with Python\n",
    "\n",
    "> COM6018\n",
    "\n",
    "*Copyright &copy; 2023, 2024 Jon Barker, University of Sheffield. All rights reserved*.\n",
    "\n",
    "## 1. Introduction\n",
    "\n",
    "### What is Python ?\n",
    "\n",
    "A modern, object-orientated, high-level programming language\n",
    "\n",
    "* **Easy-to-learn**: simple syntax and intuitive code\n",
    "* **Expressive**: can do a lot with a few lines of code\n",
    "* **Interpreted**: no need to compile\n",
    "* **Dynamically typed**: no need to define the types of variables\n",
    "* **Memory managed**: no c-style 'memory leak' bugs\n",
    "\n",
    "```{note}\n",
    "Notes require **no** arguments, so content can start here.\n",
    "```\n",
    "\n",
    "### Why Python ?\n",
    "\n",
    "Why are we using Python in COM6018?\n",
    "\n",
    "* Python is **widely used** in the scientific computing community\n",
    "* Extensive ecosystem of rapidly maturing **libraries**\n",
    "* **Good performance** - closely integrated with time-tested C and Fortran code\n",
    "  * blas, atlas, lapack etc\n",
    "* No license costs (i.e., **free**!) and easy to install\n",
    "* It's a **useful** language to know, i.e. useful outside of COM6018\n",
    "\n",
    "## 2. Running Python code\n",
    "\n",
    "There are many ways to run Python code including running scripts from the command line, using **Jupyter notebooks** (which we will be using in the labs), or working interactively in a Python shell (e.g. `ipython`).\n",
    "\n",
    "### 2.1 Using the iPython interactive shell\n",
    "\n",
    "If you are reading these notes at a computer then the easiest way to try out the examples is to cut and paste them into a Python shell.\n",
    "\n",
    "To start a Python shell, open a terminal and type `python` or `ipython` (if installed)."
   ]
  },
  {
   "cell_type": "code",
   "execution_count": 1,
   "id": "2c066bfd",
   "metadata": {
    "execution": {
     "iopub.execute_input": "2024-09-22T14:29:58.431308Z",
     "iopub.status.busy": "2024-09-22T14:29:58.430971Z",
     "iopub.status.idle": "2024-09-22T14:29:58.676743Z",
     "shell.execute_reply": "2024-09-22T14:29:58.676120Z"
    },
    "tags": [
     "remove-output"
    ]
   },
   "outputs": [
    {
     "name": "stdout",
     "output_type": "stream",
     "text": [
      "Python 3.12.5 (main, Aug 14 2024, 04:32:18) [Clang 18.1.8 ]\n"
     ]
    },
    {
     "name": "stdout",
     "output_type": "stream",
     "text": [
      "Type 'copyright', 'credits' or 'license' for more information\n"
     ]
    },
    {
     "name": "stdout",
     "output_type": "stream",
     "text": [
      "IPython 8.27.0 -- An enhanced Interactive Python. Type '?' for help.\n"
     ]
    },
    {
     "name": "stdout",
     "output_type": "stream",
     "text": [
      "\n"
     ]
    },
    {
     "name": "stdout",
     "output_type": "stream",
     "text": [
      "In [1]: Do you really want to exit ([y]/n)? \n"
     ]
    }
   ],
   "source": [
    "%%bash\n",
    "ipython"
   ]
  },
  {
   "cell_type": "markdown",
   "id": "ca6ee902",
   "metadata": {},
   "source": [
    "The **IPython shell** is an enhanced version of the standard Python shell with many useful features including tab completion, command history, and object introspection.\n",
    "\n",
    "If you are viewing these notes in a web-browser there will be a button in each code block that copies the contents to the clipboard when clicked. You can then paste the code into your Python or IPython shell. Try this with the Python code block below."
   ]
  },
  {
   "cell_type": "code",
   "execution_count": 2,
   "id": "050813ea",
   "metadata": {
    "execution": {
     "iopub.execute_input": "2024-09-22T14:29:58.679193Z",
     "iopub.status.busy": "2024-09-22T14:29:58.679022Z",
     "iopub.status.idle": "2024-09-22T14:29:58.681614Z",
     "shell.execute_reply": "2024-09-22T14:29:58.681241Z"
    }
   },
   "outputs": [
    {
     "name": "stdout",
     "output_type": "stream",
     "text": [
      "Hello world!\n"
     ]
    }
   ],
   "source": [
    "print('Hello world!')"
   ]
  },
  {
   "cell_type": "markdown",
   "id": "a70d2b5c",
   "metadata": {},
   "source": [
    "If you are reading these notes in the **VSCode editor** (the free editor that we are recommending for the module) then you can install the **Markdown Preview Enhanced** editor extension and run the `Open Preview` command. Now, if you hover over a cell, a button will appear that allows you to run the contents directly with the output appearing below the code block.\n",
    "\n",
    "### 2.2 Running Python scripts\n",
    "\n",
    "For longer programs, Python code is usually stored in a file and run from the\n",
    "command line. Programs are stored in files with a .py extension.\n",
    "\n",
    "For example, a program to print `Hello world!` could be stored in a file `hello.py`\n",
    "with the following contents"
   ]
  },
  {
   "cell_type": "code",
   "execution_count": 3,
   "id": "208e43c9",
   "metadata": {
    "execution": {
     "iopub.execute_input": "2024-09-22T14:29:58.683584Z",
     "iopub.status.busy": "2024-09-22T14:29:58.683443Z",
     "iopub.status.idle": "2024-09-22T14:29:58.685481Z",
     "shell.execute_reply": "2024-09-22T14:29:58.685160Z"
    }
   },
   "outputs": [
    {
     "name": "stdout",
     "output_type": "stream",
     "text": [
      "Hello world!\n"
     ]
    }
   ],
   "source": [
    "# A program to print 'Hello world!'\n",
    "print('Hello world!')"
   ]
  },
  {
   "cell_type": "markdown",
   "id": "d1469606",
   "metadata": {},
   "source": [
    "This program could then be run from the command line using"
   ]
  },
  {
   "cell_type": "code",
   "execution_count": 4,
   "id": "541fffa7",
   "metadata": {
    "execution": {
     "iopub.execute_input": "2024-09-22T14:29:58.687569Z",
     "iopub.status.busy": "2024-09-22T14:29:58.687427Z",
     "iopub.status.idle": "2024-09-22T14:29:58.717134Z",
     "shell.execute_reply": "2024-09-22T14:29:58.716736Z"
    },
    "tags": [
     "remove-output"
    ]
   },
   "outputs": [
    {
     "name": "stdout",
     "output_type": "stream",
     "text": [
      "Hello world!\n"
     ]
    }
   ],
   "source": [
    "%%bash\n",
    "python code/hello_world.py"
   ]
  },
  {
   "cell_type": "markdown",
   "id": "b8f11950",
   "metadata": {},
   "source": [
    "### 2.3 Loading Modules\n",
    "\n",
    "When you write a Python program you rarely start from scratch. Instead you build on **library code** that others have already written. This code is organised into **modules**. Many of these modules come with the language and are part of the so-called **Python Standard Library**. Other modules are available from third-parties and can be installed using the `pip` package manager. In this course we will be using some very popular third-party modules which are industry-standard for data science,  including `numpy`, `scipy`, `matplotlib`, and `pandas`.\n",
    "\n",
    "When using code from a module, the module first needs to be imported. Once a module is imported it will define a **namespace** which contains all the module's functions and variables. To access these functions and variables you need to prefix them with the name of the module.\n",
    "\n",
    "For example, the `sqrt` (square-root) function is defined in the `math` module which\n",
    "is part of the Python Standard Library.\n",
    "\n",
    "In the example below, we use the keyword `import` to import the `math` module. We can then access the `sqrt` function using the syntax `math.sqrt`. We then use the Python builtin `print` function to print some result to the screen."
   ]
  },
  {
   "cell_type": "code",
   "execution_count": 5,
   "id": "872dda94",
   "metadata": {
    "execution": {
     "iopub.execute_input": "2024-09-22T14:29:58.719393Z",
     "iopub.status.busy": "2024-09-22T14:29:58.719238Z",
     "iopub.status.idle": "2024-09-22T14:29:58.721648Z",
     "shell.execute_reply": "2024-09-22T14:29:58.721288Z"
    }
   },
   "outputs": [
    {
     "name": "stdout",
     "output_type": "stream",
     "text": [
      "3.4641016151377544\n",
      "3.4641016151377544\n"
     ]
    }
   ],
   "source": [
    "import math\n",
    "print(math.sqrt(12.0))\n",
    "print(math.sqrt(12.0))"
   ]
  },
  {
   "cell_type": "markdown",
   "id": "46667fcb",
   "metadata": {},
   "source": [
    "Once a module is imported you can get help about it by using the `help` function."
   ]
  },
  {
   "cell_type": "code",
   "execution_count": 6,
   "id": "f6b48cca",
   "metadata": {
    "execution": {
     "iopub.execute_input": "2024-09-22T14:29:58.723518Z",
     "iopub.status.busy": "2024-09-22T14:29:58.723408Z",
     "iopub.status.idle": "2024-09-22T14:29:58.725238Z",
     "shell.execute_reply": "2024-09-22T14:29:58.724871Z"
    }
   },
   "outputs": [],
   "source": [
    "import math\n",
    "# help(math)"
   ]
  },
  {
   "cell_type": "markdown",
   "id": "c7c4b1fd",
   "metadata": {},
   "source": [
    "You can also get help on a specific module function. For example to see help for the `sqrt` function we can use,"
   ]
  },
  {
   "cell_type": "code",
   "execution_count": 7,
   "id": "c0e130d1",
   "metadata": {
    "execution": {
     "iopub.execute_input": "2024-09-22T14:29:58.727120Z",
     "iopub.status.busy": "2024-09-22T14:29:58.726980Z",
     "iopub.status.idle": "2024-09-22T14:29:58.729820Z",
     "shell.execute_reply": "2024-09-22T14:29:58.729431Z"
    }
   },
   "outputs": [
    {
     "name": "stdout",
     "output_type": "stream",
     "text": [
      "Help on built-in function sqrt in module math:\n",
      "\n",
      "sqrt(x, /)\n",
      "    Return the square root of x.\n",
      "\n"
     ]
    }
   ],
   "source": [
    "import math\n",
    "help(math.sqrt)"
   ]
  },
  {
   "cell_type": "markdown",
   "id": "dc087bb3",
   "metadata": {},
   "source": [
    "### 2.4 Importing specific functions\n",
    "\n",
    "Sometimes you only want to import a specific function from a module. This can be done as follows,"
   ]
  },
  {
   "cell_type": "code",
   "execution_count": 8,
   "id": "cd6fdf93",
   "metadata": {
    "execution": {
     "iopub.execute_input": "2024-09-22T14:29:58.731526Z",
     "iopub.status.busy": "2024-09-22T14:29:58.731377Z",
     "iopub.status.idle": "2024-09-22T14:29:58.733507Z",
     "shell.execute_reply": "2024-09-22T14:29:58.733172Z"
    }
   },
   "outputs": [
    {
     "name": "stdout",
     "output_type": "stream",
     "text": [
      "0.9210609940028851\n"
     ]
    }
   ],
   "source": [
    "from math import cos   # import cos into the namespace\n",
    "x = cos(0.4)           # no need to write math.cos\n",
    "print(x)"
   ]
  },
  {
   "cell_type": "markdown",
   "id": "2ec746eb",
   "metadata": {},
   "source": [
    "Note, how in the example above we no longer need to prefix the function with the module name when we use it. This is because the `from X import Y` syntax imports the function `Y` directly into the current namespace.\n",
    "\n",
    "It is possible to import all the functions from a module into the current namespace by\n",
    "using the wildcard `*` syntax."
   ]
  },
  {
   "cell_type": "code",
   "execution_count": 9,
   "id": "aa953c1a",
   "metadata": {
    "execution": {
     "iopub.execute_input": "2024-09-22T14:29:58.735199Z",
     "iopub.status.busy": "2024-09-22T14:29:58.735060Z",
     "iopub.status.idle": "2024-09-22T14:29:58.737013Z",
     "shell.execute_reply": "2024-09-22T14:29:58.736716Z"
    }
   },
   "outputs": [
    {
     "name": "stdout",
     "output_type": "stream",
     "text": [
      "2.0\n"
     ]
    }
   ],
   "source": [
    "from math import *    # import all functions\n",
    "x = sqrt(4.0)\n",
    "print(x)"
   ]
  },
  {
   "cell_type": "markdown",
   "id": "bba5ef78",
   "metadata": {},
   "source": [
    ":fire: Importing like this may seem convenient, but it is not recommended. It can lead to **namespace clashes**, i.e., different modules might have used the same name for their own version of a function. If both are imported it can be difficult for the reader to know which function is the one being used.\n",
    "\n",
    "## 3 Variables and Types\n",
    "\n",
    "Variables are dynamically typed, i.e., in contrast to languages like Java or C there is no need to explicitly declare the type before the variable is used. For example, we can assign an integer value to a variable simply by writing,"
   ]
  },
  {
   "cell_type": "code",
   "execution_count": 10,
   "id": "c3284b9c",
   "metadata": {
    "execution": {
     "iopub.execute_input": "2024-09-22T14:29:58.738800Z",
     "iopub.status.busy": "2024-09-22T14:29:58.738683Z",
     "iopub.status.idle": "2024-09-22T14:29:58.740642Z",
     "shell.execute_reply": "2024-09-22T14:29:58.740371Z"
    }
   },
   "outputs": [
    {
     "name": "stdout",
     "output_type": "stream",
     "text": [
      "<class 'int'>\n"
     ]
    }
   ],
   "source": [
    "a = 1\n",
    "print(type(a))"
   ]
  },
  {
   "cell_type": "markdown",
   "id": "f37c985e",
   "metadata": {},
   "source": [
    "In the code above, we use the `type` function to return and print the type of the variable `a` and we see that it is an `int` (i.e., integer).\n",
    "\n",
    "Alternatively, if we write,"
   ]
  },
  {
   "cell_type": "code",
   "execution_count": 11,
   "id": "8ade4876",
   "metadata": {
    "execution": {
     "iopub.execute_input": "2024-09-22T14:29:58.742324Z",
     "iopub.status.busy": "2024-09-22T14:29:58.742181Z",
     "iopub.status.idle": "2024-09-22T14:29:58.744040Z",
     "shell.execute_reply": "2024-09-22T14:29:58.743703Z"
    }
   },
   "outputs": [
    {
     "name": "stdout",
     "output_type": "stream",
     "text": [
      "<class 'float'>\n"
     ]
    }
   ],
   "source": [
    "b = 1.0\n",
    "print(type(b))"
   ]
  },
  {
   "cell_type": "markdown",
   "id": "f907de5e",
   "metadata": {},
   "source": [
    "then we will see that the returned type is `float` (i.e., floating point). The type has been inferred from the type of the *literal* value that we assigned to the variable: `1.0` is a float because it has a decimal point whereas `1` is an integer because it does not.\n",
    "\n",
    "Now let us see what happens if we assign a new value to a variable."
   ]
  },
  {
   "cell_type": "code",
   "execution_count": 12,
   "id": "3117ebfd",
   "metadata": {
    "execution": {
     "iopub.execute_input": "2024-09-22T14:29:58.745554Z",
     "iopub.status.busy": "2024-09-22T14:29:58.745456Z",
     "iopub.status.idle": "2024-09-22T14:29:58.747733Z",
     "shell.execute_reply": "2024-09-22T14:29:58.747321Z"
    }
   },
   "outputs": [
    {
     "name": "stdout",
     "output_type": "stream",
     "text": [
      "b is initially of type <class 'float'>\n",
      "b is now of type <class 'int'>\n"
     ]
    }
   ],
   "source": [
    "b = 1.0\n",
    "print('b is initially of type', type(b))\n",
    "a = 1\n",
    "b = a\n",
    "print('b is now of type', type(b))"
   ]
  },
  {
   "cell_type": "markdown",
   "id": "fd6ce875",
   "metadata": {},
   "source": [
    "Note how the type of the variable `b` has changed from `float` to `int` after we assigned it the value of `a`. This is what we mean by dynamic typing. A variable can change type during the execution of a program.\n",
    "\n",
    "### 3.1 Numeric types\n",
    "\n",
    "A variable is of type `int` (i.e., integer) if it is assigned a value without a decimal point"
   ]
  },
  {
   "cell_type": "code",
   "execution_count": 13,
   "id": "31fd9b23",
   "metadata": {
    "execution": {
     "iopub.execute_input": "2024-09-22T14:29:58.749565Z",
     "iopub.status.busy": "2024-09-22T14:29:58.749409Z",
     "iopub.status.idle": "2024-09-22T14:29:58.751429Z",
     "shell.execute_reply": "2024-09-22T14:29:58.751040Z"
    }
   },
   "outputs": [
    {
     "name": "stdout",
     "output_type": "stream",
     "text": [
      "<class 'int'>\n"
     ]
    }
   ],
   "source": [
    "x = 1\n",
    "print(type(x))"
   ]
  },
  {
   "cell_type": "markdown",
   "id": "0c31588f",
   "metadata": {},
   "source": [
    "It will be of type `float` (i.e., floating point) if it is assigned a value with a decimal point"
   ]
  },
  {
   "cell_type": "code",
   "execution_count": 14,
   "id": "9a69964f",
   "metadata": {
    "execution": {
     "iopub.execute_input": "2024-09-22T14:29:58.753094Z",
     "iopub.status.busy": "2024-09-22T14:29:58.752985Z",
     "iopub.status.idle": "2024-09-22T14:29:58.755081Z",
     "shell.execute_reply": "2024-09-22T14:29:58.754789Z"
    }
   },
   "outputs": [
    {
     "name": "stdout",
     "output_type": "stream",
     "text": [
      "<class 'float'> <class 'float'>\n"
     ]
    }
   ],
   "source": [
    "x = 1.0\n",
    "y = 5.\n",
    "print(type(x), type(y))"
   ]
  },
  {
   "cell_type": "markdown",
   "id": "5a68ee4b",
   "metadata": {},
   "source": [
    "Variables are of type `bool` (i.e., Boolean value) if assigned the value `True` or `False`"
   ]
  },
  {
   "cell_type": "code",
   "execution_count": 15,
   "id": "f258239c",
   "metadata": {
    "execution": {
     "iopub.execute_input": "2024-09-22T14:29:58.756815Z",
     "iopub.status.busy": "2024-09-22T14:29:58.756680Z",
     "iopub.status.idle": "2024-09-22T14:29:58.758766Z",
     "shell.execute_reply": "2024-09-22T14:29:58.758393Z"
    }
   },
   "outputs": [
    {
     "name": "stdout",
     "output_type": "stream",
     "text": [
      "<class 'bool'> <class 'bool'>\n"
     ]
    }
   ],
   "source": [
    "x = True\n",
    "y = False\n",
    "print(type(y), type(x))"
   ]
  },
  {
   "cell_type": "markdown",
   "id": "12d8997b",
   "metadata": {},
   "source": [
    "There is a builtin type for `complex` numbers which have a real and an imaginary part."
   ]
  },
  {
   "cell_type": "code",
   "execution_count": 16,
   "id": "a60001d2",
   "metadata": {
    "execution": {
     "iopub.execute_input": "2024-09-22T14:29:58.760432Z",
     "iopub.status.busy": "2024-09-22T14:29:58.760324Z",
     "iopub.status.idle": "2024-09-22T14:29:58.762321Z",
     "shell.execute_reply": "2024-09-22T14:29:58.761963Z"
    }
   },
   "outputs": [
    {
     "name": "stdout",
     "output_type": "stream",
     "text": [
      "<class 'complex'>\n"
     ]
    }
   ],
   "source": [
    "x = 1.0 + 4.0j\n",
    "print(type(x))"
   ]
  },
  {
   "cell_type": "markdown",
   "id": "b33c5728",
   "metadata": {},
   "source": [
    "Note that Python uses `j` to represent the imaginary part of a complex number. (This is the normal convention in engineering and physics, but in mathematics `i` is used instead.)\n",
    "\n",
    "## 4 Operators\n",
    "\n",
    "An **operator** is a symbol that tells the interpreter to perform a specific mathematical or logical manipulation. Python has a rich set of built-in operators.\n",
    "\n",
    "### 4.1 Arithmetic Operators\n",
    "\n",
    "The basic arithmetic operators are `+` (addition), `-` (subtraction), `*` (multiplication), `/` (division), `//` (integer division), `%` (modulus), and `**` (exponentiation).\n",
    "\n",
    "In the examples below we are passing the expressions to the `print` function which prints the result to the screen."
   ]
  },
  {
   "cell_type": "code",
   "execution_count": 17,
   "id": "2ac624b3",
   "metadata": {
    "execution": {
     "iopub.execute_input": "2024-09-22T14:29:58.764043Z",
     "iopub.status.busy": "2024-09-22T14:29:58.763915Z",
     "iopub.status.idle": "2024-09-22T14:29:58.765774Z",
     "shell.execute_reply": "2024-09-22T14:29:58.765474Z"
    }
   },
   "outputs": [
    {
     "name": "stdout",
     "output_type": "stream",
     "text": [
      "23 17\n"
     ]
    }
   ],
   "source": [
    "print(20 + 3, 20 - 3)"
   ]
  },
  {
   "cell_type": "markdown",
   "id": "36b1cd1a",
   "metadata": {},
   "source": [
    "(Note, the print function can take multiple arguments (separated by commas) and these are printed separated by spaces. We are making use of this to demonstrate multiple expressions on a single line for compactness.)"
   ]
  },
  {
   "cell_type": "code",
   "execution_count": 18,
   "id": "40c68592",
   "metadata": {
    "execution": {
     "iopub.execute_input": "2024-09-22T14:29:58.767521Z",
     "iopub.status.busy": "2024-09-22T14:29:58.767425Z",
     "iopub.status.idle": "2024-09-22T14:29:58.769364Z",
     "shell.execute_reply": "2024-09-22T14:29:58.769002Z"
    }
   },
   "outputs": [
    {
     "name": "stdout",
     "output_type": "stream",
     "text": [
      "60 6.666666666666667 6.0\n"
     ]
    }
   ],
   "source": [
    "print(20 * 3, 20 / 3, 20.0 // 3)  # Note, *integer* division"
   ]
  },
  {
   "cell_type": "markdown",
   "id": "ac07354e",
   "metadata": {},
   "source": [
    "In the example above we are using the **integer division** operator `//` which returns the integer part of the result of the division."
   ]
  },
  {
   "cell_type": "code",
   "execution_count": 19,
   "id": "e6cfbe97",
   "metadata": {
    "execution": {
     "iopub.execute_input": "2024-09-22T14:29:58.771052Z",
     "iopub.status.busy": "2024-09-22T14:29:58.770938Z",
     "iopub.status.idle": "2024-09-22T14:29:58.772746Z",
     "shell.execute_reply": "2024-09-22T14:29:58.772447Z"
    }
   },
   "outputs": [
    {
     "name": "stdout",
     "output_type": "stream",
     "text": [
      "2 1.8999999999999995\n"
     ]
    }
   ],
   "source": [
    "print(20 % 3, 20.5 % 3.1)  # Modulus, i.e. remainder"
   ]
  },
  {
   "cell_type": "markdown",
   "id": "8ae34648",
   "metadata": {},
   "source": [
    "There are also a set of operators that act on a variable **in-place**. For example, the `+=` operator adds a value to a variable and stores the result back in the same variable."
   ]
  },
  {
   "cell_type": "code",
   "execution_count": 20,
   "id": "1bff9e1e",
   "metadata": {
    "execution": {
     "iopub.execute_input": "2024-09-22T14:29:58.774558Z",
     "iopub.status.busy": "2024-09-22T14:29:58.774435Z",
     "iopub.status.idle": "2024-09-22T14:29:58.776380Z",
     "shell.execute_reply": "2024-09-22T14:29:58.776063Z"
    }
   },
   "outputs": [
    {
     "name": "stdout",
     "output_type": "stream",
     "text": [
      "2\n"
     ]
    }
   ],
   "source": [
    "a = 1\n",
    "a += 1\n",
    "print(a)"
   ]
  },
  {
   "cell_type": "markdown",
   "id": "1a378177",
   "metadata": {},
   "source": [
    "This would be equivalent to"
   ]
  },
  {
   "cell_type": "code",
   "execution_count": 21,
   "id": "342231b4",
   "metadata": {
    "execution": {
     "iopub.execute_input": "2024-09-22T14:29:58.778098Z",
     "iopub.status.busy": "2024-09-22T14:29:58.777971Z",
     "iopub.status.idle": "2024-09-22T14:29:58.779816Z",
     "shell.execute_reply": "2024-09-22T14:29:58.779469Z"
    }
   },
   "outputs": [],
   "source": [
    "a = a + 1"
   ]
  },
  {
   "cell_type": "markdown",
   "id": "0dbcd469",
   "metadata": {},
   "source": [
    "It is recommended to use the in-place operators where possible as they are more efficient and make the code more compact.\n",
    "\n",
    "Other in-place operators include `-=` (subtraction), `*=` (multiplication), `/=` (division), `//=` (integer division), `%=` (modulus), and `**=` (exponentiation).\n",
    "\n",
    "For example, to multiply a variably by 5 we could write,"
   ]
  },
  {
   "cell_type": "code",
   "execution_count": 22,
   "id": "0961ea20",
   "metadata": {
    "execution": {
     "iopub.execute_input": "2024-09-22T14:29:58.781561Z",
     "iopub.status.busy": "2024-09-22T14:29:58.781419Z",
     "iopub.status.idle": "2024-09-22T14:29:58.783490Z",
     "shell.execute_reply": "2024-09-22T14:29:58.783103Z"
    }
   },
   "outputs": [
    {
     "name": "stdout",
     "output_type": "stream",
     "text": [
      "10.0\n"
     ]
    }
   ],
   "source": [
    "a = 2.0\n",
    "a *= 5\n",
    "print(a)"
   ]
  },
  {
   "cell_type": "markdown",
   "id": "4defe4e0",
   "metadata": {},
   "source": [
    "## 4.2 Comparison Operators\n",
    "\n",
    "Comparison operators take a pair of values or expressions and return a Boolean value (`True` or `False`).\n",
    "\n",
    "The Python comparison operators include `==` (equal), `!=` (not equal), `>` (greater than), `<` (less than), `>=` (greater than or equal), and `<=` (less than or equal)."
   ]
  },
  {
   "cell_type": "code",
   "execution_count": 23,
   "id": "af9e8e11",
   "metadata": {
    "execution": {
     "iopub.execute_input": "2024-09-22T14:29:58.785158Z",
     "iopub.status.busy": "2024-09-22T14:29:58.785023Z",
     "iopub.status.idle": "2024-09-22T14:29:58.787030Z",
     "shell.execute_reply": "2024-09-22T14:29:58.786687Z"
    }
   },
   "outputs": [
    {
     "name": "stdout",
     "output_type": "stream",
     "text": [
      "False True False True\n"
     ]
    }
   ],
   "source": [
    "print(4 > 7,  4 < 7, 4 >= 7, 4 <= 7)"
   ]
  },
  {
   "cell_type": "code",
   "execution_count": 24,
   "id": "23ad1151",
   "metadata": {
    "execution": {
     "iopub.execute_input": "2024-09-22T14:29:58.788762Z",
     "iopub.status.busy": "2024-09-22T14:29:58.788618Z",
     "iopub.status.idle": "2024-09-22T14:29:58.790578Z",
     "shell.execute_reply": "2024-09-22T14:29:58.790296Z"
    }
   },
   "outputs": [
    {
     "name": "stdout",
     "output_type": "stream",
     "text": [
      "False True\n"
     ]
    }
   ],
   "source": [
    "print(4 == 7, 4 != 7)"
   ]
  },
  {
   "cell_type": "markdown",
   "id": "c0db89cf",
   "metadata": {},
   "source": [
    "## 4.3 Logical Operators\n",
    "\n",
    "Logical operators take Boolean values and return Boolean values.\n",
    "\n",
    "The Python logical operators include `and`, `or`, and `not`."
   ]
  },
  {
   "cell_type": "code",
   "execution_count": 25,
   "id": "257bdace",
   "metadata": {
    "execution": {
     "iopub.execute_input": "2024-09-22T14:29:58.792263Z",
     "iopub.status.busy": "2024-09-22T14:29:58.792135Z",
     "iopub.status.idle": "2024-09-22T14:29:58.794119Z",
     "shell.execute_reply": "2024-09-22T14:29:58.793765Z"
    }
   },
   "outputs": [
    {
     "name": "stdout",
     "output_type": "stream",
     "text": [
      "False\n"
     ]
    }
   ],
   "source": [
    "print(4 > 7 and 4 < 7)"
   ]
  },
  {
   "cell_type": "code",
   "execution_count": 26,
   "id": "9a6158d9",
   "metadata": {
    "execution": {
     "iopub.execute_input": "2024-09-22T14:29:58.795907Z",
     "iopub.status.busy": "2024-09-22T14:29:58.795738Z",
     "iopub.status.idle": "2024-09-22T14:29:58.797768Z",
     "shell.execute_reply": "2024-09-22T14:29:58.797435Z"
    }
   },
   "outputs": [
    {
     "name": "stdout",
     "output_type": "stream",
     "text": [
      "True\n"
     ]
    }
   ],
   "source": [
    "print(4 > 7 or 4 < 7)"
   ]
  },
  {
   "cell_type": "code",
   "execution_count": 27,
   "id": "ee1ad80d",
   "metadata": {
    "execution": {
     "iopub.execute_input": "2024-09-22T14:29:58.799357Z",
     "iopub.status.busy": "2024-09-22T14:29:58.799248Z",
     "iopub.status.idle": "2024-09-22T14:29:58.801131Z",
     "shell.execute_reply": "2024-09-22T14:29:58.800786Z"
    }
   },
   "outputs": [
    {
     "name": "stdout",
     "output_type": "stream",
     "text": [
      "True\n"
     ]
    }
   ],
   "source": [
    "print(not 4 > 7)"
   ]
  },
  {
   "cell_type": "markdown",
   "id": "3ddb62fc",
   "metadata": {},
   "source": [
    "## 5 Compound Types\n",
    "\n",
    "A compound type is a type that can contain other types. Python has the following built-in compound types:\n",
    "\n",
    "* **Strings**\n",
    "* **Lists**\n",
    "* **Tuples**\n",
    "* **Sets**\n",
    "* **Dictionaries**\n",
    "\n",
    "### 5.1 Strings\n",
    "\n",
    "Strings are used to represent text. Strings can be defined using either single or double quotes."
   ]
  },
  {
   "cell_type": "code",
   "execution_count": 28,
   "id": "c5e8c520",
   "metadata": {
    "execution": {
     "iopub.execute_input": "2024-09-22T14:29:58.802837Z",
     "iopub.status.busy": "2024-09-22T14:29:58.802694Z",
     "iopub.status.idle": "2024-09-22T14:29:58.804598Z",
     "shell.execute_reply": "2024-09-22T14:29:58.804299Z"
    }
   },
   "outputs": [
    {
     "name": "stdout",
     "output_type": "stream",
     "text": [
      "<class 'str'>\n"
     ]
    }
   ],
   "source": [
    "city = \"Sheffield\"\n",
    "print(type(city))"
   ]
  },
  {
   "cell_type": "code",
   "execution_count": 29,
   "id": "4e67f002",
   "metadata": {
    "execution": {
     "iopub.execute_input": "2024-09-22T14:29:58.806258Z",
     "iopub.status.busy": "2024-09-22T14:29:58.806131Z",
     "iopub.status.idle": "2024-09-22T14:29:58.808131Z",
     "shell.execute_reply": "2024-09-22T14:29:58.807829Z"
    }
   },
   "outputs": [
    {
     "name": "stdout",
     "output_type": "stream",
     "text": [
      "<class 'str'>\n"
     ]
    }
   ],
   "source": [
    "city = 'Sheffi\"eld'   # can use \" or '\n",
    "print(type(city))"
   ]
  },
  {
   "cell_type": "markdown",
   "id": "ed600eae",
   "metadata": {},
   "source": [
    "A string can be thought of as a `list` of characters (we will see more about lists in the next section). A common operation for lists is to retrieve a single entry from the list. This can be done using the **indexing** operator `[]`. So for example, to retrieve the first character of a string we would write,"
   ]
  },
  {
   "cell_type": "code",
   "execution_count": 30,
   "id": "fa8c7900",
   "metadata": {
    "execution": {
     "iopub.execute_input": "2024-09-22T14:29:58.809980Z",
     "iopub.status.busy": "2024-09-22T14:29:58.809846Z",
     "iopub.status.idle": "2024-09-22T14:29:58.811722Z",
     "shell.execute_reply": "2024-09-22T14:29:58.811348Z"
    }
   },
   "outputs": [
    {
     "name": "stdout",
     "output_type": "stream",
     "text": [
      "S\n"
     ]
    }
   ],
   "source": [
    "city = \"Sheffield\"\n",
    "print(city[0])  # strings are like lists characters"
   ]
  },
  {
   "cell_type": "markdown",
   "id": "e84f9c44",
   "metadata": {},
   "source": [
    "To retrieve the second character we would write,"
   ]
  },
  {
   "cell_type": "code",
   "execution_count": 31,
   "id": "969420ff",
   "metadata": {
    "execution": {
     "iopub.execute_input": "2024-09-22T14:29:58.813556Z",
     "iopub.status.busy": "2024-09-22T14:29:58.813417Z",
     "iopub.status.idle": "2024-09-22T14:29:58.815288Z",
     "shell.execute_reply": "2024-09-22T14:29:58.815006Z"
    }
   },
   "outputs": [
    {
     "name": "stdout",
     "output_type": "stream",
     "text": [
      "h\n"
     ]
    }
   ],
   "source": [
    "city = \"Sheffield\"\n",
    "print(city[1])"
   ]
  },
  {
   "cell_type": "markdown",
   "id": "23e53355",
   "metadata": {},
   "source": [
    "Note that Python uses **zero-based indexing**. This means that the first element of a list or string is at index 0, the second element is at index 1, and so on.\n",
    "\n",
    "Strings can be joined together using the `+` operator."
   ]
  },
  {
   "cell_type": "code",
   "execution_count": 32,
   "id": "1cca9ef6",
   "metadata": {
    "execution": {
     "iopub.execute_input": "2024-09-22T14:29:58.816884Z",
     "iopub.status.busy": "2024-09-22T14:29:58.816786Z",
     "iopub.status.idle": "2024-09-22T14:29:58.818772Z",
     "shell.execute_reply": "2024-09-22T14:29:58.818464Z"
    }
   },
   "outputs": [
    {
     "name": "stdout",
     "output_type": "stream",
     "text": [
      "Jon Barker\n"
     ]
    }
   ],
   "source": [
    "city = 'Sheffi\"eld'   # can use \" or '\n",
    "print('Jon' + ' ' + 'Barker')  # string concatenation"
   ]
  },
  {
   "cell_type": "markdown",
   "id": "779c78fd",
   "metadata": {},
   "source": [
    "Note here how the meaning of the `+` operator depends on the types of things it is being applied to. When applied to numbers it performs addition, but when applied to strings it performs concatenation.\n",
    "\n",
    "#### A note on Classes and Methods\n",
    "\n",
    "The type `str`, like all types in Python, is represented by a  `class`. If you have not studied object-orientated programming before don't worry about what this means for now. All you need to know at this point is that a class is a type that has associated functions (called **methods**) that can be applied to objects of that type.\n",
    "\n",
    "There are many methods that can be applied to string objects. To apply a method to a variable we use the following syntax, `variable.method()`.\n",
    "\n",
    "For example, the string class has a method called `upper` that returns a new string with all the characters in uppercase, and a method called `lower` that returns a new string with all the characters in lowercase. To apply these methods to a string we would write,"
   ]
  },
  {
   "cell_type": "code",
   "execution_count": 33,
   "id": "54c01484",
   "metadata": {
    "execution": {
     "iopub.execute_input": "2024-09-22T14:29:58.820463Z",
     "iopub.status.busy": "2024-09-22T14:29:58.820337Z",
     "iopub.status.idle": "2024-09-22T14:29:58.822600Z",
     "shell.execute_reply": "2024-09-22T14:29:58.822256Z"
    }
   },
   "outputs": [
    {
     "name": "stdout",
     "output_type": "stream",
     "text": [
      "SHEFFIELD\n",
      "sheffield\n"
     ]
    }
   ],
   "source": [
    "city = \"sheffield\"\n",
    "print(city.upper())\n",
    "print(city.lower())"
   ]
  },
  {
   "cell_type": "markdown",
   "id": "26c34074",
   "metadata": {},
   "source": [
    "We can print out the complete list of methods that can be applied to a string by using the `help` function. In the cell below, remove the `#` from the start of the line and then run the code.\n",
    "\n",
    "(The `#` is a comment character in Python and is used to indicate that the line is a comment and should not be executed. It is being used here to prevent the code from running when the notebook is loaded. I have done this as I did not want to clutter the notes with the help text.)"
   ]
  },
  {
   "cell_type": "code",
   "execution_count": 34,
   "id": "b797e2a8",
   "metadata": {
    "execution": {
     "iopub.execute_input": "2024-09-22T14:29:58.824206Z",
     "iopub.status.busy": "2024-09-22T14:29:58.824049Z",
     "iopub.status.idle": "2024-09-22T14:29:58.825893Z",
     "shell.execute_reply": "2024-09-22T14:29:58.825566Z"
    }
   },
   "outputs": [],
   "source": [
    "# help(str)"
   ]
  },
  {
   "cell_type": "markdown",
   "id": "9b448eee",
   "metadata": {},
   "source": [
    "### 5.2 Lists\n",
    "\n",
    "Lists are like strings except the elements can be any type. Lists are defined using square brackets with list elements separated by commas, e.g., as follows,"
   ]
  },
  {
   "cell_type": "code",
   "execution_count": 35,
   "id": "bbda4cc6",
   "metadata": {
    "execution": {
     "iopub.execute_input": "2024-09-22T14:29:58.827780Z",
     "iopub.status.busy": "2024-09-22T14:29:58.827585Z",
     "iopub.status.idle": "2024-09-22T14:29:58.829739Z",
     "shell.execute_reply": "2024-09-22T14:29:58.829398Z"
    }
   },
   "outputs": [
    {
     "name": "stdout",
     "output_type": "stream",
     "text": [
      "<class 'list'>\n"
     ]
    }
   ],
   "source": [
    "# A list of integers\n",
    "primes = [2, 3, 5, 7, 11]\n",
    "print(type(primes))"
   ]
  },
  {
   "cell_type": "code",
   "execution_count": 36,
   "id": "78645516",
   "metadata": {
    "execution": {
     "iopub.execute_input": "2024-09-22T14:29:58.831521Z",
     "iopub.status.busy": "2024-09-22T14:29:58.831371Z",
     "iopub.status.idle": "2024-09-22T14:29:58.833462Z",
     "shell.execute_reply": "2024-09-22T14:29:58.833105Z"
    }
   },
   "outputs": [
    {
     "name": "stdout",
     "output_type": "stream",
     "text": [
      "<class 'list'>\n"
     ]
    }
   ],
   "source": [
    "# A list of characters\n",
    "vowels = ['a', 'e', 'i', 'o', 'u']\n",
    "print(type(vowels))"
   ]
  },
  {
   "cell_type": "code",
   "execution_count": 37,
   "id": "7e73b011",
   "metadata": {
    "execution": {
     "iopub.execute_input": "2024-09-22T14:29:58.835106Z",
     "iopub.status.busy": "2024-09-22T14:29:58.834993Z",
     "iopub.status.idle": "2024-09-22T14:29:58.837018Z",
     "shell.execute_reply": "2024-09-22T14:29:58.836648Z"
    }
   },
   "outputs": [
    {
     "name": "stdout",
     "output_type": "stream",
     "text": [
      "['Mon', 'Tues', 'Weds', 'Thur', 'Fri', 'Sat', 'Sun']\n"
     ]
    }
   ],
   "source": [
    "# A list of strings\n",
    "days = ['Mon', 'Tues', 'Weds', 'Thur', 'Fri', 'Sat', 'Sun']\n",
    "print(days)"
   ]
  },
  {
   "cell_type": "code",
   "execution_count": 38,
   "id": "e2fa8393",
   "metadata": {
    "execution": {
     "iopub.execute_input": "2024-09-22T14:29:58.838747Z",
     "iopub.status.busy": "2024-09-22T14:29:58.838609Z",
     "iopub.status.idle": "2024-09-22T14:29:58.840459Z",
     "shell.execute_reply": "2024-09-22T14:29:58.840123Z"
    }
   },
   "outputs": [
    {
     "name": "stdout",
     "output_type": "stream",
     "text": [
      "[1, 'Monday', 1.4, False, (4+5j)]\n"
     ]
    }
   ],
   "source": [
    "# A list of mixed types\n",
    "weird = [1, 'Monday', 1.4, False, 4+5j]\n",
    "print(weird)"
   ]
  },
  {
   "cell_type": "markdown",
   "id": "22c03dac",
   "metadata": {},
   "source": [
    "List can even contain other lists!"
   ]
  },
  {
   "cell_type": "code",
   "execution_count": 39,
   "id": "6152e378",
   "metadata": {
    "execution": {
     "iopub.execute_input": "2024-09-22T14:29:58.842261Z",
     "iopub.status.busy": "2024-09-22T14:29:58.842112Z",
     "iopub.status.idle": "2024-09-22T14:29:58.844094Z",
     "shell.execute_reply": "2024-09-22T14:29:58.843838Z"
    }
   },
   "outputs": [
    {
     "name": "stdout",
     "output_type": "stream",
     "text": [
      "[[1, 2, 3, 4], [2, 3, 4], [3, 4]]\n",
      "[2, 3, 4]\n"
     ]
    }
   ],
   "source": [
    "# A list of lists of integers\n",
    "list_of_lists = [[1, 2, 3, 4], [2, 3, 4], [3, 4]]\n",
    "print(list_of_lists)\n",
    "# Print out just the second list\n",
    "print(list_of_lists[1])"
   ]
  },
  {
   "cell_type": "markdown",
   "id": "d7e72f57",
   "metadata": {},
   "source": [
    "#### 5.2.1 List indexing\n",
    "\n",
    "Index is used to recover a single items or a range of items from a list. The syntax is `list[start:end:step]` where `start` is the index of the first item to be included and `end` is the index of the first item to be excluded, and `step` is the step size.\n",
    "\n",
    "If the 'step' is omitted it defaults to 1. If the 'start' is omitted it defaults to the beginning of the list. If the 'end' is omitted it defaults to the end of the list.\n",
    "\n",
    "This can be made clearer with some examples."
   ]
  },
  {
   "cell_type": "code",
   "execution_count": 40,
   "id": "1110f23d",
   "metadata": {
    "execution": {
     "iopub.execute_input": "2024-09-22T14:29:58.845810Z",
     "iopub.status.busy": "2024-09-22T14:29:58.845703Z",
     "iopub.status.idle": "2024-09-22T14:29:58.847763Z",
     "shell.execute_reply": "2024-09-22T14:29:58.847357Z"
    }
   },
   "outputs": [],
   "source": [
    "days = ['Mon', 'Tues', 'Weds', 'Thur', 'Fri', 'Sat', 'Sun']"
   ]
  },
  {
   "cell_type": "markdown",
   "id": "29294210",
   "metadata": {},
   "source": [
    "Print just the first element of the list"
   ]
  },
  {
   "cell_type": "code",
   "execution_count": 41,
   "id": "b8745dab",
   "metadata": {
    "execution": {
     "iopub.execute_input": "2024-09-22T14:29:58.849531Z",
     "iopub.status.busy": "2024-09-22T14:29:58.849361Z",
     "iopub.status.idle": "2024-09-22T14:29:58.851330Z",
     "shell.execute_reply": "2024-09-22T14:29:58.851020Z"
    }
   },
   "outputs": [
    {
     "name": "stdout",
     "output_type": "stream",
     "text": [
      "Mon\n"
     ]
    }
   ],
   "source": [
    "print(days[0])"
   ]
  },
  {
   "cell_type": "markdown",
   "id": "19b2078d",
   "metadata": {},
   "source": [
    "Print the 2nd and 3rd elements of the list"
   ]
  },
  {
   "cell_type": "code",
   "execution_count": 42,
   "id": "531f506b",
   "metadata": {
    "execution": {
     "iopub.execute_input": "2024-09-22T14:29:58.853166Z",
     "iopub.status.busy": "2024-09-22T14:29:58.853012Z",
     "iopub.status.idle": "2024-09-22T14:29:58.855132Z",
     "shell.execute_reply": "2024-09-22T14:29:58.854766Z"
    }
   },
   "outputs": [
    {
     "name": "stdout",
     "output_type": "stream",
     "text": [
      "['Tues', 'Weds']\n"
     ]
    }
   ],
   "source": [
    "print(days[1:3])"
   ]
  },
  {
   "cell_type": "markdown",
   "id": "972b4e1f",
   "metadata": {},
   "source": [
    "Print from the 3rd element to the end of the list"
   ]
  },
  {
   "cell_type": "code",
   "execution_count": 43,
   "id": "749496fe",
   "metadata": {
    "execution": {
     "iopub.execute_input": "2024-09-22T14:29:58.856821Z",
     "iopub.status.busy": "2024-09-22T14:29:58.856700Z",
     "iopub.status.idle": "2024-09-22T14:29:58.858652Z",
     "shell.execute_reply": "2024-09-22T14:29:58.858213Z"
    }
   },
   "outputs": [
    {
     "name": "stdout",
     "output_type": "stream",
     "text": [
      "['Thur', 'Fri', 'Sat', 'Sun']\n"
     ]
    }
   ],
   "source": [
    "print(days[3:])"
   ]
  },
  {
   "cell_type": "markdown",
   "id": "f27fa814",
   "metadata": {},
   "source": [
    "Print from the 1st to the 3rd element in the list"
   ]
  },
  {
   "cell_type": "code",
   "execution_count": 44,
   "id": "137a6143",
   "metadata": {
    "execution": {
     "iopub.execute_input": "2024-09-22T14:29:58.860609Z",
     "iopub.status.busy": "2024-09-22T14:29:58.860284Z",
     "iopub.status.idle": "2024-09-22T14:29:58.862486Z",
     "shell.execute_reply": "2024-09-22T14:29:58.862163Z"
    }
   },
   "outputs": [
    {
     "name": "stdout",
     "output_type": "stream",
     "text": [
      "['Mon', 'Tues', 'Weds']\n"
     ]
    }
   ],
   "source": [
    "print(days[:3])"
   ]
  },
  {
   "cell_type": "markdown",
   "id": "6a121829",
   "metadata": {},
   "source": [
    "Print every second element of the list starting from the 2nd element"
   ]
  },
  {
   "cell_type": "code",
   "execution_count": 45,
   "id": "50713b76",
   "metadata": {
    "execution": {
     "iopub.execute_input": "2024-09-22T14:29:58.864388Z",
     "iopub.status.busy": "2024-09-22T14:29:58.864240Z",
     "iopub.status.idle": "2024-09-22T14:29:58.866277Z",
     "shell.execute_reply": "2024-09-22T14:29:58.865958Z"
    }
   },
   "outputs": [
    {
     "name": "stdout",
     "output_type": "stream",
     "text": [
      "['Tues', 'Thur', 'Sat']\n"
     ]
    }
   ],
   "source": [
    "print(days[1::2])"
   ]
  },
  {
   "cell_type": "markdown",
   "id": "f9ba75ea",
   "metadata": {},
   "source": [
    "Print every second element of the list stating from the 1st element"
   ]
  },
  {
   "cell_type": "code",
   "execution_count": 46,
   "id": "80815f8f",
   "metadata": {
    "execution": {
     "iopub.execute_input": "2024-09-22T14:29:58.867916Z",
     "iopub.status.busy": "2024-09-22T14:29:58.867798Z",
     "iopub.status.idle": "2024-09-22T14:29:58.869867Z",
     "shell.execute_reply": "2024-09-22T14:29:58.869536Z"
    }
   },
   "outputs": [
    {
     "name": "stdout",
     "output_type": "stream",
     "text": [
      "['Mon', 'Weds', 'Fri', 'Sun']\n"
     ]
    }
   ],
   "source": [
    "print(days[::2])      #  start and end are omitted"
   ]
  },
  {
   "cell_type": "markdown",
   "id": "b42dcbe0",
   "metadata": {},
   "source": [
    "#### 5.2.2 List operations\n",
    "\n",
    "The list class has a large number of methods that can be applied to list objects. The most common of this are `append`, `count`, `extend`, `index`, `insert`, `pop`, `remove`, `reverse`, and `sort`. You can read the documentation for the list class to see exactly how these methods work, but most are self-explanatory and the examples below should give you a good idea of how they are used."
   ]
  },
  {
   "cell_type": "code",
   "execution_count": 47,
   "id": "3b1b50d7",
   "metadata": {
    "execution": {
     "iopub.execute_input": "2024-09-22T14:29:58.871762Z",
     "iopub.status.busy": "2024-09-22T14:29:58.871625Z",
     "iopub.status.idle": "2024-09-22T14:29:58.873787Z",
     "shell.execute_reply": "2024-09-22T14:29:58.873395Z"
    }
   },
   "outputs": [
    {
     "name": "stdout",
     "output_type": "stream",
     "text": [
      "['Sun', 'Sat', 'Fri', 'Thur', 'Weds', 'Tues', 'Mon']\n"
     ]
    }
   ],
   "source": [
    "# Reverse the order of the elements in a list\n",
    "days = ['Mon', 'Tues', 'Weds', 'Thur', 'Fri', 'Sat', 'Sun']\n",
    "days.reverse()\n",
    "print(days)"
   ]
  },
  {
   "cell_type": "code",
   "execution_count": 48,
   "id": "5e8b4a68",
   "metadata": {
    "execution": {
     "iopub.execute_input": "2024-09-22T14:29:58.875665Z",
     "iopub.status.busy": "2024-09-22T14:29:58.875459Z",
     "iopub.status.idle": "2024-09-22T14:29:58.877597Z",
     "shell.execute_reply": "2024-09-22T14:29:58.877234Z"
    }
   },
   "outputs": [
    {
     "name": "stdout",
     "output_type": "stream",
     "text": [
      "['Fri', 'Mon', 'Sat', 'Sun', 'Thur', 'Tues', 'Weds']\n"
     ]
    }
   ],
   "source": [
    "# Sort the elements in a list into order (numeric or alphabetical)\n",
    "days = ['Mon', 'Tues', 'Weds', 'Thur', 'Fri', 'Sat', 'Sun']\n",
    "days.sort()\n",
    "print(days)"
   ]
  },
  {
   "cell_type": "code",
   "execution_count": 49,
   "id": "f39f563e",
   "metadata": {
    "execution": {
     "iopub.execute_input": "2024-09-22T14:29:58.879253Z",
     "iopub.status.busy": "2024-09-22T14:29:58.879078Z",
     "iopub.status.idle": "2024-09-22T14:29:58.881241Z",
     "shell.execute_reply": "2024-09-22T14:29:58.880919Z"
    }
   },
   "outputs": [
    {
     "name": "stdout",
     "output_type": "stream",
     "text": [
      "[1, 2, 3, 4, 5, 6, 7]\n"
     ]
    }
   ],
   "source": [
    "# Extend a list by adding items from another list\n",
    "x = [1, 2, 3, 4]\n",
    "x.extend([5, 6, 7])\n",
    "print(x)"
   ]
  },
  {
   "cell_type": "code",
   "execution_count": 50,
   "id": "d48e7c82",
   "metadata": {
    "execution": {
     "iopub.execute_input": "2024-09-22T14:29:58.882967Z",
     "iopub.status.busy": "2024-09-22T14:29:58.882814Z",
     "iopub.status.idle": "2024-09-22T14:29:58.885093Z",
     "shell.execute_reply": "2024-09-22T14:29:58.884675Z"
    }
   },
   "outputs": [
    {
     "name": "stdout",
     "output_type": "stream",
     "text": [
      "2\n",
      "6\n"
     ]
    }
   ],
   "source": [
    "# Count the occurrences of an element in a list\n",
    "x = list('Let us go then, you and I')\n",
    "print(x.count('e'))\n",
    "print(x.count(' '))"
   ]
  },
  {
   "cell_type": "code",
   "execution_count": 51,
   "id": "23d0d88d",
   "metadata": {
    "execution": {
     "iopub.execute_input": "2024-09-22T14:29:58.886785Z",
     "iopub.status.busy": "2024-09-22T14:29:58.886646Z",
     "iopub.status.idle": "2024-09-22T14:29:58.888664Z",
     "shell.execute_reply": "2024-09-22T14:29:58.888339Z"
    }
   },
   "outputs": [
    {
     "name": "stdout",
     "output_type": "stream",
     "text": [
      "1\n"
     ]
    }
   ],
   "source": [
    "# Report the index of the first occurrence of an item\n",
    "x = [1, 5, 3, 3, 4 ]\n",
    "print(x.index(5))"
   ]
  },
  {
   "cell_type": "code",
   "execution_count": 52,
   "id": "78921afa",
   "metadata": {
    "execution": {
     "iopub.execute_input": "2024-09-22T14:29:58.890268Z",
     "iopub.status.busy": "2024-09-22T14:29:58.890148Z",
     "iopub.status.idle": "2024-09-22T14:29:58.892237Z",
     "shell.execute_reply": "2024-09-22T14:29:58.891948Z"
    }
   },
   "outputs": [
    {
     "name": "stdout",
     "output_type": "stream",
     "text": [
      "[1, 2, 3, 4, 5, 6]\n"
     ]
    }
   ],
   "source": [
    "# Append a single value to the end of a list\n",
    "x = [1, 2, 3, 4, 5]\n",
    "x.append(6)\n",
    "print(x)"
   ]
  },
  {
   "cell_type": "code",
   "execution_count": 53,
   "id": "a4b4291e",
   "metadata": {
    "execution": {
     "iopub.execute_input": "2024-09-22T14:29:58.893853Z",
     "iopub.status.busy": "2024-09-22T14:29:58.893728Z",
     "iopub.status.idle": "2024-09-22T14:29:58.895910Z",
     "shell.execute_reply": "2024-09-22T14:29:58.895626Z"
    }
   },
   "outputs": [
    {
     "name": "stdout",
     "output_type": "stream",
     "text": [
      "[1, 2, 3, 4]\n",
      "5\n"
     ]
    }
   ],
   "source": [
    "# Remove and return the last value from a list\n",
    "x = [1, 2, 3, 4, 5]\n",
    "last_value = x.pop()\n",
    "print(x)\n",
    "print(last_value)"
   ]
  },
  {
   "cell_type": "code",
   "execution_count": 54,
   "id": "b91e82f5",
   "metadata": {
    "execution": {
     "iopub.execute_input": "2024-09-22T14:29:58.897416Z",
     "iopub.status.busy": "2024-09-22T14:29:58.897311Z",
     "iopub.status.idle": "2024-09-22T14:29:58.899502Z",
     "shell.execute_reply": "2024-09-22T14:29:58.899157Z"
    }
   },
   "outputs": [
    {
     "name": "stdout",
     "output_type": "stream",
     "text": [
      "[1, 2, 3, 999, 4, 5]\n"
     ]
    }
   ],
   "source": [
    "# Insert a value into a list at a given position\n",
    "x = [1, 2, 3, 4, 5]\n",
    "x.insert(3, 999)  # insert 999 after the 3rd item\n",
    "print(x)"
   ]
  },
  {
   "cell_type": "markdown",
   "id": "19aa9137",
   "metadata": {},
   "source": [
    "### 5.3 Tuples\n",
    "\n",
    "Tuples are immutable lists. 'Immutable' means something whose value cannot be modified once it has been created.\n",
    "\n",
    "They are created using a similar syntax to lists, except using round brackets '()' rather than square ones '[]', i.e.,"
   ]
  },
  {
   "cell_type": "code",
   "execution_count": 55,
   "id": "426969fd",
   "metadata": {
    "execution": {
     "iopub.execute_input": "2024-09-22T14:29:58.901407Z",
     "iopub.status.busy": "2024-09-22T14:29:58.901262Z",
     "iopub.status.idle": "2024-09-22T14:29:58.903338Z",
     "shell.execute_reply": "2024-09-22T14:29:58.903014Z"
    }
   },
   "outputs": [
    {
     "name": "stdout",
     "output_type": "stream",
     "text": [
      "<class 'tuple'>\n"
     ]
    }
   ],
   "source": [
    "x = (1, 2)   # note () for tuple and [] for lists\n",
    "print(type(x))"
   ]
  },
  {
   "cell_type": "code",
   "execution_count": 56,
   "id": "f52f8f62",
   "metadata": {
    "execution": {
     "iopub.execute_input": "2024-09-22T14:29:58.905054Z",
     "iopub.status.busy": "2024-09-22T14:29:58.904934Z",
     "iopub.status.idle": "2024-09-22T14:29:58.906725Z",
     "shell.execute_reply": "2024-09-22T14:29:58.906344Z"
    }
   },
   "outputs": [
    {
     "name": "stdout",
     "output_type": "stream",
     "text": [
      "<class 'tuple'>\n"
     ]
    }
   ],
   "source": [
    "x = 1, 2    # the brackets are not strictly necessary\n",
    "print(type(x))"
   ]
  },
  {
   "cell_type": "markdown",
   "id": "0007fe61",
   "metadata": {},
   "source": [
    "Values can be retrieved using the same indexing notation, i.e. using square brackets. e.g., to construct a tuple with two values and then to retrieve the first value, we would write,"
   ]
  },
  {
   "cell_type": "code",
   "execution_count": 57,
   "id": "9526853c",
   "metadata": {
    "execution": {
     "iopub.execute_input": "2024-09-22T14:29:58.908478Z",
     "iopub.status.busy": "2024-09-22T14:29:58.908345Z",
     "iopub.status.idle": "2024-09-22T14:29:58.910219Z",
     "shell.execute_reply": "2024-09-22T14:29:58.909907Z"
    }
   },
   "outputs": [
    {
     "name": "stdout",
     "output_type": "stream",
     "text": [
      "1\n"
     ]
    }
   ],
   "source": [
    "x = (1, 2)\n",
    "print(x[0])"
   ]
  },
  {
   "cell_type": "markdown",
   "id": "4e601959",
   "metadata": {},
   "source": [
    "If you try to change a tuple after is has been constructed, you will receive an error, e.g.,"
   ]
  },
  {
   "cell_type": "code",
   "execution_count": 58,
   "id": "7c644dbb",
   "metadata": {
    "execution": {
     "iopub.execute_input": "2024-09-22T14:29:58.911954Z",
     "iopub.status.busy": "2024-09-22T14:29:58.911834Z",
     "iopub.status.idle": "2024-09-22T14:29:58.997151Z",
     "shell.execute_reply": "2024-09-22T14:29:58.996777Z"
    },
    "tags": [
     "raises-exception"
    ]
   },
   "outputs": [
    {
     "ename": "TypeError",
     "evalue": "'tuple' object does not support item assignment",
     "output_type": "error",
     "traceback": [
      "\u001b[0;31m---------------------------------------------------------------------------\u001b[0m",
      "\u001b[0;31mTypeError\u001b[0m                                 Traceback (most recent call last)",
      "Cell \u001b[0;32mIn[58], line 2\u001b[0m\n\u001b[1;32m      1\u001b[0m x \u001b[38;5;241m=\u001b[39m (\u001b[38;5;241m1\u001b[39m, \u001b[38;5;241m2\u001b[39m)\n\u001b[0;32m----> 2\u001b[0m \u001b[43mx\u001b[49m\u001b[43m[\u001b[49m\u001b[38;5;241;43m0\u001b[39;49m\u001b[43m]\u001b[49m \u001b[38;5;241m=\u001b[39m \u001b[38;5;241m5\u001b[39m   \u001b[38;5;66;03m# Remember, tuples are immutable!\u001b[39;00m\n",
      "\u001b[0;31mTypeError\u001b[0m: 'tuple' object does not support item assignment"
     ]
    }
   ],
   "source": [
    "x = (1, 2)\n",
    "x[0] = 5   # Remember, tuples are immutable!"
   ]
  },
  {
   "cell_type": "markdown",
   "id": "b4196fec",
   "metadata": {},
   "source": [
    "#### 5.3.1  Working with tuples\n",
    "\n",
    "Tuples can be compared to see if they are identical,"
   ]
  },
  {
   "cell_type": "code",
   "execution_count": 59,
   "id": "f1b4d200",
   "metadata": {
    "execution": {
     "iopub.execute_input": "2024-09-22T14:29:58.999133Z",
     "iopub.status.busy": "2024-09-22T14:29:58.998992Z",
     "iopub.status.idle": "2024-09-22T14:29:59.002390Z",
     "shell.execute_reply": "2024-09-22T14:29:59.002071Z"
    }
   },
   "outputs": [
    {
     "data": {
      "text/plain": [
       "False"
      ]
     },
     "execution_count": 59,
     "metadata": {},
     "output_type": "execute_result"
    }
   ],
   "source": [
    "pos1 = (10, 20, 30)\n",
    "pos2 = (10, 25, 30)\n",
    "pos1 == pos2    # true iff all elements equal"
   ]
  },
  {
   "cell_type": "markdown",
   "id": "02489c95",
   "metadata": {},
   "source": [
    "A tuple that has been stored in a variable can be `unpacked' into separate variables as follows"
   ]
  },
  {
   "cell_type": "code",
   "execution_count": 60,
   "id": "4a4216d1",
   "metadata": {
    "execution": {
     "iopub.execute_input": "2024-09-22T14:29:59.004175Z",
     "iopub.status.busy": "2024-09-22T14:29:59.004043Z",
     "iopub.status.idle": "2024-09-22T14:29:59.006215Z",
     "shell.execute_reply": "2024-09-22T14:29:59.005789Z"
    }
   },
   "outputs": [
    {
     "name": "stdout",
     "output_type": "stream",
     "text": [
      "10\n"
     ]
    }
   ],
   "source": [
    "pos = (10, 20, 30)  # make a tuple called 'pos'\n",
    "(x, y, z) = pos   # 'unpack' the tuple into separate variables\n",
    "print(x)"
   ]
  },
  {
   "cell_type": "markdown",
   "id": "93ac56b5",
   "metadata": {},
   "source": [
    "Tuple unpacking gives us a compact way to swap the value of two variables."
   ]
  },
  {
   "cell_type": "code",
   "execution_count": 61,
   "id": "8fb07ee0",
   "metadata": {
    "execution": {
     "iopub.execute_input": "2024-09-22T14:29:59.008045Z",
     "iopub.status.busy": "2024-09-22T14:29:59.007957Z",
     "iopub.status.idle": "2024-09-22T14:29:59.009898Z",
     "shell.execute_reply": "2024-09-22T14:29:59.009577Z"
    }
   },
   "outputs": [
    {
     "name": "stdout",
     "output_type": "stream",
     "text": [
      "15 10\n"
     ]
    }
   ],
   "source": [
    "x, y = 10, 15\n",
    "x, y = y, x    # Can swap variables with a single line!\n",
    "print(x, y)"
   ]
  },
  {
   "cell_type": "markdown",
   "id": "80fd4cac",
   "metadata": {},
   "source": [
    "This isn't needed very often but it is a useful trick to know.\n",
    "\n",
    "### 5.4 Sets\n",
    "\n",
    "A set is like a list in which every item is unique.\n",
    "\n",
    "A set can be defined by listing items inside curly braces, e.g."
   ]
  },
  {
   "cell_type": "code",
   "execution_count": 62,
   "id": "00da28b6",
   "metadata": {
    "execution": {
     "iopub.execute_input": "2024-09-22T14:29:59.011646Z",
     "iopub.status.busy": "2024-09-22T14:29:59.011500Z",
     "iopub.status.idle": "2024-09-22T14:29:59.013557Z",
     "shell.execute_reply": "2024-09-22T14:29:59.013207Z"
    }
   },
   "outputs": [
    {
     "name": "stdout",
     "output_type": "stream",
     "text": [
      "<class 'set'>\n"
     ]
    }
   ],
   "source": [
    "x = {10, 20, 30, 40}\n",
    "print(type(x))"
   ]
  },
  {
   "cell_type": "markdown",
   "id": "90965c9b",
   "metadata": {},
   "source": [
    "What happens if we try to store duplicated items in a set?"
   ]
  },
  {
   "cell_type": "code",
   "execution_count": 63,
   "id": "29802198",
   "metadata": {
    "execution": {
     "iopub.execute_input": "2024-09-22T14:29:59.015377Z",
     "iopub.status.busy": "2024-09-22T14:29:59.015272Z",
     "iopub.status.idle": "2024-09-22T14:29:59.017420Z",
     "shell.execute_reply": "2024-09-22T14:29:59.017062Z"
    }
   },
   "outputs": [
    {
     "name": "stdout",
     "output_type": "stream",
     "text": [
      "{1, 2, 3, 4}\n"
     ]
    }
   ],
   "source": [
    "x = {1, 2, 3, 4, 3, 2, 1, 2}\n",
    "print(x)"
   ]
  },
  {
   "cell_type": "markdown",
   "id": "05b8b178",
   "metadata": {},
   "source": [
    "You will see above that even though multiple copies of several of the integers were present between the curly braces, the set only stored a single copy of each.\n",
    "\n",
    "Set supports all the usual set operations."
   ]
  },
  {
   "cell_type": "code",
   "execution_count": 64,
   "id": "625ef3c4",
   "metadata": {
    "execution": {
     "iopub.execute_input": "2024-09-22T14:29:59.019199Z",
     "iopub.status.busy": "2024-09-22T14:29:59.019097Z",
     "iopub.status.idle": "2024-09-22T14:29:59.021548Z",
     "shell.execute_reply": "2024-09-22T14:29:59.021219Z"
    }
   },
   "outputs": [
    {
     "name": "stdout",
     "output_type": "stream",
     "text": [
      "{1, 3, 7}\n",
      "{1, 2, 3, 6, 7, 8, 9, 10}\n",
      "{8, 9, 2}\n"
     ]
    }
   ],
   "source": [
    "print({1,2,3,7,8, 9}.intersection({1,3,6,7,10}))\n",
    "print({1,2,3,7,8, 9}.union({1,3,6,7,10}))\n",
    "print({1,2,3,7,8, 9}.difference({1,3,6,7,10}))"
   ]
  },
  {
   "cell_type": "markdown",
   "id": "4bf1b2be",
   "metadata": {},
   "source": [
    "These operations can also be performed using arithmetic operator symbols, i.e."
   ]
  },
  {
   "cell_type": "code",
   "execution_count": 65,
   "id": "8c90d44c",
   "metadata": {
    "execution": {
     "iopub.execute_input": "2024-09-22T14:29:59.023444Z",
     "iopub.status.busy": "2024-09-22T14:29:59.023174Z",
     "iopub.status.idle": "2024-09-22T14:29:59.025648Z",
     "shell.execute_reply": "2024-09-22T14:29:59.025262Z"
    }
   },
   "outputs": [
    {
     "name": "stdout",
     "output_type": "stream",
     "text": [
      "{1, 3, 7}\n",
      "{1, 2, 3, 6, 7, 8, 9, 10}\n",
      "{8, 9, 2}\n"
     ]
    }
   ],
   "source": [
    "print({1,2,3,7,8, 9} & {1,3,6,7,10})  # intersection\n",
    "print({1,2,3,7,8, 9} | {1,3,6,7,10})  # union\n",
    "print({1,2,3,7,8, 9} - {1,3,6,7,10}) # difference"
   ]
  },
  {
   "cell_type": "code",
   "execution_count": 66,
   "id": "bc07cec4",
   "metadata": {
    "execution": {
     "iopub.execute_input": "2024-09-22T14:29:59.027312Z",
     "iopub.status.busy": "2024-09-22T14:29:59.027200Z",
     "iopub.status.idle": "2024-09-22T14:29:59.028846Z",
     "shell.execute_reply": "2024-09-22T14:29:59.028487Z"
    }
   },
   "outputs": [],
   "source": [
    "# Full documentation -- remove the '#' in the line below before running this cell.\n",
    "# help(set)"
   ]
  },
  {
   "cell_type": "markdown",
   "id": "b9643df3",
   "metadata": {},
   "source": [
    "### 5.5 Dictionaries\n",
    "\n",
    "A dictionary maps from a unique key to a value"
   ]
  },
  {
   "cell_type": "code",
   "execution_count": 67,
   "id": "f9854642",
   "metadata": {
    "execution": {
     "iopub.execute_input": "2024-09-22T14:29:59.030665Z",
     "iopub.status.busy": "2024-09-22T14:29:59.030552Z",
     "iopub.status.idle": "2024-09-22T14:29:59.032358Z",
     "shell.execute_reply": "2024-09-22T14:29:59.032068Z"
    }
   },
   "outputs": [],
   "source": [
    "office = {'jon': 123, 'jane':146, 'fred':245}"
   ]
  },
  {
   "cell_type": "code",
   "execution_count": 68,
   "id": "6895a4b3",
   "metadata": {
    "execution": {
     "iopub.execute_input": "2024-09-22T14:29:59.034076Z",
     "iopub.status.busy": "2024-09-22T14:29:59.033970Z",
     "iopub.status.idle": "2024-09-22T14:29:59.035923Z",
     "shell.execute_reply": "2024-09-22T14:29:59.035630Z"
    }
   },
   "outputs": [
    {
     "name": "stdout",
     "output_type": "stream",
     "text": [
      "<class 'dict'>\n"
     ]
    }
   ],
   "source": [
    "office = {'jon': 123, 'jane':146, 'fred':245}\n",
    "print(type(office))"
   ]
  },
  {
   "cell_type": "code",
   "execution_count": 69,
   "id": "6eeaa27f",
   "metadata": {
    "execution": {
     "iopub.execute_input": "2024-09-22T14:29:59.037438Z",
     "iopub.status.busy": "2024-09-22T14:29:59.037294Z",
     "iopub.status.idle": "2024-09-22T14:29:59.039467Z",
     "shell.execute_reply": "2024-09-22T14:29:59.039075Z"
    }
   },
   "outputs": [
    {
     "name": "stdout",
     "output_type": "stream",
     "text": [
      "123\n"
     ]
    }
   ],
   "source": [
    "office = {'jon': 123, 'jane':146, 'fred':245}\n",
    "print(office['jon'])   # look up a value for a given key"
   ]
  },
  {
   "cell_type": "code",
   "execution_count": 70,
   "id": "dc95e1e3",
   "metadata": {
    "execution": {
     "iopub.execute_input": "2024-09-22T14:29:59.041086Z",
     "iopub.status.busy": "2024-09-22T14:29:59.040972Z",
     "iopub.status.idle": "2024-09-22T14:29:59.047683Z",
     "shell.execute_reply": "2024-09-22T14:29:59.047307Z"
    },
    "tags": [
     "raises-exception"
    ]
   },
   "outputs": [
    {
     "ename": "KeyError",
     "evalue": "'jose'",
     "output_type": "error",
     "traceback": [
      "\u001b[0;31m---------------------------------------------------------------------------\u001b[0m",
      "\u001b[0;31mKeyError\u001b[0m                                  Traceback (most recent call last)",
      "Cell \u001b[0;32mIn[70], line 2\u001b[0m\n\u001b[1;32m      1\u001b[0m office \u001b[38;5;241m=\u001b[39m {\u001b[38;5;124m'\u001b[39m\u001b[38;5;124mjon\u001b[39m\u001b[38;5;124m'\u001b[39m: \u001b[38;5;241m123\u001b[39m, \u001b[38;5;124m'\u001b[39m\u001b[38;5;124mjane\u001b[39m\u001b[38;5;124m'\u001b[39m:\u001b[38;5;241m146\u001b[39m, \u001b[38;5;124m'\u001b[39m\u001b[38;5;124mfred\u001b[39m\u001b[38;5;124m'\u001b[39m:\u001b[38;5;241m245\u001b[39m}\n\u001b[0;32m----> 2\u001b[0m \u001b[38;5;28mprint\u001b[39m(\u001b[43moffice\u001b[49m\u001b[43m[\u001b[49m\u001b[38;5;124;43m'\u001b[39;49m\u001b[38;5;124;43mjose\u001b[39;49m\u001b[38;5;124;43m'\u001b[39;49m\u001b[43m]\u001b[49m)  \u001b[38;5;66;03m# throws exception if key doesn't exist\u001b[39;00m\n",
      "\u001b[0;31mKeyError\u001b[0m: 'jose'"
     ]
    }
   ],
   "source": [
    "office = {'jon': 123, 'jane':146, 'fred':245}\n",
    "print(office['jose'])  # throws exception if key doesn't exist"
   ]
  },
  {
   "cell_type": "markdown",
   "id": "54d0d48a",
   "metadata": {},
   "source": [
    "We need to make sure that our keys are unique. e.g. a problem if we have two people called 'jon'!"
   ]
  },
  {
   "cell_type": "code",
   "execution_count": 71,
   "id": "9d32942f",
   "metadata": {
    "execution": {
     "iopub.execute_input": "2024-09-22T14:29:59.049486Z",
     "iopub.status.busy": "2024-09-22T14:29:59.049333Z",
     "iopub.status.idle": "2024-09-22T14:29:59.051483Z",
     "shell.execute_reply": "2024-09-22T14:29:59.051138Z"
    }
   },
   "outputs": [
    {
     "name": "stdout",
     "output_type": "stream",
     "text": [
      "{'jon': 354, 'jane': 146, 'fred': 245}\n"
     ]
    }
   ],
   "source": [
    "office = {'jon': 123, 'jane':146, 'fred':245, 'jon': 354}\n",
    "print(office)"
   ]
  },
  {
   "cell_type": "markdown",
   "id": "a4ea555a",
   "metadata": {},
   "source": [
    "The later entry has overwritten the earlier one (You might have expected it to raise a run-time error).\n",
    "\n",
    "A better key would be a unique employee ID, e.g. the payroll number.\n",
    "\n",
    "#### 5.5.1 Operations with dictionaries"
   ]
  },
  {
   "cell_type": "code",
   "execution_count": 72,
   "id": "392689ac",
   "metadata": {
    "execution": {
     "iopub.execute_input": "2024-09-22T14:29:59.053339Z",
     "iopub.status.busy": "2024-09-22T14:29:59.053209Z",
     "iopub.status.idle": "2024-09-22T14:29:59.055151Z",
     "shell.execute_reply": "2024-09-22T14:29:59.054792Z"
    }
   },
   "outputs": [
    {
     "name": "stdout",
     "output_type": "stream",
     "text": [
      "{'jon': 354, 'jane': 146, 'fred': 245, 'jose': 282}\n"
     ]
    }
   ],
   "source": [
    "office = {'jon': 123, 'jane':146, 'fred':245, 'jon': 354}\n",
    "office['jose'] = 282  # add a new key-value pair\n",
    "print(office)"
   ]
  },
  {
   "cell_type": "code",
   "execution_count": 73,
   "id": "b3706415",
   "metadata": {
    "execution": {
     "iopub.execute_input": "2024-09-22T14:29:59.056772Z",
     "iopub.status.busy": "2024-09-22T14:29:59.056655Z",
     "iopub.status.idle": "2024-09-22T14:29:59.058506Z",
     "shell.execute_reply": "2024-09-22T14:29:59.058208Z"
    }
   },
   "outputs": [
    {
     "name": "stdout",
     "output_type": "stream",
     "text": [
      "dict_keys(['jon', 'jane', 'fred', 'jose'])\n"
     ]
    }
   ],
   "source": [
    "print(office.keys())   # return the list of keys"
   ]
  },
  {
   "cell_type": "code",
   "execution_count": 74,
   "id": "14f49ec7",
   "metadata": {
    "execution": {
     "iopub.execute_input": "2024-09-22T14:29:59.060028Z",
     "iopub.status.busy": "2024-09-22T14:29:59.059917Z",
     "iopub.status.idle": "2024-09-22T14:29:59.061896Z",
     "shell.execute_reply": "2024-09-22T14:29:59.061603Z"
    }
   },
   "outputs": [
    {
     "name": "stdout",
     "output_type": "stream",
     "text": [
      "dict_values([354, 146, 245, 282])\n"
     ]
    }
   ],
   "source": [
    "print(office.values()) # return the list of values"
   ]
  },
  {
   "cell_type": "code",
   "execution_count": 75,
   "id": "eb297a27",
   "metadata": {
    "execution": {
     "iopub.execute_input": "2024-09-22T14:29:59.063577Z",
     "iopub.status.busy": "2024-09-22T14:29:59.063436Z",
     "iopub.status.idle": "2024-09-22T14:29:59.065608Z",
     "shell.execute_reply": "2024-09-22T14:29:59.065312Z"
    }
   },
   "outputs": [
    {
     "name": "stdout",
     "output_type": "stream",
     "text": [
      "True\n"
     ]
    }
   ],
   "source": [
    "print('jon' in office)  # check if a key exists"
   ]
  },
  {
   "cell_type": "markdown",
   "id": "d7ebfce5",
   "metadata": {},
   "source": [
    "## 6 Control Flow\n",
    "\n",
    "To write programs with Python (as in any language), we have to use logic to control the flow of instructions. Python has several syntax elements for controlling flow, including,\n",
    "\n",
    "* **if-elif-else**\n",
    "* **for loops**\n",
    "* **while loops**\n",
    "\n",
    "### 6.1 if-elif-else"
   ]
  },
  {
   "cell_type": "code",
   "execution_count": 76,
   "id": "2347434e",
   "metadata": {
    "execution": {
     "iopub.execute_input": "2024-09-22T14:29:59.067302Z",
     "iopub.status.busy": "2024-09-22T14:29:59.067167Z",
     "iopub.status.idle": "2024-09-22T14:29:59.069058Z",
     "shell.execute_reply": "2024-09-22T14:29:59.068752Z"
    }
   },
   "outputs": [
    {
     "name": "stdout",
     "output_type": "stream",
     "text": [
      "20 is larger than 10\n"
     ]
    }
   ],
   "source": [
    "x = 20\n",
    "if x > 10:\n",
    "    print(str(x) + ' is larger than 10')  # Must be indented!\n",
    "else:\n",
    "    print(str(x) + ' is smaller than 10')"
   ]
  },
  {
   "cell_type": "code",
   "execution_count": 77,
   "id": "851a52cf",
   "metadata": {
    "execution": {
     "iopub.execute_input": "2024-09-22T14:29:59.070772Z",
     "iopub.status.busy": "2024-09-22T14:29:59.070636Z",
     "iopub.status.idle": "2024-09-22T14:29:59.072876Z",
     "shell.execute_reply": "2024-09-22T14:29:59.072396Z"
    }
   },
   "outputs": [
    {
     "name": "stdout",
     "output_type": "stream",
     "text": [
      "Distinction\n",
      "well done!\n"
     ]
    }
   ],
   "source": [
    "grade = 75\n",
    "if grade >= 70:\n",
    "    print('Distinction') # Note, lines share the same indentation\n",
    "    print('well done!')\n",
    "elif grade >= 50:\n",
    "    print('you have passed')\n",
    "else:\n",
    "    print('FAIL!')"
   ]
  },
  {
   "cell_type": "markdown",
   "id": "203d9ab2",
   "metadata": {},
   "source": [
    "### 6.2 For loops\n",
    "\n",
    "For-loops iterate over 'iterables' (lists, dictionaries,...)"
   ]
  },
  {
   "cell_type": "code",
   "execution_count": 78,
   "id": "941cebcf",
   "metadata": {
    "execution": {
     "iopub.execute_input": "2024-09-22T14:29:59.074622Z",
     "iopub.status.busy": "2024-09-22T14:29:59.074489Z",
     "iopub.status.idle": "2024-09-22T14:29:59.076572Z",
     "shell.execute_reply": "2024-09-22T14:29:59.076229Z"
    }
   },
   "outputs": [
    {
     "name": "stdout",
     "output_type": "stream",
     "text": [
      "15\n"
     ]
    }
   ],
   "source": [
    "sum = 0\n",
    "for x in [1, 2, 3, 4, 5]:\n",
    "    sum += x\n",
    "print(sum)"
   ]
  },
  {
   "cell_type": "code",
   "execution_count": 79,
   "id": "2fe59bdd",
   "metadata": {
    "execution": {
     "iopub.execute_input": "2024-09-22T14:29:59.078087Z",
     "iopub.status.busy": "2024-09-22T14:29:59.077959Z",
     "iopub.status.idle": "2024-09-22T14:29:59.080060Z",
     "shell.execute_reply": "2024-09-22T14:29:59.079762Z"
    }
   },
   "outputs": [
    {
     "name": "stdout",
     "output_type": "stream",
     "text": [
      "        mon         \n",
      "      tuesday       \n",
      "        weds        \n",
      "        thur        \n",
      "        fri         \n"
     ]
    }
   ],
   "source": [
    "week = ['mon', 'tuesday', 'weds', 'thur', 'fri']\n",
    "for day in week:\n",
    "    print(day.center(20,' '))"
   ]
  },
  {
   "cell_type": "markdown",
   "id": "62bb33a7",
   "metadata": {},
   "source": [
    "To loop over integer values we can generate a list using range()"
   ]
  },
  {
   "cell_type": "code",
   "execution_count": 80,
   "id": "1b3b7120",
   "metadata": {
    "execution": {
     "iopub.execute_input": "2024-09-22T14:29:59.081789Z",
     "iopub.status.busy": "2024-09-22T14:29:59.081683Z",
     "iopub.status.idle": "2024-09-22T14:29:59.083519Z",
     "shell.execute_reply": "2024-09-22T14:29:59.083241Z"
    }
   },
   "outputs": [
    {
     "name": "stdout",
     "output_type": "stream",
     "text": [
      "[0, 1, 2, 3, 4, 5, 6, 7, 8, 9]\n"
     ]
    }
   ],
   "source": [
    "my_range = range(10)\n",
    "print(list(my_range))    # range() generates a list of numbers"
   ]
  },
  {
   "cell_type": "code",
   "execution_count": 81,
   "id": "a53d08da",
   "metadata": {
    "execution": {
     "iopub.execute_input": "2024-09-22T14:29:59.085058Z",
     "iopub.status.busy": "2024-09-22T14:29:59.084955Z",
     "iopub.status.idle": "2024-09-22T14:29:59.087036Z",
     "shell.execute_reply": "2024-09-22T14:29:59.086662Z"
    }
   },
   "outputs": [
    {
     "name": "stdout",
     "output_type": "stream",
     "text": [
      "[5, 7, 9, 11, 13, 15, 17, 19, 21, 23]\n"
     ]
    }
   ],
   "source": [
    "print(list(range(5, 25, 2)))  # range(start, end, skip)"
   ]
  },
  {
   "cell_type": "code",
   "execution_count": 82,
   "id": "7644b4b9",
   "metadata": {
    "execution": {
     "iopub.execute_input": "2024-09-22T14:29:59.088754Z",
     "iopub.status.busy": "2024-09-22T14:29:59.088627Z",
     "iopub.status.idle": "2024-09-22T14:29:59.090635Z",
     "shell.execute_reply": "2024-09-22T14:29:59.090324Z"
    }
   },
   "outputs": [
    {
     "name": "stdout",
     "output_type": "stream",
     "text": [
      "0\n",
      "5\n",
      "10\n",
      "15\n",
      "20\n",
      "25\n",
      "30\n",
      "35\n",
      "40\n",
      "45\n"
     ]
    }
   ],
   "source": [
    "for x in range(0, 50, 5):\n",
    "    print(x)"
   ]
  },
  {
   "cell_type": "markdown",
   "id": "37f75476",
   "metadata": {},
   "source": [
    "### 6.3 While loops\n",
    "\n",
    "While loops are much as you would expect. But note, no 'while - until loop'"
   ]
  },
  {
   "cell_type": "code",
   "execution_count": 83,
   "id": "5397d173",
   "metadata": {
    "execution": {
     "iopub.execute_input": "2024-09-22T14:29:59.092588Z",
     "iopub.status.busy": "2024-09-22T14:29:59.092289Z",
     "iopub.status.idle": "2024-09-22T14:29:59.094680Z",
     "shell.execute_reply": "2024-09-22T14:29:59.094343Z"
    }
   },
   "outputs": [
    {
     "name": "stdout",
     "output_type": "stream",
     "text": [
      "[382, 191.0, 574.0, 287.0, 862.0, 431.0, 1294.0, 647.0, 1942.0, 971.0, 2914.0, 1457.0, 4372.0, 2186.0, 1093.0, 3280.0, 1640.0, 820.0, 410.0, 205.0, 616.0, 308.0, 154.0, 77.0, 232.0, 116.0, 58.0, 29.0, 88.0, 44.0, 22.0, 11.0, 34.0, 17.0, 52.0, 26.0, 13.0, 40.0, 20.0, 10.0, 5.0, 16.0, 8.0, 4.0, 2.0, 1.0]\n"
     ]
    }
   ],
   "source": [
    "x = 127\n",
    "output = []\n",
    "while x != 1:\n",
    "    if x % 2 == 0:\n",
    "        x /= 2  # if x is even\n",
    "    else:\n",
    "        x = x * 3 + 1  # if x is odd\n",
    "    output.append(x)\n",
    "print(output)"
   ]
  },
  {
   "cell_type": "markdown",
   "id": "9189c329",
   "metadata": {},
   "source": [
    "## 7 Functions\n",
    "\n",
    "Functions are introduced with the keyword `def`\n",
    "\n",
    "Neither parameters nor return values need type declarations.\n",
    "\n",
    "Function body must be indented."
   ]
  },
  {
   "cell_type": "code",
   "execution_count": 84,
   "id": "ff59df79",
   "metadata": {
    "execution": {
     "iopub.execute_input": "2024-09-22T14:29:59.096476Z",
     "iopub.status.busy": "2024-09-22T14:29:59.096358Z",
     "iopub.status.idle": "2024-09-22T14:29:59.098449Z",
     "shell.execute_reply": "2024-09-22T14:29:59.097995Z"
    }
   },
   "outputs": [],
   "source": [
    "def sum_list(data):\n",
    "    sum = 0\n",
    "    for x in data:\n",
    "        sum += x\n",
    "    return sum"
   ]
  },
  {
   "cell_type": "code",
   "execution_count": 85,
   "id": "456d27fe",
   "metadata": {
    "execution": {
     "iopub.execute_input": "2024-09-22T14:29:59.100132Z",
     "iopub.status.busy": "2024-09-22T14:29:59.099939Z",
     "iopub.status.idle": "2024-09-22T14:29:59.102104Z",
     "shell.execute_reply": "2024-09-22T14:29:59.101740Z"
    }
   },
   "outputs": [
    {
     "name": "stdout",
     "output_type": "stream",
     "text": [
      "15\n"
     ]
    }
   ],
   "source": [
    "sum = sum_list([1,2,3,4,5])\n",
    "print(sum)"
   ]
  },
  {
   "cell_type": "markdown",
   "id": "2ab06071",
   "metadata": {},
   "source": [
    "### 7.1 Function docstring\n",
    "\n",
    "A string can be added directly after the function definition to act as documentation. You should always do this!"
   ]
  },
  {
   "cell_type": "code",
   "execution_count": 86,
   "id": "f53581a4",
   "metadata": {
    "execution": {
     "iopub.execute_input": "2024-09-22T14:29:59.103854Z",
     "iopub.status.busy": "2024-09-22T14:29:59.103725Z",
     "iopub.status.idle": "2024-09-22T14:29:59.105548Z",
     "shell.execute_reply": "2024-09-22T14:29:59.105175Z"
    }
   },
   "outputs": [],
   "source": [
    "def sum_list(data):\n",
    "    \"\"\" Returns the sum of a list of numbers.\"\"\"\n",
    "    sum = 0\n",
    "    # sum the numbers\n",
    "    for x in data:\n",
    "        sum += x\n",
    "    return sum"
   ]
  },
  {
   "cell_type": "code",
   "execution_count": 87,
   "id": "6eae4fc9",
   "metadata": {
    "execution": {
     "iopub.execute_input": "2024-09-22T14:29:59.107351Z",
     "iopub.status.busy": "2024-09-22T14:29:59.107236Z",
     "iopub.status.idle": "2024-09-22T14:29:59.109155Z",
     "shell.execute_reply": "2024-09-22T14:29:59.108875Z"
    }
   },
   "outputs": [
    {
     "name": "stdout",
     "output_type": "stream",
     "text": [
      "Help on function sum_list in module __main__:\n",
      "\n",
      "sum_list(data)\n",
      "    Returns the sum of a list of numbers.\n",
      "\n"
     ]
    }
   ],
   "source": [
    "help(sum_list)"
   ]
  },
  {
   "cell_type": "markdown",
   "id": "a050c8a4",
   "metadata": {},
   "source": [
    "Note, triple-quoted strings can contain newlines and quotes.\n",
    "\n",
    "### 7.2 Multiple return values\n",
    "\n",
    "If a function needs to return multiple values they can simply be packed into a tuple"
   ]
  },
  {
   "cell_type": "code",
   "execution_count": 88,
   "id": "baabbb80",
   "metadata": {
    "execution": {
     "iopub.execute_input": "2024-09-22T14:29:59.110794Z",
     "iopub.status.busy": "2024-09-22T14:29:59.110654Z",
     "iopub.status.idle": "2024-09-22T14:29:59.112662Z",
     "shell.execute_reply": "2024-09-22T14:29:59.112322Z"
    }
   },
   "outputs": [],
   "source": [
    "def find_min_max(data):\n",
    "    \"\"\"Return min and max value in a list\"\"\"\n",
    "    min, max = data[0], data[0]\n",
    "    for x in data:\n",
    "        if x < min:\n",
    "            min = x\n",
    "        elif x > max:\n",
    "            max = x\n",
    "    return min, max"
   ]
  },
  {
   "cell_type": "code",
   "execution_count": 89,
   "id": "1d228616",
   "metadata": {
    "execution": {
     "iopub.execute_input": "2024-09-22T14:29:59.114154Z",
     "iopub.status.busy": "2024-09-22T14:29:59.114017Z",
     "iopub.status.idle": "2024-09-22T14:29:59.116156Z",
     "shell.execute_reply": "2024-09-22T14:29:59.115724Z"
    }
   },
   "outputs": [
    {
     "name": "stdout",
     "output_type": "stream",
     "text": [
      "smallest is -5 and largest is 6\n"
     ]
    }
   ],
   "source": [
    "min, max = find_min_max([1,4,3,6,-5,6])\n",
    "print('smallest is', min, 'and largest is', max)"
   ]
  },
  {
   "cell_type": "markdown",
   "id": "f4309747",
   "metadata": {},
   "source": [
    "### 7.3 Functions: Default parameter values\n",
    "\n",
    "Parameters can be given default values"
   ]
  },
  {
   "cell_type": "code",
   "execution_count": 90,
   "id": "f256caea",
   "metadata": {
    "execution": {
     "iopub.execute_input": "2024-09-22T14:29:59.117826Z",
     "iopub.status.busy": "2024-09-22T14:29:59.117717Z",
     "iopub.status.idle": "2024-09-22T14:29:59.119580Z",
     "shell.execute_reply": "2024-09-22T14:29:59.119210Z"
    }
   },
   "outputs": [],
   "source": [
    "def sum_list(data, debug=False):\n",
    "    \"\"\"Returns the sum of a list of numbers\"\"\"\n",
    "    if debug:\n",
    "        print('Calling sum_list with', data)\n",
    "    sum = 0\n",
    "    for x in data:\n",
    "        sum += x\n",
    "    return sum"
   ]
  },
  {
   "cell_type": "code",
   "execution_count": 91,
   "id": "568e60e1",
   "metadata": {
    "execution": {
     "iopub.execute_input": "2024-09-22T14:29:59.121245Z",
     "iopub.status.busy": "2024-09-22T14:29:59.121140Z",
     "iopub.status.idle": "2024-09-22T14:29:59.123099Z",
     "shell.execute_reply": "2024-09-22T14:29:59.122764Z"
    }
   },
   "outputs": [
    {
     "name": "stdout",
     "output_type": "stream",
     "text": [
      "10\n"
     ]
    }
   ],
   "source": [
    "print(sum_list(range(5)))"
   ]
  },
  {
   "cell_type": "code",
   "execution_count": 92,
   "id": "90300ae5",
   "metadata": {
    "execution": {
     "iopub.execute_input": "2024-09-22T14:29:59.124792Z",
     "iopub.status.busy": "2024-09-22T14:29:59.124614Z",
     "iopub.status.idle": "2024-09-22T14:29:59.126727Z",
     "shell.execute_reply": "2024-09-22T14:29:59.126367Z"
    }
   },
   "outputs": [
    {
     "name": "stdout",
     "output_type": "stream",
     "text": [
      "Calling sum_list with range(0, 5)\n",
      "10\n"
     ]
    }
   ],
   "source": [
    "print(sum_list(range(5), True))"
   ]
  },
  {
   "cell_type": "markdown",
   "id": "d98f090d",
   "metadata": {},
   "source": [
    "### 7.4 Functions: Named parameters\n",
    "\n",
    "Parameter can be explicitly named in the function call"
   ]
  },
  {
   "cell_type": "code",
   "execution_count": 93,
   "id": "7625a4b1",
   "metadata": {
    "execution": {
     "iopub.execute_input": "2024-09-22T14:29:59.128669Z",
     "iopub.status.busy": "2024-09-22T14:29:59.128378Z",
     "iopub.status.idle": "2024-09-22T14:29:59.130362Z",
     "shell.execute_reply": "2024-09-22T14:29:59.130040Z"
    }
   },
   "outputs": [],
   "source": [
    "def compute_ratio(num, denom):\n",
    "    return num/denom"
   ]
  },
  {
   "cell_type": "code",
   "execution_count": 94,
   "id": "1930854f",
   "metadata": {
    "execution": {
     "iopub.execute_input": "2024-09-22T14:29:59.132137Z",
     "iopub.status.busy": "2024-09-22T14:29:59.132000Z",
     "iopub.status.idle": "2024-09-22T14:29:59.133857Z",
     "shell.execute_reply": "2024-09-22T14:29:59.133493Z"
    }
   },
   "outputs": [
    {
     "name": "stdout",
     "output_type": "stream",
     "text": [
      "5.0\n"
     ]
    }
   ],
   "source": [
    "ratio = compute_ratio(10.0, 2.0)\n",
    "print(ratio)"
   ]
  },
  {
   "cell_type": "code",
   "execution_count": 95,
   "id": "6f16cd70",
   "metadata": {
    "execution": {
     "iopub.execute_input": "2024-09-22T14:29:59.135538Z",
     "iopub.status.busy": "2024-09-22T14:29:59.135412Z",
     "iopub.status.idle": "2024-09-22T14:29:59.137382Z",
     "shell.execute_reply": "2024-09-22T14:29:59.137106Z"
    }
   },
   "outputs": [
    {
     "name": "stdout",
     "output_type": "stream",
     "text": [
      "5.0\n"
     ]
    }
   ],
   "source": [
    "ratio = compute_ratio(num=10.0, denom=2.0)\n",
    "print(ratio)"
   ]
  },
  {
   "cell_type": "code",
   "execution_count": 96,
   "id": "1ca34e47",
   "metadata": {
    "execution": {
     "iopub.execute_input": "2024-09-22T14:29:59.139017Z",
     "iopub.status.busy": "2024-09-22T14:29:59.138904Z",
     "iopub.status.idle": "2024-09-22T14:29:59.140801Z",
     "shell.execute_reply": "2024-09-22T14:29:59.140510Z"
    }
   },
   "outputs": [
    {
     "name": "stdout",
     "output_type": "stream",
     "text": [
      "5.0\n"
     ]
    }
   ],
   "source": [
    "ratio = compute_ratio(denom=2, num=10)\n",
    "print(ratio)"
   ]
  },
  {
   "cell_type": "markdown",
   "id": "8ecee870",
   "metadata": {},
   "source": [
    "### 7.5 Function: named and default parameters\n",
    "\n",
    "Default and named parameters can be conveniently combined.\n",
    "\n",
    "This is useful when there are a large number of parameters but most have default values. e.g.,"
   ]
  },
  {
   "cell_type": "code",
   "execution_count": 97,
   "id": "a61050fc",
   "metadata": {
    "execution": {
     "iopub.execute_input": "2024-09-22T14:29:59.142529Z",
     "iopub.status.busy": "2024-09-22T14:29:59.142402Z",
     "iopub.status.idle": "2024-09-22T14:29:59.144322Z",
     "shell.execute_reply": "2024-09-22T14:29:59.144010Z"
    }
   },
   "outputs": [],
   "source": [
    "def dummy(p1=0.0, p2=0.0, p3=0.0, p4=0.0):\n",
    "    print(p1, p2, p3, p4)"
   ]
  },
  {
   "cell_type": "code",
   "execution_count": 98,
   "id": "78d79ae4",
   "metadata": {
    "execution": {
     "iopub.execute_input": "2024-09-22T14:29:59.145971Z",
     "iopub.status.busy": "2024-09-22T14:29:59.145867Z",
     "iopub.status.idle": "2024-09-22T14:29:59.147864Z",
     "shell.execute_reply": "2024-09-22T14:29:59.147530Z"
    }
   },
   "outputs": [
    {
     "name": "stdout",
     "output_type": "stream",
     "text": [
      "0.0 0.0 1.0 0.0\n"
     ]
    }
   ],
   "source": [
    "dummy(p3=1.0)"
   ]
  },
  {
   "cell_type": "code",
   "execution_count": 99,
   "id": "a5e2725c",
   "metadata": {
    "execution": {
     "iopub.execute_input": "2024-09-22T14:29:59.149629Z",
     "iopub.status.busy": "2024-09-22T14:29:59.149513Z",
     "iopub.status.idle": "2024-09-22T14:29:59.151914Z",
     "shell.execute_reply": "2024-09-22T14:29:59.151540Z"
    }
   },
   "outputs": [
    {
     "name": "stdout",
     "output_type": "stream",
     "text": [
      "10.0 0.0 0.0 2.0\n"
     ]
    }
   ],
   "source": [
    "dummy(p1=10.0, p4=2.0)"
   ]
  },
  {
   "cell_type": "markdown",
   "id": "84211122",
   "metadata": {},
   "source": [
    "## 8 Summary\n",
    "\n",
    "* Python is a dynamically typed language\n",
    "* It has extensive libraries loaded as modules\n",
    "* It has builtin compound types: str, list, tuple, dict\n",
    "* Supports standard flow control mechanisms: if-else, for, while\n",
    "* We can define functions with default and named parameters\n",
    "\n",
    "There are many important features that we have not yet covered which will be introduced in later lectures:\n",
    "\n",
    "* classes\n",
    "* list comprehensions\n",
    "* lambda functions and functions as objects\n",
    "* numpy library"
   ]
  }
 ],
 "metadata": {
  "jupytext": {
   "cell_metadata_filter": "-all"
  },
  "kernelspec": {
   "display_name": "Python 3 (ipykernel)",
   "language": "python",
   "name": "python3"
  },
  "language_info": {
   "codemirror_mode": {
    "name": "ipython",
    "version": 3
   },
   "file_extension": ".py",
   "mimetype": "text/x-python",
   "name": "python",
   "nbconvert_exporter": "python",
   "pygments_lexer": "ipython3",
   "version": "3.12.5"
  }
 },
 "nbformat": 4,
 "nbformat_minor": 5
}
