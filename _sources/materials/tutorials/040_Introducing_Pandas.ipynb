{
 "cells": [
  {
   "cell_type": "markdown",
   "id": "e5d2443c",
   "metadata": {},
   "source": [
    "# 040 Processing Data with Pandas\n",
    "\n",
    "> COM6018\n",
    "\n",
    "*Copyright &copy; 2023, 2024 Jon Barker, University of Sheffield. All rights reserved*.\n",
    "\n",
    "## 1. Introduction\n",
    "\n",
    "### 1.1 What is Pandas?\n",
    "\n",
    "So far in this module, we have seen how data can be processed very flexibly using native Python code and Python dictionary and list data structures. However, this flexibility comes at a cost: Processing data in this way can be slow and is not suitable for large datasets. We have also seen how using NumPy arrays allows us to process numeric data very efficiently. NumPy is excellent for mathematical computation, linear algebra, and a lot of the matrix/vector calculations that occur in machine learning. However, it is not so good for processing more complex structured data, which might have a mixture of data types (e.g., numeric, string, categorical, etc.) and missing values, etc. This is where **Pandas** comes in.\n",
    "\n",
    "**Pandas** is an open source 3rd party library designed for the needs of data scientists. It was originally built on top of NumPy, which allows it to be very fast, but it offers a lot of functionality for processing structured data that is not available in NumPy.\n",
    "\n",
    "Although Pandas was originally built around NumPy, NumPy was not itself designed for this purpose, and that has led to some inefficiencies. However, Pandas has recently had a major new release (Pandas 2.0), which now allows the NumPy 'backend' to be replaced with one built around [Apache Arrow](https://arrow.apache.org/) -- a framework that has been designed from the ground-up for efficient processing of large table-like datasets.\n",
    "\n",
    "This tutorial is based on Pandas 2.0. The complete documentation can be found at [https://pandas.pydata.org/docs/](https://pandas.pydata.org/docs/).\n",
    "\n",
    "### 1.2 Installing Pandas\n",
    "\n",
    "As Pandas is not part of the Python standard library, it must first be installed before it can be used. This can be done easily using the `conda` package manager. (If you are using the Anaconda distribution of Python, then Pandas will already be installed. Or if you have built a conda environment using the `com6018.environment.yml` file provided with the module, then Pandas will also already be installed.)\n",
    "\n",
    "If Pandas is not installed, you can install it by typing the following command in your terminal."
   ]
  },
  {
   "cell_type": "code",
   "execution_count": 1,
   "id": "2d4478eb",
   "metadata": {
    "execution": {
     "iopub.execute_input": "2024-10-20T18:58:30.240424Z",
     "iopub.status.busy": "2024-10-20T18:58:30.240267Z",
     "iopub.status.idle": "2024-10-20T18:58:30.243159Z",
     "shell.execute_reply": "2024-10-20T18:58:30.242811Z"
    }
   },
   "outputs": [],
   "source": [
    "# conda install -c conda-forge pandas"
   ]
  },
  {
   "cell_type": "markdown",
   "id": "710536a1",
   "metadata": {},
   "source": [
    "This will install the latest version of Pandas.\n",
    "\n",
    "To use Pandas in your Python code, you simply need to import it at the start of your program, e.g.,"
   ]
  },
  {
   "cell_type": "code",
   "execution_count": 2,
   "id": "c26adb8b",
   "metadata": {
    "execution": {
     "iopub.execute_input": "2024-10-20T18:58:30.244929Z",
     "iopub.status.busy": "2024-10-20T18:58:30.244787Z",
     "iopub.status.idle": "2024-10-20T18:58:31.547987Z",
     "shell.execute_reply": "2024-10-20T18:58:31.547684Z"
    }
   },
   "outputs": [],
   "source": [
    "import pandas as pd"
   ]
  },
  {
   "cell_type": "markdown",
   "id": "e0e8e578",
   "metadata": {},
   "source": [
    "Conventional Python practice is to import Pandas using the alias `pd`. This is not essential, but it is recommended. Following existing conventions will make your code easier to read for other Python programmers.\n",
    "\n",
    "### 1.3 Basic Pandas Concepts\n",
    "\n",
    "Pandas is designed for processing structured data much like the data that would be stored in a spreadsheet or a csv file. Pandas organises data using two basic data structures: the **Series** and the **DataFrame**. A **Series** is a one-dimensional array of data that can be thought of as a single column in a spreadsheet. A **DataFrame** represents a table of data, which is represented as a collection of **Series** objects. A **DataFrame** can be thought of as being similar to an entire spreadsheet.\n",
    "\n",
    "Pandas has its own **type system** for representing data which is the same as that for NumPy but with a few extensions for representing things like dates and intervals. Every Series (i.e., spreadsheet column) will have its own type but there can be a different type for each Series.\n",
    "\n",
    "Pandas offers a lot of functionality for processing data. This includes operations such as filtering tables, joining tables, grouping data, etc. It also includes a lot of functionality for reading and writing data in different formats such as CSV, Excel, JSON, SQL, etc. It also has some functionality for visualising data which is generally easier to use than the equivalent functionality in `Matplotlib`.\n",
    "\n",
    "## 2. Reading Data\n",
    "\n",
    "Pandas has a range of methods for reading data from different standard data formats. For example, it can read Excel spreadsheets directly with a simple `read_excel()` method. However, continuing from our previous tutorials, we will focus on the commonly used CSV and JSON formats.\n",
    "\n",
    "### 2.1 Reading CSV Data\n",
    "\n",
    "Reading a CSV file with Pandas can be done with a single line of code:"
   ]
  },
  {
   "cell_type": "code",
   "execution_count": 3,
   "id": "8c6d2068",
   "metadata": {
    "execution": {
     "iopub.execute_input": "2024-10-20T18:58:31.550117Z",
     "iopub.status.busy": "2024-10-20T18:58:31.549960Z",
     "iopub.status.idle": "2024-10-20T18:58:31.554176Z",
     "shell.execute_reply": "2024-10-20T18:58:31.553886Z"
    }
   },
   "outputs": [],
   "source": [
    "import pandas as pd\n",
    "\n",
    "df = pd.read_csv('data/windfarm.csv')"
   ]
  },
  {
   "cell_type": "markdown",
   "id": "bba8e02b",
   "metadata": {},
   "source": [
    "The `read_csv` function will parse the file and return the results as a Pandas DataFrame object. (It is common to use the variable name `df` for a DataFrame object in simple code examples. You may want to give the DataFrame a more descriptive name when writing more complex code.)\n",
    "\n",
    "We can now print the resulting DataFrame object to see what it contains:"
   ]
  },
  {
   "cell_type": "code",
   "execution_count": 4,
   "id": "b1a2d779",
   "metadata": {
    "execution": {
     "iopub.execute_input": "2024-10-20T18:58:31.556032Z",
     "iopub.status.busy": "2024-10-20T18:58:31.555909Z",
     "iopub.status.idle": "2024-10-20T18:58:31.559507Z",
     "shell.execute_reply": "2024-10-20T18:58:31.559207Z"
    }
   },
   "outputs": [
    {
     "name": "stdout",
     "output_type": "stream",
     "text": [
      "       id   \"turbines\"   \"height\"   \"power\"\n",
      "0  WF1355           13         53   19500.0\n",
      "1  WF1364            3         60    8250.0\n",
      "2  WF1356           12         60   24000.0\n",
      "3  WF1357           36         60   72000.0\n"
     ]
    }
   ],
   "source": [
    "print(df)"
   ]
  },
  {
   "cell_type": "markdown",
   "id": "92ec49eb",
   "metadata": {},
   "source": [
    "This will produce output that looks like the following,\n",
    "\n",
    "```text\n",
    "       id   \"turbines\"   \"height\"   \"power\"\n",
    "0  WF1355           13         53     19500.0\n",
    "1  WF1364            3         60      8250.0\n",
    "2  WF1356           12         60     24000.0\n",
    "3  WF1357           36         60     72000.0\n",
    "```\n",
    "\n",
    "Note that the `read_csv` function has read the names of the fields from the first line of the csv file and used these to name the DataFrame columns. If our csv file did not have column names in the first line, then we would need to specify them using the `names` parameter, e.g.,"
   ]
  },
  {
   "cell_type": "code",
   "execution_count": 5,
   "id": "3fd94052",
   "metadata": {
    "execution": {
     "iopub.execute_input": "2024-10-20T18:58:31.561117Z",
     "iopub.status.busy": "2024-10-20T18:58:31.561008Z",
     "iopub.status.idle": "2024-10-20T18:58:31.564329Z",
     "shell.execute_reply": "2024-10-20T18:58:31.564051Z"
    }
   },
   "outputs": [
    {
     "name": "stdout",
     "output_type": "stream",
     "text": [
      "       id  turbines  height    power\n",
      "0  WF1355        13      53  19500.0\n",
      "1  WF1364         3      60   8250.0\n",
      "2  WF1356        12      60  24000.0\n",
      "3  WF1357        36      60  72000.0\n"
     ]
    }
   ],
   "source": [
    "df = pd.read_csv('data/windfarm.no_names.csv', names=['id', 'turbines', 'height', 'power'])\n",
    "print(df)"
   ]
  },
  {
   "cell_type": "markdown",
   "id": "29319b53",
   "metadata": {},
   "source": [
    "Note also how Pandas has added an extra column without a title to the left of the data. This is known as the **index column**. The index column is used to uniquely identify each row in the DataFrame. Pandas has generated this index for us by giving the rows consecutive integer index values starting from 0. If we want to use a different column as the index, then we can specify this using the `index_col` parameter, e.g.,"
   ]
  },
  {
   "cell_type": "code",
   "execution_count": 6,
   "id": "7980d343",
   "metadata": {
    "execution": {
     "iopub.execute_input": "2024-10-20T18:58:31.566071Z",
     "iopub.status.busy": "2024-10-20T18:58:31.565960Z",
     "iopub.status.idle": "2024-10-20T18:58:31.569733Z",
     "shell.execute_reply": "2024-10-20T18:58:31.569442Z"
    }
   },
   "outputs": [
    {
     "name": "stdout",
     "output_type": "stream",
     "text": [
      "        \"turbines\"  \"height\"  \"power\"\n",
      "id                                   \n",
      "WF1355          13        53  19500.0\n",
      "WF1364           3        60   8250.0\n",
      "WF1356          12        60  24000.0\n",
      "WF1357          36        60  72000.0\n"
     ]
    }
   ],
   "source": [
    "df_id = pd.read_csv('data/windfarm.csv', index_col='id')\n",
    "print(df_id)"
   ]
  },
  {
   "cell_type": "markdown",
   "id": "63f1d3f2",
   "metadata": {},
   "source": [
    "This will produce output looking like the following,\n",
    "\n",
    "```text\n",
    "         \"turbines\"   \"height\"   \"power\"\n",
    "id\n",
    "WF1355           13         53   19500.0\n",
    "WF1364            3         60    8250.0\n",
    "WF1356           12         60   24000.0\n",
    "WF1357           36         60   72000.0\n",
    "```\n",
    "\n",
    "```{tip}\n",
    "You typically want the values in the index column to be unique. If they are not unique, then Pandas will still allow you to use the column as the index, but it will not be able to use some of the more advanced functionality that it offers for indexing. If you are not sure about which column to use as the index, then it is often best not to specify one and to just allow Pandas to create its own index column.\n",
    "```\n",
    "\n",
    "### 2.2 Reading JSON Data\n",
    "\n",
    "Reading JSON data is just as easy as reading CSV data. We can read the climate JSON data from our previous tutorial with a single line of code:"
   ]
  },
  {
   "cell_type": "code",
   "execution_count": 7,
   "id": "855c9334",
   "metadata": {
    "execution": {
     "iopub.execute_input": "2024-10-20T18:58:31.571312Z",
     "iopub.status.busy": "2024-10-20T18:58:31.571184Z",
     "iopub.status.idle": "2024-10-20T18:58:31.576072Z",
     "shell.execute_reply": "2024-10-20T18:58:31.575740Z"
    }
   },
   "outputs": [],
   "source": [
    "import pandas as pd\n",
    "\n",
    "df = pd.read_json('data/climate.json')"
   ]
  },
  {
   "cell_type": "markdown",
   "id": "a430825a",
   "metadata": {},
   "source": [
    "We can now print the resulting DataFrame object to see what it contains:"
   ]
  },
  {
   "cell_type": "code",
   "execution_count": 8,
   "id": "386c5b3f",
   "metadata": {
    "execution": {
     "iopub.execute_input": "2024-10-20T18:58:31.577630Z",
     "iopub.status.busy": "2024-10-20T18:58:31.577509Z",
     "iopub.status.idle": "2024-10-20T18:58:31.585314Z",
     "shell.execute_reply": "2024-10-20T18:58:31.585020Z"
    }
   },
   "outputs": [
    {
     "name": "stdout",
     "output_type": "stream",
     "text": [
      "      id            city        country  \\\n",
      "0      1       Amsterdam    Netherlands   \n",
      "1      2          Athens         Greece   \n",
      "2      3      Atlanta GA  United States   \n",
      "3      4        Auckland    New Zealand   \n",
      "4      5       Austin TX  United States   \n",
      "..   ...             ...            ...   \n",
      "100  101  Albuquerque NM  United States   \n",
      "101  102      Vermont IL  United States   \n",
      "102  103    Nashville TE  United States   \n",
      "103  104    St. Louis MO  United States   \n",
      "104  105  Minneapolis MN  United States   \n",
      "\n",
      "                                            monthlyAvg  \n",
      "0    [{'high': 7, 'low': 3, 'dryDays': 19, 'snowDay...  \n",
      "1    [{'high': 12, 'low': 7, 'dryDays': 21, 'snowDa...  \n",
      "2    [{'high': 12, 'low': 2, 'dryDays': 18, 'snowDa...  \n",
      "3    [{'high': 23, 'low': 16, 'dryDays': 24, 'snowD...  \n",
      "4    [{'high': 18, 'low': 6, 'dryDays': 15, 'snowDa...  \n",
      "..                                                 ...  \n",
      "100  [{'high': 10, 'low': -4, 'dryDays': 24, 'snowD...  \n",
      "101  [{'high': 3, 'low': -8, 'dryDays': 18, 'snowDa...  \n",
      "102  [{'high': 9, 'low': -1, 'dryDays': 18, 'snowDa...  \n",
      "103  [{'high': 7, 'low': -4, 'dryDays': 16, 'snowDa...  \n",
      "104  [{'high': -3, 'low': -13, 'dryDays': 20, 'snow...  \n",
      "\n",
      "[105 rows x 4 columns]\n"
     ]
    }
   ],
   "source": [
    "print(df)"
   ]
  },
  {
   "cell_type": "markdown",
   "id": "e48d8503",
   "metadata": {},
   "source": [
    "Note that the `monthlyAvg` data which was a list of dictionaries in the JSON file now appears in a single column of the DataFrame. This is not a very convenient format for processing the data. We can use a method called `apply()` to convert this column into a DataFrame with one column per each dictionary in the list. Using `apply()` a second time can then expand the dictionaries into columns."
   ]
  },
  {
   "cell_type": "code",
   "execution_count": 9,
   "id": "182e9ba3",
   "metadata": {
    "execution": {
     "iopub.execute_input": "2024-10-20T18:58:31.587174Z",
     "iopub.status.busy": "2024-10-20T18:58:31.587028Z",
     "iopub.status.idle": "2024-10-20T18:58:31.600616Z",
     "shell.execute_reply": "2024-10-20T18:58:31.600245Z"
    }
   },
   "outputs": [
    {
     "name": "stdout",
     "output_type": "stream",
     "text": [
      "     high   low  dryDays  snowDays  rainfall\n",
      "0     7.0   3.0     19.0       4.0      68.0\n",
      "1    12.0   7.0     21.0       1.0      53.0\n",
      "2    12.0   2.0     18.0       2.0      99.5\n",
      "3    23.0  16.0     24.0       0.0      25.6\n",
      "4    18.0   6.0     15.0       1.0      67.8\n",
      "..    ...   ...      ...       ...       ...\n",
      "100  10.0  -4.0     24.0       4.0      10.7\n",
      "101   3.0  -8.0     18.0      11.0      52.1\n",
      "102   9.0  -1.0     18.0       8.0      84.4\n",
      "103   7.0  -4.0     16.0      10.0      69.8\n",
      "104  -3.0 -13.0     20.0      16.0      19.9\n",
      "\n",
      "[105 rows x 5 columns]\n"
     ]
    }
   ],
   "source": [
    "df_monthly = df['monthlyAvg'].apply(pd.Series)\n",
    "print(df_monthly[0].apply(pd.Series))"
   ]
  },
  {
   "cell_type": "markdown",
   "id": "64471c39",
   "metadata": {},
   "source": [
    "This is a little complicated, but it is typical of the preprocessing steps we might need to take if working with JSON files that have a complex nested structure. Fortunately, most of the data we will be working with will be in CSV format or in a simple JSON format with a flat structure.\n",
    "\n",
    "## 3. The DataFrame Object\n",
    "\n",
    "We will now look in a bit more detail at the DataFrame object. For this section we will be using a dataset that records the extent of sea ice in the Arctic and Antarctic. This data is available from the [National Snow and Ice Data Center](https://nsidc.org/data/g02135). The data is available in CSV format and we have already downloaded it and saved it in the `data` directory as `seaice.csv`.\n",
    "\n",
    "We will read the data and print the DataFrame,"
   ]
  },
  {
   "cell_type": "code",
   "execution_count": 10,
   "id": "b9c5ad6b",
   "metadata": {
    "execution": {
     "iopub.execute_input": "2024-10-20T18:58:31.602506Z",
     "iopub.status.busy": "2024-10-20T18:58:31.602373Z",
     "iopub.status.idle": "2024-10-20T18:58:31.648290Z",
     "shell.execute_reply": "2024-10-20T18:58:31.647904Z"
    }
   },
   "outputs": [],
   "source": [
    "import pandas as pd\n",
    "\n",
    "df = pd.read_csv('data/seaice.csv')"
   ]
  },
  {
   "cell_type": "code",
   "execution_count": 11,
   "id": "86072184",
   "metadata": {
    "execution": {
     "iopub.execute_input": "2024-10-20T18:58:31.650143Z",
     "iopub.status.busy": "2024-10-20T18:58:31.650003Z",
     "iopub.status.idle": "2024-10-20T18:58:31.653450Z",
     "shell.execute_reply": "2024-10-20T18:58:31.653022Z"
    }
   },
   "outputs": [
    {
     "name": "stdout",
     "output_type": "stream",
     "text": [
      "       Year   Month   Day       Extent      Missing  \\\n",
      "0      1978      10    26       10.231          0.0   \n",
      "1      1978      10    28       10.420          0.0   \n",
      "2      1978      10    30       10.557          0.0   \n",
      "3      1978      11     1       10.670          0.0   \n",
      "4      1978      11     3       10.777          0.0   \n",
      "...     ...     ...   ...          ...          ...   \n",
      "26349  2019       5    27       10.085          0.0   \n",
      "26350  2019       5    28       10.078          0.0   \n",
      "26351  2019       5    29       10.219          0.0   \n",
      "26352  2019       5    30       10.363          0.0   \n",
      "26353  2019       5    31       10.436          0.0   \n",
      "\n",
      "                                             Source Data hemisphere  \n",
      "0       ['ftp://sidads.colorado.edu/pub/DATASETS/nsid...      north  \n",
      "1       ['ftp://sidads.colorado.edu/pub/DATASETS/nsid...      north  \n",
      "2       ['ftp://sidads.colorado.edu/pub/DATASETS/nsid...      north  \n",
      "3       ['ftp://sidads.colorado.edu/pub/DATASETS/nsid...      north  \n",
      "4       ['ftp://sidads.colorado.edu/pub/DATASETS/nsid...      north  \n",
      "...                                                  ...        ...  \n",
      "26349  ['ftp://sidads.colorado.edu/pub/DATASETS/nsidc...      south  \n",
      "26350  ['ftp://sidads.colorado.edu/pub/DATASETS/nsidc...      south  \n",
      "26351  ['ftp://sidads.colorado.edu/pub/DATASETS/nsidc...      south  \n",
      "26352  ['ftp://sidads.colorado.edu/pub/DATASETS/nsidc...      south  \n",
      "26353  ['ftp://sidads.colorado.edu/pub/DATASETS/nsidc...      south  \n",
      "\n",
      "[26354 rows x 7 columns]\n"
     ]
    }
   ],
   "source": [
    "print(df)"
   ]
  },
  {
   "cell_type": "markdown",
   "id": "a3e50fb2",
   "metadata": {},
   "source": [
    "Note that when printing a DataFrame, Pandas will only show the first and last few rows and columns. We can see from the output that the DataFrame has 26354 rows and measurements that date back to 1978. But we cannot see the full set of columns.\n",
    "\n",
    "To get a list of all the columns in the DataFrame, we can use the `columns` attribute,"
   ]
  },
  {
   "cell_type": "code",
   "execution_count": 12,
   "id": "b84263b3",
   "metadata": {
    "execution": {
     "iopub.execute_input": "2024-10-20T18:58:31.655074Z",
     "iopub.status.busy": "2024-10-20T18:58:31.654910Z",
     "iopub.status.idle": "2024-10-20T18:58:31.657088Z",
     "shell.execute_reply": "2024-10-20T18:58:31.656596Z"
    }
   },
   "outputs": [
    {
     "name": "stdout",
     "output_type": "stream",
     "text": [
      "Index(['Year', ' Month', ' Day', '     Extent', '    Missing', ' Source Data',\n",
      "       'hemisphere'],\n",
      "      dtype='object')\n"
     ]
    }
   ],
   "source": [
    "print(df.columns)"
   ]
  },
  {
   "cell_type": "markdown",
   "id": "f0f4fe7f",
   "metadata": {},
   "source": [
    "This will produce output that looks like the following,\n",
    "\n",
    "```text\n",
    "Index(['Year', ' Month', ' Day', '     Extent', '    Missing', ' Source Data',\n",
    "       'hemisphere'],\n",
    "      dtype='object')\n",
    "```\n",
    "\n",
    "We can now see that the data are composed of seven columns: year, month, day, extent, missing, source data, and hemisphere. The extent and missing columns record the extent of the sea ice and the number of missing measurements for each day. The source data column records the source of the data. The hemisphere column records whether the data are for the Arctic or Antarctic.\n",
    "\n",
    "Note that space characters have become incorporated into the column names. This is because the columns in the CSV file had spaces after the commas. We can easily skip these spaces by adding the `skipinitialspace=True` parameter to the `read_csv()` method,"
   ]
  },
  {
   "cell_type": "code",
   "execution_count": 13,
   "id": "384a50de",
   "metadata": {
    "execution": {
     "iopub.execute_input": "2024-10-20T18:58:31.658813Z",
     "iopub.status.busy": "2024-10-20T18:58:31.658695Z",
     "iopub.status.idle": "2024-10-20T18:58:31.702239Z",
     "shell.execute_reply": "2024-10-20T18:58:31.701748Z"
    }
   },
   "outputs": [],
   "source": [
    "import pandas as pd\n",
    "\n",
    "df = pd.read_csv('data/seaice.csv', sep=',', skipinitialspace=True)"
   ]
  },
  {
   "cell_type": "code",
   "execution_count": 14,
   "id": "6fe820a1",
   "metadata": {
    "execution": {
     "iopub.execute_input": "2024-10-20T18:58:31.704404Z",
     "iopub.status.busy": "2024-10-20T18:58:31.704079Z",
     "iopub.status.idle": "2024-10-20T18:58:31.706536Z",
     "shell.execute_reply": "2024-10-20T18:58:31.706123Z"
    }
   },
   "outputs": [
    {
     "name": "stdout",
     "output_type": "stream",
     "text": [
      "Index(['Year', 'Month', 'Day', 'Extent', 'Missing', 'Source Data',\n",
      "       'hemisphere'],\n",
      "      dtype='object')\n"
     ]
    }
   ],
   "source": [
    "print(df.columns)"
   ]
  },
  {
   "cell_type": "markdown",
   "id": "1f51451a",
   "metadata": {},
   "source": [
    "### 3.1 Selecting a Column\n",
    "\n",
    "We can select a single column from the DataFrame using the column name as an index."
   ]
  },
  {
   "cell_type": "code",
   "execution_count": 15,
   "id": "1f4357b7",
   "metadata": {
    "execution": {
     "iopub.execute_input": "2024-10-20T18:58:31.708245Z",
     "iopub.status.busy": "2024-10-20T18:58:31.708097Z",
     "iopub.status.idle": "2024-10-20T18:58:31.710706Z",
     "shell.execute_reply": "2024-10-20T18:58:31.710394Z"
    }
   },
   "outputs": [
    {
     "name": "stdout",
     "output_type": "stream",
     "text": [
      "0        10.231\n",
      "1        10.420\n",
      "2        10.557\n",
      "3        10.670\n",
      "4        10.777\n",
      "          ...  \n",
      "26349    10.085\n",
      "26350    10.078\n",
      "26351    10.219\n",
      "26352    10.363\n",
      "26353    10.436\n",
      "Name: Extent, Length: 26354, dtype: float64\n"
     ]
    }
   ],
   "source": [
    "extent = df['Extent']\n",
    "print(extent)"
   ]
  },
  {
   "cell_type": "markdown",
   "id": "ff9c2c7e",
   "metadata": {},
   "source": [
    "This will produce output looking like the following,\n",
    "\n",
    "```text\n",
    "0        10.231\n",
    "1        10.420\n",
    "2        10.557\n",
    "3        10.670\n",
    "4        10.777\n",
    "          ...\n",
    "26349    10.085\n",
    "26350    10.078\n",
    "26351    10.219\n",
    "26352    10.363\n",
    "26353    10.436\n",
    "Name: Extent, Length: 26354, dtype: float64\n",
    "```\n",
    "\n",
    "Notice how this looks a bit different from when we printed the DataFrame. This is because the column is not a DataFrame, it is a Series. Remember, Pandas uses the Series object for storing individual columns of data. We can check this by printing the type of the column,"
   ]
  },
  {
   "cell_type": "code",
   "execution_count": 16,
   "id": "046cf181",
   "metadata": {
    "execution": {
     "iopub.execute_input": "2024-10-20T18:58:31.712475Z",
     "iopub.status.busy": "2024-10-20T18:58:31.712366Z",
     "iopub.status.idle": "2024-10-20T18:58:31.714582Z",
     "shell.execute_reply": "2024-10-20T18:58:31.714237Z"
    }
   },
   "outputs": [
    {
     "name": "stdout",
     "output_type": "stream",
     "text": [
      "<class 'pandas.core.frame.DataFrame'>\n",
      "<class 'pandas.core.series.Series'>\n"
     ]
    }
   ],
   "source": [
    "print(type(df))  # This will print <class 'pandas.core.frame.DataFrame'>\n",
    "extent = df['Extent']\n",
    "print(type(extent)) # This will print <class 'pandas.core.series.Series'>"
   ]
  },
  {
   "cell_type": "markdown",
   "id": "05a78a6c",
   "metadata": {},
   "source": [
    "The Series object has a specific type (called its `dtype`). In this case the type is `float64` which means that the data is stored as 64-bit floating point numbers. We can check the type of the data in a Series using the `dtype` attribute. Or, more conveniently, we can retrieve the data type of all the columns in the DataFrame using the DataFrame's `dtypes` attribute. Let's do that now,"
   ]
  },
  {
   "cell_type": "code",
   "execution_count": 17,
   "id": "fe4790d4",
   "metadata": {
    "execution": {
     "iopub.execute_input": "2024-10-20T18:58:31.716410Z",
     "iopub.status.busy": "2024-10-20T18:58:31.716297Z",
     "iopub.status.idle": "2024-10-20T18:58:31.718636Z",
     "shell.execute_reply": "2024-10-20T18:58:31.718251Z"
    }
   },
   "outputs": [
    {
     "name": "stdout",
     "output_type": "stream",
     "text": [
      "Year             int64\n",
      "Month            int64\n",
      "Day              int64\n",
      "Extent         float64\n",
      "Missing        float64\n",
      "Source Data     object\n",
      "hemisphere      object\n",
      "dtype: object\n"
     ]
    }
   ],
   "source": [
    "print(df.dtypes)"
   ]
  },
  {
   "cell_type": "markdown",
   "id": "72dab311",
   "metadata": {},
   "source": [
    "This will produce output looking like the following,\n",
    "\n",
    "```text\n",
    "Year             int64\n",
    "Month            int64\n",
    "Day              int64\n",
    "Extent         float64\n",
    "Missing        float64\n",
    "Source Data     object\n",
    "hemisphere      object\n",
    "dtype: object\n",
    "```\n",
    "\n",
    "We can see that the Year, Month and Day have integer values; the Extent and Missing columns have floating-point values; and the Source Data and hemisphere columns have 'object' values.\n",
    "\n",
    "Pandas has inferred these types from the content of the csv file. It usually guesses correctly, but it can sometimes get it wrong. If it is unsure it will typically default to the 'object' type. This has happened for the 'Source Data' and 'hemisphere' columns which should be strings. We can fix this by explicitly converting these columns to strings using the `astype()` method,"
   ]
  },
  {
   "cell_type": "code",
   "execution_count": 18,
   "id": "df84c6b7",
   "metadata": {
    "execution": {
     "iopub.execute_input": "2024-10-20T18:58:31.720346Z",
     "iopub.status.busy": "2024-10-20T18:58:31.720215Z",
     "iopub.status.idle": "2024-10-20T18:58:31.725762Z",
     "shell.execute_reply": "2024-10-20T18:58:31.725417Z"
    }
   },
   "outputs": [
    {
     "name": "stdout",
     "output_type": "stream",
     "text": [
      "Year                    int64\n",
      "Month                   int64\n",
      "Day                     int64\n",
      "Extent                float64\n",
      "Missing               float64\n",
      "Source Data    string[python]\n",
      "hemisphere     string[python]\n",
      "dtype: object\n"
     ]
    }
   ],
   "source": [
    "df['Source Data'] = df['Source Data'].astype(\"string\")\n",
    "df['hemisphere'] = df['hemisphere'].astype(\"string\")\n",
    "print(df.dtypes)"
   ]
  },
  {
   "cell_type": "markdown",
   "id": "6f8bf50e",
   "metadata": {},
   "source": [
    "A Series object is much like a list, and we can use indexes and slicing operators to reference elements in the Series. For example, we can get the first element in the Series using,"
   ]
  },
  {
   "cell_type": "code",
   "execution_count": 19,
   "id": "9484441d",
   "metadata": {
    "execution": {
     "iopub.execute_input": "2024-10-20T18:58:31.727493Z",
     "iopub.status.busy": "2024-10-20T18:58:31.727365Z",
     "iopub.status.idle": "2024-10-20T18:58:31.729318Z",
     "shell.execute_reply": "2024-10-20T18:58:31.729034Z"
    }
   },
   "outputs": [
    {
     "name": "stdout",
     "output_type": "stream",
     "text": [
      "10.231\n"
     ]
    }
   ],
   "source": [
    "extent = df['Extent']\n",
    "print(extent[0])  # print the first element"
   ]
  },
  {
   "cell_type": "markdown",
   "id": "54dd8616",
   "metadata": {},
   "source": [
    "or we can retrieve the sequence of elements from the 6th to 10th with,"
   ]
  },
  {
   "cell_type": "code",
   "execution_count": 20,
   "id": "936a2b05",
   "metadata": {
    "execution": {
     "iopub.execute_input": "2024-10-20T18:58:31.730925Z",
     "iopub.status.busy": "2024-10-20T18:58:31.730729Z",
     "iopub.status.idle": "2024-10-20T18:58:31.733043Z",
     "shell.execute_reply": "2024-10-20T18:58:31.732680Z"
    }
   },
   "outputs": [
    {
     "name": "stdout",
     "output_type": "stream",
     "text": [
      "5    10.968\n",
      "6    11.080\n",
      "7    11.189\n",
      "8    11.314\n",
      "9    11.460\n",
      "Name: Extent, dtype: float64\n"
     ]
    }
   ],
   "source": [
    "extent = df['Extent']\n",
    "print(extent[5:10]) # print a subseries from index 5 to 9"
   ]
  },
  {
   "cell_type": "markdown",
   "id": "4ec86d79",
   "metadata": {},
   "source": [
    "(Recall that the first element of a series has index 0, so the 10th element has index 9. The slicing notation `a:b` means to go from index `a` to `b-1` inclusive.)\n",
    "\n",
    "### 3.2 Selecting a Row\n",
    "\n",
    "We can select a single *row* from the DataFrame using the `iloc` attribute. This attribute takes a single integer index and returns a Series containing the data from the row at that index. For example, to select the first row, we can use,"
   ]
  },
  {
   "cell_type": "code",
   "execution_count": 21,
   "id": "6f2aac53",
   "metadata": {
    "execution": {
     "iopub.execute_input": "2024-10-20T18:58:31.734690Z",
     "iopub.status.busy": "2024-10-20T18:58:31.734573Z",
     "iopub.status.idle": "2024-10-20T18:58:31.736441Z",
     "shell.execute_reply": "2024-10-20T18:58:31.736039Z"
    }
   },
   "outputs": [],
   "source": [
    "row = df.iloc[0]"
   ]
  },
  {
   "cell_type": "code",
   "execution_count": 22,
   "id": "7e6c322a",
   "metadata": {
    "execution": {
     "iopub.execute_input": "2024-10-20T18:58:31.738012Z",
     "iopub.status.busy": "2024-10-20T18:58:31.737879Z",
     "iopub.status.idle": "2024-10-20T18:58:31.740037Z",
     "shell.execute_reply": "2024-10-20T18:58:31.739659Z"
    }
   },
   "outputs": [
    {
     "name": "stdout",
     "output_type": "stream",
     "text": [
      "Year                                                        1978\n",
      "Month                                                         10\n",
      "Day                                                           26\n",
      "Extent                                                    10.231\n",
      "Missing                                                      0.0\n",
      "Source Data    ['ftp://sidads.colorado.edu/pub/DATASETS/nsidc...\n",
      "hemisphere                                                 north\n",
      "Name: 0, dtype: object\n"
     ]
    }
   ],
   "source": [
    "print(row)"
   ]
  },
  {
   "cell_type": "markdown",
   "id": "448c9cb7",
   "metadata": {},
   "source": [
    "Notice how the results have been returned as a Series object. We can check this by printing the type of the row,"
   ]
  },
  {
   "cell_type": "code",
   "execution_count": 23,
   "id": "15d65536",
   "metadata": {
    "execution": {
     "iopub.execute_input": "2024-10-20T18:58:31.741824Z",
     "iopub.status.busy": "2024-10-20T18:58:31.741693Z",
     "iopub.status.idle": "2024-10-20T18:58:31.743530Z",
     "shell.execute_reply": "2024-10-20T18:58:31.743260Z"
    }
   },
   "outputs": [
    {
     "name": "stdout",
     "output_type": "stream",
     "text": [
      "<class 'pandas.core.series.Series'>\n"
     ]
    }
   ],
   "source": [
    "print(type(row)) # This will print <class 'pandas.core.series.Series'>"
   ]
  },
  {
   "cell_type": "markdown",
   "id": "2d19b508",
   "metadata": {},
   "source": [
    "So DataFrames are a collection of Series objects representing the columns, but if we extract a single row, we get a Series object representing the row. The dtype of the row series is 'object'. An object type can basically store anything, so it is being used here because each element in the row series has a different type.\n",
    "\n",
    "Alternatively, we can extract a range of rows using slicing,"
   ]
  },
  {
   "cell_type": "code",
   "execution_count": 24,
   "id": "1d1fd8aa",
   "metadata": {
    "execution": {
     "iopub.execute_input": "2024-10-20T18:58:31.745054Z",
     "iopub.status.busy": "2024-10-20T18:58:31.744962Z",
     "iopub.status.idle": "2024-10-20T18:58:31.746774Z",
     "shell.execute_reply": "2024-10-20T18:58:31.746473Z"
    }
   },
   "outputs": [],
   "source": [
    "rows = df.iloc[0:5]"
   ]
  },
  {
   "cell_type": "code",
   "execution_count": 25,
   "id": "7bcb6635",
   "metadata": {
    "execution": {
     "iopub.execute_input": "2024-10-20T18:58:31.748462Z",
     "iopub.status.busy": "2024-10-20T18:58:31.748318Z",
     "iopub.status.idle": "2024-10-20T18:58:31.751269Z",
     "shell.execute_reply": "2024-10-20T18:58:31.750827Z"
    }
   },
   "outputs": [
    {
     "name": "stdout",
     "output_type": "stream",
     "text": [
      "   Year  Month  Day  Extent  Missing  \\\n",
      "0  1978     10   26  10.231      0.0   \n",
      "1  1978     10   28  10.420      0.0   \n",
      "2  1978     10   30  10.557      0.0   \n",
      "3  1978     11    1  10.670      0.0   \n",
      "4  1978     11    3  10.777      0.0   \n",
      "\n",
      "                                         Source Data hemisphere  \n",
      "0  ['ftp://sidads.colorado.edu/pub/DATASETS/nsidc...      north  \n",
      "1  ['ftp://sidads.colorado.edu/pub/DATASETS/nsidc...      north  \n",
      "2  ['ftp://sidads.colorado.edu/pub/DATASETS/nsidc...      north  \n",
      "3  ['ftp://sidads.colorado.edu/pub/DATASETS/nsidc...      north  \n",
      "4  ['ftp://sidads.colorado.edu/pub/DATASETS/nsidc...      north  \n"
     ]
    }
   ],
   "source": [
    "print(rows)"
   ]
  },
  {
   "cell_type": "markdown",
   "id": "d9c6c449",
   "metadata": {},
   "source": [
    "Note that a collection of rows is still a DataFrame. We can check this by printing the type of the variable `rows`,"
   ]
  },
  {
   "cell_type": "code",
   "execution_count": 26,
   "id": "f3b27c76",
   "metadata": {
    "execution": {
     "iopub.execute_input": "2024-10-20T18:58:31.752972Z",
     "iopub.status.busy": "2024-10-20T18:58:31.752839Z",
     "iopub.status.idle": "2024-10-20T18:58:31.754774Z",
     "shell.execute_reply": "2024-10-20T18:58:31.754490Z"
    }
   },
   "outputs": [
    {
     "name": "stdout",
     "output_type": "stream",
     "text": [
      "<class 'pandas.core.frame.DataFrame'>\n"
     ]
    }
   ],
   "source": [
    "print(type(rows))"
   ]
  },
  {
   "cell_type": "markdown",
   "id": "26ee4326",
   "metadata": {},
   "source": [
    "Basically, if we have a single row or column, then we are dealing with a Series, but if we have multiple rows and columns, then we are dealing with a DataFrame.\n",
    "\n",
    "### 3.3 Filtering a DataFrame\n",
    "\n",
    "Very often in data science, we need to select some subset of our data based on some condition, e.g., all cities where the population is greater than 1 million or all years where the average temperature was less than 15 degrees Celsius. Or, more simply, we may wish to select every row that has an even index value. Alternatively, we may want to remove various columns from the DataFrame, i.e., those representing fields that we are not interested in. We will refer to these operations that take a DataFrame and return another smaller DataFrame as **filtering** operations. In this section, we will look at a few simple examples.\n",
    "\n",
    "#### 3.3.1 Removing or Selecting Columns\n",
    "\n",
    "After loading our data, we may want to remove columns that we are not interested in. This is easily done using the `drop()` method. For example, to make it easier to print the data frame, we will remove the Source Data column using,"
   ]
  },
  {
   "cell_type": "code",
   "execution_count": 27,
   "id": "6fa69a43",
   "metadata": {
    "execution": {
     "iopub.execute_input": "2024-10-20T18:58:31.756437Z",
     "iopub.status.busy": "2024-10-20T18:58:31.756311Z",
     "iopub.status.idle": "2024-10-20T18:58:31.759113Z",
     "shell.execute_reply": "2024-10-20T18:58:31.758756Z"
    }
   },
   "outputs": [],
   "source": [
    "df = df.drop(columns=['Source Data'])"
   ]
  },
  {
   "cell_type": "markdown",
   "id": "92d503ff",
   "metadata": {},
   "source": [
    "There are now only 6 columns in the DataFrame and they can all be viewed at once,"
   ]
  },
  {
   "cell_type": "code",
   "execution_count": 28,
   "id": "d6b56d5e",
   "metadata": {
    "execution": {
     "iopub.execute_input": "2024-10-20T18:58:31.760709Z",
     "iopub.status.busy": "2024-10-20T18:58:31.760587Z",
     "iopub.status.idle": "2024-10-20T18:58:31.763860Z",
     "shell.execute_reply": "2024-10-20T18:58:31.763502Z"
    }
   },
   "outputs": [
    {
     "name": "stdout",
     "output_type": "stream",
     "text": [
      "       Year  Month  Day  Extent  Missing hemisphere\n",
      "0      1978     10   26  10.231      0.0      north\n",
      "1      1978     10   28  10.420      0.0      north\n",
      "2      1978     10   30  10.557      0.0      north\n",
      "3      1978     11    1  10.670      0.0      north\n",
      "4      1978     11    3  10.777      0.0      north\n",
      "...     ...    ...  ...     ...      ...        ...\n",
      "26349  2019      5   27  10.085      0.0      south\n",
      "26350  2019      5   28  10.078      0.0      south\n",
      "26351  2019      5   29  10.219      0.0      south\n",
      "26352  2019      5   30  10.363      0.0      south\n",
      "26353  2019      5   31  10.436      0.0      south\n",
      "\n",
      "[26354 rows x 6 columns]\n"
     ]
    }
   ],
   "source": [
    "print(df)"
   ]
  },
  {
   "cell_type": "markdown",
   "id": "c8b7d95b",
   "metadata": {},
   "source": [
    "Rather than removing columns, an alternative is to actively select the subset of columns that we wish to keep. This is done with the following indexing notation,"
   ]
  },
  {
   "cell_type": "code",
   "execution_count": 29,
   "id": "57116162",
   "metadata": {
    "execution": {
     "iopub.execute_input": "2024-10-20T18:58:31.765457Z",
     "iopub.status.busy": "2024-10-20T18:58:31.765372Z",
     "iopub.status.idle": "2024-10-20T18:58:31.768225Z",
     "shell.execute_reply": "2024-10-20T18:58:31.767865Z"
    }
   },
   "outputs": [],
   "source": [
    "df = df[['Year', 'Month', 'Day', 'Extent', 'Missing', 'hemisphere']]"
   ]
  },
  {
   "cell_type": "markdown",
   "id": "2a6874e6",
   "metadata": {},
   "source": [
    "#### 3.3.2 Selecting Rows\n",
    "\n",
    "Very often when analysing data we want to select a subset of the samples entries that match some criterion, i.e., to select a subset of the rows in our DataFrame.  This is very straightforward in Pandas and is done using a Boolean expression as the index value.\n",
    "\n",
    "For example, lets say we want to select all the rows where the sea ice extent value is less than 5.0. We can do this using,"
   ]
  },
  {
   "cell_type": "code",
   "execution_count": 30,
   "id": "78db5811",
   "metadata": {
    "execution": {
     "iopub.execute_input": "2024-10-20T18:58:31.769957Z",
     "iopub.status.busy": "2024-10-20T18:58:31.769819Z",
     "iopub.status.idle": "2024-10-20T18:58:31.772398Z",
     "shell.execute_reply": "2024-10-20T18:58:31.772116Z"
    }
   },
   "outputs": [],
   "source": [
    "selector = df['Extent'] < 5.0\n",
    "df_low_extent = df[selector]"
   ]
  },
  {
   "cell_type": "markdown",
   "id": "0f4a58f1",
   "metadata": {},
   "source": [
    "We have done this in two steps. The first line takes the Extent series and compares every value to 5.0. This produces a series of boolean (i.e, True or False) values which we have stored in a variable called `selector`. The second line uses this boolean series as an index which has the effect of selecting only the rows where the value is True.\n",
    "\n",
    "If we now print the resulting DataFrame we can see that it only contains about 3000 rows of the original 26,354 rows in the dataset, i.e., these are the samples where the sea ice extent has fallen below 5.0 billion square kilometers."
   ]
  },
  {
   "cell_type": "code",
   "execution_count": 31,
   "id": "18e68994",
   "metadata": {
    "execution": {
     "iopub.execute_input": "2024-10-20T18:58:31.773936Z",
     "iopub.status.busy": "2024-10-20T18:58:31.773830Z",
     "iopub.status.idle": "2024-10-20T18:58:31.776826Z",
     "shell.execute_reply": "2024-10-20T18:58:31.776534Z"
    }
   },
   "outputs": [
    {
     "name": "stdout",
     "output_type": "stream",
     "text": [
      "       Year  Month  Day  Extent  Missing hemisphere\n",
      "8874   2007      8   20   4.997      0.0      north\n",
      "8875   2007      8   21   4.923      0.0      north\n",
      "8876   2007      8   22   4.901      0.0      north\n",
      "8877   2007      8   23   4.872      0.0      north\n",
      "8878   2007      8   24   4.837      0.0      north\n",
      "...     ...    ...  ...     ...      ...        ...\n",
      "26296  2019      4    4   4.564      0.0      south\n",
      "26297  2019      4    5   4.730      0.0      south\n",
      "26298  2019      4    6   4.856      0.0      south\n",
      "26299  2019      4    7   4.902      0.0      south\n",
      "26300  2019      4    8   4.993      0.0      south\n",
      "\n",
      "[2988 rows x 6 columns]\n"
     ]
    }
   ],
   "source": [
    "print(df_low_extent)"
   ]
  },
  {
   "cell_type": "markdown",
   "id": "58673f3a",
   "metadata": {},
   "source": [
    "They are ordered by year. What do you notice about the earliest year of these data? Recall that the original complete dataset had recordings going back to 1979, but all the monthly recordings where the extent of the sea ice fallen below 5.0 billion square kilometers have occurred since 2007. Is this something that might have happened by chance, or is it evidence of a trend in the data? We will see how to answer such questions a little later in the module.\n",
    "\n",
    "Let us say that we now just want to look at the Arctic data. We can do this by selecting only the rows where the hemisphere is 'north'. We can do this using the `eq()` method,"
   ]
  },
  {
   "cell_type": "code",
   "execution_count": 32,
   "id": "e9ab0f72",
   "metadata": {
    "execution": {
     "iopub.execute_input": "2024-10-20T18:58:31.778583Z",
     "iopub.status.busy": "2024-10-20T18:58:31.778350Z",
     "iopub.status.idle": "2024-10-20T18:58:31.781461Z",
     "shell.execute_reply": "2024-10-20T18:58:31.781191Z"
    }
   },
   "outputs": [],
   "source": [
    "filter = df['hemisphere'].eq('north')"
   ]
  },
  {
   "cell_type": "markdown",
   "id": "6af83814",
   "metadata": {},
   "source": [
    "If we wanted to combine these two filters to select only the rows where the sea ice extent is less than 5.0 billion square kilometers and the hemisphere is 'north', we could do this using the `&` operator,"
   ]
  },
  {
   "cell_type": "code",
   "execution_count": 33,
   "id": "852aab2a",
   "metadata": {
    "execution": {
     "iopub.execute_input": "2024-10-20T18:58:31.782971Z",
     "iopub.status.busy": "2024-10-20T18:58:31.782891Z",
     "iopub.status.idle": "2024-10-20T18:58:31.786584Z",
     "shell.execute_reply": "2024-10-20T18:58:31.786288Z"
    }
   },
   "outputs": [],
   "source": [
    "filter = (df['hemisphere'].eq('north')) & (df['Extent'] < 5.0)\n",
    "df_low_extent_north = df[filter]"
   ]
  },
  {
   "cell_type": "code",
   "execution_count": 34,
   "id": "7725c5f5",
   "metadata": {
    "execution": {
     "iopub.execute_input": "2024-10-20T18:58:31.788191Z",
     "iopub.status.busy": "2024-10-20T18:58:31.788050Z",
     "iopub.status.idle": "2024-10-20T18:58:31.791229Z",
     "shell.execute_reply": "2024-10-20T18:58:31.790875Z"
    }
   },
   "outputs": [
    {
     "name": "stdout",
     "output_type": "stream",
     "text": [
      "       Year  Month  Day  Extent  Missing hemisphere\n",
      "8874   2007      8   20   4.997      0.0      north\n",
      "8875   2007      8   21   4.923      0.0      north\n",
      "8876   2007      8   22   4.901      0.0      north\n",
      "8877   2007      8   23   4.872      0.0      north\n",
      "8878   2007      8   24   4.837      0.0      north\n",
      "...     ...    ...  ...     ...      ...        ...\n",
      "12932  2018      9   29   4.846      0.0      north\n",
      "12933  2018      9   30   4.875      0.0      north\n",
      "12934  2018     10    1   4.947      0.0      north\n",
      "12935  2018     10    2   4.988      0.0      north\n",
      "12936  2018     10    3   4.975      0.0      north\n",
      "\n",
      "[339 rows x 6 columns]\n"
     ]
    }
   ],
   "source": [
    "print(df_low_extent_north)"
   ]
  },
  {
   "cell_type": "markdown",
   "id": "9b5b82ab",
   "metadata": {},
   "source": [
    "This leaves just 339 rows.\n",
    "\n",
    "```{note}\n",
    "Be careful to use parentheses around each filter expression above. The `&` operator has a higher precedence than the `<` operator so if you do not use parentheses then it will still be a valid the expression but it will not work in the way you expected.\n",
    "```\n",
    "\n",
    "Note that we use a very similar indexing syntax, i.e., `df[selector]`, for selecting both rows and columns. The difference is that when selecting rows we use a Boolean series as the index value, whereas when selecting columns we use a list of column names as the index value. This can be a little confusing at first, but you will soon get used to it.\n",
    "\n",
    "## 4 Grouping and averaging values\n",
    "\n",
    "### 4.1 Operating on columns\n",
    "\n",
    "There are many operations that we might apply over an entire column to compute some 'statistic' of that column. For example, we might want to compute a columns minimum, maximum, mean, median, standard deviation, etc. The Series object provides many methods to make this easy.\n",
    "\n",
    "For example, to compute the mean of the Extent column we can use,"
   ]
  },
  {
   "cell_type": "code",
   "execution_count": 35,
   "id": "2e085466",
   "metadata": {
    "execution": {
     "iopub.execute_input": "2024-10-20T18:58:31.792941Z",
     "iopub.status.busy": "2024-10-20T18:58:31.792814Z",
     "iopub.status.idle": "2024-10-20T18:58:31.795106Z",
     "shell.execute_reply": "2024-10-20T18:58:31.794723Z"
    }
   },
   "outputs": [
    {
     "name": "stdout",
     "output_type": "stream",
     "text": [
      "11.494986301889654\n"
     ]
    }
   ],
   "source": [
    "mean_value = df['Extent'].mean()\n",
    "print(mean_value)"
   ]
  },
  {
   "cell_type": "markdown",
   "id": "85b866b3",
   "metadata": {},
   "source": [
    "We can also calculate the minimum and maximum values in a similar way,"
   ]
  },
  {
   "cell_type": "code",
   "execution_count": 36,
   "id": "c613dec1",
   "metadata": {
    "execution": {
     "iopub.execute_input": "2024-10-20T18:58:31.796699Z",
     "iopub.status.busy": "2024-10-20T18:58:31.796598Z",
     "iopub.status.idle": "2024-10-20T18:58:31.798720Z",
     "shell.execute_reply": "2024-10-20T18:58:31.798374Z"
    }
   },
   "outputs": [
    {
     "name": "stdout",
     "output_type": "stream",
     "text": [
      "2.08 20.201\n"
     ]
    }
   ],
   "source": [
    "print(df['Extent'].min(), df['Extent'].max())"
   ]
  },
  {
   "cell_type": "markdown",
   "id": "d97aa5ff",
   "metadata": {},
   "source": [
    "For convenience, the DataFrame object provides a `describe()` method that will compute and display the basic statistics for all columns in the DataFrame that have numerical values. For example,"
   ]
  },
  {
   "cell_type": "code",
   "execution_count": 37,
   "id": "bb45dbb8",
   "metadata": {
    "execution": {
     "iopub.execute_input": "2024-10-20T18:58:31.800404Z",
     "iopub.status.busy": "2024-10-20T18:58:31.800302Z",
     "iopub.status.idle": "2024-10-20T18:58:31.809105Z",
     "shell.execute_reply": "2024-10-20T18:58:31.808846Z"
    }
   },
   "outputs": [
    {
     "name": "stdout",
     "output_type": "stream",
     "text": [
      "               Year         Month           Day        Extent       Missing\n",
      "count  26354.000000  26354.000000  26354.000000  26354.000000  26354.000000\n",
      "mean    2000.591941      6.507399     15.740685     11.494986      0.000003\n",
      "std       10.896821      3.451938      8.801607      4.611734      0.000227\n",
      "min     1978.000000      1.000000      1.000000      2.080000      0.000000\n",
      "25%     1992.000000      4.000000      8.000000      7.601000      0.000000\n",
      "50%     2001.000000      7.000000     16.000000     12.217000      0.000000\n",
      "75%     2010.000000     10.000000     23.000000     15.114000      0.000000\n",
      "max     2019.000000     12.000000     31.000000     20.201000      0.024000\n"
     ]
    }
   ],
   "source": [
    "print(df.describe())"
   ]
  },
  {
   "cell_type": "markdown",
   "id": "8a7ca401",
   "metadata": {},
   "source": [
    "This will print the following table:\n",
    "\n",
    "```text\n",
    "               Year         Month           Day        Extent       Missing\n",
    "count  26354.000000  26354.000000  26354.000000  26354.000000  26354.000000\n",
    "mean    2000.591941      6.507399     15.740685     11.494986      0.000003\n",
    "std       10.896821      3.451938      8.801607      4.611734      0.000227\n",
    "min     1978.000000      1.000000      1.000000      2.080000      0.000000\n",
    "25%     1992.000000      4.000000      8.000000      7.601000      0.000000\n",
    "50%     2001.000000      7.000000     16.000000     12.217000      0.000000\n",
    "75%     2010.000000     10.000000     23.000000     15.114000      0.000000\n",
    "max     2019.000000     12.000000     31.000000     20.201000      0.024000\n",
    "```\n",
    "\n",
    "The table shows the number of items (count), mean, standard deviation (std), minimum (min), maximum (max) and the 25th, 50th, and 75th percentiles of the data in each column. Note that the 50th percentile is the same as the median. These statistics will be more meaningful for some columns than for others. For example, in the above the mean and standard deviation of the Month and Day columns are not very meaningful. Nevertheless, the `describe()` methods is very useful for getting a quick overview of the data and is often the first thing we will do when we load a new dataset.\n",
    "\n",
    "### 4.2 Grouping data\n",
    "\n",
    "In the above, we have computed the statistics of the entire data set. It is more common to want to compute statistics after grouping the data into meaningful subsets. For example, we might be interested in the mean sea ice extent for each year, or for each month, or for the north and south hemispheres, separately. To compute such statistics, we need to group the data into subsets and then compute the statistics for each subset.\n",
    "\n",
    "Grouping the data is done using the `groupby()` method. For example, to group the data by month we can use"
   ]
  },
  {
   "cell_type": "code",
   "execution_count": 38,
   "id": "c939e56b",
   "metadata": {
    "execution": {
     "iopub.execute_input": "2024-10-20T18:58:31.810672Z",
     "iopub.status.busy": "2024-10-20T18:58:31.810591Z",
     "iopub.status.idle": "2024-10-20T18:58:31.812730Z",
     "shell.execute_reply": "2024-10-20T18:58:31.812382Z"
    }
   },
   "outputs": [],
   "source": [
    "grouped = df.groupby('Month')"
   ]
  },
  {
   "cell_type": "markdown",
   "id": "98636ee7",
   "metadata": {},
   "source": [
    "This returns a special `DataFrameGroupBy` object. This object is a special type of DataFrame that contains the data grouped by the column we specified. We can then compute statistics on groups by selecting a column and using the same methods that we used earlier. For example, to compute the mean sea ice extent for each month we can use"
   ]
  },
  {
   "cell_type": "code",
   "execution_count": 39,
   "id": "09047010",
   "metadata": {
    "execution": {
     "iopub.execute_input": "2024-10-20T18:58:31.814329Z",
     "iopub.status.busy": "2024-10-20T18:58:31.814222Z",
     "iopub.status.idle": "2024-10-20T18:58:31.817226Z",
     "shell.execute_reply": "2024-10-20T18:58:31.816933Z"
    }
   },
   "outputs": [
    {
     "name": "stdout",
     "output_type": "stream",
     "text": [
      "Month\n",
      "1      9.587706\n",
      "2      9.057401\n",
      "3      9.621926\n",
      "4     10.678099\n",
      "5     11.637163\n",
      "6     12.476158\n",
      "7     12.563403\n",
      "8     12.288473\n",
      "9     12.265863\n",
      "10    13.044214\n",
      "11    13.152069\n",
      "12    11.514823\n",
      "Name: Extent, dtype: float64\n"
     ]
    }
   ],
   "source": [
    "print(grouped['Extent'].mean())"
   ]
  },
  {
   "cell_type": "markdown",
   "id": "d220aad0",
   "metadata": {},
   "source": [
    "The code above has produced a mean value for each month of the year (1 is January, 2 is February, etc.). Notice how the amount of ice reaches a maximum in November and a minimum in February. This might seem somewhat surprising to you, e.g., the maximum and minimum are not six months apart, as might be expected. Note, however, that when we grouped by month we included both Northern and Southern hemisphere measurements, so this mean will be the average across both hemispheres, and this can lead to an unintuitive outcome.\n",
    "\n",
    "Let us say that we wanted to look at the sea ice extent for each month but separately for the northern and southern hemisphere. We now want to group by both month and hemisphere. We can do this easily by passing a list of column names to the `groupby()` method,"
   ]
  },
  {
   "cell_type": "code",
   "execution_count": 40,
   "id": "d03ebe2e",
   "metadata": {
    "execution": {
     "iopub.execute_input": "2024-10-20T18:58:31.818847Z",
     "iopub.status.busy": "2024-10-20T18:58:31.818725Z",
     "iopub.status.idle": "2024-10-20T18:58:31.824008Z",
     "shell.execute_reply": "2024-10-20T18:58:31.823649Z"
    }
   },
   "outputs": [
    {
     "name": "stdout",
     "output_type": "stream",
     "text": [
      "hemisphere  Month\n",
      "north       1        14.176006\n",
      "            2        15.044512\n",
      "            3        15.205876\n",
      "            4        14.481141\n",
      "            5        13.072172\n",
      "            6        11.516788\n",
      "            7         9.090173\n",
      "            8         6.784248\n",
      "            9         5.988981\n",
      "            10        7.929377\n",
      "            11       10.448120\n",
      "            12       12.638618\n",
      "south       1         4.999406\n",
      "            2         3.070290\n",
      "            3         4.037976\n",
      "            4         6.875058\n",
      "            5        10.202155\n",
      "            6        13.435529\n",
      "            7        16.036633\n",
      "            8        17.792698\n",
      "            9        18.542745\n",
      "            10       18.159051\n",
      "            11       15.856019\n",
      "            12       10.391028\n",
      "Name: Extent, dtype: float64\n"
     ]
    }
   ],
   "source": [
    "grouped = df.groupby(['hemisphere', 'Month'])\n",
    "print(grouped['Extent'].mean())"
   ]
  },
  {
   "cell_type": "markdown",
   "id": "43071563",
   "metadata": {},
   "source": [
    "Note that when printing out a DataFrameGroupBy object that has been grouped by multiple fields, Pandas will produce a multicolumn table with the first column being the first field in the groupby list, the second column being the second field in the groupby list, etc. In this case, the first column is the hemisphere, and the second column is the month.\n",
    "\n",
    "We now see that in the Arctic, sea ice reaches a maximum in March and a minimum in September. In the Antarctic, sea ice reaches a maximum in September and a minimum in February. This is more in line with what we might expect, that is, the maxima and minima are about 6 months apart. The dates might seem a little later than what you would consider to be the peak of winter and summer. This is because of the way water stores heat. The oceans take a long time to cool down and warm up, so the coldest and warmest months are not the same as the months with the shortest and longest days. You can now also see that the Antarctic sea ice extent is much more variable than the Arctic sea ice extent.\n",
    "\n",
    "Let us now consider how we would examine the Arctic and Antarctic sea ice minimum over the years. We can do this by grouping by hemisphere and year and then selecting the minimum value in each group,"
   ]
  },
  {
   "cell_type": "code",
   "execution_count": 41,
   "id": "8a6b00ea",
   "metadata": {
    "execution": {
     "iopub.execute_input": "2024-10-20T18:58:31.825742Z",
     "iopub.status.busy": "2024-10-20T18:58:31.825610Z",
     "iopub.status.idle": "2024-10-20T18:58:31.830652Z",
     "shell.execute_reply": "2024-10-20T18:58:31.830246Z"
    }
   },
   "outputs": [
    {
     "name": "stdout",
     "output_type": "stream",
     "text": [
      "hemisphere  Year\n",
      "north       1978    10.231\n",
      "            1979     6.895\n",
      "            1980     7.533\n",
      "            1981     6.902\n",
      "            1982     7.160\n",
      "                     ...  \n",
      "south       2015     3.544\n",
      "            2016     2.616\n",
      "            2017     2.080\n",
      "            2018     2.150\n",
      "            2019     2.444\n",
      "Name: Extent, Length: 84, dtype: float64\n"
     ]
    }
   ],
   "source": [
    "grouped = df.groupby(['hemisphere', 'Year'])\n",
    "print(grouped['Extent'].min())"
   ]
  },
  {
   "cell_type": "markdown",
   "id": "21632fb9",
   "metadata": {},
   "source": [
    "Pandas has built-in methods to make plots. Below we are making a plot and then getting the `figure` from the plot and saving it to a file. The resulting plot is being imported back into these notes."
   ]
  },
  {
   "cell_type": "code",
   "execution_count": 42,
   "id": "3e09e501",
   "metadata": {
    "execution": {
     "iopub.execute_input": "2024-10-20T18:58:31.832400Z",
     "iopub.status.busy": "2024-10-20T18:58:31.832292Z",
     "iopub.status.idle": "2024-10-20T18:58:32.436749Z",
     "shell.execute_reply": "2024-10-20T18:58:32.436339Z"
    }
   },
   "outputs": [
    {
     "data": {
      "image/png": "[encoded data removed]",
      "text/plain": [
       "<Figure size 640x480 with 1 Axes>"
      ]
     },
     "metadata": {},
     "output_type": "display_data"
    }
   ],
   "source": [
    "grouped = df.groupby(['hemisphere', 'Year'])\n",
    "ice_extent = grouped['Extent'].min()['north']\n",
    "\n",
    "my_plot = ice_extent.plot()\n",
    "my_plot.get_figure().savefig(\"figures/040_1.jpeg\")"
   ]
  },
  {
   "cell_type": "markdown",
   "id": "bd2c989e",
   "metadata": {},
   "source": [
    "You can see that the sea ice extent has been broadly trending downwards but the values at the extremes of the x-axis look a bit odd, i.e., there are very large values for the first and last year in the dataset. This is an 'artifact' caused by the data for these years being incomplete. The data for 1978 only start in November and the data for 2019 only go up to July. The code has computed the average for the few months that are available, but this is not representative of the average for the full year. We can fix this problem by simply removing these years from the data before plotting.\n",
    "\n",
    "To remove the first and last values in a series we can use the familiar slicing notation that we saw when using NumPy, '[1:-1]'. So, the code will now look like"
   ]
  },
  {
   "cell_type": "code",
   "execution_count": 43,
   "id": "8e50a4cc",
   "metadata": {
    "execution": {
     "iopub.execute_input": "2024-10-20T18:58:32.438576Z",
     "iopub.status.busy": "2024-10-20T18:58:32.438394Z",
     "iopub.status.idle": "2024-10-20T18:58:32.511865Z",
     "shell.execute_reply": "2024-10-20T18:58:32.511464Z"
    }
   },
   "outputs": [
    {
     "data": {
      "image/png": "[encoded data removed]",
      "text/plain": [
       "<Figure size 640x480 with 1 Axes>"
      ]
     },
     "metadata": {},
     "output_type": "display_data"
    }
   ],
   "source": [
    "grouped = df.groupby(['hemisphere', 'Year'])\n",
    "ice_extent = grouped['Extent'].min()['north']\n",
    "ice_extent = ice_extent[1:-1]  # remove first and last years\n",
    "\n",
    "my_plot = ice_extent.plot(title='Arctic sea ice minimum', ylabel='million square km')\n",
    "my_plot.get_figure().savefig(\"figures/040_2.jpeg\")"
   ]
  },
  {
   "cell_type": "markdown",
   "id": "8eaf909b",
   "metadata": {},
   "source": [
    "Notice how the sea ice minimum fluctuates seemingly at random from year to year. This kind of unexplained variation in data is often referred to as noise. However, ignoring the fluctuations, we can see that there also appears to be a downward trend in the sea ice minimum. If we want to be sure that there is a genuine downward trend and that the low values in recent years are not just part of the usual random fluctuations, then we need to perform some statistical analysis. We will look at how to do this later in the module.\n",
    "\n",
    "## 5 Dealing with Missing Data\n",
    "\n",
    "Very often we need to work with data sets that have 'missing values', i.e., for one or more fields in the data there is no value available. These are typically encoded in the data file using a special symbol such as 'NaN'. For example, we may have some employee data that records an ID, a surname and age, and a gender, but there may be some employees that have not provided either their age or gender or both.\n",
    "\n",
    "We can read and display some example data."
   ]
  },
  {
   "cell_type": "code",
   "execution_count": 44,
   "id": "5f391209",
   "metadata": {
    "execution": {
     "iopub.execute_input": "2024-10-20T18:58:32.513916Z",
     "iopub.status.busy": "2024-10-20T18:58:32.513792Z",
     "iopub.status.idle": "2024-10-20T18:58:32.517059Z",
     "shell.execute_reply": "2024-10-20T18:58:32.516645Z"
    }
   },
   "outputs": [],
   "source": [
    "df = pd.read_csv('data/employee.csv')"
   ]
  },
  {
   "cell_type": "markdown",
   "id": "9b8a5bc4",
   "metadata": {},
   "source": [
    "Note, below, the presence of 'NaN' in the age and gender columns."
   ]
  },
  {
   "cell_type": "code",
   "execution_count": 45,
   "id": "881fdee6",
   "metadata": {
    "execution": {
     "iopub.execute_input": "2024-10-20T18:58:32.518831Z",
     "iopub.status.busy": "2024-10-20T18:58:32.518700Z",
     "iopub.status.idle": "2024-10-20T18:58:32.521611Z",
     "shell.execute_reply": "2024-10-20T18:58:32.521267Z"
    }
   },
   "outputs": [
    {
     "name": "stdout",
     "output_type": "stream",
     "text": [
      "   ID    Surname   Age  Gender\n",
      "0   1      Smith  32.0    Male\n",
      "1   2    Johnson  45.0  Female\n",
      "2   3   Gonzalez   NaN     NaN\n",
      "3   4         Li  37.0  Female\n",
      "4   5      Brown  41.0    Male\n",
      "5   6  Rodriguez  29.0  Female\n",
      "6   7      Kumar  32.0     NaN\n",
      "7   8      Lopez  36.0  Female\n",
      "8   9     Nguyen   NaN    Male\n",
      "9  10      Patel  40.0    Male\n"
     ]
    }
   ],
   "source": [
    "print(df)"
   ]
  },
  {
   "cell_type": "markdown",
   "id": "abb1c563",
   "metadata": {},
   "source": [
    "There are some simple functions to test for the presence of these missing values. For example, the `isnull()` method will produce a new dataframe of boolean values with a value of True in every location where an item of data is missing."
   ]
  },
  {
   "cell_type": "code",
   "execution_count": 46,
   "id": "f361c3fb",
   "metadata": {
    "execution": {
     "iopub.execute_input": "2024-10-20T18:58:32.523319Z",
     "iopub.status.busy": "2024-10-20T18:58:32.523197Z",
     "iopub.status.idle": "2024-10-20T18:58:32.525984Z",
     "shell.execute_reply": "2024-10-20T18:58:32.525670Z"
    }
   },
   "outputs": [
    {
     "name": "stdout",
     "output_type": "stream",
     "text": [
      "      ID  Surname    Age  Gender\n",
      "0  False    False  False   False\n",
      "1  False    False  False   False\n",
      "2  False    False   True    True\n",
      "3  False    False  False   False\n",
      "4  False    False  False   False\n",
      "5  False    False  False   False\n",
      "6  False    False  False    True\n",
      "7  False    False  False   False\n",
      "8  False    False   True   False\n",
      "9  False    False  False   False\n"
     ]
    }
   ],
   "source": [
    "print(pd.isnull(df))"
   ]
  },
  {
   "cell_type": "markdown",
   "id": "ef6d97c6",
   "metadata": {},
   "source": [
    "Typically if we have missing values we will need to take some action to deal with them before progressing with our analysis. Depending on the situation, the most appropriate action might be to simply remove the rows with missing values, or to fill in the missing values with some sensible default value, or to use some more sophisticated method for estimating what the missing values would have been if they had been present.\n",
    "\n",
    "### 5.1 Filling missing data with a fixed value\n",
    "\n",
    "We can fill in missing values using the `fillna` method. For example, if displaying the data, we may simply want to replace the Gender NaNs with something more readable, such as 'Gender not provided.' This is done as follows."
   ]
  },
  {
   "cell_type": "code",
   "execution_count": 47,
   "id": "2d8e7158",
   "metadata": {
    "execution": {
     "iopub.execute_input": "2024-10-20T18:58:32.527863Z",
     "iopub.status.busy": "2024-10-20T18:58:32.527751Z",
     "iopub.status.idle": "2024-10-20T18:58:32.530135Z",
     "shell.execute_reply": "2024-10-20T18:58:32.529813Z"
    }
   },
   "outputs": [
    {
     "name": "stderr",
     "output_type": "stream",
     "text": [
      "/var/folders/ps/hyszp8bj4g9269mcf_y3psz40000gp/T/ipykernel_59408/1817109800.py:1: FutureWarning: A value is trying to be set on a copy of a DataFrame or Series through chained assignment using an inplace method.\n",
      "The behavior will change in pandas 3.0. This inplace method will never work because the intermediate object on which we are setting values always behaves as a copy.\n",
      "\n",
      "For example, when doing 'df[col].method(value, inplace=True)', try using 'df.method({col: value}, inplace=True)' or df[col] = df[col].method(value) instead, to perform the operation inplace on the original object.\n",
      "\n",
      "\n",
      "  df['Gender'].fillna(\"Gender not provided\", inplace = True)\n"
     ]
    }
   ],
   "source": [
    "df['Gender'].fillna(\"Gender not provided\", inplace = True)"
   ]
  },
  {
   "cell_type": "code",
   "execution_count": 48,
   "id": "4adb9474",
   "metadata": {
    "execution": {
     "iopub.execute_input": "2024-10-20T18:58:32.531914Z",
     "iopub.status.busy": "2024-10-20T18:58:32.531783Z",
     "iopub.status.idle": "2024-10-20T18:58:32.534831Z",
     "shell.execute_reply": "2024-10-20T18:58:32.534443Z"
    }
   },
   "outputs": [
    {
     "name": "stdout",
     "output_type": "stream",
     "text": [
      "   ID    Surname   Age               Gender\n",
      "0   1      Smith  32.0                 Male\n",
      "1   2    Johnson  45.0               Female\n",
      "2   3   Gonzalez   NaN  Gender not provided\n",
      "3   4         Li  37.0               Female\n",
      "4   5      Brown  41.0                 Male\n",
      "5   6  Rodriguez  29.0               Female\n",
      "6   7      Kumar  32.0  Gender not provided\n",
      "7   8      Lopez  36.0               Female\n",
      "8   9     Nguyen   NaN                 Male\n",
      "9  10      Patel  40.0                 Male\n"
     ]
    }
   ],
   "source": [
    "print(df)"
   ]
  },
  {
   "cell_type": "markdown",
   "id": "f87a873a",
   "metadata": {},
   "source": [
    "Note the parameter `inplace = True`. This tells Pandas to modify the DataFrame 'in place' rather than making and returning a modified copy of the original DataFrame (which is what happens when you set `inplace = False`, or use the default behaviour). This 'in place' modification is a common pattern in Pandas and many methods have this `inplace` parameter. For large DataFrames, it is often desirable to modify the DataFrame in place to avoid the memory overhead of creating a new DataFrame. However, it can be a dangerous style of programming that can lead to subtle errors. For example, if we have a function that modifies a DataFrame in place but which also returns the modified DataFrame, then the user of the function may be unaware that the DataFrame they are passing as a parameter is going to be changed by the function. This unexpected behaviour can easily lead to bugs. It is often better to leave the `inplace` attribute set to False and to assign the result of the method to a new variable. This is a safer style of programming and should be preferred unless you are sure that it is causing a performance problem.\n",
    "\n",
    "The `fillna` method has other useful options such as a `method` parameter that can fill the missing value with the previous or next valid observation in the Series. This behaviour is useful for sequential data, e.g., data ordered by date, for example. For example, if there is a weather station but it has failed to record a temperature on a particular day, then we might opt to fill in the missing value with the temperature recorded on the previous day as this is likely to be a reasonably good estimate.\n",
    "\n",
    "### 5.2 Filling missing values using 'mean imputation'\n",
    "\n",
    "Another common strategy for filling missing values in numeric data is to fill the missing values with the mean of the values that are present. In the data science literature, this is known as 'mean imputation'. This might be a sensible way of treating our missing employee age data and can be easily done using,"
   ]
  },
  {
   "cell_type": "code",
   "execution_count": 49,
   "id": "dd3210fb",
   "metadata": {
    "execution": {
     "iopub.execute_input": "2024-10-20T18:58:32.536429Z",
     "iopub.status.busy": "2024-10-20T18:58:32.536332Z",
     "iopub.status.idle": "2024-10-20T18:58:32.538525Z",
     "shell.execute_reply": "2024-10-20T18:58:32.538155Z"
    }
   },
   "outputs": [
    {
     "name": "stderr",
     "output_type": "stream",
     "text": [
      "/var/folders/ps/hyszp8bj4g9269mcf_y3psz40000gp/T/ipykernel_59408/2940318962.py:1: FutureWarning: A value is trying to be set on a copy of a DataFrame or Series through chained assignment using an inplace method.\n",
      "The behavior will change in pandas 3.0. This inplace method will never work because the intermediate object on which we are setting values always behaves as a copy.\n",
      "\n",
      "For example, when doing 'df[col].method(value, inplace=True)', try using 'df.method({col: value}, inplace=True)' or df[col] = df[col].method(value) instead, to perform the operation inplace on the original object.\n",
      "\n",
      "\n",
      "  df['Age'].fillna(df['Age'].mean(), inplace = True)\n"
     ]
    }
   ],
   "source": [
    "df['Age'].fillna(df['Age'].mean(), inplace = True)"
   ]
  },
  {
   "cell_type": "markdown",
   "id": "fd7c7285",
   "metadata": {},
   "source": [
    "This will produce the following."
   ]
  },
  {
   "cell_type": "code",
   "execution_count": 50,
   "id": "ca084f37",
   "metadata": {
    "execution": {
     "iopub.execute_input": "2024-10-20T18:58:32.540125Z",
     "iopub.status.busy": "2024-10-20T18:58:32.540013Z",
     "iopub.status.idle": "2024-10-20T18:58:32.542711Z",
     "shell.execute_reply": "2024-10-20T18:58:32.542459Z"
    }
   },
   "outputs": [
    {
     "name": "stdout",
     "output_type": "stream",
     "text": [
      "   ID    Surname   Age               Gender\n",
      "0   1      Smith  32.0                 Male\n",
      "1   2    Johnson  45.0               Female\n",
      "2   3   Gonzalez  36.5  Gender not provided\n",
      "3   4         Li  37.0               Female\n",
      "4   5      Brown  41.0                 Male\n",
      "5   6  Rodriguez  29.0               Female\n",
      "6   7      Kumar  32.0  Gender not provided\n",
      "7   8      Lopez  36.0               Female\n",
      "8   9     Nguyen  36.5                 Male\n",
      "9  10      Patel  40.0                 Male\n"
     ]
    }
   ],
   "source": [
    "print(df)"
   ]
  },
  {
   "cell_type": "markdown",
   "id": "9958563d",
   "metadata": {},
   "source": [
    "Note how the missing age values for Gonzalez and Nguyen have now been replaced with 36.5.  Obviously, this is unlikely to be their true ages, but it might be a sensible guess to use in the analysis stages that are going to follow.\n",
    "\n",
    "Treatment of missing data is a big topic and something we will return to later in the module.\n",
    "\n",
    "## 6 Collating data\n",
    "\n",
    "Very often, as Data Scientists, we need to combine data from different sources. For example, we might have two separate datasets that are linked by a shared field, such as the customer ID, date, or location. These will typically start lief as separate files. These can be read into two separate DataFrames but in order to understand the data we will generally need to combine these DataFrames into a new common DataFrame, in some way.\n",
    "\n",
    "In the simple example below, we will consider two different sets of atmospheric gas readings, carbon dioxide and methane that have been measured at the same location over time but are stored separately in the files `co2.csv` and `ch4.csv`. (The file names are based on the chemical formulae for carbon dioxide and methane, CO<sub>2</sub> and CH<sub>4</sub>, respectively).\n",
    "\n",
    "Let us imagine that the first few rows of these tables look like this\n",
    "\n",
    "```csv\n",
    "year, month, day, co2\n",
    "2020, 1, 02, 442\n",
    "2020, 1, 03, 444\n",
    "2020, 1, 04, 441\n",
    "2020, 1, 07, 446\n",
    "```\n",
    "\n",
    "and this,\n",
    "\n",
    "```csv\n",
    "year, month, day, ch4\n",
    "2020, 1, 02, 442\n",
    "2020, 1, 03, 444\n",
    "2020, 1, 05, 441\n",
    "2020, 1, 06, 442\n",
    "2020, 1, 07, 446\n",
    "```\n",
    "\n",
    "We can see that both tables share the same year, month and day columns but each have their own unique column for the gas concentration measurement. We can also see that the data are not recorded on every day: on some days there is both a carbon dioxide and a methane measurement, on some there is only one or the other and on some dates there is neither. We will now consider different ways in which these datasets can be combined.\n",
    "\n",
    "### 6.1 Combining DataFrames using the `merge` method\n",
    "\n",
    "To make the task a bit more instructive, the above data have some missing entries, e.g., entries for days 05 and 06 are missing from the CO<sub>2</sub> data. The entry for day 04 is missing from the CH<sub>4</sub> data. In a well-designed dataset these might have been recorded with NaN values but often there are just gaps in the data.\n",
    "\n",
    "We can read these tables using,"
   ]
  },
  {
   "cell_type": "code",
   "execution_count": 51,
   "id": "979f44cb",
   "metadata": {
    "execution": {
     "iopub.execute_input": "2024-10-20T18:58:32.544265Z",
     "iopub.status.busy": "2024-10-20T18:58:32.544166Z",
     "iopub.status.idle": "2024-10-20T18:58:32.547624Z",
     "shell.execute_reply": "2024-10-20T18:58:32.547309Z"
    }
   },
   "outputs": [],
   "source": [
    "co2_df = pd.read_csv('data/co2_ex.csv', skipinitialspace=True)\n",
    "ch4_df = pd.read_csv('data/ch4_ex.csv',  skipinitialspace=True)"
   ]
  },
  {
   "cell_type": "code",
   "execution_count": 52,
   "id": "5078c254",
   "metadata": {
    "execution": {
     "iopub.execute_input": "2024-10-20T18:58:32.549097Z",
     "iopub.status.busy": "2024-10-20T18:58:32.548986Z",
     "iopub.status.idle": "2024-10-20T18:58:32.551914Z",
     "shell.execute_reply": "2024-10-20T18:58:32.551613Z"
    }
   },
   "outputs": [
    {
     "name": "stdout",
     "output_type": "stream",
     "text": [
      "   year  month  day  co2\n",
      "0  2020      1    2  442\n",
      "1  2020      1    3  444\n",
      "2  2020      1    4  441\n",
      "3  2020      1    7  446\n",
      "   year  month  day  ch4\n",
      "0  2020      1    2  442\n",
      "1  2020      1    3  444\n",
      "2  2020      1    5  441\n",
      "3  2020      1    6  442\n",
      "4  2020      1    7  446\n"
     ]
    }
   ],
   "source": [
    "print(co2_df)\n",
    "print(ch4_df)"
   ]
  },
  {
   "cell_type": "markdown",
   "id": "5d437ec9",
   "metadata": {},
   "source": [
    "We can now `merge` the tables. To do this, we need to pick a column to **merge on**. This is typically a key-like value that uniquely identifies the data entry (i.e., the row) and appears in both tables. If no one column is unique then we can use a collection of columns to merge on. For example, in our data, neither the year, month nor day would be a unique identifier if taken in isolation, but the three together form a unique set of values (i.e., because there is only one measurement per day, no two rows have an identical year, month and day). So we will use `on=['year', 'month', 'day']`.\n",
    "\n",
    "We can then merge in four different ways: `inner`, `outer`, `left` or `right`. These differ in how they treat missing values: `inner` will only merge rows in which the row exists in both DataFrames (i.e., if you think of this a merging two *sets* then this would be an 'intersection'); `outer` will include rows that exist in either of the two DataFrames (i.e., in terms of sets, this would be a 'union'); `left` only includes rows which are in the first DataFrame and `right` only those in the second. This can be most easily understood by comparing the outputs below.\n",
    "\n",
    "* Merging CO<sub>2</sub> and CH<sub>4</sub> using an `inner` merge:"
   ]
  },
  {
   "cell_type": "code",
   "execution_count": 53,
   "id": "1820fb8f",
   "metadata": {
    "execution": {
     "iopub.execute_input": "2024-10-20T18:58:32.553514Z",
     "iopub.status.busy": "2024-10-20T18:58:32.553403Z",
     "iopub.status.idle": "2024-10-20T18:58:32.557568Z",
     "shell.execute_reply": "2024-10-20T18:58:32.557138Z"
    }
   },
   "outputs": [
    {
     "name": "stdout",
     "output_type": "stream",
     "text": [
      "   year  month  day  co2  ch4\n",
      "0  2020      1    2  442  442\n",
      "1  2020      1    3  444  444\n",
      "2  2020      1    7  446  446\n"
     ]
    }
   ],
   "source": [
    "combined_df = co2_df.merge(ch4_df, on=['year', 'month', 'day'], how='inner')\n",
    "print(combined_df)"
   ]
  },
  {
   "cell_type": "markdown",
   "id": "4f533085",
   "metadata": {},
   "source": [
    "* Merging CO<sub>2</sub> and CH<sub>4</sub> using an `outer` merge:"
   ]
  },
  {
   "cell_type": "code",
   "execution_count": 54,
   "id": "78c5a658",
   "metadata": {
    "execution": {
     "iopub.execute_input": "2024-10-20T18:58:32.559470Z",
     "iopub.status.busy": "2024-10-20T18:58:32.559371Z",
     "iopub.status.idle": "2024-10-20T18:58:32.564050Z",
     "shell.execute_reply": "2024-10-20T18:58:32.563588Z"
    }
   },
   "outputs": [
    {
     "name": "stdout",
     "output_type": "stream",
     "text": [
      "   year  month  day    co2    ch4\n",
      "0  2020      1    2  442.0  442.0\n",
      "1  2020      1    3  444.0  444.0\n",
      "2  2020      1    4  441.0    NaN\n",
      "3  2020      1    5    NaN  441.0\n",
      "4  2020      1    6    NaN  442.0\n",
      "5  2020      1    7  446.0  446.0\n"
     ]
    }
   ],
   "source": [
    "combined_df = co2_df.merge(ch4_df, on=['year', 'month', 'day'], how='outer')\n",
    "print(combined_df)"
   ]
  },
  {
   "cell_type": "markdown",
   "id": "95ded05c",
   "metadata": {},
   "source": [
    "* Merging CO<sub>2</sub> and CH<sub>4</sub> using a `left` merge:"
   ]
  },
  {
   "cell_type": "code",
   "execution_count": 55,
   "id": "d95d8ab7",
   "metadata": {
    "execution": {
     "iopub.execute_input": "2024-10-20T18:58:32.565626Z",
     "iopub.status.busy": "2024-10-20T18:58:32.565491Z",
     "iopub.status.idle": "2024-10-20T18:58:32.569176Z",
     "shell.execute_reply": "2024-10-20T18:58:32.568812Z"
    }
   },
   "outputs": [
    {
     "name": "stdout",
     "output_type": "stream",
     "text": [
      "   year  month  day  co2    ch4\n",
      "0  2020      1    2  442  442.0\n",
      "1  2020      1    3  444  444.0\n",
      "2  2020      1    4  441    NaN\n",
      "3  2020      1    7  446  446.0\n"
     ]
    }
   ],
   "source": [
    "combined_df = co2_df.merge(ch4_df, on=['year', 'month', 'day'], how='left')\n",
    "print(combined_df)"
   ]
  },
  {
   "cell_type": "markdown",
   "id": "9cde5bf2",
   "metadata": {},
   "source": [
    "* Merging CO<sub>2</sub> and CH<sub>4</sub> using a `right` merge:"
   ]
  },
  {
   "cell_type": "code",
   "execution_count": 56,
   "id": "56cc5a8e",
   "metadata": {
    "execution": {
     "iopub.execute_input": "2024-10-20T18:58:32.570848Z",
     "iopub.status.busy": "2024-10-20T18:58:32.570754Z",
     "iopub.status.idle": "2024-10-20T18:58:32.574944Z",
     "shell.execute_reply": "2024-10-20T18:58:32.574653Z"
    }
   },
   "outputs": [
    {
     "name": "stdout",
     "output_type": "stream",
     "text": [
      "   year  month  day    co2  ch4\n",
      "0  2020      1    2  442.0  442\n",
      "1  2020      1    3  444.0  444\n",
      "2  2020      1    5    NaN  441\n",
      "3  2020      1    6    NaN  442\n",
      "4  2020      1    7  446.0  446\n"
     ]
    }
   ],
   "source": [
    "combined_df = co2_df.merge(ch4_df, on=['year', 'month', 'day'], how='right')\n",
    "print(combined_df)"
   ]
  },
  {
   "cell_type": "markdown",
   "id": "8d6b73f7",
   "metadata": {},
   "source": [
    "In all cases, in the resulting table, any missing values will be automatically filled in with NaNs.\n",
    "\n",
    "Warning:\n",
    "\n",
    "Typically, the join columns act as a unique key. What happens if we choose columns that are not unique? Below we attempt to join on the 'year' column which is actually the same for all our rows, i.e.,"
   ]
  },
  {
   "cell_type": "code",
   "execution_count": 57,
   "id": "afeac8a2",
   "metadata": {
    "execution": {
     "iopub.execute_input": "2024-10-20T18:58:32.576777Z",
     "iopub.status.busy": "2024-10-20T18:58:32.576645Z",
     "iopub.status.idle": "2024-10-20T18:58:32.580101Z",
     "shell.execute_reply": "2024-10-20T18:58:32.579733Z"
    }
   },
   "outputs": [
    {
     "name": "stdout",
     "output_type": "stream",
     "text": [
      "    year  month_x  day_x  co2  month_y  day_y  ch4\n",
      "0   2020        1      2  442        1      2  442\n",
      "1   2020        1      2  442        1      3  444\n",
      "2   2020        1      2  442        1      5  441\n",
      "3   2020        1      2  442        1      6  442\n",
      "4   2020        1      2  442        1      7  446\n",
      "5   2020        1      3  444        1      2  442\n",
      "6   2020        1      3  444        1      3  444\n",
      "7   2020        1      3  444        1      5  441\n",
      "8   2020        1      3  444        1      6  442\n",
      "9   2020        1      3  444        1      7  446\n",
      "10  2020        1      4  441        1      2  442\n",
      "11  2020        1      4  441        1      3  444\n",
      "12  2020        1      4  441        1      5  441\n",
      "13  2020        1      4  441        1      6  442\n",
      "14  2020        1      4  441        1      7  446\n",
      "15  2020        1      7  446        1      2  442\n",
      "16  2020        1      7  446        1      3  444\n",
      "17  2020        1      7  446        1      5  441\n",
      "18  2020        1      7  446        1      6  442\n",
      "19  2020        1      7  446        1      7  446\n"
     ]
    }
   ],
   "source": [
    "combined_df = co2_df.merge(ch4_df, on=['year'], how='inner')\n",
    "print(combined_df)"
   ]
  },
  {
   "cell_type": "markdown",
   "id": "9838786e",
   "metadata": {},
   "source": [
    "This has taken the set of rows from each table that share the same year and made new rows using every possible pairing of rows in these sets. Also because 'month' and 'day' were not in the join, the new DataFrame now has separate month and day columns coming from the two original DataFrames which have been automatically distinguished with the suffixes '_x' and '_y'.  There are actually instances when we might want this behaviour, but if your output is looking like this, it is more likely that it's because you have set the `on` parameter incorrectly.\n",
    "\n",
    "### 6.2 Combining DataFrames using the `join` method\n",
    "\n",
    "The `join` function is very similar to `merge` except that it uses the DataFrame index to decide which rows to combine. It can be thought of as a special case of `merge`, however, it is often more convenient and faster to use. If the DataFrame already has a meaningful index, then this is very easy to use; e.g., perhaps a product ID column is being used as the index and we have two DataFrames containing product sales for different product ranges that we wish to join.\n",
    "\n",
    "In our case, if working with the CO<sub>2</sub> and CH<sub>4</sub> data from above, in order to use join, we would first need to make an index using the year, month, and day columns. We can do this using the `set_index` method, like this:"
   ]
  },
  {
   "cell_type": "code",
   "execution_count": 58,
   "id": "51a05270",
   "metadata": {
    "execution": {
     "iopub.execute_input": "2024-10-20T18:58:32.581796Z",
     "iopub.status.busy": "2024-10-20T18:58:32.581640Z",
     "iopub.status.idle": "2024-10-20T18:58:32.584755Z",
     "shell.execute_reply": "2024-10-20T18:58:32.584415Z"
    }
   },
   "outputs": [],
   "source": [
    "co2_df_indexed = co2_df.set_index(['year', 'month', 'day'])\n",
    "ch4_df_indexed = ch4_df.set_index(['year', 'month', 'day'])"
   ]
  },
  {
   "cell_type": "code",
   "execution_count": 59,
   "id": "f5a7a86a",
   "metadata": {
    "execution": {
     "iopub.execute_input": "2024-10-20T18:58:32.586338Z",
     "iopub.status.busy": "2024-10-20T18:58:32.586243Z",
     "iopub.status.idle": "2024-10-20T18:58:32.589191Z",
     "shell.execute_reply": "2024-10-20T18:58:32.588889Z"
    }
   },
   "outputs": [
    {
     "name": "stdout",
     "output_type": "stream",
     "text": [
      "                co2\n",
      "year month day     \n",
      "2020 1     2    442\n",
      "           3    444\n",
      "           4    441\n",
      "           7    446\n",
      "                ch4\n",
      "year month day     \n",
      "2020 1     2    442\n",
      "           3    444\n",
      "           5    441\n",
      "           6    442\n",
      "           7    446\n"
     ]
    }
   ],
   "source": [
    "print(co2_df_indexed)\n",
    "print(ch4_df_indexed)"
   ]
  },
  {
   "cell_type": "markdown",
   "id": "e239d3c3",
   "metadata": {},
   "source": [
    "We can now perform the join. Again, as with merge, we can join using `inner`, `outer`, `left` or `right`."
   ]
  },
  {
   "cell_type": "code",
   "execution_count": 60,
   "id": "d5cbda6f",
   "metadata": {
    "execution": {
     "iopub.execute_input": "2024-10-20T18:58:32.590926Z",
     "iopub.status.busy": "2024-10-20T18:58:32.590808Z",
     "iopub.status.idle": "2024-10-20T18:58:32.594781Z",
     "shell.execute_reply": "2024-10-20T18:58:32.594395Z"
    }
   },
   "outputs": [
    {
     "name": "stdout",
     "output_type": "stream",
     "text": [
      "                  co2    ch4\n",
      "year month day              \n",
      "2020 1     2    442.0  442.0\n",
      "           3    444.0  444.0\n",
      "           4    441.0    NaN\n",
      "           5      NaN  441.0\n",
      "           6      NaN  442.0\n",
      "           7    446.0  446.0\n"
     ]
    }
   ],
   "source": [
    "combined_df = co2_df_indexed.join(ch4_df_indexed, how='outer')\n",
    "print(combined_df)"
   ]
  },
  {
   "cell_type": "markdown",
   "id": "3e1badea",
   "metadata": {},
   "source": [
    "Comparing `merge` and `join`, `merge` is more versatile because it can merge on any column, whereas join can only merge on the index. So you might wonder why we have a `join` method at all? The answer is that the `join` method works internally in a very different way than `merge` that exploits special properties of the DataFrame index. For large DataFrames, `join` is generally much faster than `merge` and so should be preferred if its use is possible.\n",
    "\n",
    "## Summary\n",
    "\n",
    "Pandas is a large and sophisticated package for working with data. In this tutorial, we have used it to read data, to deal with missing values, to conditionally filter data, to compute statistic on fields with and without prior grouping, and to combine datasets using merge and join. This is a good overview of the most commonly used functionality, but only scratches the surface of what Pandas can do. There are entire books dedicated to Pandas and extensive documentation available online: it is a very useful tool to have in your toolbox. We will be using it throughout the rest of the module and will introduce new functionality as required."
   ]
  }
 ],
 "metadata": {
  "jupytext": {
   "cell_metadata_filter": "incorrectly_encoded_metadata,-all",
   "cell_metadata_json": true
  },
  "kernelspec": {
   "display_name": "Python 3 (ipykernel)",
   "language": "python",
   "name": "python3"
  },
  "language_info": {
   "codemirror_mode": {
    "name": "ipython",
    "version": 3
   },
   "file_extension": ".py",
   "mimetype": "text/x-python",
   "name": "python",
   "nbconvert_exporter": "python",
   "pygments_lexer": "ipython3",
   "version": "3.12.5"
  }
 },
 "nbformat": 4,
 "nbformat_minor": 5
}
