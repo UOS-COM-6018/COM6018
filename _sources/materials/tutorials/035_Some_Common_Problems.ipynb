{
 "cells": [
  {
   "cell_type": "markdown",
   "id": "0e695d7d",
   "metadata": {},
   "source": [
    "# 035 Some Common Problems\n",
    "\n",
    "> COM6018\n",
    "\n",
    "*Copyright &copy; 2023, 2024 Jon Barker, University of Sheffield. All rights reserved*.\n",
    "\n",
    "## 1. Introducing\n",
    "\n",
    "This notebook considers some common Python and NumPy programming issues that you may encounter. The list is not exhaustive, but is based on personal experience. If you have any suggestions for other common problems to include, please let me know.\n",
    "\n",
    "Below we will import NumPy which will be used in some of the examples that follow."
   ]
  },
  {
   "cell_type": "code",
   "execution_count": 1,
   "id": "d39da73d",
   "metadata": {
    "execution": {
     "iopub.execute_input": "2024-10-13T21:46:19.480096Z",
     "iopub.status.busy": "2024-10-13T21:46:19.479788Z",
     "iopub.status.idle": "2024-10-13T21:46:19.510322Z",
     "shell.execute_reply": "2024-10-13T21:46:19.509941Z"
    }
   },
   "outputs": [],
   "source": [
    "import numpy as np"
   ]
  },
  {
   "cell_type": "markdown",
   "id": "e934a673",
   "metadata": {},
   "source": [
    "## 2. Comparing NumPy arrays\n",
    "\n",
    "How do we check whether two arrays are equal?  The obvious answer is to use the `==` operator, but this does not work as expected:"
   ]
  },
  {
   "cell_type": "code",
   "execution_count": 2,
   "id": "b5a9da90",
   "metadata": {
    "execution": {
     "iopub.execute_input": "2024-10-13T21:46:19.512479Z",
     "iopub.status.busy": "2024-10-13T21:46:19.512319Z",
     "iopub.status.idle": "2024-10-13T21:46:19.600351Z",
     "shell.execute_reply": "2024-10-13T21:46:19.599946Z"
    },
    "tags": [
     "raises-exception"
    ]
   },
   "outputs": [
    {
     "ename": "ValueError",
     "evalue": "The truth value of an array with more than one element is ambiguous. Use a.any() or a.all()",
     "output_type": "error",
     "traceback": [
      "\u001b[0;31m---------------------------------------------------------------------------\u001b[0m",
      "\u001b[0;31mValueError\u001b[0m                                Traceback (most recent call last)",
      "Cell \u001b[0;32mIn[2], line 3\u001b[0m\n\u001b[1;32m      1\u001b[0m x \u001b[38;5;241m=\u001b[39m np\u001b[38;5;241m.\u001b[39marray([\u001b[38;5;241m1\u001b[39m, \u001b[38;5;241m2\u001b[39m, \u001b[38;5;241m3\u001b[39m])\n\u001b[1;32m      2\u001b[0m y \u001b[38;5;241m=\u001b[39m np\u001b[38;5;241m.\u001b[39marray([\u001b[38;5;241m4\u001b[39m, \u001b[38;5;241m5\u001b[39m, \u001b[38;5;241m6\u001b[39m])\n\u001b[0;32m----> 3\u001b[0m \u001b[38;5;28;01mif\u001b[39;00m x \u001b[38;5;241m==\u001b[39m y:\n\u001b[1;32m      4\u001b[0m     \u001b[38;5;28mprint\u001b[39m(\u001b[38;5;124m\"\u001b[39m\u001b[38;5;124mX and Y are equal\u001b[39m\u001b[38;5;124m\"\u001b[39m)\n\u001b[1;32m      5\u001b[0m \u001b[38;5;28;01melse\u001b[39;00m:\n",
      "\u001b[0;31mValueError\u001b[0m: The truth value of an array with more than one element is ambiguous. Use a.any() or a.all()"
     ]
    }
   ],
   "source": [
    "x = np.array([1, 2, 3])\n",
    "y = np.array([4, 5, 6])\n",
    "if x == y:\n",
    "    print(\"X and Y are equal\")\n",
    "else:\n",
    "    print(\"X and Y are not equal\")"
   ]
  },
  {
   "cell_type": "markdown",
   "id": "99d5b641",
   "metadata": {},
   "source": [
    "The reason is that the `==` operator works on the individual elements of the array, returning an array of booleans:"
   ]
  },
  {
   "cell_type": "code",
   "execution_count": 3,
   "id": "2f768eb2",
   "metadata": {
    "execution": {
     "iopub.execute_input": "2024-10-13T21:46:19.602273Z",
     "iopub.status.busy": "2024-10-13T21:46:19.602150Z",
     "iopub.status.idle": "2024-10-13T21:46:19.604429Z",
     "shell.execute_reply": "2024-10-13T21:46:19.604119Z"
    }
   },
   "outputs": [
    {
     "name": "stdout",
     "output_type": "stream",
     "text": [
      "[False False False]\n"
     ]
    }
   ],
   "source": [
    "x = np.array([1, 2, 3])\n",
    "y = np.array([4, 5, 6])\n",
    "print(x == y)"
   ]
  },
  {
   "cell_type": "markdown",
   "id": "e3bcfda6",
   "metadata": {},
   "source": [
    "The `if` statement strictly requires a single Boolean value and not an array of Booleans.\n",
    "\n",
    "The NumPy methods all() and any() can be used to reduce an array of Booleans to a single Boolean value. i.e., we can write `x.all()` or `x.any()`. As the names suggest, `all()` will only return True if all the elements in the array `x` are True, whereas `any()` returns True if any of the elements are True.\n",
    "\n",
    "So to compare a pair of arrays, we can write code like the following:"
   ]
  },
  {
   "cell_type": "code",
   "execution_count": 4,
   "id": "0a76668e",
   "metadata": {
    "execution": {
     "iopub.execute_input": "2024-10-13T21:46:19.606297Z",
     "iopub.status.busy": "2024-10-13T21:46:19.606103Z",
     "iopub.status.idle": "2024-10-13T21:46:19.608594Z",
     "shell.execute_reply": "2024-10-13T21:46:19.608266Z"
    }
   },
   "outputs": [
    {
     "name": "stdout",
     "output_type": "stream",
     "text": [
      "X and Y are not equal\n",
      "Some elements of X and Y are equal\n"
     ]
    }
   ],
   "source": [
    "x = np.array([1, 2, 3])\n",
    "y = np.array([1, 5, 6])\n",
    "\n",
    "if (x == y).all():\n",
    "    print(\"X and Y are equal\")\n",
    "else:\n",
    "    print(\"X and Y are not equal\")\n",
    "\n",
    "if (x == y).any():\n",
    "    print(\"Some elements of X and Y are equal\")\n",
    "else:\n",
    "    print(\"No elements of X and Y are equal\")\n"
   ]
  },
  {
   "cell_type": "markdown",
   "id": "27c90838",
   "metadata": {},
   "source": [
    "Note, `any()` and `all()` can be used in many contexts; e.g., see the example below which checks if elements in one array are greater than the corresponding elements in another array:"
   ]
  },
  {
   "cell_type": "code",
   "execution_count": 5,
   "id": "4542ed0b",
   "metadata": {
    "execution": {
     "iopub.execute_input": "2024-10-13T21:46:19.610250Z",
     "iopub.status.busy": "2024-10-13T21:46:19.610117Z",
     "iopub.status.idle": "2024-10-13T21:46:19.612336Z",
     "shell.execute_reply": "2024-10-13T21:46:19.611978Z"
    }
   },
   "outputs": [
    {
     "name": "stdout",
     "output_type": "stream",
     "text": [
      "Print some elements of X are greater than Y\n"
     ]
    }
   ],
   "source": [
    "x = np.array([4, 5, 1])\n",
    "y = np.array([1, 2, 3])\n",
    "\n",
    "if (x > y).all():\n",
    "    print(\"Print all elements of X are greater than Y\")\n",
    "elif (x > y).any():\n",
    "    print(\"Print some elements of X are greater than Y\")\n",
    "else:\n",
    "    print(\"Print no elements of X are greater than Y\")"
   ]
  },
  {
   "cell_type": "markdown",
   "id": "2990147f",
   "metadata": {},
   "source": [
    "## 3. Mutating a function's argument\n",
    "\n",
    "If we want to keep our programmes simple and easy to debug, we should strive to write 'pure functions' where possible.\n",
    "\n",
    "Pure functions have the following properties:\n",
    "\n",
    "- The function return values should depend deterministically on its input values (i.e., given input values will always lead to the same output).\n",
    "- The function must have no 'side effects' (i.e. it should not change external variables).\n",
    "\n",
    "It is, however, very easy to write functions that accidentally break this second rule... and this can lead to subtle bugs and unexpected behaviour.\n",
    "\n",
    "For example, consider the following trivial function that simply multiplies its input by 2 and returns a result."
   ]
  },
  {
   "cell_type": "code",
   "execution_count": 6,
   "id": "ad8d926b",
   "metadata": {
    "execution": {
     "iopub.execute_input": "2024-10-13T21:46:19.613999Z",
     "iopub.status.busy": "2024-10-13T21:46:19.613834Z",
     "iopub.status.idle": "2024-10-13T21:46:19.615829Z",
     "shell.execute_reply": "2024-10-13T21:46:19.615449Z"
    }
   },
   "outputs": [],
   "source": [
    "def times_2(x):\n",
    "    x*= 2\n",
    "    return x"
   ]
  },
  {
   "cell_type": "markdown",
   "id": "16deab64",
   "metadata": {},
   "source": [
    "This looks fine at first glance, and it seems to be behaving as expected:"
   ]
  },
  {
   "cell_type": "code",
   "execution_count": 7,
   "id": "c893c0d5",
   "metadata": {
    "execution": {
     "iopub.execute_input": "2024-10-13T21:46:19.617505Z",
     "iopub.status.busy": "2024-10-13T21:46:19.617341Z",
     "iopub.status.idle": "2024-10-13T21:46:19.619371Z",
     "shell.execute_reply": "2024-10-13T21:46:19.619047Z"
    }
   },
   "outputs": [
    {
     "name": "stdout",
     "output_type": "stream",
     "text": [
      "x before function call: 10\n",
      "y after function call: 20\n",
      "x after function call: 10\n"
     ]
    }
   ],
   "source": [
    "x = 10\n",
    "\n",
    "print(\"x before function call:\", x)\n",
    "y = times_2(x)\n",
    "print(\"y after function call:\", y)\n",
    "print(\"x after function call:\", x)"
   ]
  },
  {
   "cell_type": "markdown",
   "id": "d90b3bfa",
   "metadata": {},
   "source": [
    "But now consider what happens if we pass a NumPy array to the function:"
   ]
  },
  {
   "cell_type": "code",
   "execution_count": 8,
   "id": "1743395a",
   "metadata": {
    "execution": {
     "iopub.execute_input": "2024-10-13T21:46:19.621077Z",
     "iopub.status.busy": "2024-10-13T21:46:19.620903Z",
     "iopub.status.idle": "2024-10-13T21:46:19.623311Z",
     "shell.execute_reply": "2024-10-13T21:46:19.622921Z"
    }
   },
   "outputs": [
    {
     "name": "stdout",
     "output_type": "stream",
     "text": [
      "x before function call: [10 20 30]\n",
      "y after function call: [20 40 60]\n",
      "x after function call: [20 40 60]\n"
     ]
    }
   ],
   "source": [
    "x = np.array([10, 20, 30])\n",
    "\n",
    "print(\"x before function call:\", x)\n",
    "y = times_2(x)\n",
    "print(\"y after function call:\", y)\n",
    "print(\"x after function call:\", x)"
   ]
  },
  {
   "cell_type": "markdown",
   "id": "0c341170",
   "metadata": {},
   "source": [
    "Notice how the value of x has changed after the function call. This is because the function has mutated the value of x. This is a side effect and breaks the second rule of pure functions. Someone using this function would not have expected that x had been changed and might be using x again later in their code, expecting it to still contain `[10, 20, 30]`.\n",
    "\n",
    "There are several solutions. The simplest fix to this particular example is just to rewrite the function as,"
   ]
  },
  {
   "cell_type": "code",
   "execution_count": 9,
   "id": "c3762f36",
   "metadata": {
    "execution": {
     "iopub.execute_input": "2024-10-13T21:46:19.625099Z",
     "iopub.status.busy": "2024-10-13T21:46:19.624929Z",
     "iopub.status.idle": "2024-10-13T21:46:19.626984Z",
     "shell.execute_reply": "2024-10-13T21:46:19.626649Z"
    }
   },
   "outputs": [],
   "source": [
    "def times_2(x):\n",
    "    y = x * 2  # y will be a new array, the orignal x is left unchanged\n",
    "    return y"
   ]
  },
  {
   "cell_type": "markdown",
   "id": "17c4f682",
   "metadata": {},
   "source": [
    "This is a good solution, but it is not always possible to avoid mutating the input arguments. For example, consider the following function that adds a new element to a list:"
   ]
  },
  {
   "cell_type": "code",
   "execution_count": 10,
   "id": "44fed592",
   "metadata": {
    "execution": {
     "iopub.execute_input": "2024-10-13T21:46:19.628753Z",
     "iopub.status.busy": "2024-10-13T21:46:19.628629Z",
     "iopub.status.idle": "2024-10-13T21:46:19.630524Z",
     "shell.execute_reply": "2024-10-13T21:46:19.630174Z"
    }
   },
   "outputs": [],
   "source": [
    "def append_to_list(x, y):\n",
    "    x.append(y)\n",
    "    return x"
   ]
  },
  {
   "cell_type": "markdown",
   "id": "8aafd2a4",
   "metadata": {},
   "source": [
    "We will now use the function to append 40 to the list `[10, 20, 30]`:"
   ]
  },
  {
   "cell_type": "code",
   "execution_count": 11,
   "id": "228bbf01",
   "metadata": {
    "execution": {
     "iopub.execute_input": "2024-10-13T21:46:19.632117Z",
     "iopub.status.busy": "2024-10-13T21:46:19.632014Z",
     "iopub.status.idle": "2024-10-13T21:46:19.634293Z",
     "shell.execute_reply": "2024-10-13T21:46:19.633985Z"
    }
   },
   "outputs": [
    {
     "name": "stdout",
     "output_type": "stream",
     "text": [
      "x before function call: [10, 20, 30]\n",
      "y after function call: [10, 20, 30, 40]\n",
      "x after function call: [10, 20, 30, 40]\n"
     ]
    }
   ],
   "source": [
    "x = [10, 20, 30]\n",
    "\n",
    "print(\"x before function call:\", x)\n",
    "y = append_to_list(x, 40)\n",
    "print(\"y after function call:\", y)\n",
    "print(\"x after function call:\", x)"
   ]
  },
  {
   "cell_type": "markdown",
   "id": "4065f71d",
   "metadata": {},
   "source": [
    "Notice again that the value of x has changed after the function call.\n",
    "\n",
    "In an example list this, if we want to ensure that `append_to_list` is a pure function, we need to change it so that it makes an explicit copy of the input list before appending the new element. This can be done using the `copy` module:"
   ]
  },
  {
   "cell_type": "code",
   "execution_count": 12,
   "id": "a03d3f81",
   "metadata": {
    "execution": {
     "iopub.execute_input": "2024-10-13T21:46:19.635876Z",
     "iopub.status.busy": "2024-10-13T21:46:19.635757Z",
     "iopub.status.idle": "2024-10-13T21:46:19.637722Z",
     "shell.execute_reply": "2024-10-13T21:46:19.637384Z"
    }
   },
   "outputs": [],
   "source": [
    "import copy\n",
    "def append_to_list(x, y):\n",
    "    x_copy = copy.copy(x)\n",
    "    x_copy.append(y)\n",
    "    return x_copy"
   ]
  },
  {
   "cell_type": "markdown",
   "id": "d5fad4cb",
   "metadata": {},
   "source": [
    "The function will now behave as expected:"
   ]
  },
  {
   "cell_type": "code",
   "execution_count": 13,
   "id": "bbd052b6",
   "metadata": {
    "execution": {
     "iopub.execute_input": "2024-10-13T21:46:19.639558Z",
     "iopub.status.busy": "2024-10-13T21:46:19.639423Z",
     "iopub.status.idle": "2024-10-13T21:46:19.641430Z",
     "shell.execute_reply": "2024-10-13T21:46:19.641120Z"
    }
   },
   "outputs": [
    {
     "name": "stdout",
     "output_type": "stream",
     "text": [
      "x before function call: [10, 20, 30]\n",
      "y after function call: [10, 20, 30, 40]\n",
      "x after function call: [10, 20, 30]\n"
     ]
    }
   ],
   "source": [
    "x = [10, 20, 30]\n",
    "\n",
    "print(\"x before function call:\", x)\n",
    "y = append_to_list(x, 40)\n",
    "print(\"y after function call:\", y)\n",
    "print(\"x after function call:\", x)"
   ]
  },
  {
   "cell_type": "markdown",
   "id": "28888c13",
   "metadata": {},
   "source": [
    "The downside of this approach is that it is inefficient as it requires the creation of a new copy of the list. This is not a problem for small lists, but for large lists it could be a problem.\n",
    "\n",
    "If we were concerned about efficiency then we might allow the function to mutate the input list, but we would need to document this behaviour carefully. The user could then make a copy of the argument before using the function if they needed to keep the original list unchanged, i.e. you might end up with code like this."
   ]
  },
  {
   "cell_type": "code",
   "execution_count": 14,
   "id": "10ce1a86",
   "metadata": {
    "execution": {
     "iopub.execute_input": "2024-10-13T21:46:19.643080Z",
     "iopub.status.busy": "2024-10-13T21:46:19.642983Z",
     "iopub.status.idle": "2024-10-13T21:46:19.645365Z",
     "shell.execute_reply": "2024-10-13T21:46:19.645035Z"
    }
   },
   "outputs": [
    {
     "name": "stdout",
     "output_type": "stream",
     "text": [
      "x before function call: [10, 20, 30]\n",
      "y after function call: [10, 20, 30, 40]\n",
      "x after function call: [10, 20, 30]\n"
     ]
    }
   ],
   "source": [
    "def append_to_list(x, y):\n",
    "    \"\"\"Note, this function mutates the input list x\"\"\"\n",
    "    x.append(y)\n",
    "    return x\n",
    "\n",
    "import copy\n",
    "x = [10, 20, 30]\n",
    "print(\"x before function call:\", x)\n",
    "x_copy = copy.copy(x) # Make a copy of x that we can pass to the function\n",
    "y = append_to_list(x_copy, 40)\n",
    "print(\"y after function call:\", y)\n",
    "print(\"x after function call:\", x)"
   ]
  },
  {
   "cell_type": "markdown",
   "id": "b4bbcfb3",
   "metadata": {},
   "source": [
    "## 4. Confusing Append and Extend\n",
    "\n",
    "This is a very simple issue, but I have included it because it is the source of many beginner errors.\n",
    "\n",
    "The `append` method adds a single element to the end of a list, so, for example, let us say that we want to attach the number 4 to the end of the list `[1, 2, 3]`:"
   ]
  },
  {
   "cell_type": "code",
   "execution_count": 15,
   "id": "d8bff5de",
   "metadata": {
    "execution": {
     "iopub.execute_input": "2024-10-13T21:46:19.647017Z",
     "iopub.status.busy": "2024-10-13T21:46:19.646887Z",
     "iopub.status.idle": "2024-10-13T21:46:19.648818Z",
     "shell.execute_reply": "2024-10-13T21:46:19.648525Z"
    }
   },
   "outputs": [
    {
     "name": "stdout",
     "output_type": "stream",
     "text": [
      "[1, 2, 3, 4]\n"
     ]
    }
   ],
   "source": [
    "my_list = [1, 2, 3]\n",
    "my_list.append(4)\n",
    "print(my_list)"
   ]
  },
  {
   "cell_type": "markdown",
   "id": "cb24c26c",
   "metadata": {},
   "source": [
    "This is fine and works exactly as expected. But now say I want to add the numbers `[4, 5, 6]` to the list. Beginners often try to do this using the `append` method:"
   ]
  },
  {
   "cell_type": "code",
   "execution_count": 16,
   "id": "7b738323",
   "metadata": {
    "execution": {
     "iopub.execute_input": "2024-10-13T21:46:19.650482Z",
     "iopub.status.busy": "2024-10-13T21:46:19.650285Z",
     "iopub.status.idle": "2024-10-13T21:46:19.652195Z",
     "shell.execute_reply": "2024-10-13T21:46:19.651877Z"
    }
   },
   "outputs": [],
   "source": [
    "my_list = [1, 2, 3]\n",
    "my_list.append([4, 5, 6])"
   ]
  },
  {
   "cell_type": "markdown",
   "id": "a0114ec7",
   "metadata": {},
   "source": [
    "The code will run and everything seems to go fine. But let us now look at the result,"
   ]
  },
  {
   "cell_type": "code",
   "execution_count": 17,
   "id": "5c477795",
   "metadata": {
    "execution": {
     "iopub.execute_input": "2024-10-13T21:46:19.653935Z",
     "iopub.status.busy": "2024-10-13T21:46:19.653804Z",
     "iopub.status.idle": "2024-10-13T21:46:19.655942Z",
     "shell.execute_reply": "2024-10-13T21:46:19.655590Z"
    }
   },
   "outputs": [
    {
     "name": "stdout",
     "output_type": "stream",
     "text": [
      "[1, 2, 3, [4, 5, 6]]\n"
     ]
    }
   ],
   "source": [
    "print(my_list)"
   ]
  },
  {
   "cell_type": "markdown",
   "id": "8a177888",
   "metadata": {},
   "source": [
    "...oops. This is not quite what we wanted. The numbers 4, 5 and 6 have not been added to the list, instead the list `[4, 5, 6]` has been added as a single element to the end of the list. i.e., rather than ending up with a list of 6 elements, we have ended up with a list of 4 elements, where the last element is itself a list of 3 elements. This is because the `append` method just adds its parameter as a single element to the list.\n",
    "\n",
    "If you wanted to add several elements, then you should have used the `extend` method instead. The correct code looks like this:"
   ]
  },
  {
   "cell_type": "code",
   "execution_count": 18,
   "id": "2e1390fc",
   "metadata": {
    "execution": {
     "iopub.execute_input": "2024-10-13T21:46:19.657513Z",
     "iopub.status.busy": "2024-10-13T21:46:19.657372Z",
     "iopub.status.idle": "2024-10-13T21:46:19.659499Z",
     "shell.execute_reply": "2024-10-13T21:46:19.659144Z"
    }
   },
   "outputs": [
    {
     "name": "stdout",
     "output_type": "stream",
     "text": [
      "[1, 2, 3, 4, 5, 6]\n"
     ]
    }
   ],
   "source": [
    "my_list = [1, 2, 3]\n",
    "my_list.extend([4, 5, 6])\n",
    "print(my_list)"
   ]
  },
  {
   "cell_type": "markdown",
   "id": "639525f2",
   "metadata": {},
   "source": [
    "So, just be aware that `append` and `extend` exist and that they do different things. Understand the difference, and you will avoid a lot of frustration. :angry:\n",
    "\n",
    "## 5. Misunderstanding how default arguments work\n",
    "\n",
    "This last issue is more subtle and can catch out even experienced programmers. It is related to the way Python handles default arguments.\n",
    "\n",
    "First of all, we will write a simple function to remember what a default argument is. Let us say we want to write a function called 'apply_scaling' that simply applies a scaling factor to a number. Let us say that in our application, the most common use is to scale things by a factor of 2, so we can make this the default value for the scaling factor:"
   ]
  },
  {
   "cell_type": "code",
   "execution_count": 19,
   "id": "3e231493",
   "metadata": {
    "execution": {
     "iopub.execute_input": "2024-10-13T21:46:19.661164Z",
     "iopub.status.busy": "2024-10-13T21:46:19.661070Z",
     "iopub.status.idle": "2024-10-13T21:46:19.663302Z",
     "shell.execute_reply": "2024-10-13T21:46:19.662946Z"
    }
   },
   "outputs": [
    {
     "name": "stdout",
     "output_type": "stream",
     "text": [
      "[100 200 300]\n",
      "[20 40 60]\n"
     ]
    }
   ],
   "source": [
    "def apply_scaling(x, scale=2):\n",
    "    return x * scale\n",
    "\n",
    "x = np.array([10,20,30])\n",
    "\n",
    "# Scale x by 10...\n",
    "print(apply_scaling(x, 10))\n",
    "\n",
    "# ... or we can just use the default scaling factor of 2\n",
    "print(apply_scaling(x))"
   ]
  },
  {
   "cell_type": "markdown",
   "id": "5de3ab8f",
   "metadata": {},
   "source": [
    "This works as expected and there are no issues with the above code.\n",
    "\n",
    "The problems begin when we have a default value that is a mutable object, such as a list or a NumPy array. Note that a mutable object is a value that can be changed after it has been created.\n",
    "\n",
    "Let us say that you want to write a function that can append a number to a list, if the user does not supply a list then it will default to adding the number to an empty list. You might write something like this,"
   ]
  },
  {
   "cell_type": "code",
   "execution_count": 20,
   "id": "28504f82",
   "metadata": {
    "execution": {
     "iopub.execute_input": "2024-10-13T21:46:19.665035Z",
     "iopub.status.busy": "2024-10-13T21:46:19.664922Z",
     "iopub.status.idle": "2024-10-13T21:46:19.666823Z",
     "shell.execute_reply": "2024-10-13T21:46:19.666489Z"
    }
   },
   "outputs": [],
   "source": [
    "def append_to_list2(x, y=[]):\n",
    "    y.append(x)\n",
    "    return y"
   ]
  },
  {
   "cell_type": "markdown",
   "id": "a8761e82",
   "metadata": {},
   "source": [
    "This looks fine, but let us see what happens when we use the function:"
   ]
  },
  {
   "cell_type": "code",
   "execution_count": 21,
   "id": "502aabee",
   "metadata": {
    "execution": {
     "iopub.execute_input": "2024-10-13T21:46:19.668456Z",
     "iopub.status.busy": "2024-10-13T21:46:19.668333Z",
     "iopub.status.idle": "2024-10-13T21:46:19.670361Z",
     "shell.execute_reply": "2024-10-13T21:46:19.669955Z"
    }
   },
   "outputs": [
    {
     "name": "stdout",
     "output_type": "stream",
     "text": [
      "[1, 2, 3, 4, 5, 10]\n",
      "[20]\n"
     ]
    }
   ],
   "source": [
    "print(append_to_list2(10, [1,2,3,4,5]))\n",
    "\n",
    "print(append_to_list2(20))"
   ]
  },
  {
   "cell_type": "markdown",
   "id": "a2d22f15",
   "metadata": {},
   "source": [
    "Both of the above provide the expected result. But now let us call the function a second time with the default value"
   ]
  },
  {
   "cell_type": "code",
   "execution_count": 22,
   "id": "2f7eec3c",
   "metadata": {
    "execution": {
     "iopub.execute_input": "2024-10-13T21:46:19.671976Z",
     "iopub.status.busy": "2024-10-13T21:46:19.671867Z",
     "iopub.status.idle": "2024-10-13T21:46:19.673648Z",
     "shell.execute_reply": "2024-10-13T21:46:19.673387Z"
    }
   },
   "outputs": [
    {
     "name": "stdout",
     "output_type": "stream",
     "text": [
      "[20, 30]\n"
     ]
    }
   ],
   "source": [
    "print(append_to_list2(30))"
   ]
  },
  {
   "cell_type": "markdown",
   "id": "6ee5c09f",
   "metadata": {},
   "source": [
    "Now, rather than getting `[30]` as we would expect, we get `[20, 30]`.\n",
    "\n",
    "The first call changed the value of the default argument from `[]` to `[20]`. This happens because the default argument is only evaluated  *when the function is defined*. i.e., it is set to `[]` when the function is defined but does not get reset every time the function is called. So, if a previous call has changed its value then it will stay changed.\n",
    "\n",
    "If we need a default value to be a mutuable type, e.g., such as a list, then we need to use the following pattern,"
   ]
  },
  {
   "cell_type": "code",
   "execution_count": 23,
   "id": "55ebc25e",
   "metadata": {
    "execution": {
     "iopub.execute_input": "2024-10-13T21:46:19.675283Z",
     "iopub.status.busy": "2024-10-13T21:46:19.675156Z",
     "iopub.status.idle": "2024-10-13T21:46:19.677221Z",
     "shell.execute_reply": "2024-10-13T21:46:19.676715Z"
    }
   },
   "outputs": [],
   "source": [
    "def append_to_list3(x, y=None):\n",
    "    if y is None:\n",
    "        y = []\n",
    "    y.append(x)\n",
    "    return y"
   ]
  },
  {
   "cell_type": "markdown",
   "id": "794ddd93",
   "metadata": {},
   "source": [
    "This will ensure that the parameter y is reset to the empty list every time the function is called without a value for y being supplied.\n",
    "\n",
    "We can test this using the same sequence of calls as before:"
   ]
  },
  {
   "cell_type": "code",
   "execution_count": 24,
   "id": "b065005d",
   "metadata": {
    "execution": {
     "iopub.execute_input": "2024-10-13T21:46:19.678869Z",
     "iopub.status.busy": "2024-10-13T21:46:19.678706Z",
     "iopub.status.idle": "2024-10-13T21:46:19.680946Z",
     "shell.execute_reply": "2024-10-13T21:46:19.680637Z"
    }
   },
   "outputs": [
    {
     "name": "stdout",
     "output_type": "stream",
     "text": [
      "[1, 2, 3, 4, 5, 10]\n",
      "[20]\n",
      "[30]\n"
     ]
    }
   ],
   "source": [
    "print(append_to_list3(10, [1,2,3,4,5]))\n",
    "print(append_to_list3(20))\n",
    "print(append_to_list3(30))"
   ]
  },
  {
   "cell_type": "markdown",
   "id": "6f2160f0",
   "metadata": {},
   "source": [
    "It now works as expected.\n",
    "\n",
    "## 6. Submit your own\n",
    "\n",
    "If you have any suggestions for other common problems to include, please let me know."
   ]
  }
 ],
 "metadata": {
  "jupytext": {
   "cell_metadata_filter": "-all"
  },
  "kernelspec": {
   "display_name": "Python 3 (ipykernel)",
   "language": "python",
   "name": "python3"
  },
  "language_info": {
   "codemirror_mode": {
    "name": "ipython",
    "version": 3
   },
   "file_extension": ".py",
   "mimetype": "text/x-python",
   "name": "python",
   "nbconvert_exporter": "python",
   "pygments_lexer": "ipython3",
   "version": "3.12.5"
  }
 },
 "nbformat": 4,
 "nbformat_minor": 5
}
