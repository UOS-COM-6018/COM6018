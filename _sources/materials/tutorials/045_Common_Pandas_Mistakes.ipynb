{
 "cells": [
  {
   "cell_type": "markdown",
   "id": "a745e24f",
   "metadata": {},
   "source": [
    "# 045 Common Pandas Mistakes\n",
    "\n",
    "> COM6018\n",
    "\n",
    "*Copyright &copy; 2023, 2024 Jon Barker, University of Sheffield. All rights reserved*.\n",
    "\n",
    "## 1. Introducing\n",
    "\n",
    "This notebook considers a few common issues that you may encounter when using Pandas. If you have any suggestions for other common problems to include, please let me know.\n",
    "\n",
    "Below we will import NumPy and Pandas which will be used in the examples that follow."
   ]
  },
  {
   "cell_type": "code",
   "execution_count": 1,
   "id": "61780ac5",
   "metadata": {
    "execution": {
     "iopub.execute_input": "2023-11-05T19:21:29.037934Z",
     "iopub.status.busy": "2023-11-05T19:21:29.037717Z",
     "iopub.status.idle": "2023-11-05T19:21:29.201954Z",
     "shell.execute_reply": "2023-11-05T19:21:29.201675Z"
    }
   },
   "outputs": [],
   "source": [
    "import pandas as pd\n",
    "import numpy as np"
   ]
  },
  {
   "cell_type": "markdown",
   "id": "817fdcad",
   "metadata": {},
   "source": [
    "## 2. The SettingWithCopyWarning\n",
    "\n",
    "The 'SettingWithCopyWarning' is one of the mostly commonly encountered problems for new users of Pandas. You will find many people asking about it online. As it is a warning, it is easy to ignore. However, it is important to understand what it means and how to fix your code when you see it because it means you are doing something that is not guaranteed to work.\n",
    "\n",
    "In order to explain the warning, we will first make a simple example that generates it. We will start with a simple DataFrame with some age and height data for a few people."
   ]
  },
  {
   "cell_type": "code",
   "execution_count": 2,
   "id": "6c989940",
   "metadata": {
    "execution": {
     "iopub.execute_input": "2023-11-05T19:21:29.203650Z",
     "iopub.status.busy": "2023-11-05T19:21:29.203523Z",
     "iopub.status.idle": "2023-11-05T19:21:29.205718Z",
     "shell.execute_reply": "2023-11-05T19:21:29.205502Z"
    }
   },
   "outputs": [],
   "source": [
    "data = {\"name\": [\"Bill\", \"Jane\", \"Sue\", \"Xingyi\", \"Maryam\"],\n",
    "        \"age\": np.array([45, 98, 24, 11, 64]),\n",
    "        \"height\": np.array([1.73, 1.62, 1.83, 1.11, 1.54])\n",
    "}\n",
    "df = pd.DataFrame(data)"
   ]
  },
  {
   "cell_type": "markdown",
   "id": "bbe0d422",
   "metadata": {},
   "source": [
    "Now let's say that we want to change Bill's age to be 100. We might try to do this as follows:"
   ]
  },
  {
   "cell_type": "code",
   "execution_count": 3,
   "id": "298adff0",
   "metadata": {
    "execution": {
     "iopub.execute_input": "2023-11-05T19:21:29.207066Z",
     "iopub.status.busy": "2023-11-05T19:21:29.206991Z",
     "iopub.status.idle": "2023-11-05T19:21:29.210268Z",
     "shell.execute_reply": "2023-11-05T19:21:29.210024Z"
    }
   },
   "outputs": [
    {
     "name": "stdout",
     "output_type": "stream",
     "text": [
      "\n",
      "\n",
      " Printing df after trying to set Bill's age to 100\n",
      "     name  age  height\n",
      "0    Bill   45    1.73\n",
      "1    Jane   98    1.62\n",
      "2     Sue   24    1.83\n",
      "3  Xingyi   11    1.11\n",
      "4  Maryam   64    1.54\n"
     ]
    },
    {
     "name": "stderr",
     "output_type": "stream",
     "text": [
      "/var/folders/ps/hyszp8bj4g9269mcf_y3psz40000gp/T/ipykernel_32978/753014212.py:1: SettingWithCopyWarning: \n",
      "A value is trying to be set on a copy of a slice from a DataFrame.\n",
      "Try using .loc[row_indexer,col_indexer] = value instead\n",
      "\n",
      "See the caveats in the documentation: https://pandas.pydata.org/pandas-docs/stable/user_guide/indexing.html#returning-a-view-versus-a-copy\n",
      "  df[df.name=='Bill'][\"age\"] = 100\n"
     ]
    }
   ],
   "source": [
    "df[df.name=='Bill'][\"age\"] = 100\n",
    "\n",
    "print(\"\\n\\n Printing df after trying to set Bill's age to 100\")\n",
    "print(df.head())"
   ]
  },
  {
   "cell_type": "markdown",
   "id": "2f4f115d",
   "metadata": {},
   "source": [
    "This seems very natural but it (probably) hasn't worked and it has generated a SettingWithCopyWarning.\n",
    "\n",
    "To understand the origins of the problem it is necessary to understand that Pandas operations can either return a copy of the data or a view of the data. A copy is a new DataFrame that contains a completely new copy of the original data (or some part of it). A view is a new DataFrame that contains a reference to the original data (or some part of it). If you change the data in a copy then the original data is unchanged. If you change the data in a view then the original data is also changed. (This is similar to the difference between a copy and a reference in Python.)\n",
    "\n",
    "In our code above, the expression `df[df.name=='Bill']` has returned a **copy** of a slice of the DataFrame `df` and not a **view**. This means that when we then use `[\"age\"] = 100` to set the age of Bill to 100, we are actually setting the age of Bill to 100 in a copy, i.e., and not in the original DataFrame. The original DataFrame is unchanged.\n",
    "\n",
    "The code above is actually equivalent to the following:"
   ]
  },
  {
   "cell_type": "code",
   "execution_count": 4,
   "id": "b713ba9f",
   "metadata": {
    "execution": {
     "iopub.execute_input": "2023-11-05T19:21:29.211602Z",
     "iopub.status.busy": "2023-11-05T19:21:29.211512Z",
     "iopub.status.idle": "2023-11-05T19:21:29.214133Z",
     "shell.execute_reply": "2023-11-05T19:21:29.213903Z"
    }
   },
   "outputs": [
    {
     "name": "stdout",
     "output_type": "stream",
     "text": [
      "\n",
      "\n",
      " Printing df after trying to set Bill's age to 100\n",
      "     name  age  height\n",
      "0    Bill   45    1.73\n",
      "1    Jane   98    1.62\n",
      "2     Sue   24    1.83\n",
      "3  Xingyi   11    1.11\n",
      "4  Maryam   64    1.54\n"
     ]
    },
    {
     "name": "stderr",
     "output_type": "stream",
     "text": [
      "/var/folders/ps/hyszp8bj4g9269mcf_y3psz40000gp/T/ipykernel_32978/2079350034.py:2: SettingWithCopyWarning: \n",
      "A value is trying to be set on a copy of a slice from a DataFrame.\n",
      "Try using .loc[row_indexer,col_indexer] = value instead\n",
      "\n",
      "See the caveats in the documentation: https://pandas.pydata.org/pandas-docs/stable/user_guide/indexing.html#returning-a-view-versus-a-copy\n",
      "  df_copy[\"age\"] = 100\n"
     ]
    }
   ],
   "source": [
    "df_copy = df[df.name=='Bill']\n",
    "df_copy[\"age\"] = 100\n",
    "\n",
    "print(\"\\n\\n Printing df after trying to set Bill's age to 100\")\n",
    "print(df.head())"
   ]
  },
  {
   "cell_type": "markdown",
   "id": "8e864823",
   "metadata": {},
   "source": [
    "In the above, we would not be surprised the `df` has not been changed by `df_copy[\"age\"] = 100`.\n",
    "\n",
    "In fact, the situation is worse than this. Whether or not the operation `df[df.name=='Bill']` returns a copy or a view is 'undetermined', i.e., it is neither guaranteed to return one or the other. The choice depends on a lot of things: the type of data in the DataFrame, the version of Pandas that you are using, etc. So it is best not to ignore this warning *even if the code appears to work*. It is basically telling you that you are doing something that is not guaranteed to work.\n",
    "\n",
    "As noted in the warning message, the correct way to set Bill's age to 100 is to index the element that you want to change in a single step using `loc` as follows:"
   ]
  },
  {
   "cell_type": "code",
   "execution_count": 5,
   "id": "62a0a6a7",
   "metadata": {
    "execution": {
     "iopub.execute_input": "2023-11-05T19:21:29.215457Z",
     "iopub.status.busy": "2023-11-05T19:21:29.215366Z",
     "iopub.status.idle": "2023-11-05T19:21:29.217714Z",
     "shell.execute_reply": "2023-11-05T19:21:29.217477Z"
    }
   },
   "outputs": [
    {
     "name": "stdout",
     "output_type": "stream",
     "text": [
      "\n",
      "\n",
      " Printing df after trying to set Bill's age to 100\n",
      "     name  age  height\n",
      "0    Bill  100    1.73\n",
      "1    Jane   98    1.62\n",
      "2     Sue   24    1.83\n",
      "3  Xingyi   11    1.11\n",
      "4  Maryam   64    1.54\n"
     ]
    }
   ],
   "source": [
    "df.loc[df.name=='Bill', \"age\"] = 100\n",
    "\n",
    "print(\"\\n\\n Printing df after trying to set Bill's age to 100\")\n",
    "print(df)"
   ]
  },
  {
   "cell_type": "markdown",
   "id": "d2f33326",
   "metadata": {},
   "source": [
    "Note, that no warning has appeared and Bill's age has successfully changed to 100.\n",
    "\n",
    "## 3. SettingWithCopyWarning - another example\n",
    "\n",
    "Let's say that we want to make a new DataFrame containing just the people over 50 years old, and in this new DataFrame we want to change the height so that it is measured in centimetres rather than metres. We might try to do this as follows:"
   ]
  },
  {
   "cell_type": "code",
   "execution_count": 6,
   "id": "1ab3aab8",
   "metadata": {
    "execution": {
     "iopub.execute_input": "2023-11-05T19:21:29.219070Z",
     "iopub.status.busy": "2023-11-05T19:21:29.218983Z",
     "iopub.status.idle": "2023-11-05T19:21:29.221878Z",
     "shell.execute_reply": "2023-11-05T19:21:29.221659Z"
    }
   },
   "outputs": [
    {
     "name": "stdout",
     "output_type": "stream",
     "text": [
      "\n",
      "\n",
      " Printing the original df\n",
      "     name  age  height\n",
      "0    Bill  100    1.73\n",
      "1    Jane   98    1.62\n",
      "2     Sue   24    1.83\n",
      "3  Xingyi   11    1.11\n",
      "4  Maryam   64    1.54\n",
      "\n",
      "\n",
      " Printing the new df_centimeter\n",
      "     name  age  height\n",
      "0    Bill  100   173.0\n",
      "1    Jane   98   162.0\n",
      "4  Maryam   64   154.0\n"
     ]
    },
    {
     "name": "stderr",
     "output_type": "stream",
     "text": [
      "/var/folders/ps/hyszp8bj4g9269mcf_y3psz40000gp/T/ipykernel_32978/2966837033.py:2: SettingWithCopyWarning: \n",
      "A value is trying to be set on a copy of a slice from a DataFrame.\n",
      "Try using .loc[row_indexer,col_indexer] = value instead\n",
      "\n",
      "See the caveats in the documentation: https://pandas.pydata.org/pandas-docs/stable/user_guide/indexing.html#returning-a-view-versus-a-copy\n",
      "  df_centimeter[\"height\"] *= 100\n"
     ]
    }
   ],
   "source": [
    "df_centimeter = df[df.age > 50]\n",
    "df_centimeter[\"height\"] *= 100\n",
    "\n",
    "print(\"\\n\\n Printing the original df\")\n",
    "print(df)\n",
    "print(\"\\n\\n Printing the new df_centimeter\")\n",
    "print(df_centimeter)"
   ]
  },
  {
   "cell_type": "markdown",
   "id": "45a31418",
   "metadata": {},
   "source": [
    "Again, we get the same warning. The problem is again that we cannot be sure whether `df_centimeter` is a copy or a view of df. So whether the conversion to centimetres is also applied to the original df if undetermined. Even if it appears to work, it may not work in a different version of Pandas.\n",
    "\n",
    "We need to rewrite the code so that it is guaranteed to work as we expect. There are two cases: either we didn't want the original DataFrame to be changed or we did.\n",
    "\n",
    "If we want the original DataFrame to be left unchanged then we need to be explicit that `df_centimeter` is a copy of `df`. This is done using the `copy()` method as follows,"
   ]
  },
  {
   "cell_type": "code",
   "execution_count": 7,
   "id": "66940c31",
   "metadata": {
    "execution": {
     "iopub.execute_input": "2023-11-05T19:21:29.223219Z",
     "iopub.status.busy": "2023-11-05T19:21:29.223130Z",
     "iopub.status.idle": "2023-11-05T19:21:29.225949Z",
     "shell.execute_reply": "2023-11-05T19:21:29.225720Z"
    }
   },
   "outputs": [
    {
     "name": "stdout",
     "output_type": "stream",
     "text": [
      "\n",
      "\n",
      " Printing the original df\n",
      "     name  age  height\n",
      "0    Bill  100    1.73\n",
      "1    Jane   98    1.62\n",
      "2     Sue   24    1.83\n",
      "3  Xingyi   11    1.11\n",
      "4  Maryam   64    1.54\n",
      "\n",
      "\n",
      " Printing the new df_centimeter\n",
      "     name  age  height\n",
      "0    Bill  100   173.0\n",
      "1    Jane   98   162.0\n",
      "4  Maryam   64   154.0\n"
     ]
    }
   ],
   "source": [
    "df_centimeter = df[df.age > 50].copy()\n",
    "df_centimeter[\"height\"] *= 100\n",
    "\n",
    "print(\"\\n\\n Printing the original df\")\n",
    "print(df)\n",
    "print(\"\\n\\n Printing the new df_centimeter\")\n",
    "print(df_centimeter)"
   ]
  },
  {
   "cell_type": "markdown",
   "id": "09746961",
   "metadata": {},
   "source": [
    "Alternatively, if we wanted to apply the conversion to centimetres to the original DataFrame then we need to use the loc method as follows,"
   ]
  },
  {
   "cell_type": "code",
   "execution_count": 8,
   "id": "8c8faf05",
   "metadata": {
    "execution": {
     "iopub.execute_input": "2023-11-05T19:21:29.227221Z",
     "iopub.status.busy": "2023-11-05T19:21:29.227128Z",
     "iopub.status.idle": "2023-11-05T19:21:29.229634Z",
     "shell.execute_reply": "2023-11-05T19:21:29.229433Z"
    }
   },
   "outputs": [
    {
     "name": "stdout",
     "output_type": "stream",
     "text": [
      "\n",
      "\n",
      " Printing the original df\n",
      "     name  age  height\n",
      "0    Bill  100  173.00\n",
      "1    Jane   98  162.00\n",
      "2     Sue   24    1.83\n",
      "3  Xingyi   11    1.11\n",
      "4  Maryam   64  154.00\n"
     ]
    }
   ],
   "source": [
    "df.loc[df.age > 50, \"height\"] *= 100\n",
    "\n",
    "print(\"\\n\\n Printing the original df\")\n",
    "print(df)"
   ]
  },
  {
   "cell_type": "markdown",
   "id": "b3068c5f",
   "metadata": {},
   "source": [
    "Note that neither of the above solutions will generate the SettingWithCopyWarning.\n",
    "\n",
    "```{admonition} Note\n",
    "The above example is for illustrative purpose only. Making a DataFrame in which the height of people over 50 is measured in centimetres but the height of people under 50 is measured in metres is probably not a good idea!\n",
    "```\n",
    "\n",
    "## 4. Submit your own\n",
    "\n",
    "If you have any suggestions for other common problems to include, please let me know."
   ]
  }
 ],
 "metadata": {
  "jupytext": {
   "cell_metadata_filter": "-all"
  },
  "kernelspec": {
   "display_name": "Python 3 (ipykernel)",
   "language": "python",
   "name": "python3"
  },
  "language_info": {
   "codemirror_mode": {
    "name": "ipython",
    "version": 3
   },
   "file_extension": ".py",
   "mimetype": "text/x-python",
   "name": "python",
   "nbconvert_exporter": "python",
   "pygments_lexer": "ipython3",
   "version": "3.11.5"
  }
 },
 "nbformat": 4,
 "nbformat_minor": 5
}
