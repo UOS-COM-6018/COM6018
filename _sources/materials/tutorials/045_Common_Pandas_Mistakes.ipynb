{
 "cells": [
  {
   "cell_type": "markdown",
   "id": "afcdf991",
   "metadata": {},
   "source": [
    "# 045 Common Pandas Mistakes\n",
    "\n",
    "> COM6018\n",
    "\n",
    "*Copyright &copy; 2023, 2024 Jon Barker, University of Sheffield. All rights reserved*.\n",
    "\n",
    "## 1. Introducing\n",
    "\n",
    "This notebook considers some common issues that you may encounter when using Pandas. If you have any suggestions for other common problems to include, please let me know.\n",
    "\n",
    "Below we will import NumPy and Pandas, which will be used in the examples that follow."
   ]
  },
  {
   "cell_type": "code",
   "execution_count": 1,
   "id": "78c6031a",
   "metadata": {
    "execution": {
     "iopub.execute_input": "2024-10-27T12:50:57.895049Z",
     "iopub.status.busy": "2024-10-27T12:50:57.894737Z",
     "iopub.status.idle": "2024-10-27T12:50:58.457299Z",
     "shell.execute_reply": "2024-10-27T12:50:58.456842Z"
    }
   },
   "outputs": [],
   "source": [
    "import pandas as pd\n",
    "import numpy as np"
   ]
  },
  {
   "cell_type": "markdown",
   "id": "04ed9d1f",
   "metadata": {},
   "source": [
    "## 2. The SettingWithCopyWarning\n",
    "\n",
    "The 'SettingWithCopyWarning' is one of the most commonly encountered problems for new users of Pandas. You will find many people asking about it online. As it is a warning, it is easy to ignore. However, it is important to understand what it means and how to fix your code when you see it because it means that you are doing something that is not guaranteed to work.\n",
    "\n",
    "In order to explain the warning, we will first make a simple example that generates it. We will start with a simple DataFrame with some age and height data for a few people."
   ]
  },
  {
   "cell_type": "code",
   "execution_count": 2,
   "id": "1a4bcfd0",
   "metadata": {
    "execution": {
     "iopub.execute_input": "2024-10-27T12:50:58.459395Z",
     "iopub.status.busy": "2024-10-27T12:50:58.459231Z",
     "iopub.status.idle": "2024-10-27T12:50:58.463444Z",
     "shell.execute_reply": "2024-10-27T12:50:58.462945Z"
    }
   },
   "outputs": [],
   "source": [
    "data = {\"name\": [\"Bill\", \"Jane\", \"Sue\", \"Xingyi\", \"Maryam\"],\n",
    "        \"age\": np.array([45, 98, 24, 11, 64]),\n",
    "        \"height\": np.array([1.73, 1.62, 1.83, 1.11, 1.54])\n",
    "}\n",
    "df = pd.DataFrame(data)"
   ]
  },
  {
   "cell_type": "markdown",
   "id": "7d27cd9c",
   "metadata": {},
   "source": [
    "Now, let us say that we want to change Bill's age to be 100. We might try to do this as follows:"
   ]
  },
  {
   "cell_type": "code",
   "execution_count": 3,
   "id": "16706cc8",
   "metadata": {
    "execution": {
     "iopub.execute_input": "2024-10-27T12:50:58.465016Z",
     "iopub.status.busy": "2024-10-27T12:50:58.464919Z",
     "iopub.status.idle": "2024-10-27T12:50:58.472376Z",
     "shell.execute_reply": "2024-10-27T12:50:58.472047Z"
    }
   },
   "outputs": [
    {
     "name": "stdout",
     "output_type": "stream",
     "text": [
      "\n",
      "\n",
      " Printing df after trying to set Bill's age to 100\n",
      "     name  age  height\n",
      "0    Bill   45    1.73\n",
      "1    Jane   98    1.62\n",
      "2     Sue   24    1.83\n",
      "3  Xingyi   11    1.11\n",
      "4  Maryam   64    1.54\n"
     ]
    },
    {
     "name": "stderr",
     "output_type": "stream",
     "text": [
      "/var/folders/ps/hyszp8bj4g9269mcf_y3psz40000gp/T/ipykernel_9424/753014212.py:1: SettingWithCopyWarning: \n",
      "A value is trying to be set on a copy of a slice from a DataFrame.\n",
      "Try using .loc[row_indexer,col_indexer] = value instead\n",
      "\n",
      "See the caveats in the documentation: https://pandas.pydata.org/pandas-docs/stable/user_guide/indexing.html#returning-a-view-versus-a-copy\n",
      "  df[df.name=='Bill'][\"age\"] = 100\n"
     ]
    }
   ],
   "source": [
    "df[df.name=='Bill'][\"age\"] = 100\n",
    "\n",
    "print(\"\\n\\n Printing df after trying to set Bill's age to 100\")\n",
    "print(df.head())"
   ]
  },
  {
   "cell_type": "markdown",
   "id": "f20702f8",
   "metadata": {},
   "source": [
    "This seems very natural, but it (probably) hasn't worked and it has generated a SettingWithCopyWarning.\n",
    "\n",
    "To understand the origins of the problem, it is necessary to understand that Pandas operations can return either a copy of the data or a view of the data. A copy is a new DataFrame that contains a completely new copy of the original data (or some part of it). A view is a new DataFrame that contains a reference to the original data (or some part of it). If you change the data in a copy, then the original data remains unchanged. If you change the data in a view, then the original data is also changed. (This is similar to the difference between a copy and a reference in Python.)\n",
    "\n",
    "In our code above, the expression `df[df.name=='Bill']` has returned a **copy** of a slice of the DataFrame `df` and not a **view**. This means that when we use `[\"age\"] = 100` to set the age of Bill to 100, we are actually setting the age of Bill to 100 in a copy, i.e., and not in the original DataFrame. The original DataFrame is unchanged.\n",
    "\n",
    "The code above is actually equivalent to the following:"
   ]
  },
  {
   "cell_type": "code",
   "execution_count": 4,
   "id": "42798535",
   "metadata": {
    "execution": {
     "iopub.execute_input": "2024-10-27T12:50:58.473939Z",
     "iopub.status.busy": "2024-10-27T12:50:58.473819Z",
     "iopub.status.idle": "2024-10-27T12:50:58.476893Z",
     "shell.execute_reply": "2024-10-27T12:50:58.476599Z"
    }
   },
   "outputs": [
    {
     "name": "stdout",
     "output_type": "stream",
     "text": [
      "\n",
      "\n",
      " Printing df after trying to set Bill's age to 100\n",
      "     name  age  height\n",
      "0    Bill   45    1.73\n",
      "1    Jane   98    1.62\n",
      "2     Sue   24    1.83\n",
      "3  Xingyi   11    1.11\n",
      "4  Maryam   64    1.54\n"
     ]
    },
    {
     "name": "stderr",
     "output_type": "stream",
     "text": [
      "/var/folders/ps/hyszp8bj4g9269mcf_y3psz40000gp/T/ipykernel_9424/2079350034.py:2: SettingWithCopyWarning: \n",
      "A value is trying to be set on a copy of a slice from a DataFrame.\n",
      "Try using .loc[row_indexer,col_indexer] = value instead\n",
      "\n",
      "See the caveats in the documentation: https://pandas.pydata.org/pandas-docs/stable/user_guide/indexing.html#returning-a-view-versus-a-copy\n",
      "  df_copy[\"age\"] = 100\n"
     ]
    }
   ],
   "source": [
    "df_copy = df[df.name=='Bill']\n",
    "df_copy[\"age\"] = 100\n",
    "\n",
    "print(\"\\n\\n Printing df after trying to set Bill's age to 100\")\n",
    "print(df.head())"
   ]
  },
  {
   "cell_type": "markdown",
   "id": "5401ee39",
   "metadata": {},
   "source": [
    "In the above, we would not be surprised the `df` has not been changed by `df_copy[\"age\"] = 100`.\n",
    "\n",
    "In fact, the situation is worse than this. Whether or not the operation `df[df.name=='Bill']` returns a copy or a view is 'undetermined,' i.e., it is neither guaranteed to return one or the other. The choice depends on a lot of things: the type of data in the DataFrame, the version of Pandas that you are using, etc. So, it is best not to ignore this warning *even if the code appears to work*. It is tells you that you are doing something that is not guaranteed to work.\n",
    "\n",
    "As noted in the warning message, the correct way to set Bill's age to 100 is to index the element that you want to change in a single step using `loc` as follows:"
   ]
  },
  {
   "cell_type": "code",
   "execution_count": 5,
   "id": "83ab6354",
   "metadata": {
    "execution": {
     "iopub.execute_input": "2024-10-27T12:50:58.478539Z",
     "iopub.status.busy": "2024-10-27T12:50:58.478406Z",
     "iopub.status.idle": "2024-10-27T12:50:58.481256Z",
     "shell.execute_reply": "2024-10-27T12:50:58.480912Z"
    }
   },
   "outputs": [
    {
     "name": "stdout",
     "output_type": "stream",
     "text": [
      "\n",
      "\n",
      " Printing df after trying to set Bill's age to 100\n",
      "     name  age  height\n",
      "0    Bill  100    1.73\n",
      "1    Jane   98    1.62\n",
      "2     Sue   24    1.83\n",
      "3  Xingyi   11    1.11\n",
      "4  Maryam   64    1.54\n"
     ]
    }
   ],
   "source": [
    "df.loc[df.name=='Bill', \"age\"] = 100\n",
    "\n",
    "print(\"\\n\\n Printing df after trying to set Bill's age to 100\")\n",
    "print(df)"
   ]
  },
  {
   "cell_type": "markdown",
   "id": "a97272d1",
   "metadata": {},
   "source": [
    "Note that no warning has appeared and Bill's age has successfully changed to 100.\n",
    "\n",
    "## 3. SettingWithCopyWarning - another example\n",
    "\n",
    "Let us say that we want to make a new DataFrame containing just the people over 50 years old, and in this new DataFrame we want to change the height so that it is measured in centimetres rather than metres. We might try to do this as follows:"
   ]
  },
  {
   "cell_type": "code",
   "execution_count": 6,
   "id": "5db954a2",
   "metadata": {
    "execution": {
     "iopub.execute_input": "2024-10-27T12:50:58.482811Z",
     "iopub.status.busy": "2024-10-27T12:50:58.482706Z",
     "iopub.status.idle": "2024-10-27T12:50:58.486359Z",
     "shell.execute_reply": "2024-10-27T12:50:58.485958Z"
    }
   },
   "outputs": [
    {
     "name": "stdout",
     "output_type": "stream",
     "text": [
      "\n",
      "\n",
      " Printing the original df\n",
      "     name  age  height\n",
      "0    Bill  100    1.73\n",
      "1    Jane   98    1.62\n",
      "2     Sue   24    1.83\n",
      "3  Xingyi   11    1.11\n",
      "4  Maryam   64    1.54\n",
      "\n",
      "\n",
      " Printing the new df_centimeter\n",
      "     name  age  height\n",
      "0    Bill  100   173.0\n",
      "1    Jane   98   162.0\n",
      "4  Maryam   64   154.0\n"
     ]
    },
    {
     "name": "stderr",
     "output_type": "stream",
     "text": [
      "/var/folders/ps/hyszp8bj4g9269mcf_y3psz40000gp/T/ipykernel_9424/2966837033.py:2: SettingWithCopyWarning: \n",
      "A value is trying to be set on a copy of a slice from a DataFrame.\n",
      "Try using .loc[row_indexer,col_indexer] = value instead\n",
      "\n",
      "See the caveats in the documentation: https://pandas.pydata.org/pandas-docs/stable/user_guide/indexing.html#returning-a-view-versus-a-copy\n",
      "  df_centimeter[\"height\"] *= 100\n"
     ]
    }
   ],
   "source": [
    "df_centimeter = df[df.age > 50]\n",
    "df_centimeter[\"height\"] *= 100\n",
    "\n",
    "print(\"\\n\\n Printing the original df\")\n",
    "print(df)\n",
    "print(\"\\n\\n Printing the new df_centimeter\")\n",
    "print(df_centimeter)"
   ]
  },
  {
   "cell_type": "markdown",
   "id": "18ec5812",
   "metadata": {},
   "source": [
    "Again, we get the same warning. The problem is again that we cannot be sure whether `df_centimeter` is a copy or a view of df. So, whether the conversion to centimetres is also applied to the original df is undetermined. Even if it appears to work, it may not work in a different version of Pandas.\n",
    "\n",
    "We need to rewrite the code so that it is guaranteed to work as expected. There are two cases: either we didn't want the original DataFrame to be changed or we did.\n",
    "\n",
    "If we want the original DataFrame to remain unchanged, then we need to explicitly state that `df_centimeter` is a copy of `df`. This is done using the `copy()` method as follows:"
   ]
  },
  {
   "cell_type": "code",
   "execution_count": 7,
   "id": "77f14b6c",
   "metadata": {
    "execution": {
     "iopub.execute_input": "2024-10-27T12:50:58.488442Z",
     "iopub.status.busy": "2024-10-27T12:50:58.488341Z",
     "iopub.status.idle": "2024-10-27T12:50:58.491891Z",
     "shell.execute_reply": "2024-10-27T12:50:58.491611Z"
    }
   },
   "outputs": [
    {
     "name": "stdout",
     "output_type": "stream",
     "text": [
      "\n",
      "\n",
      " Printing the original df\n",
      "     name  age  height\n",
      "0    Bill  100    1.73\n",
      "1    Jane   98    1.62\n",
      "2     Sue   24    1.83\n",
      "3  Xingyi   11    1.11\n",
      "4  Maryam   64    1.54\n",
      "\n",
      "\n",
      " Printing the new df_centimeter\n",
      "     name  age  height\n",
      "0    Bill  100   173.0\n",
      "1    Jane   98   162.0\n",
      "4  Maryam   64   154.0\n"
     ]
    }
   ],
   "source": [
    "df_centimeter = df[df.age > 50].copy()\n",
    "df_centimeter[\"height\"] *= 100\n",
    "\n",
    "print(\"\\n\\n Printing the original df\")\n",
    "print(df)\n",
    "print(\"\\n\\n Printing the new df_centimeter\")\n",
    "print(df_centimeter)"
   ]
  },
  {
   "cell_type": "markdown",
   "id": "84b51602",
   "metadata": {},
   "source": [
    "Alternatively, if we wanted to apply the conversion to centimetres to the original DataFrame then we need to use the loc method as follows,"
   ]
  },
  {
   "cell_type": "code",
   "execution_count": 8,
   "id": "7a59c9d3",
   "metadata": {
    "execution": {
     "iopub.execute_input": "2024-10-27T12:50:58.493359Z",
     "iopub.status.busy": "2024-10-27T12:50:58.493248Z",
     "iopub.status.idle": "2024-10-27T12:50:58.496572Z",
     "shell.execute_reply": "2024-10-27T12:50:58.496118Z"
    }
   },
   "outputs": [
    {
     "name": "stdout",
     "output_type": "stream",
     "text": [
      "\n",
      "\n",
      " Printing the original df\n",
      "     name  age  height\n",
      "0    Bill  100  173.00\n",
      "1    Jane   98  162.00\n",
      "2     Sue   24    1.83\n",
      "3  Xingyi   11    1.11\n",
      "4  Maryam   64  154.00\n"
     ]
    }
   ],
   "source": [
    "df.loc[df.age > 50, \"height\"] *= 100\n",
    "\n",
    "print(\"\\n\\n Printing the original df\")\n",
    "print(df)"
   ]
  },
  {
   "cell_type": "markdown",
   "id": "4f87c353",
   "metadata": {},
   "source": [
    "Note that neither of the above solutions will generate the SettingWithCopyWarning.\n",
    "\n",
    "```{admonition} Note\n",
    "The above example is only for illustrative purposes. Making a DataFrame in which the height of people over 50 is measured in centimetres but the height of people under 50 is measured in metres is not a good idea!\n",
    "```\n",
    "\n",
    "## 4. Submit your own\n",
    "\n",
    "If you have any suggestions for other common problems to include, please let me know."
   ]
  }
 ],
 "metadata": {
  "jupytext": {
   "cell_metadata_filter": "-all"
  },
  "kernelspec": {
   "display_name": "Python 3 (ipykernel)",
   "language": "python",
   "name": "python3"
  },
  "language_info": {
   "codemirror_mode": {
    "name": "ipython",
    "version": 3
   },
   "file_extension": ".py",
   "mimetype": "text/x-python",
   "name": "python",
   "nbconvert_exporter": "python",
   "pygments_lexer": "ipython3",
   "version": "3.12.5"
  }
 },
 "nbformat": 4,
 "nbformat_minor": 5
}
