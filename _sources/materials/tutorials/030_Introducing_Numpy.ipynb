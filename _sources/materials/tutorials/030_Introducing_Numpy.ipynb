{
 "cells": [
  {
   "cell_type": "markdown",
   "id": "e747fee3",
   "metadata": {},
   "source": [
    "# 030 Numerical Computing with NumPy\n",
    "\n",
    "> COM6018\n",
    "\n",
    "*Copyright &copy; 2023, 2024 Jon Barker, University of Sheffield. All rights reserved*.\n",
    "\n",
    "## 1. Introducing NumPy\n",
    "\n",
    "### 1.1 What is NumPy?\n",
    "\n",
    "*NumPy* is a core Python package for scientific computing that\n",
    "\n",
    "* provides a powerful N-dimensional array object,\n",
    "* provides highly optimised linear algebra tools,\n",
    "* has tight integration with C/C++ and Fortran code,\n",
    "* is licensed under a BSD license, i.e., it is freely reusable.\n",
    "\n",
    "### 1.2 Importing NumPy\n",
    "\n",
    "NumPy is conventionally imported using,"
   ]
  },
  {
   "cell_type": "code",
   "execution_count": 1,
   "id": "8dd875b3",
   "metadata": {
    "execution": {
     "iopub.execute_input": "2024-10-13T21:30:36.854978Z",
     "iopub.status.busy": "2024-10-13T21:30:36.854695Z",
     "iopub.status.idle": "2024-10-13T21:30:36.930974Z",
     "shell.execute_reply": "2024-10-13T21:30:36.930671Z"
    }
   },
   "outputs": [],
   "source": [
    "import numpy as np"
   ]
  },
  {
   "cell_type": "markdown",
   "id": "bf20e471",
   "metadata": {},
   "source": [
    "The Python keyword `as` here allows us to use 'np' as a shorthand to refer to the 'numpy' module in our code. This is a common convention and so your code will be more readable if you follow it.\n",
    "\n",
    "## 2. NumPy Arrays\n",
    "\n",
    "### 2.1 Generating a NumPy ndarray\n",
    "\n",
    "The NumPy package introduce a type called `numpy.ndarray` that is used for representing N-Dimensional arrays. An N-Dimensional array is a data structure that can be used to represent vectors, matrices, and higher-dimensional arrays. i.e., a vector is a 1-D array, a matrix is a 2-D array, etc.\n",
    "\n",
    "Arrays can be generated from various sources. These include\n",
    "\n",
    "* from Python lists containing numeric data,\n",
    "* using NumPy array generating functions, or\n",
    "* by reading data from a file.\n",
    "\n",
    "### 2.2 Generating arrays from lists\n",
    "\n",
    "In the example below, we generate a 1-D array from a Python list. We start with the Python list `my_list` and then use the NumPy function `np.array` to convert it to a NumPy array which we have stored as the varible `my_array`."
   ]
  },
  {
   "cell_type": "code",
   "execution_count": 2,
   "id": "00465f11",
   "metadata": {
    "execution": {
     "iopub.execute_input": "2024-10-13T21:30:36.932827Z",
     "iopub.status.busy": "2024-10-13T21:30:36.932665Z",
     "iopub.status.idle": "2024-10-13T21:30:36.935335Z",
     "shell.execute_reply": "2024-10-13T21:30:36.934951Z"
    }
   },
   "outputs": [
    {
     "name": "stdout",
     "output_type": "stream",
     "text": [
      "[1, 2, 3, 4, 5]\n",
      "[1 2 3 4 5]\n",
      "<class 'list'>\n",
      "<class 'numpy.ndarray'>\n"
     ]
    }
   ],
   "source": [
    "my_list = [1, 2, 3, 4, 5]\n",
    "my_array = np.array(my_list)  # create a simple 1-D array\n",
    "print(my_list)\n",
    "print(my_array)\n",
    "print(type(my_list))\n",
    "print(type(my_array))"
   ]
  },
  {
   "cell_type": "markdown",
   "id": "d3d72feb",
   "metadata": {},
   "source": [
    "Note the slight differnce in appearance when we print a NumPy array versus printing a Python list.\n",
    "\n",
    "We will now construct a 2-D array (i.e., a matrix) from a list of lists,"
   ]
  },
  {
   "cell_type": "code",
   "execution_count": 3,
   "id": "1c53ca2e",
   "metadata": {
    "execution": {
     "iopub.execute_input": "2024-10-13T21:30:36.937079Z",
     "iopub.status.busy": "2024-10-13T21:30:36.936973Z",
     "iopub.status.idle": "2024-10-13T21:30:36.938807Z",
     "shell.execute_reply": "2024-10-13T21:30:36.938484Z"
    }
   },
   "outputs": [],
   "source": [
    "my_2d_array = np.array([[1., 2, 3], [4, 5, 6], [7, 8, 9]])"
   ]
  },
  {
   "cell_type": "code",
   "execution_count": 4,
   "id": "37221097",
   "metadata": {
    "execution": {
     "iopub.execute_input": "2024-10-13T21:30:36.940362Z",
     "iopub.status.busy": "2024-10-13T21:30:36.940268Z",
     "iopub.status.idle": "2024-10-13T21:30:36.942430Z",
     "shell.execute_reply": "2024-10-13T21:30:36.942111Z"
    }
   },
   "outputs": [
    {
     "name": "stdout",
     "output_type": "stream",
     "text": [
      "[[1. 2. 3.]\n",
      " [4. 5. 6.]\n",
      " [7. 8. 9.]]\n"
     ]
    }
   ],
   "source": [
    "print(my_2d_array)"
   ]
  },
  {
   "cell_type": "code",
   "execution_count": 5,
   "id": "5e77f9d7",
   "metadata": {
    "execution": {
     "iopub.execute_input": "2024-10-13T21:30:36.944022Z",
     "iopub.status.busy": "2024-10-13T21:30:36.943899Z",
     "iopub.status.idle": "2024-10-13T21:30:36.946166Z",
     "shell.execute_reply": "2024-10-13T21:30:36.945811Z"
    }
   },
   "outputs": [
    {
     "name": "stdout",
     "output_type": "stream",
     "text": [
      "<class 'numpy.ndarray'>\n"
     ]
    }
   ],
   "source": [
    "print(type(my_2d_array))"
   ]
  },
  {
   "cell_type": "markdown",
   "id": "5f7748df",
   "metadata": {},
   "source": [
    "### 2.3 The ndarray object's properties\n",
    "\n",
    "The `ndarray` has various properties that we can access. The most import are `shape`, `size`, and `dtype`.\n",
    "\n",
    "The `shape` property is a tuple that gives the size of each dimension of the array."
   ]
  },
  {
   "cell_type": "code",
   "execution_count": 6,
   "id": "7d53ed09",
   "metadata": {
    "execution": {
     "iopub.execute_input": "2024-10-13T21:30:36.947864Z",
     "iopub.status.busy": "2024-10-13T21:30:36.947754Z",
     "iopub.status.idle": "2024-10-13T21:30:36.949920Z",
     "shell.execute_reply": "2024-10-13T21:30:36.949586Z"
    }
   },
   "outputs": [
    {
     "name": "stdout",
     "output_type": "stream",
     "text": [
      "(3, 3)\n"
     ]
    }
   ],
   "source": [
    "print(my_2d_array.shape)"
   ]
  },
  {
   "cell_type": "markdown",
   "id": "7ff421ef",
   "metadata": {},
   "source": [
    "The `size` property gives the total number of elements in the array."
   ]
  },
  {
   "cell_type": "code",
   "execution_count": 7,
   "id": "464b9452",
   "metadata": {
    "execution": {
     "iopub.execute_input": "2024-10-13T21:30:36.951704Z",
     "iopub.status.busy": "2024-10-13T21:30:36.951580Z",
     "iopub.status.idle": "2024-10-13T21:30:36.953734Z",
     "shell.execute_reply": "2024-10-13T21:30:36.953357Z"
    }
   },
   "outputs": [
    {
     "name": "stdout",
     "output_type": "stream",
     "text": [
      "9\n"
     ]
    }
   ],
   "source": [
    "print(my_2d_array.size)"
   ]
  },
  {
   "cell_type": "markdown",
   "id": "d6c05438",
   "metadata": {},
   "source": [
    "The `dtype` property gives the data type of the array's elements (e.g., are they integers, floats, etc.)"
   ]
  },
  {
   "cell_type": "code",
   "execution_count": 8,
   "id": "92c089f4",
   "metadata": {
    "execution": {
     "iopub.execute_input": "2024-10-13T21:30:36.955592Z",
     "iopub.status.busy": "2024-10-13T21:30:36.955429Z",
     "iopub.status.idle": "2024-10-13T21:30:36.957369Z",
     "shell.execute_reply": "2024-10-13T21:30:36.956990Z"
    }
   },
   "outputs": [
    {
     "name": "stdout",
     "output_type": "stream",
     "text": [
      "float64\n"
     ]
    }
   ],
   "source": [
    "print(my_2d_array.dtype)"
   ]
  },
  {
   "cell_type": "markdown",
   "id": "6d2c58f8",
   "metadata": {},
   "source": [
    "Tip: when working with NumPy arrays it is often useful to check the `shape` and `dtype` properties to make sure you are working with the correct type of array. Printing these properties is also a useful debugging technique and is often more useful than printing the arrays contents.\n",
    "\n",
    "### 2.4 N-dimensional arrays\n",
    "\n",
    "NumPy generalises arrays to be N-dimensional. Although we are often working with 1-d or 2-d data there are applications where higher dimensions are useful. For example, 3-d data appears often when video processing (x, y and time) and 4-d data appears in medical imaging (x, y, z and time). Note, in mathematics, N-dimensional arrays are often called tensors. (This is why Google's deep learning library is called TensorFlow.)\n",
    "\n",
    "In the example below, we first create a 2-D array (`x2`) of shape 2 by 2 and then we make a 3-D array (`x3`) using a list of 4 of these 2-D arrays."
   ]
  },
  {
   "cell_type": "code",
   "execution_count": 9,
   "id": "523519c7",
   "metadata": {
    "execution": {
     "iopub.execute_input": "2024-10-13T21:30:36.959052Z",
     "iopub.status.busy": "2024-10-13T21:30:36.958923Z",
     "iopub.status.idle": "2024-10-13T21:30:36.961140Z",
     "shell.execute_reply": "2024-10-13T21:30:36.960733Z"
    }
   },
   "outputs": [
    {
     "name": "stdout",
     "output_type": "stream",
     "text": [
      "(4, 2, 2)\n"
     ]
    }
   ],
   "source": [
    "x2 = np.array([[1, 2], [3, 4]])  # a matrix\n",
    "x3 = np.array([x2, x2, x2, x2])  # stacking two matrices\n",
    "print(x3.shape)"
   ]
  },
  {
   "cell_type": "markdown",
   "id": "f2360ac7",
   "metadata": {},
   "source": [
    "The `x3` array ends up as a block of numbers of size $2 \\times 2 \\times 4$.\n",
    "\n",
    "We can then repeat this process to create a 4-D array (`x4`) by stacking 5 copies of the 3-D array to make 4-D structures..."
   ]
  },
  {
   "cell_type": "code",
   "execution_count": 10,
   "id": "bc38ec23",
   "metadata": {
    "execution": {
     "iopub.execute_input": "2024-10-13T21:30:36.962988Z",
     "iopub.status.busy": "2024-10-13T21:30:36.962854Z",
     "iopub.status.idle": "2024-10-13T21:30:36.965083Z",
     "shell.execute_reply": "2024-10-13T21:30:36.964719Z"
    }
   },
   "outputs": [
    {
     "name": "stdout",
     "output_type": "stream",
     "text": [
      "(5, 4, 2, 2)\n"
     ]
    }
   ],
   "source": [
    "x2 = np.array([[1, 2], [3, 4]])  # a matrix\n",
    "x3 = np.array([x2, x2, x2, x2])  # stacking two matrices\n",
    "x4 = np.array([x3, x3, x3, x3, x3])  # stacking 5 3-D structures\n",
    "print(x4.shape)"
   ]
  },
  {
   "cell_type": "markdown",
   "id": "b0d5cc97",
   "metadata": {},
   "source": [
    "... and stacking 4-D arrays to make 5-D arrays."
   ]
  },
  {
   "cell_type": "code",
   "execution_count": 11,
   "id": "18b48aae",
   "metadata": {
    "execution": {
     "iopub.execute_input": "2024-10-13T21:30:36.966688Z",
     "iopub.status.busy": "2024-10-13T21:30:36.966576Z",
     "iopub.status.idle": "2024-10-13T21:30:36.968738Z",
     "shell.execute_reply": "2024-10-13T21:30:36.968400Z"
    }
   },
   "outputs": [
    {
     "name": "stdout",
     "output_type": "stream",
     "text": [
      "(2, 5, 4, 2, 2)\n"
     ]
    }
   ],
   "source": [
    "x2 = np.array([[1, 2], [3, 4]])  # a matrix\n",
    "x3 = np.array([x2, x2, x2, x2])  # stacking two matrices\n",
    "x4 = np.array([x3, x3, x3, x3, x3])  # stacking 5 3-D structures\n",
    "x5 = np.array([x4, x4])  # stacking 2 4-D structures!\n",
    "print(x5.shape)"
   ]
  },
  {
   "cell_type": "markdown",
   "id": "05beaa42",
   "metadata": {},
   "source": [
    "But in COM6018 we will mostly only use N=1 (vectors) and N=2 (matrices).\n",
    "\n",
    "## 3 Generating NumPy arrays\n",
    "\n",
    "### 3.1 Basic array generating functions\n",
    "\n",
    "NumPy provides a number of functions for generating arrays of various kinds.\n",
    "\n",
    "For example, generating a 1-D array of consecutive integers,"
   ]
  },
  {
   "cell_type": "code",
   "execution_count": 12,
   "id": "3c5942f3",
   "metadata": {
    "execution": {
     "iopub.execute_input": "2024-10-13T21:30:36.970351Z",
     "iopub.status.busy": "2024-10-13T21:30:36.970243Z",
     "iopub.status.idle": "2024-10-13T21:30:36.972242Z",
     "shell.execute_reply": "2024-10-13T21:30:36.971906Z"
    }
   },
   "outputs": [
    {
     "name": "stdout",
     "output_type": "stream",
     "text": [
      "[0 1 2 3 4 5 6 7 8 9]\n"
     ]
    }
   ],
   "source": [
    "x = np.arange(10)\n",
    "print(x)"
   ]
  },
  {
   "cell_type": "markdown",
   "id": "35a8c797",
   "metadata": {},
   "source": [
    "Or an array of evenly spaced numbers,"
   ]
  },
  {
   "cell_type": "code",
   "execution_count": 13,
   "id": "afc17810",
   "metadata": {
    "execution": {
     "iopub.execute_input": "2024-10-13T21:30:36.974073Z",
     "iopub.status.busy": "2024-10-13T21:30:36.973974Z",
     "iopub.status.idle": "2024-10-13T21:30:36.976110Z",
     "shell.execute_reply": "2024-10-13T21:30:36.975757Z"
    }
   },
   "outputs": [
    {
     "name": "stdout",
     "output_type": "stream",
     "text": [
      "[100 102 104 106 108]\n"
     ]
    }
   ],
   "source": [
    "x = np.arange(100, 110, 2)  # start, stop, step\n",
    "print(x)"
   ]
  },
  {
   "cell_type": "markdown",
   "id": "715c2a12",
   "metadata": {},
   "source": [
    "The `linspace` function is similar to `arange` but allows you to specify the number of points rather than the step size,"
   ]
  },
  {
   "cell_type": "code",
   "execution_count": 14,
   "id": "abd1d02f",
   "metadata": {
    "execution": {
     "iopub.execute_input": "2024-10-13T21:30:36.977760Z",
     "iopub.status.busy": "2024-10-13T21:30:36.977644Z",
     "iopub.status.idle": "2024-10-13T21:30:36.979766Z",
     "shell.execute_reply": "2024-10-13T21:30:36.979427Z"
    }
   },
   "outputs": [
    {
     "name": "stdout",
     "output_type": "stream",
     "text": [
      "[10.  12.5 15.  17.5 20. ]\n"
     ]
    }
   ],
   "source": [
    "x = np.linspace(10, 20, 5)  # start, stop, n-points\n",
    "print(x)"
   ]
  },
  {
   "cell_type": "markdown",
   "id": "d3a4bb0c",
   "metadata": {},
   "source": [
    "We often need arrays full of zeros or ones. NumPy provides functions for this,"
   ]
  },
  {
   "cell_type": "code",
   "execution_count": 15,
   "id": "70cdebb4",
   "metadata": {
    "execution": {
     "iopub.execute_input": "2024-10-13T21:30:36.981458Z",
     "iopub.status.busy": "2024-10-13T21:30:36.981296Z",
     "iopub.status.idle": "2024-10-13T21:30:36.983421Z",
     "shell.execute_reply": "2024-10-13T21:30:36.983102Z"
    }
   },
   "outputs": [
    {
     "name": "stdout",
     "output_type": "stream",
     "text": [
      "[[[0. 0. 0.]\n",
      "  [0. 0. 0.]\n",
      "  [0. 0. 0.]]\n",
      "\n",
      " [[0. 0. 0.]\n",
      "  [0. 0. 0.]\n",
      "  [0. 0. 0.]]\n",
      "\n",
      " [[0. 0. 0.]\n",
      "  [0. 0. 0.]\n",
      "  [0. 0. 0.]]]\n"
     ]
    }
   ],
   "source": [
    "x = np.zeros( (3, 3, 3) )  # Note, argument is a tuple\n",
    "print(x)"
   ]
  },
  {
   "cell_type": "markdown",
   "id": "790b548e",
   "metadata": {},
   "source": [
    "Note that the `zeros()` function has a single argument specifying the desired array shape. This argument is a tuple. For example, in the above, the argument has value (3,3,3) which means that we want a 3-D array with 3 elements in each dimension. I have placed spaces between the parentheses to make it clear that this is a tuple. However, the spaces are not necessary and you will see this more often written as `np.zeros((3,3,3))`. (When you see it written like this, do not be confused into thinking that the double brackets are redundant. You cannot rewrite this as `np.zeros(3,3,3)`. This is computer programming, not mathematics. :smile: )\n",
    "\n",
    "Similarly, to make an array full of ones we can use,"
   ]
  },
  {
   "cell_type": "code",
   "execution_count": 16,
   "id": "f87e7b97",
   "metadata": {
    "execution": {
     "iopub.execute_input": "2024-10-13T21:30:36.985122Z",
     "iopub.status.busy": "2024-10-13T21:30:36.984988Z",
     "iopub.status.idle": "2024-10-13T21:30:36.987158Z",
     "shell.execute_reply": "2024-10-13T21:30:36.986872Z"
    }
   },
   "outputs": [
    {
     "name": "stdout",
     "output_type": "stream",
     "text": [
      "[[1. 1. 1. 1. 1.]\n",
      " [1. 1. 1. 1. 1.]]\n"
     ]
    }
   ],
   "source": [
    "x = np.ones((2, 5))\n",
    "print(x)"
   ]
  },
  {
   "cell_type": "markdown",
   "id": "9d24fd8d",
   "metadata": {},
   "source": [
    "### 3.2 More array generating functions\n",
    "\n",
    "The `diag` function can be used to generate diagonal matrices where we specify the numbers that we want to appear on the leading diagonal. For example a 3 by 3 matrix with 4, 5 and 3 along the diagonal can be generated with,"
   ]
  },
  {
   "cell_type": "code",
   "execution_count": 17,
   "id": "a1df8637",
   "metadata": {
    "execution": {
     "iopub.execute_input": "2024-10-13T21:30:36.989057Z",
     "iopub.status.busy": "2024-10-13T21:30:36.988906Z",
     "iopub.status.idle": "2024-10-13T21:30:36.990965Z",
     "shell.execute_reply": "2024-10-13T21:30:36.990665Z"
    }
   },
   "outputs": [
    {
     "name": "stdout",
     "output_type": "stream",
     "text": [
      "[[4 0 0]\n",
      " [0 5 0]\n",
      " [0 0 3]]\n"
     ]
    }
   ],
   "source": [
    "x = np.diag((4, 5, 3))\n",
    "print(x)"
   ]
  },
  {
   "cell_type": "markdown",
   "id": "3ec8dafb",
   "metadata": {},
   "source": [
    "There is an optional parameter `k` that allows us to instead specify a diagonal that is displaced from the leading diagonal. This is most easily explained with an example,"
   ]
  },
  {
   "cell_type": "code",
   "execution_count": 18,
   "id": "4f48a158",
   "metadata": {
    "execution": {
     "iopub.execute_input": "2024-10-13T21:30:36.992553Z",
     "iopub.status.busy": "2024-10-13T21:30:36.992427Z",
     "iopub.status.idle": "2024-10-13T21:30:36.994551Z",
     "shell.execute_reply": "2024-10-13T21:30:36.994257Z"
    }
   },
   "outputs": [
    {
     "name": "stdout",
     "output_type": "stream",
     "text": [
      "[[0 0 0 2 0]\n",
      " [0 0 0 0 2]\n",
      " [0 0 0 0 0]\n",
      " [0 0 0 0 0]\n",
      " [0 0 0 0 0]]\n"
     ]
    }
   ],
   "source": [
    "x = np.diag((2, 2), k=3)\n",
    "print(x)"
   ]
  },
  {
   "cell_type": "markdown",
   "id": "fbc8a44d",
   "metadata": {},
   "source": [
    "By summing matrices of this form we can make any banded-diagonal matrix, e.g.,"
   ]
  },
  {
   "cell_type": "code",
   "execution_count": 19,
   "id": "a2f9b747",
   "metadata": {
    "execution": {
     "iopub.execute_input": "2024-10-13T21:30:36.996432Z",
     "iopub.status.busy": "2024-10-13T21:30:36.996301Z",
     "iopub.status.idle": "2024-10-13T21:30:36.999725Z",
     "shell.execute_reply": "2024-10-13T21:30:36.999266Z"
    }
   },
   "outputs": [
    {
     "name": "stdout",
     "output_type": "stream",
     "text": [
      "[[1 2 0]\n",
      " [2 1 2]\n",
      " [0 2 1]]\n"
     ]
    }
   ],
   "source": [
    "x = np.diag((1, 1, 1)) + np.diag((2, 2), k=1) + np.diag((2, 2), k=-1)\n",
    "print(x)"
   ]
  },
  {
   "cell_type": "markdown",
   "id": "93c89b85",
   "metadata": {},
   "source": [
    "Using `diag` we could make an identity matrix, which has 1's along the leading diagonal. However, because the identity matrix is used so often, NumPy provides a dedicated function for generating it, `eye` that has a single parameter which determines the number of rows and columns,"
   ]
  },
  {
   "cell_type": "code",
   "execution_count": 20,
   "id": "f3b283b3",
   "metadata": {
    "execution": {
     "iopub.execute_input": "2024-10-13T21:30:37.001411Z",
     "iopub.status.busy": "2024-10-13T21:30:37.001276Z",
     "iopub.status.idle": "2024-10-13T21:30:37.003492Z",
     "shell.execute_reply": "2024-10-13T21:30:37.003164Z"
    }
   },
   "outputs": [
    {
     "name": "stdout",
     "output_type": "stream",
     "text": [
      "[[1. 0. 0. 0. 0. 0.]\n",
      " [0. 1. 0. 0. 0. 0.]\n",
      " [0. 0. 1. 0. 0. 0.]\n",
      " [0. 0. 0. 1. 0. 0.]\n",
      " [0. 0. 0. 0. 1. 0.]\n",
      " [0. 0. 0. 0. 0. 1.]]\n"
     ]
    }
   ],
   "source": [
    "x = np.eye(6)\n",
    "print(x)"
   ]
  },
  {
   "cell_type": "markdown",
   "id": "df13fd08",
   "metadata": {},
   "source": [
    "### 3.3 Arrays initialised with random numbers\n",
    "\n",
    "NumPy provides a number of functions for generating arrays of random numbers. The most useful are `rand` and `randn` which appear in the the submodule `numpy.random`.  `rand` uses random numbers that are uniformly distributed between 0 and 1. `randn` uses random numbers that are normally distributed with mean 0 and standard deviation 1.\n",
    "\n",
    "For example, to generate a 2 by 4 matrix of random numbers,"
   ]
  },
  {
   "cell_type": "code",
   "execution_count": 21,
   "id": "695fea11",
   "metadata": {
    "execution": {
     "iopub.execute_input": "2024-10-13T21:30:37.005037Z",
     "iopub.status.busy": "2024-10-13T21:30:37.004946Z",
     "iopub.status.idle": "2024-10-13T21:30:37.051079Z",
     "shell.execute_reply": "2024-10-13T21:30:37.050744Z"
    }
   },
   "outputs": [
    {
     "data": {
      "text/plain": [
       "array([[0.69232589, 0.73525609, 0.67806534, 0.75167144],\n",
       "       [0.79057419, 0.83265317, 0.82471311, 0.90909111]])"
      ]
     },
     "execution_count": 21,
     "metadata": {},
     "output_type": "execute_result"
    }
   ],
   "source": [
    "np.random.rand(2, 4)  # uniform distribution between 0 and 1"
   ]
  },
  {
   "cell_type": "markdown",
   "id": "e8708073",
   "metadata": {},
   "source": [
    "or,"
   ]
  },
  {
   "cell_type": "code",
   "execution_count": 22,
   "id": "a9428bf4",
   "metadata": {
    "execution": {
     "iopub.execute_input": "2024-10-13T21:30:37.052842Z",
     "iopub.status.busy": "2024-10-13T21:30:37.052726Z",
     "iopub.status.idle": "2024-10-13T21:30:37.055433Z",
     "shell.execute_reply": "2024-10-13T21:30:37.055119Z"
    }
   },
   "outputs": [
    {
     "data": {
      "text/plain": [
       "array([[-1.88017839, -0.20734408, -0.61087794,  0.13908494],\n",
       "       [ 0.14884806,  1.29643544, -1.39014395,  0.05873848]])"
      ]
     },
     "execution_count": 22,
     "metadata": {},
     "output_type": "execute_result"
    }
   ],
   "source": [
    "np.random.randn(2, 4)  # standard normal distribution"
   ]
  },
  {
   "cell_type": "markdown",
   "id": "111a6b1d",
   "metadata": {},
   "source": [
    "### 3.4 Reading arrays from files\n",
    "\n",
    "Finally, we might want to generate arrays by reading data from a file. NumPy provides a number of functions for this,\n",
    "\n",
    "* `genfromtxt` and `savetxt` for reading and writing to text files.\n",
    "* `load` and `save` for reading and writing in NumPy's native format.\n",
    "\n",
    "For the example below, we will use data from a text file `data/liver_data_20.txt` which has 20 rows of data stored in CSV format,"
   ]
  },
  {
   "cell_type": "code",
   "execution_count": 23,
   "id": "d46c3ed6",
   "metadata": {
    "execution": {
     "iopub.execute_input": "2024-10-13T21:30:37.056933Z",
     "iopub.status.busy": "2024-10-13T21:30:37.056808Z",
     "iopub.status.idle": "2024-10-13T21:30:37.186557Z",
     "shell.execute_reply": "2024-10-13T21:30:37.185988Z"
    }
   },
   "outputs": [
    {
     "name": "stdout",
     "output_type": "stream",
     "text": [
      "92,45,27,31,0.0,1\r\n",
      "64,59,32,23,0.0,2\r\n",
      "54,33,16,54,0.0,2\r\n",
      "78,34,24,36,0.0,2\r\n",
      "70,12,28,10,0.0,2\r\n",
      "55,13,17,17,0.0,2\r\n",
      "62,20,17,9,0.5,1\r\n",
      "67,21,11,11,0.5,1\r\n",
      "54,22,20,7,0.5,1\r\n",
      "60,25,19,5,0.5,1\r\n",
      "52,13,24,15,0.5,1\r\n",
      "62,17,17,15,0.5,1\r\n",
      "64,61,32,13,0.5,1\r\n",
      "77,25,19,18,0.5,1\r\n",
      "67,29,20,11,0.5,1\r\n",
      "78,20,31,18,0.5,1\r\n",
      "67,23,16,10,0.5,1\r\n",
      "79,17,17,16,0.5,1\r\n",
      "107,20,20,56,0.5,1\r\n",
      "116,11,33,11,0.5,1\r\n"
     ]
    }
   ],
   "source": [
    "cat data/liver_data_20.txt"
   ]
  },
  {
   "cell_type": "markdown",
   "id": "69898aa5",
   "metadata": {},
   "source": [
    "To read this into a NumPy array we simply use,"
   ]
  },
  {
   "cell_type": "code",
   "execution_count": 24,
   "id": "b2a57e49",
   "metadata": {
    "execution": {
     "iopub.execute_input": "2024-10-13T21:30:37.188824Z",
     "iopub.status.busy": "2024-10-13T21:30:37.188658Z",
     "iopub.status.idle": "2024-10-13T21:30:37.192100Z",
     "shell.execute_reply": "2024-10-13T21:30:37.191730Z"
    }
   },
   "outputs": [
    {
     "name": "stdout",
     "output_type": "stream",
     "text": [
      "[[ 92.   45.   27.   31.    0.    1. ]\n",
      " [ 64.   59.   32.   23.    0.    2. ]\n",
      " [ 54.   33.   16.   54.    0.    2. ]\n",
      " [ 78.   34.   24.   36.    0.    2. ]\n",
      " [ 70.   12.   28.   10.    0.    2. ]\n",
      " [ 55.   13.   17.   17.    0.    2. ]\n",
      " [ 62.   20.   17.    9.    0.5   1. ]\n",
      " [ 67.   21.   11.   11.    0.5   1. ]\n",
      " [ 54.   22.   20.    7.    0.5   1. ]\n",
      " [ 60.   25.   19.    5.    0.5   1. ]\n",
      " [ 52.   13.   24.   15.    0.5   1. ]\n",
      " [ 62.   17.   17.   15.    0.5   1. ]\n",
      " [ 64.   61.   32.   13.    0.5   1. ]\n",
      " [ 77.   25.   19.   18.    0.5   1. ]\n",
      " [ 67.   29.   20.   11.    0.5   1. ]\n",
      " [ 78.   20.   31.   18.    0.5   1. ]\n",
      " [ 67.   23.   16.   10.    0.5   1. ]\n",
      " [ 79.   17.   17.   16.    0.5   1. ]\n",
      " [107.   20.   20.   56.    0.5   1. ]\n",
      " [116.   11.   33.   11.    0.5   1. ]]\n"
     ]
    }
   ],
   "source": [
    "x = np.genfromtxt(\"data/liver_data_20.txt\", delimiter=\",\")  # for reading a csv file\n",
    "print(x)"
   ]
  },
  {
   "cell_type": "markdown",
   "id": "79a0f5d3",
   "metadata": {},
   "source": [
    "The `delimiter` parameter specifies that the data are separated by commas. (The default is to assume that the data are separated by spaces.)\n",
    "\n",
    "Saving a NumPy array to a file is also easy,"
   ]
  },
  {
   "cell_type": "code",
   "execution_count": 25,
   "id": "fd8b9aef",
   "metadata": {
    "execution": {
     "iopub.execute_input": "2024-10-13T21:30:37.193813Z",
     "iopub.status.busy": "2024-10-13T21:30:37.193700Z",
     "iopub.status.idle": "2024-10-13T21:30:37.197864Z",
     "shell.execute_reply": "2024-10-13T21:30:37.197472Z"
    }
   },
   "outputs": [],
   "source": [
    "x = np.genfromtxt(\"data/liver_data_20.txt\", delimiter=\",\")  # for reading a csv file\n",
    "np.savetxt(\"data/matrix.tsv\", x, delimiter=\"\\t\", fmt=\"%.5f\")"
   ]
  },
  {
   "cell_type": "markdown",
   "id": "1416d278",
   "metadata": {},
   "source": [
    "Here we have saved the data in tab-separated format with 5 decimal places of precision."
   ]
  },
  {
   "cell_type": "code",
   "execution_count": 26,
   "id": "c6d135b4",
   "metadata": {
    "execution": {
     "iopub.execute_input": "2024-10-13T21:30:37.199686Z",
     "iopub.status.busy": "2024-10-13T21:30:37.199571Z",
     "iopub.status.idle": "2024-10-13T21:30:37.320232Z",
     "shell.execute_reply": "2024-10-13T21:30:37.319598Z"
    }
   },
   "outputs": [
    {
     "name": "stdout",
     "output_type": "stream",
     "text": [
      "92.00000\t45.00000\t27.00000\t31.00000\t0.00000\t1.00000\r\n",
      "64.00000\t59.00000\t32.00000\t23.00000\t0.00000\t2.00000\r\n",
      "54.00000\t33.00000\t16.00000\t54.00000\t0.00000\t2.00000\r\n",
      "78.00000\t34.00000\t24.00000\t36.00000\t0.00000\t2.00000\r\n",
      "70.00000\t12.00000\t28.00000\t10.00000\t0.00000\t2.00000\r\n",
      "55.00000\t13.00000\t17.00000\t17.00000\t0.00000\t2.00000\r\n",
      "62.00000\t20.00000\t17.00000\t9.00000\t0.50000\t1.00000\r\n",
      "67.00000\t21.00000\t11.00000\t11.00000\t0.50000\t1.00000\r\n",
      "54.00000\t22.00000\t20.00000\t7.00000\t0.50000\t1.00000\r\n",
      "60.00000\t25.00000\t19.00000\t5.00000\t0.50000\t1.00000\r\n",
      "52.00000\t13.00000\t24.00000\t15.00000\t0.50000\t1.00000\r\n",
      "62.00000\t17.00000\t17.00000\t15.00000\t0.50000\t1.00000\r\n",
      "64.00000\t61.00000\t32.00000\t13.00000\t0.50000\t1.00000\r\n",
      "77.00000\t25.00000\t19.00000\t18.00000\t0.50000\t1.00000\r\n",
      "67.00000\t29.00000\t20.00000\t11.00000\t0.50000\t1.00000\r\n",
      "78.00000\t20.00000\t31.00000\t18.00000\t0.50000\t1.00000\r\n",
      "67.00000\t23.00000\t16.00000\t10.00000\t0.50000\t1.00000\r\n",
      "79.00000\t17.00000\t17.00000\t16.00000\t0.50000\t1.00000\r\n",
      "107.00000\t20.00000\t20.00000\t56.00000\t0.50000\t1.00000\r\n",
      "116.00000\t11.00000\t33.00000\t11.00000\t0.50000\t1.00000\r\n"
     ]
    }
   ],
   "source": [
    "cat data/matrix.tsv"
   ]
  },
  {
   "cell_type": "markdown",
   "id": "8575521f",
   "metadata": {},
   "source": [
    "## 4 Array manipulation\n",
    "\n",
    "### 4.1 Indexing and slicing\n",
    "\n",
    "indexing is similar to Python lists"
   ]
  },
  {
   "cell_type": "code",
   "execution_count": 27,
   "id": "8f3a9b64",
   "metadata": {
    "execution": {
     "iopub.execute_input": "2024-10-13T21:30:37.322692Z",
     "iopub.status.busy": "2024-10-13T21:30:37.322428Z",
     "iopub.status.idle": "2024-10-13T21:30:37.325456Z",
     "shell.execute_reply": "2024-10-13T21:30:37.325005Z"
    }
   },
   "outputs": [
    {
     "name": "stdout",
     "output_type": "stream",
     "text": [
      "1\n",
      "[3 4 5]\n",
      "[1 2 3 4]\n",
      "[5 6 7]\n"
     ]
    }
   ],
   "source": [
    "x = np.array([1, 2, 3, 4, 5, 6, 7])\n",
    "print(x[0])\n",
    "print(x[2:5])\n",
    "print(x[:4])\n",
    "print(x[4:])"
   ]
  },
  {
   "cell_type": "markdown",
   "id": "94a0a85e",
   "metadata": {},
   "source": [
    "But it is generalised to n-dimensions"
   ]
  },
  {
   "cell_type": "code",
   "execution_count": 28,
   "id": "fd81c143",
   "metadata": {
    "execution": {
     "iopub.execute_input": "2024-10-13T21:30:37.327403Z",
     "iopub.status.busy": "2024-10-13T21:30:37.327314Z",
     "iopub.status.idle": "2024-10-13T21:30:37.329845Z",
     "shell.execute_reply": "2024-10-13T21:30:37.329410Z"
    }
   },
   "outputs": [
    {
     "name": "stdout",
     "output_type": "stream",
     "text": [
      "[[0.93147525 0.66454507]\n",
      " [0.12712    0.36397194]]\n"
     ]
    }
   ],
   "source": [
    "x = np.random.rand(5, 5)\n",
    "print(x[2:4, :2])"
   ]
  },
  {
   "cell_type": "markdown",
   "id": "a47a3ca6",
   "metadata": {},
   "source": [
    "### 4.2 Extracting a row or column vector from a matrix"
   ]
  },
  {
   "cell_type": "code",
   "execution_count": 29,
   "id": "9befce61",
   "metadata": {
    "execution": {
     "iopub.execute_input": "2024-10-13T21:30:37.331636Z",
     "iopub.status.busy": "2024-10-13T21:30:37.331519Z",
     "iopub.status.idle": "2024-10-13T21:30:37.335331Z",
     "shell.execute_reply": "2024-10-13T21:30:37.334810Z"
    }
   },
   "outputs": [],
   "source": [
    "A = np.genfromtxt(\"data/test_matrix.txt\")"
   ]
  },
  {
   "cell_type": "code",
   "execution_count": 30,
   "id": "bd499fbe",
   "metadata": {
    "execution": {
     "iopub.execute_input": "2024-10-13T21:30:37.337322Z",
     "iopub.status.busy": "2024-10-13T21:30:37.337232Z",
     "iopub.status.idle": "2024-10-13T21:30:37.339506Z",
     "shell.execute_reply": "2024-10-13T21:30:37.339146Z"
    }
   },
   "outputs": [
    {
     "name": "stdout",
     "output_type": "stream",
     "text": [
      "[[ 0.  1.  2.  3.  4.]\n",
      " [10. 11. 12. 13. 14.]\n",
      " [20. 21. 22. 23. 24.]\n",
      " [30. 31. 32. 33. 34.]\n",
      " [40. 41. 42. 43. 44.]]\n"
     ]
    }
   ],
   "source": [
    "print(A)"
   ]
  },
  {
   "cell_type": "code",
   "execution_count": 31,
   "id": "24f10715",
   "metadata": {
    "execution": {
     "iopub.execute_input": "2024-10-13T21:30:37.341266Z",
     "iopub.status.busy": "2024-10-13T21:30:37.341170Z",
     "iopub.status.idle": "2024-10-13T21:30:37.343672Z",
     "shell.execute_reply": "2024-10-13T21:30:37.343167Z"
    }
   },
   "outputs": [
    {
     "name": "stdout",
     "output_type": "stream",
     "text": [
      "[21. 22. 23.]\n",
      "(3,)\n"
     ]
    }
   ],
   "source": [
    "print(A[2, 1:4])  # extract row 2  (can also be written as A[2])\n",
    "print(A[2, 1:4].shape)"
   ]
  },
  {
   "cell_type": "code",
   "execution_count": 32,
   "id": "d13a0510",
   "metadata": {
    "execution": {
     "iopub.execute_input": "2024-10-13T21:30:37.345430Z",
     "iopub.status.busy": "2024-10-13T21:30:37.345305Z",
     "iopub.status.idle": "2024-10-13T21:30:37.347629Z",
     "shell.execute_reply": "2024-10-13T21:30:37.347217Z"
    }
   },
   "outputs": [
    {
     "name": "stdout",
     "output_type": "stream",
     "text": [
      "[ 2. 12. 22. 32. 42.]\n",
      "(5,)\n"
     ]
    }
   ],
   "source": [
    "print(A[:, 2])  # extract column 2\n",
    "print(A[:, 2].shape)"
   ]
  },
  {
   "cell_type": "markdown",
   "id": "a3d31eea",
   "metadata": {},
   "source": [
    "### 4.3 Some basic operations\n",
    "\n",
    "The NumPy ndarray object has many methods.\n",
    "\n",
    "e.g., `min`, `max`, `sum`, `product`, `mean`"
   ]
  },
  {
   "cell_type": "code",
   "execution_count": 33,
   "id": "4ddc444b",
   "metadata": {
    "execution": {
     "iopub.execute_input": "2024-10-13T21:30:37.349539Z",
     "iopub.status.busy": "2024-10-13T21:30:37.349404Z",
     "iopub.status.idle": "2024-10-13T21:30:37.351473Z",
     "shell.execute_reply": "2024-10-13T21:30:37.351100Z"
    }
   },
   "outputs": [],
   "source": [
    "x = np.array([1, 2, 3, 4, 5, 6])"
   ]
  },
  {
   "cell_type": "code",
   "execution_count": 34,
   "id": "aaab2a19",
   "metadata": {
    "execution": {
     "iopub.execute_input": "2024-10-13T21:30:37.353125Z",
     "iopub.status.busy": "2024-10-13T21:30:37.352987Z",
     "iopub.status.idle": "2024-10-13T21:30:37.355083Z",
     "shell.execute_reply": "2024-10-13T21:30:37.354748Z"
    }
   },
   "outputs": [
    {
     "name": "stdout",
     "output_type": "stream",
     "text": [
      "1 6\n"
     ]
    }
   ],
   "source": [
    "print(x.min(), x.max())"
   ]
  },
  {
   "cell_type": "code",
   "execution_count": 35,
   "id": "eae4c246",
   "metadata": {
    "execution": {
     "iopub.execute_input": "2024-10-13T21:30:37.356827Z",
     "iopub.status.busy": "2024-10-13T21:30:37.356692Z",
     "iopub.status.idle": "2024-10-13T21:30:37.359027Z",
     "shell.execute_reply": "2024-10-13T21:30:37.358558Z"
    }
   },
   "outputs": [
    {
     "name": "stdout",
     "output_type": "stream",
     "text": [
      "21 720\n"
     ]
    }
   ],
   "source": [
    "print(x.sum(), x.prod())"
   ]
  },
  {
   "cell_type": "code",
   "execution_count": 36,
   "id": "be3e7806",
   "metadata": {
    "execution": {
     "iopub.execute_input": "2024-10-13T21:30:37.360853Z",
     "iopub.status.busy": "2024-10-13T21:30:37.360721Z",
     "iopub.status.idle": "2024-10-13T21:30:37.362927Z",
     "shell.execute_reply": "2024-10-13T21:30:37.362616Z"
    }
   },
   "outputs": [
    {
     "name": "stdout",
     "output_type": "stream",
     "text": [
      "3.5 2.9166666666666665\n"
     ]
    }
   ],
   "source": [
    "print(x.mean(), x.var())"
   ]
  },
  {
   "cell_type": "markdown",
   "id": "bc5ed8b3",
   "metadata": {},
   "source": [
    "These operations can be applied to arrays with more than one dimension."
   ]
  },
  {
   "cell_type": "code",
   "execution_count": 37,
   "id": "2862cdc5",
   "metadata": {
    "execution": {
     "iopub.execute_input": "2024-10-13T21:30:37.364562Z",
     "iopub.status.busy": "2024-10-13T21:30:37.364440Z",
     "iopub.status.idle": "2024-10-13T21:30:37.366934Z",
     "shell.execute_reply": "2024-10-13T21:30:37.366570Z"
    }
   },
   "outputs": [],
   "source": [
    "A = np.genfromtxt(\"data/test_matrix.txt\")"
   ]
  },
  {
   "cell_type": "code",
   "execution_count": 38,
   "id": "4c9044ef",
   "metadata": {
    "execution": {
     "iopub.execute_input": "2024-10-13T21:30:37.368852Z",
     "iopub.status.busy": "2024-10-13T21:30:37.368701Z",
     "iopub.status.idle": "2024-10-13T21:30:37.370821Z",
     "shell.execute_reply": "2024-10-13T21:30:37.370513Z"
    }
   },
   "outputs": [
    {
     "name": "stdout",
     "output_type": "stream",
     "text": [
      "[[ 0.  1.  2.  3.  4.]\n",
      " [10. 11. 12. 13. 14.]\n",
      " [20. 21. 22. 23. 24.]\n",
      " [30. 31. 32. 33. 34.]\n",
      " [40. 41. 42. 43. 44.]]\n"
     ]
    }
   ],
   "source": [
    "print(A)"
   ]
  },
  {
   "cell_type": "code",
   "execution_count": 39,
   "id": "2da71b35",
   "metadata": {
    "execution": {
     "iopub.execute_input": "2024-10-13T21:30:37.372653Z",
     "iopub.status.busy": "2024-10-13T21:30:37.372529Z",
     "iopub.status.idle": "2024-10-13T21:30:37.374627Z",
     "shell.execute_reply": "2024-10-13T21:30:37.374304Z"
    }
   },
   "outputs": [
    {
     "name": "stdout",
     "output_type": "stream",
     "text": [
      "0.0 44.0\n"
     ]
    }
   ],
   "source": [
    "print(A.min(), A.max())"
   ]
  },
  {
   "cell_type": "code",
   "execution_count": 40,
   "id": "1c033627",
   "metadata": {
    "execution": {
     "iopub.execute_input": "2024-10-13T21:30:37.376441Z",
     "iopub.status.busy": "2024-10-13T21:30:37.376328Z",
     "iopub.status.idle": "2024-10-13T21:30:37.378903Z",
     "shell.execute_reply": "2024-10-13T21:30:37.378532Z"
    }
   },
   "outputs": [
    {
     "name": "stdout",
     "output_type": "stream",
     "text": [
      "[20. 21. 22. 23. 24.]\n",
      "[100. 105. 110. 115. 120.]\n"
     ]
    }
   ],
   "source": [
    "mean_values = A.mean(axis=0)\n",
    "sum_values = A.sum(axis=0)\n",
    "print(mean_values)\n",
    "print(sum_values)"
   ]
  },
  {
   "cell_type": "markdown",
   "id": "5d96de69",
   "metadata": {},
   "source": [
    "## 5 Working with NumPy arrays\n",
    "\n",
    "### 5.1 Reshaping and resizing\n",
    "\n",
    "It is sometimes necessary to wrap a vector into a matrix or unwrap a matrix into a vector"
   ]
  },
  {
   "cell_type": "code",
   "execution_count": 41,
   "id": "d2b5cd2a",
   "metadata": {
    "execution": {
     "iopub.execute_input": "2024-10-13T21:30:37.380681Z",
     "iopub.status.busy": "2024-10-13T21:30:37.380571Z",
     "iopub.status.idle": "2024-10-13T21:30:37.382584Z",
     "shell.execute_reply": "2024-10-13T21:30:37.382200Z"
    }
   },
   "outputs": [],
   "source": [
    "M = np.array([1, 2, 3, 4, 5, 6, 7, 8, 9]).reshape(3, 3)"
   ]
  },
  {
   "cell_type": "code",
   "execution_count": 42,
   "id": "66be40d2",
   "metadata": {
    "execution": {
     "iopub.execute_input": "2024-10-13T21:30:37.384262Z",
     "iopub.status.busy": "2024-10-13T21:30:37.384132Z",
     "iopub.status.idle": "2024-10-13T21:30:37.386254Z",
     "shell.execute_reply": "2024-10-13T21:30:37.385875Z"
    }
   },
   "outputs": [
    {
     "name": "stdout",
     "output_type": "stream",
     "text": [
      "[[1 2 3]\n",
      " [4 5 6]\n",
      " [7 8 9]]\n"
     ]
    }
   ],
   "source": [
    "print(M)"
   ]
  },
  {
   "cell_type": "code",
   "execution_count": 43,
   "id": "bbac54ad",
   "metadata": {
    "execution": {
     "iopub.execute_input": "2024-10-13T21:30:37.387943Z",
     "iopub.status.busy": "2024-10-13T21:30:37.387827Z",
     "iopub.status.idle": "2024-10-13T21:30:37.389955Z",
     "shell.execute_reply": "2024-10-13T21:30:37.389615Z"
    }
   },
   "outputs": [
    {
     "name": "stdout",
     "output_type": "stream",
     "text": [
      "[1 2 3 4 5 6 7 8 9]\n"
     ]
    }
   ],
   "source": [
    "v = M.reshape(9)\n",
    "print(v)"
   ]
  },
  {
   "cell_type": "code",
   "execution_count": 44,
   "id": "65b32394",
   "metadata": {
    "execution": {
     "iopub.execute_input": "2024-10-13T21:30:37.391694Z",
     "iopub.status.busy": "2024-10-13T21:30:37.391572Z",
     "iopub.status.idle": "2024-10-13T21:30:37.488455Z",
     "shell.execute_reply": "2024-10-13T21:30:37.488043Z"
    },
    "tags": [
     "raises-exception"
    ]
   },
   "outputs": [
    {
     "ename": "ValueError",
     "evalue": "cannot reshape array of size 9 into shape (8,)",
     "output_type": "error",
     "traceback": [
      "\u001b[0;31m---------------------------------------------------------------------------\u001b[0m",
      "\u001b[0;31mValueError\u001b[0m                                Traceback (most recent call last)",
      "Cell \u001b[0;32mIn[44], line 4\u001b[0m\n\u001b[1;32m      1\u001b[0m \u001b[38;5;66;03m# The following line will generate an error\u001b[39;00m\n\u001b[1;32m      2\u001b[0m \u001b[38;5;66;03m# because reshape cannot change the number of elements.\u001b[39;00m\n\u001b[0;32m----> 4\u001b[0m v \u001b[38;5;241m=\u001b[39m \u001b[43mM\u001b[49m\u001b[38;5;241;43m.\u001b[39;49m\u001b[43mreshape\u001b[49m\u001b[43m(\u001b[49m\u001b[38;5;241;43m8\u001b[39;49m\u001b[43m)\u001b[49m\n",
      "\u001b[0;31mValueError\u001b[0m: cannot reshape array of size 9 into shape (8,)"
     ]
    }
   ],
   "source": [
    "# The following line will generate an error\n",
    "# because reshape cannot change the number of elements.\n",
    "\n",
    "v = M.reshape(8)"
   ]
  },
  {
   "cell_type": "markdown",
   "id": "8b140b21",
   "metadata": {},
   "source": [
    "### 5.2 Adding a new dimension\n",
    "\n",
    "Can easily turn 1-D vectors in 2-D matrices"
   ]
  },
  {
   "cell_type": "code",
   "execution_count": 45,
   "id": "5d47b379",
   "metadata": {
    "execution": {
     "iopub.execute_input": "2024-10-13T21:30:37.490524Z",
     "iopub.status.busy": "2024-10-13T21:30:37.490376Z",
     "iopub.status.idle": "2024-10-13T21:30:37.492550Z",
     "shell.execute_reply": "2024-10-13T21:30:37.492182Z"
    }
   },
   "outputs": [],
   "source": [
    "v = np.array([1, 2, 3, 4, 5])"
   ]
  },
  {
   "cell_type": "code",
   "execution_count": 46,
   "id": "57de626b",
   "metadata": {
    "execution": {
     "iopub.execute_input": "2024-10-13T21:30:37.494395Z",
     "iopub.status.busy": "2024-10-13T21:30:37.494228Z",
     "iopub.status.idle": "2024-10-13T21:30:37.496491Z",
     "shell.execute_reply": "2024-10-13T21:30:37.496103Z"
    }
   },
   "outputs": [
    {
     "name": "stdout",
     "output_type": "stream",
     "text": [
      "[1 2 3 4 5]\n",
      "(5,)\n"
     ]
    }
   ],
   "source": [
    "print(v)\n",
    "print(v.shape)"
   ]
  },
  {
   "cell_type": "code",
   "execution_count": 47,
   "id": "d23e8456",
   "metadata": {
    "execution": {
     "iopub.execute_input": "2024-10-13T21:30:37.498333Z",
     "iopub.status.busy": "2024-10-13T21:30:37.498204Z",
     "iopub.status.idle": "2024-10-13T21:30:37.500517Z",
     "shell.execute_reply": "2024-10-13T21:30:37.500147Z"
    }
   },
   "outputs": [
    {
     "name": "stdout",
     "output_type": "stream",
     "text": [
      "[[1 2 3 4 5]]\n",
      "(1, 5)\n"
     ]
    }
   ],
   "source": [
    "v_row = v[np.newaxis, :]  # turn a vector into a 1-row matrix\n",
    "print(v_row)\n",
    "print(v_row.shape)"
   ]
  },
  {
   "cell_type": "code",
   "execution_count": 48,
   "id": "8a259f2f",
   "metadata": {
    "execution": {
     "iopub.execute_input": "2024-10-13T21:30:37.502272Z",
     "iopub.status.busy": "2024-10-13T21:30:37.502137Z",
     "iopub.status.idle": "2024-10-13T21:30:37.504454Z",
     "shell.execute_reply": "2024-10-13T21:30:37.504013Z"
    }
   },
   "outputs": [
    {
     "name": "stdout",
     "output_type": "stream",
     "text": [
      "[[1]\n",
      " [2]\n",
      " [3]\n",
      " [4]\n",
      " [5]]\n",
      "(5, 1)\n"
     ]
    }
   ],
   "source": [
    "v_col = v[:, np.newaxis]  # turn a vector into a 1-column matrix\n",
    "print(v_col)\n",
    "print(v_col.shape)"
   ]
  },
  {
   "cell_type": "markdown",
   "id": "28ae7234",
   "metadata": {},
   "source": [
    "### 5.3 Stacking arrays\n",
    "\n",
    "Arrays with compatible dimensions can be joined horizontally or vertically"
   ]
  },
  {
   "cell_type": "code",
   "execution_count": 49,
   "id": "7b7f61a6",
   "metadata": {
    "execution": {
     "iopub.execute_input": "2024-10-13T21:30:37.506209Z",
     "iopub.status.busy": "2024-10-13T21:30:37.506083Z",
     "iopub.status.idle": "2024-10-13T21:30:37.508522Z",
     "shell.execute_reply": "2024-10-13T21:30:37.508165Z"
    }
   },
   "outputs": [
    {
     "name": "stdout",
     "output_type": "stream",
     "text": [
      "[[1. 1. 1.]\n",
      " [1. 1. 1.]]\n",
      "[[0. 0.]\n",
      " [0. 0.]]\n",
      "[[1. 1. 1. 0. 0. 1. 1. 1.]\n",
      " [1. 1. 1. 0. 0. 1. 1. 1.]]\n",
      "(2, 8)\n"
     ]
    }
   ],
   "source": [
    "x = np.ones((2, 3))\n",
    "y = np.zeros((2, 2))\n",
    "z = np.hstack((x, y, x))  # note, arrays passed as a tuple\n",
    "print(x)\n",
    "print(y)\n",
    "print(z)\n",
    "print(z.shape)"
   ]
  },
  {
   "cell_type": "code",
   "execution_count": 50,
   "id": "9ce97dcb",
   "metadata": {
    "execution": {
     "iopub.execute_input": "2024-10-13T21:30:37.510133Z",
     "iopub.status.busy": "2024-10-13T21:30:37.509975Z",
     "iopub.status.idle": "2024-10-13T21:30:37.512392Z",
     "shell.execute_reply": "2024-10-13T21:30:37.512012Z"
    }
   },
   "outputs": [
    {
     "name": "stdout",
     "output_type": "stream",
     "text": [
      "[[1. 1.]\n",
      " [1. 1.]\n",
      " [0. 0.]]\n",
      "(3, 2)\n"
     ]
    }
   ],
   "source": [
    "x = np.ones((2, 2))\n",
    "y = np.zeros((1, 2))\n",
    "z = np.vstack((x, y))\n",
    "print(z)\n",
    "print(z.shape)"
   ]
  },
  {
   "cell_type": "markdown",
   "id": "008cad1b",
   "metadata": {},
   "source": [
    "### 5.4 Tiling and repeating"
   ]
  },
  {
   "cell_type": "code",
   "execution_count": 51,
   "id": "93183179",
   "metadata": {
    "execution": {
     "iopub.execute_input": "2024-10-13T21:30:37.514218Z",
     "iopub.status.busy": "2024-10-13T21:30:37.514080Z",
     "iopub.status.idle": "2024-10-13T21:30:37.515994Z",
     "shell.execute_reply": "2024-10-13T21:30:37.515650Z"
    }
   },
   "outputs": [],
   "source": [
    "x = np.array([[1, 2], [3, 4]])"
   ]
  },
  {
   "cell_type": "code",
   "execution_count": 52,
   "id": "7676bed5",
   "metadata": {
    "execution": {
     "iopub.execute_input": "2024-10-13T21:30:37.517673Z",
     "iopub.status.busy": "2024-10-13T21:30:37.517555Z",
     "iopub.status.idle": "2024-10-13T21:30:37.519755Z",
     "shell.execute_reply": "2024-10-13T21:30:37.519304Z"
    }
   },
   "outputs": [
    {
     "name": "stdout",
     "output_type": "stream",
     "text": [
      "[[1 2 1 2 1 2]\n",
      " [3 4 3 4 3 4]]\n"
     ]
    }
   ],
   "source": [
    "y = np.tile(x, 3)\n",
    "print(y)"
   ]
  },
  {
   "cell_type": "code",
   "execution_count": 53,
   "id": "10007739",
   "metadata": {
    "execution": {
     "iopub.execute_input": "2024-10-13T21:30:37.521593Z",
     "iopub.status.busy": "2024-10-13T21:30:37.521372Z",
     "iopub.status.idle": "2024-10-13T21:30:37.523615Z",
     "shell.execute_reply": "2024-10-13T21:30:37.523198Z"
    }
   },
   "outputs": [
    {
     "name": "stdout",
     "output_type": "stream",
     "text": [
      "[[1 2 1 2 1 2 1 2]\n",
      " [3 4 3 4 3 4 3 4]\n",
      " [1 2 1 2 1 2 1 2]\n",
      " [3 4 3 4 3 4 3 4]]\n"
     ]
    }
   ],
   "source": [
    "y = np.tile(x, (2, 4))\n",
    "print(y)"
   ]
  },
  {
   "cell_type": "code",
   "execution_count": 54,
   "id": "ecce2567",
   "metadata": {
    "execution": {
     "iopub.execute_input": "2024-10-13T21:30:37.525300Z",
     "iopub.status.busy": "2024-10-13T21:30:37.525150Z",
     "iopub.status.idle": "2024-10-13T21:30:37.527273Z",
     "shell.execute_reply": "2024-10-13T21:30:37.526904Z"
    }
   },
   "outputs": [
    {
     "name": "stdout",
     "output_type": "stream",
     "text": [
      "[1 1 1 1 2 2 2 2 3 3 3 3 4 4 4 4]\n"
     ]
    }
   ],
   "source": [
    "y = np.repeat(x, 4)\n",
    "print(y)"
   ]
  },
  {
   "cell_type": "code",
   "execution_count": 55,
   "id": "00f91689",
   "metadata": {
    "execution": {
     "iopub.execute_input": "2024-10-13T21:30:37.528903Z",
     "iopub.status.busy": "2024-10-13T21:30:37.528769Z",
     "iopub.status.idle": "2024-10-13T21:30:37.530824Z",
     "shell.execute_reply": "2024-10-13T21:30:37.530513Z"
    }
   },
   "outputs": [
    {
     "name": "stdout",
     "output_type": "stream",
     "text": [
      "[[1 2]\n",
      " [1 2]\n",
      " [1 2]\n",
      " [1 2]\n",
      " [3 4]\n",
      " [3 4]\n",
      " [3 4]\n",
      " [3 4]]\n"
     ]
    }
   ],
   "source": [
    "y = np.repeat(x, 4, axis=0)\n",
    "print(y)"
   ]
  },
  {
   "cell_type": "markdown",
   "id": "8eacfb03",
   "metadata": {},
   "source": [
    "## 6 Copying\n",
    "\n",
    "### 6.1 Shallow copy\n",
    "\n",
    "Arrays are handled by reference.\n",
    "\n",
    "When you do `A = B` you are just copying a reference, not the data itself."
   ]
  },
  {
   "cell_type": "code",
   "execution_count": 56,
   "id": "104b24a6",
   "metadata": {
    "execution": {
     "iopub.execute_input": "2024-10-13T21:30:37.532519Z",
     "iopub.status.busy": "2024-10-13T21:30:37.532388Z",
     "iopub.status.idle": "2024-10-13T21:30:37.534672Z",
     "shell.execute_reply": "2024-10-13T21:30:37.534308Z"
    }
   },
   "outputs": [
    {
     "name": "stdout",
     "output_type": "stream",
     "text": [
      "[10  2  3  4  5  6]\n"
     ]
    }
   ],
   "source": [
    "A = np.array([1, 2, 3, 4, 5, 6])\n",
    "B = A\n",
    "B[0] = 10\n",
    "print(A)"
   ]
  },
  {
   "cell_type": "markdown",
   "id": "57854486",
   "metadata": {},
   "source": [
    "Note that this is also true for Python lists and objects."
   ]
  },
  {
   "cell_type": "code",
   "execution_count": 57,
   "id": "3b16d84b",
   "metadata": {
    "execution": {
     "iopub.execute_input": "2024-10-13T21:30:37.536513Z",
     "iopub.status.busy": "2024-10-13T21:30:37.536397Z",
     "iopub.status.idle": "2024-10-13T21:30:37.538379Z",
     "shell.execute_reply": "2024-10-13T21:30:37.538023Z"
    }
   },
   "outputs": [
    {
     "name": "stdout",
     "output_type": "stream",
     "text": [
      "[10, 2, 3, 4, 5, 6]\n"
     ]
    }
   ],
   "source": [
    "A = [1, 2, 3, 4, 5, 6]\n",
    "B = A\n",
    "B[0] = 10\n",
    "print(A)"
   ]
  },
  {
   "cell_type": "markdown",
   "id": "26f2d942",
   "metadata": {},
   "source": [
    "So, how do we make a real copy?\n",
    "\n",
    "### 6.2 Deep Copy\n",
    "\n",
    "To actually copy the data stored in the array we use the NumPy copy method,"
   ]
  },
  {
   "cell_type": "code",
   "execution_count": 58,
   "id": "01728b36",
   "metadata": {
    "execution": {
     "iopub.execute_input": "2024-10-13T21:30:37.540041Z",
     "iopub.status.busy": "2024-10-13T21:30:37.539901Z",
     "iopub.status.idle": "2024-10-13T21:30:37.542109Z",
     "shell.execute_reply": "2024-10-13T21:30:37.541799Z"
    }
   },
   "outputs": [
    {
     "name": "stdout",
     "output_type": "stream",
     "text": [
      "[1 2 3 4 5 6]\n"
     ]
    }
   ],
   "source": [
    "A = np.array([1, 2, 3, 4, 5, 6])\n",
    "B = A.copy()  # can also write, B = np.copy(A)\n",
    "B[0] = 10\n",
    "print(A)"
   ]
  },
  {
   "cell_type": "markdown",
   "id": "e64942ac",
   "metadata": {},
   "source": [
    "Note, to copy Python *lists*, we first need to import the copy module,"
   ]
  },
  {
   "cell_type": "code",
   "execution_count": 59,
   "id": "f77385a6",
   "metadata": {
    "execution": {
     "iopub.execute_input": "2024-10-13T21:30:37.543860Z",
     "iopub.status.busy": "2024-10-13T21:30:37.543745Z",
     "iopub.status.idle": "2024-10-13T21:30:37.545891Z",
     "shell.execute_reply": "2024-10-13T21:30:37.545549Z"
    }
   },
   "outputs": [
    {
     "name": "stdout",
     "output_type": "stream",
     "text": [
      "[1, 2, 3, 4, 5, 6]\n"
     ]
    }
   ],
   "source": [
    "import copy\n",
    "\n",
    "A = [1, 2, 3, 4, 5, 6]\n",
    "B = copy.deepcopy(A)\n",
    "print(B)"
   ]
  },
  {
   "cell_type": "markdown",
   "id": "e29218b6",
   "metadata": {},
   "source": [
    "(Don't confuse NumPy ndarrays and Python lists...)\n",
    "\n",
    "## 7 Matrix operations\n",
    "\n",
    "NumPy implements all common array operations,\n",
    "\n",
    "* addition, subtraction,\n",
    "* transpose,\n",
    "* multiplication,\n",
    "* inverse\n",
    "\n",
    "### 7.1 Array addition and subtraction"
   ]
  },
  {
   "cell_type": "code",
   "execution_count": 60,
   "id": "4a391ba7",
   "metadata": {
    "execution": {
     "iopub.execute_input": "2024-10-13T21:30:37.547652Z",
     "iopub.status.busy": "2024-10-13T21:30:37.547527Z",
     "iopub.status.idle": "2024-10-13T21:30:37.549507Z",
     "shell.execute_reply": "2024-10-13T21:30:37.549170Z"
    }
   },
   "outputs": [],
   "source": [
    "X = np.array([[1, 2, 3], [4, 5, 6]])\n",
    "Y = np.ones((2, 3))"
   ]
  },
  {
   "cell_type": "code",
   "execution_count": 61,
   "id": "037b9d90",
   "metadata": {
    "execution": {
     "iopub.execute_input": "2024-10-13T21:30:37.551334Z",
     "iopub.status.busy": "2024-10-13T21:30:37.551195Z",
     "iopub.status.idle": "2024-10-13T21:30:37.553440Z",
     "shell.execute_reply": "2024-10-13T21:30:37.553031Z"
    }
   },
   "outputs": [
    {
     "name": "stdout",
     "output_type": "stream",
     "text": [
      "[[1 2 3]\n",
      " [4 5 6]]\n",
      "[[1. 1. 1.]\n",
      " [1. 1. 1.]]\n"
     ]
    }
   ],
   "source": [
    "print(X)\n",
    "print(Y)"
   ]
  },
  {
   "cell_type": "code",
   "execution_count": 62,
   "id": "486870ff",
   "metadata": {
    "execution": {
     "iopub.execute_input": "2024-10-13T21:30:37.555355Z",
     "iopub.status.busy": "2024-10-13T21:30:37.555048Z",
     "iopub.status.idle": "2024-10-13T21:30:37.557470Z",
     "shell.execute_reply": "2024-10-13T21:30:37.557025Z"
    }
   },
   "outputs": [
    {
     "name": "stdout",
     "output_type": "stream",
     "text": [
      "[[2. 3. 4.]\n",
      " [5. 6. 7.]]\n"
     ]
    }
   ],
   "source": [
    "print(X + Y)"
   ]
  },
  {
   "cell_type": "code",
   "execution_count": 63,
   "id": "36375e6d",
   "metadata": {
    "execution": {
     "iopub.execute_input": "2024-10-13T21:30:37.559297Z",
     "iopub.status.busy": "2024-10-13T21:30:37.559181Z",
     "iopub.status.idle": "2024-10-13T21:30:37.561396Z",
     "shell.execute_reply": "2024-10-13T21:30:37.561024Z"
    }
   },
   "outputs": [
    {
     "name": "stdout",
     "output_type": "stream",
     "text": [
      "[[-1.  0.  1.]\n",
      " [ 2.  3.  4.]]\n"
     ]
    }
   ],
   "source": [
    "Z = X - 2 * Y  # note, scalar multiplication\n",
    "print(Z)"
   ]
  },
  {
   "cell_type": "code",
   "execution_count": 64,
   "id": "c4b81959",
   "metadata": {
    "execution": {
     "iopub.execute_input": "2024-10-13T21:30:37.563304Z",
     "iopub.status.busy": "2024-10-13T21:30:37.563203Z",
     "iopub.status.idle": "2024-10-13T21:30:37.570717Z",
     "shell.execute_reply": "2024-10-13T21:30:37.570121Z"
    },
    "tags": [
     "raises-exception"
    ]
   },
   "outputs": [
    {
     "ename": "ValueError",
     "evalue": "operands could not be broadcast together with shapes (2,3) (2,2) ",
     "output_type": "error",
     "traceback": [
      "\u001b[0;31m---------------------------------------------------------------------------\u001b[0m",
      "\u001b[0;31mValueError\u001b[0m                                Traceback (most recent call last)",
      "Cell \u001b[0;32mIn[64], line 1\u001b[0m\n\u001b[0;32m----> 1\u001b[0m Z \u001b[38;5;241m=\u001b[39m \u001b[43mX\u001b[49m\u001b[43m \u001b[49m\u001b[38;5;241;43m+\u001b[39;49m\u001b[43m \u001b[49m\u001b[43mnp\u001b[49m\u001b[38;5;241;43m.\u001b[39;49m\u001b[43marray\u001b[49m\u001b[43m(\u001b[49m\u001b[43m[\u001b[49m\u001b[43m[\u001b[49m\u001b[38;5;241;43m2\u001b[39;49m\u001b[43m,\u001b[49m\u001b[43m \u001b[49m\u001b[38;5;241;43m2\u001b[39;49m\u001b[43m]\u001b[49m\u001b[43m,\u001b[49m\u001b[43m \u001b[49m\u001b[43m[\u001b[49m\u001b[38;5;241;43m2\u001b[39;49m\u001b[43m,\u001b[49m\u001b[43m \u001b[49m\u001b[38;5;241;43m2\u001b[39;49m\u001b[43m]\u001b[49m\u001b[43m]\u001b[49m\u001b[43m)\u001b[49m\n\u001b[1;32m      2\u001b[0m \u001b[38;5;28mprint\u001b[39m(Z)\n",
      "\u001b[0;31mValueError\u001b[0m: operands could not be broadcast together with shapes (2,3) (2,2) "
     ]
    }
   ],
   "source": [
    "Z = X + np.array([[2, 2], [2, 2]])\n",
    "print(Z)"
   ]
  },
  {
   "cell_type": "markdown",
   "id": "aee9268b",
   "metadata": {},
   "source": [
    "### 7.2 Broadcasting\n",
    "\n",
    "During operations, NumPy will try to repeat an array to make dimensions fit. This is called 'broadcasting'. It is convenient but it can be confusing."
   ]
  },
  {
   "cell_type": "code",
   "execution_count": 65,
   "id": "aac6d5f0",
   "metadata": {
    "execution": {
     "iopub.execute_input": "2024-10-13T21:30:37.572861Z",
     "iopub.status.busy": "2024-10-13T21:30:37.572706Z",
     "iopub.status.idle": "2024-10-13T21:30:37.575105Z",
     "shell.execute_reply": "2024-10-13T21:30:37.574766Z"
    }
   },
   "outputs": [],
   "source": [
    "X = np.array([[1, 2, 3], [4, 5, 6]])\n",
    "row = np.array([1, 1, 1])"
   ]
  },
  {
   "cell_type": "code",
   "execution_count": 66,
   "id": "a2608e06",
   "metadata": {
    "execution": {
     "iopub.execute_input": "2024-10-13T21:30:37.577131Z",
     "iopub.status.busy": "2024-10-13T21:30:37.577007Z",
     "iopub.status.idle": "2024-10-13T21:30:37.579347Z",
     "shell.execute_reply": "2024-10-13T21:30:37.578858Z"
    }
   },
   "outputs": [
    {
     "name": "stdout",
     "output_type": "stream",
     "text": [
      "[[1 2 3]\n",
      " [4 5 6]]\n",
      "[1 1 1]\n"
     ]
    }
   ],
   "source": [
    "print(X)\n",
    "print(row)"
   ]
  },
  {
   "cell_type": "code",
   "execution_count": 67,
   "id": "bb402082",
   "metadata": {
    "execution": {
     "iopub.execute_input": "2024-10-13T21:30:37.581620Z",
     "iopub.status.busy": "2024-10-13T21:30:37.581469Z",
     "iopub.status.idle": "2024-10-13T21:30:37.583697Z",
     "shell.execute_reply": "2024-10-13T21:30:37.583291Z"
    }
   },
   "outputs": [
    {
     "name": "stdout",
     "output_type": "stream",
     "text": [
      "[[2 3 4]\n",
      " [5 6 7]]\n"
     ]
    }
   ],
   "source": [
    "print(X + row)"
   ]
  },
  {
   "cell_type": "code",
   "execution_count": 68,
   "id": "329c0db2",
   "metadata": {
    "execution": {
     "iopub.execute_input": "2024-10-13T21:30:37.585599Z",
     "iopub.status.busy": "2024-10-13T21:30:37.585484Z",
     "iopub.status.idle": "2024-10-13T21:30:37.587800Z",
     "shell.execute_reply": "2024-10-13T21:30:37.587434Z"
    }
   },
   "outputs": [
    {
     "name": "stdout",
     "output_type": "stream",
     "text": [
      "[1 2]\n",
      "[[2 3 4]\n",
      " [6 7 8]]\n"
     ]
    }
   ],
   "source": [
    "col = np.array([1, 2])\n",
    "print(col)\n",
    "print(X + col[:, np.newaxis])"
   ]
  },
  {
   "cell_type": "markdown",
   "id": "c4f98e00",
   "metadata": {},
   "source": [
    "### 7.3 Transpose\n",
    "\n",
    "Transposing a matrix swaps the rows and columns."
   ]
  },
  {
   "cell_type": "code",
   "execution_count": 69,
   "id": "a1fd3b3b",
   "metadata": {
    "execution": {
     "iopub.execute_input": "2024-10-13T21:30:37.589848Z",
     "iopub.status.busy": "2024-10-13T21:30:37.589720Z",
     "iopub.status.idle": "2024-10-13T21:30:37.592019Z",
     "shell.execute_reply": "2024-10-13T21:30:37.591697Z"
    }
   },
   "outputs": [
    {
     "name": "stdout",
     "output_type": "stream",
     "text": [
      "[[1 2 3]\n",
      " [4 5 6]]\n",
      "[[1 4]\n",
      " [2 5]\n",
      " [3 6]]\n"
     ]
    }
   ],
   "source": [
    "A = np.array([[1, 2, 3], [4, 5, 6]])\n",
    "print(A)\n",
    "print(A.T)"
   ]
  },
  {
   "cell_type": "code",
   "execution_count": 70,
   "id": "7dfddf86",
   "metadata": {
    "execution": {
     "iopub.execute_input": "2024-10-13T21:30:37.593718Z",
     "iopub.status.busy": "2024-10-13T21:30:37.593577Z",
     "iopub.status.idle": "2024-10-13T21:30:37.595630Z",
     "shell.execute_reply": "2024-10-13T21:30:37.595243Z"
    }
   },
   "outputs": [
    {
     "name": "stdout",
     "output_type": "stream",
     "text": [
      "(2, 3)\n",
      "(3, 2)\n"
     ]
    }
   ],
   "source": [
    "A = np.array([[1, 2, 3], [4, 5, 6]])\n",
    "print(A.shape)\n",
    "print(A.T.shape)"
   ]
  },
  {
   "cell_type": "code",
   "execution_count": 71,
   "id": "066c466b",
   "metadata": {
    "execution": {
     "iopub.execute_input": "2024-10-13T21:30:37.597470Z",
     "iopub.status.busy": "2024-10-13T21:30:37.597349Z",
     "iopub.status.idle": "2024-10-13T21:30:37.599517Z",
     "shell.execute_reply": "2024-10-13T21:30:37.599154Z"
    }
   },
   "outputs": [
    {
     "name": "stdout",
     "output_type": "stream",
     "text": [
      "[1 2 3 4 5]\n",
      "[1 2 3 4 5]\n"
     ]
    }
   ],
   "source": [
    "v = np.array([1, 2, 3, 4, 5])\n",
    "print(v)\n",
    "print(v.T)  # Vectors only have one dimension. Transpose does nothing."
   ]
  },
  {
   "cell_type": "code",
   "execution_count": 72,
   "id": "ba9216ad",
   "metadata": {
    "execution": {
     "iopub.execute_input": "2024-10-13T21:30:37.601354Z",
     "iopub.status.busy": "2024-10-13T21:30:37.601102Z",
     "iopub.status.idle": "2024-10-13T21:30:37.603345Z",
     "shell.execute_reply": "2024-10-13T21:30:37.603012Z"
    }
   },
   "outputs": [
    {
     "name": "stdout",
     "output_type": "stream",
     "text": [
      "(5,)\n",
      "(5,)\n"
     ]
    }
   ],
   "source": [
    "v = np.array([1, 2, 3, 4, 5])\n",
    "print(v.shape)\n",
    "print(v.T.shape)"
   ]
  },
  {
   "cell_type": "markdown",
   "id": "54e681a2",
   "metadata": {},
   "source": [
    "### 7.4 A note on vectors versus `skinny' matrices\n",
    "\n",
    "When using NumPy, a vector is **not** the same as a matrix with one column."
   ]
  },
  {
   "cell_type": "code",
   "execution_count": 73,
   "id": "f8e445ab",
   "metadata": {
    "execution": {
     "iopub.execute_input": "2024-10-13T21:30:37.605130Z",
     "iopub.status.busy": "2024-10-13T21:30:37.605017Z",
     "iopub.status.idle": "2024-10-13T21:30:37.607322Z",
     "shell.execute_reply": "2024-10-13T21:30:37.606907Z"
    }
   },
   "outputs": [
    {
     "name": "stdout",
     "output_type": "stream",
     "text": [
      "[1 2 3 4 5]\n",
      "[1 2 3 4 5]\n",
      "(5,)\n"
     ]
    }
   ],
   "source": [
    "v = np.array([1, 2, 3, 4, 5])  # A vector - has 1 dimension\n",
    "print(v)\n",
    "print(v.T)\n",
    "print(v.shape)"
   ]
  },
  {
   "cell_type": "code",
   "execution_count": 74,
   "id": "2b4b88b4",
   "metadata": {
    "execution": {
     "iopub.execute_input": "2024-10-13T21:30:37.608977Z",
     "iopub.status.busy": "2024-10-13T21:30:37.608846Z",
     "iopub.status.idle": "2024-10-13T21:30:37.610895Z",
     "shell.execute_reply": "2024-10-13T21:30:37.610623Z"
    }
   },
   "outputs": [
    {
     "name": "stdout",
     "output_type": "stream",
     "text": [
      "[[1 2 3 4 5]]\n",
      "(1, 5)\n"
     ]
    }
   ],
   "source": [
    "M_row = np.array([[1, 2, 3, 4, 5]])  # A matrix - has 2 dimensions\n",
    "print(M_row)\n",
    "print(M_row.shape)"
   ]
  },
  {
   "cell_type": "code",
   "execution_count": 75,
   "id": "eafe663f",
   "metadata": {
    "execution": {
     "iopub.execute_input": "2024-10-13T21:30:37.612636Z",
     "iopub.status.busy": "2024-10-13T21:30:37.612521Z",
     "iopub.status.idle": "2024-10-13T21:30:37.614744Z",
     "shell.execute_reply": "2024-10-13T21:30:37.614330Z"
    }
   },
   "outputs": [
    {
     "name": "stdout",
     "output_type": "stream",
     "text": [
      "[[1]\n",
      " [2]\n",
      " [3]\n",
      " [4]\n",
      " [5]]\n",
      "(5, 1)\n"
     ]
    }
   ],
   "source": [
    "M_col = np.array([[1, 2, 3, 4, 5]]).T  # A matrix can be transposed\n",
    "print(M_col)\n",
    "print(M_col.shape)"
   ]
  },
  {
   "cell_type": "markdown",
   "id": "0dbbac17",
   "metadata": {},
   "source": [
    "### 7.5  Multiplication\n",
    "\n",
    "The '*' operator performs 'elementwise' multiplication"
   ]
  },
  {
   "cell_type": "code",
   "execution_count": 76,
   "id": "21d7d6c8",
   "metadata": {
    "execution": {
     "iopub.execute_input": "2024-10-13T21:30:37.616508Z",
     "iopub.status.busy": "2024-10-13T21:30:37.616395Z",
     "iopub.status.idle": "2024-10-13T21:30:37.618410Z",
     "shell.execute_reply": "2024-10-13T21:30:37.618041Z"
    }
   },
   "outputs": [],
   "source": [
    "A = np.array([[1, 2, 3], [4, 5, 6]])"
   ]
  },
  {
   "cell_type": "code",
   "execution_count": 77,
   "id": "e3a627b1",
   "metadata": {
    "execution": {
     "iopub.execute_input": "2024-10-13T21:30:37.620103Z",
     "iopub.status.busy": "2024-10-13T21:30:37.619956Z",
     "iopub.status.idle": "2024-10-13T21:30:37.622103Z",
     "shell.execute_reply": "2024-10-13T21:30:37.621748Z"
    }
   },
   "outputs": [
    {
     "name": "stdout",
     "output_type": "stream",
     "text": [
      "[[ 1  4  9]\n",
      " [16 25 36]]\n"
     ]
    }
   ],
   "source": [
    "X = A * A\n",
    "print(X)"
   ]
  },
  {
   "cell_type": "markdown",
   "id": "8dd3078e",
   "metadata": {},
   "source": [
    "Standard 'matrix multiplication' is performed using the `dot` function"
   ]
  },
  {
   "cell_type": "code",
   "execution_count": 78,
   "id": "d79a79fd",
   "metadata": {
    "execution": {
     "iopub.execute_input": "2024-10-13T21:30:37.623884Z",
     "iopub.status.busy": "2024-10-13T21:30:37.623729Z",
     "iopub.status.idle": "2024-10-13T21:30:37.625806Z",
     "shell.execute_reply": "2024-10-13T21:30:37.625476Z"
    }
   },
   "outputs": [
    {
     "name": "stdout",
     "output_type": "stream",
     "text": [
      "[[14 32]\n",
      " [32 77]]\n"
     ]
    }
   ],
   "source": [
    "X = np.dot(A, A.T)  # Multipy 2x3 matrix A and 3x2 matrix A.T (AA')\n",
    "print(X)"
   ]
  },
  {
   "cell_type": "code",
   "execution_count": 79,
   "id": "8ed864ec",
   "metadata": {
    "execution": {
     "iopub.execute_input": "2024-10-13T21:30:37.627494Z",
     "iopub.status.busy": "2024-10-13T21:30:37.627387Z",
     "iopub.status.idle": "2024-10-13T21:30:37.629564Z",
     "shell.execute_reply": "2024-10-13T21:30:37.629205Z"
    }
   },
   "outputs": [
    {
     "name": "stdout",
     "output_type": "stream",
     "text": [
      "[14 32]\n"
     ]
    }
   ],
   "source": [
    "v = np.array([1, 2, 3])\n",
    "x = np.dot(A, v)  # Multiply 2x3 matrix A and 3-element vector (Av)\n",
    "print(x)"
   ]
  },
  {
   "cell_type": "markdown",
   "id": "daae4cd2",
   "metadata": {},
   "source": [
    "### 7.6 Matrix inverse\n",
    "\n",
    "The matrix determinant and the inverse function are provided by the `linalg` submodule of NumPy."
   ]
  },
  {
   "cell_type": "code",
   "execution_count": 80,
   "id": "e6c8dea8",
   "metadata": {
    "execution": {
     "iopub.execute_input": "2024-10-13T21:30:37.631163Z",
     "iopub.status.busy": "2024-10-13T21:30:37.631032Z",
     "iopub.status.idle": "2024-10-13T21:30:37.633053Z",
     "shell.execute_reply": "2024-10-13T21:30:37.632698Z"
    }
   },
   "outputs": [],
   "source": [
    "A = np.array([[2, 1], [3, 2]])"
   ]
  },
  {
   "cell_type": "code",
   "execution_count": 81,
   "id": "a8878c1a",
   "metadata": {
    "execution": {
     "iopub.execute_input": "2024-10-13T21:30:37.634924Z",
     "iopub.status.busy": "2024-10-13T21:30:37.634789Z",
     "iopub.status.idle": "2024-10-13T21:30:37.636882Z",
     "shell.execute_reply": "2024-10-13T21:30:37.636534Z"
    }
   },
   "outputs": [
    {
     "name": "stdout",
     "output_type": "stream",
     "text": [
      "[[2 1]\n",
      " [3 2]]\n"
     ]
    }
   ],
   "source": [
    "print(A)"
   ]
  },
  {
   "cell_type": "code",
   "execution_count": 82,
   "id": "d09dbee8",
   "metadata": {
    "execution": {
     "iopub.execute_input": "2024-10-13T21:30:37.638698Z",
     "iopub.status.busy": "2024-10-13T21:30:37.638570Z",
     "iopub.status.idle": "2024-10-13T21:30:37.645177Z",
     "shell.execute_reply": "2024-10-13T21:30:37.644742Z"
    }
   },
   "outputs": [
    {
     "name": "stdout",
     "output_type": "stream",
     "text": [
      "0.9999999999999998\n"
     ]
    }
   ],
   "source": [
    "det_A = np.linalg.det(A)\n",
    "print(det_A)"
   ]
  },
  {
   "cell_type": "code",
   "execution_count": 83,
   "id": "491ac6bb",
   "metadata": {
    "execution": {
     "iopub.execute_input": "2024-10-13T21:30:37.647096Z",
     "iopub.status.busy": "2024-10-13T21:30:37.646775Z",
     "iopub.status.idle": "2024-10-13T21:30:37.648875Z",
     "shell.execute_reply": "2024-10-13T21:30:37.648598Z"
    }
   },
   "outputs": [
    {
     "name": "stdout",
     "output_type": "stream",
     "text": [
      "[[ 2. -1.]\n",
      " [-3.  2.]]\n"
     ]
    }
   ],
   "source": [
    "inv_A = np.linalg.inv(A)\n",
    "print(inv_A)"
   ]
  },
  {
   "cell_type": "markdown",
   "id": "4d66c249",
   "metadata": {},
   "source": [
    "## 8 Summary\n",
    "\n",
    "* NumPy provides tools for numeric computing.\n",
    "* With NumPy, Python becomes a usable alternative to MATLAB.\n",
    "* NumPy's basic type is the `ndarray` -- it can represent vectors, matrices, etc.\n",
    "* Lots of tools for vector and matrix manipulation.\n",
    "  * This lecture has only reviewed the most commonly used.\n",
    "* For the full documentation, see [http://docs.scipy.org/doc/numpy/](http://docs.scipy.org/doc/numpy/)"
   ]
  }
 ],
 "metadata": {
  "jupytext": {
   "cell_metadata_filter": "-all"
  },
  "kernelspec": {
   "display_name": "Python 3 (ipykernel)",
   "language": "python",
   "name": "python3"
  },
  "language_info": {
   "codemirror_mode": {
    "name": "ipython",
    "version": 3
   },
   "file_extension": ".py",
   "mimetype": "text/x-python",
   "name": "python",
   "nbconvert_exporter": "python",
   "pygments_lexer": "ipython3",
   "version": "3.12.5"
  }
 },
 "nbformat": 4,
 "nbformat_minor": 5
}
